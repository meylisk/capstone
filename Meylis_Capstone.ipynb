{
 "cells": [
  {
   "cell_type": "markdown",
   "metadata": {},
   "source": [
    "# Capstone Project\n",
    "___"
   ]
  },
  {
   "cell_type": "markdown",
   "metadata": {},
   "source": [
    " "
   ]
  },
  {
   "cell_type": "markdown",
   "metadata": {},
   "source": [
    "## Cleaning and Exploratory Data Analysis"
   ]
  },
  {
   "cell_type": "markdown",
   "metadata": {},
   "source": [
    "First, let's import our Python packages."
   ]
  },
  {
   "cell_type": "code",
   "execution_count": 2,
   "metadata": {},
   "outputs": [],
   "source": [
    "# Importing Python packages:\n",
    "import numpy as np\n",
    "import pandas as pd\n",
    "import seaborn as sns\n",
    "import matplotlib.pyplot as plt\n",
    "%matplotlib inline\n",
    "\n",
    "from sklearn.model_selection import train_test_split\n",
    "from sklearn.metrics import accuracy_score"
   ]
  },
  {
   "cell_type": "markdown",
   "metadata": {},
   "source": [
    "Let's first start with importing our dataset file."
   ]
  },
  {
   "cell_type": "code",
   "execution_count": 3,
   "metadata": {},
   "outputs": [],
   "source": [
    "# Loading the file as dataframe\n",
    "df_raw = pd.read_csv('data/vehicles.csv')"
   ]
  },
  {
   "cell_type": "markdown",
   "metadata": {},
   "source": [
    "Now, let's explore our data."
   ]
  },
  {
   "cell_type": "markdown",
   "metadata": {},
   "source": [
    " "
   ]
  },
  {
   "cell_type": "code",
   "execution_count": 4,
   "metadata": {},
   "outputs": [
    {
     "data": {
      "text/plain": [
       "(539759, 25)"
      ]
     },
     "execution_count": 4,
     "metadata": {},
     "output_type": "execute_result"
    }
   ],
   "source": [
    "# Let's see the shape of our dataset:\n",
    "df_raw.shape"
   ]
  },
  {
   "cell_type": "markdown",
   "metadata": {},
   "source": [
    "As we can see, our dataset consist of 539,759 rows and 25 columns. Let's see what each row actually represent."
   ]
  },
  {
   "cell_type": "code",
   "execution_count": 5,
   "metadata": {},
   "outputs": [
    {
     "data": {
      "text/html": [
       "<div>\n",
       "<style scoped>\n",
       "    .dataframe tbody tr th:only-of-type {\n",
       "        vertical-align: middle;\n",
       "    }\n",
       "\n",
       "    .dataframe tbody tr th {\n",
       "        vertical-align: top;\n",
       "    }\n",
       "\n",
       "    .dataframe thead th {\n",
       "        text-align: right;\n",
       "    }\n",
       "</style>\n",
       "<table border=\"1\" class=\"dataframe\">\n",
       "  <thead>\n",
       "    <tr style=\"text-align: right;\">\n",
       "      <th></th>\n",
       "      <th>id</th>\n",
       "      <th>url</th>\n",
       "      <th>region</th>\n",
       "      <th>region_url</th>\n",
       "      <th>price</th>\n",
       "      <th>year</th>\n",
       "      <th>manufacturer</th>\n",
       "      <th>model</th>\n",
       "      <th>condition</th>\n",
       "      <th>cylinders</th>\n",
       "      <th>...</th>\n",
       "      <th>drive</th>\n",
       "      <th>size</th>\n",
       "      <th>type</th>\n",
       "      <th>paint_color</th>\n",
       "      <th>image_url</th>\n",
       "      <th>description</th>\n",
       "      <th>county</th>\n",
       "      <th>state</th>\n",
       "      <th>lat</th>\n",
       "      <th>long</th>\n",
       "    </tr>\n",
       "  </thead>\n",
       "  <tbody>\n",
       "    <tr>\n",
       "      <th>0</th>\n",
       "      <td>7088746062</td>\n",
       "      <td>https://greensboro.craigslist.org/ctd/d/cary-2...</td>\n",
       "      <td>greensboro</td>\n",
       "      <td>https://greensboro.craigslist.org</td>\n",
       "      <td>10299</td>\n",
       "      <td>2012.0</td>\n",
       "      <td>acura</td>\n",
       "      <td>tl</td>\n",
       "      <td>NaN</td>\n",
       "      <td>NaN</td>\n",
       "      <td>...</td>\n",
       "      <td>NaN</td>\n",
       "      <td>NaN</td>\n",
       "      <td>other</td>\n",
       "      <td>blue</td>\n",
       "      <td>https://images.craigslist.org/01414_3LIXs9EO33...</td>\n",
       "      <td>2012 Acura TL Base 4dr Sedan     Offered by: B...</td>\n",
       "      <td>NaN</td>\n",
       "      <td>nc</td>\n",
       "      <td>35.7636</td>\n",
       "      <td>-78.7443</td>\n",
       "    </tr>\n",
       "    <tr>\n",
       "      <th>1</th>\n",
       "      <td>7088745301</td>\n",
       "      <td>https://greensboro.craigslist.org/ctd/d/bmw-3-...</td>\n",
       "      <td>greensboro</td>\n",
       "      <td>https://greensboro.craigslist.org</td>\n",
       "      <td>0</td>\n",
       "      <td>2011.0</td>\n",
       "      <td>bmw</td>\n",
       "      <td>335</td>\n",
       "      <td>NaN</td>\n",
       "      <td>6 cylinders</td>\n",
       "      <td>...</td>\n",
       "      <td>rwd</td>\n",
       "      <td>NaN</td>\n",
       "      <td>convertible</td>\n",
       "      <td>blue</td>\n",
       "      <td>https://images.craigslist.org/00S0S_1kTatLGLxB...</td>\n",
       "      <td>BMW 3 Series 335i Convertible Navigation Dakot...</td>\n",
       "      <td>NaN</td>\n",
       "      <td>nc</td>\n",
       "      <td>NaN</td>\n",
       "      <td>NaN</td>\n",
       "    </tr>\n",
       "    <tr>\n",
       "      <th>2</th>\n",
       "      <td>7088744126</td>\n",
       "      <td>https://greensboro.craigslist.org/cto/d/greens...</td>\n",
       "      <td>greensboro</td>\n",
       "      <td>https://greensboro.craigslist.org</td>\n",
       "      <td>9500</td>\n",
       "      <td>2011.0</td>\n",
       "      <td>jaguar</td>\n",
       "      <td>xf</td>\n",
       "      <td>excellent</td>\n",
       "      <td>NaN</td>\n",
       "      <td>...</td>\n",
       "      <td>NaN</td>\n",
       "      <td>NaN</td>\n",
       "      <td>NaN</td>\n",
       "      <td>blue</td>\n",
       "      <td>https://images.craigslist.org/00505_f22HGItCRp...</td>\n",
       "      <td>2011 jaguar XF premium - estate sale. Retired ...</td>\n",
       "      <td>NaN</td>\n",
       "      <td>nc</td>\n",
       "      <td>36.1032</td>\n",
       "      <td>-79.8794</td>\n",
       "    </tr>\n",
       "    <tr>\n",
       "      <th>3</th>\n",
       "      <td>7088743681</td>\n",
       "      <td>https://greensboro.craigslist.org/ctd/d/cary-2...</td>\n",
       "      <td>greensboro</td>\n",
       "      <td>https://greensboro.craigslist.org</td>\n",
       "      <td>3995</td>\n",
       "      <td>2004.0</td>\n",
       "      <td>honda</td>\n",
       "      <td>element</td>\n",
       "      <td>NaN</td>\n",
       "      <td>NaN</td>\n",
       "      <td>...</td>\n",
       "      <td>fwd</td>\n",
       "      <td>NaN</td>\n",
       "      <td>SUV</td>\n",
       "      <td>orange</td>\n",
       "      <td>https://images.craigslist.org/00E0E_eAUnhFF86M...</td>\n",
       "      <td>2004 Honda Element LX 4dr SUV     Offered by: ...</td>\n",
       "      <td>NaN</td>\n",
       "      <td>nc</td>\n",
       "      <td>35.7636</td>\n",
       "      <td>-78.7443</td>\n",
       "    </tr>\n",
       "    <tr>\n",
       "      <th>4</th>\n",
       "      <td>7074612539</td>\n",
       "      <td>https://lincoln.craigslist.org/ctd/d/gretna-20...</td>\n",
       "      <td>lincoln</td>\n",
       "      <td>https://lincoln.craigslist.org</td>\n",
       "      <td>41988</td>\n",
       "      <td>2016.0</td>\n",
       "      <td>chevrolet</td>\n",
       "      <td>silverado k2500hd</td>\n",
       "      <td>NaN</td>\n",
       "      <td>NaN</td>\n",
       "      <td>...</td>\n",
       "      <td>NaN</td>\n",
       "      <td>NaN</td>\n",
       "      <td>NaN</td>\n",
       "      <td>NaN</td>\n",
       "      <td>https://images.craigslist.org/00S0S_8msT7RQquO...</td>\n",
       "      <td>Shop Indoors, Heated Showroom!!!www.gretnaauto...</td>\n",
       "      <td>NaN</td>\n",
       "      <td>ne</td>\n",
       "      <td>41.1345</td>\n",
       "      <td>-96.2458</td>\n",
       "    </tr>\n",
       "  </tbody>\n",
       "</table>\n",
       "<p>5 rows × 25 columns</p>\n",
       "</div>"
      ],
      "text/plain": [
       "           id                                                url      region  \\\n",
       "0  7088746062  https://greensboro.craigslist.org/ctd/d/cary-2...  greensboro   \n",
       "1  7088745301  https://greensboro.craigslist.org/ctd/d/bmw-3-...  greensboro   \n",
       "2  7088744126  https://greensboro.craigslist.org/cto/d/greens...  greensboro   \n",
       "3  7088743681  https://greensboro.craigslist.org/ctd/d/cary-2...  greensboro   \n",
       "4  7074612539  https://lincoln.craigslist.org/ctd/d/gretna-20...     lincoln   \n",
       "\n",
       "                          region_url  price    year manufacturer  \\\n",
       "0  https://greensboro.craigslist.org  10299  2012.0        acura   \n",
       "1  https://greensboro.craigslist.org      0  2011.0          bmw   \n",
       "2  https://greensboro.craigslist.org   9500  2011.0       jaguar   \n",
       "3  https://greensboro.craigslist.org   3995  2004.0        honda   \n",
       "4     https://lincoln.craigslist.org  41988  2016.0    chevrolet   \n",
       "\n",
       "               model  condition    cylinders  ... drive  size         type  \\\n",
       "0                 tl        NaN          NaN  ...   NaN   NaN        other   \n",
       "1                335        NaN  6 cylinders  ...   rwd   NaN  convertible   \n",
       "2                 xf  excellent          NaN  ...   NaN   NaN          NaN   \n",
       "3            element        NaN          NaN  ...   fwd   NaN          SUV   \n",
       "4  silverado k2500hd        NaN          NaN  ...   NaN   NaN          NaN   \n",
       "\n",
       "  paint_color                                          image_url  \\\n",
       "0        blue  https://images.craigslist.org/01414_3LIXs9EO33...   \n",
       "1        blue  https://images.craigslist.org/00S0S_1kTatLGLxB...   \n",
       "2        blue  https://images.craigslist.org/00505_f22HGItCRp...   \n",
       "3      orange  https://images.craigslist.org/00E0E_eAUnhFF86M...   \n",
       "4         NaN  https://images.craigslist.org/00S0S_8msT7RQquO...   \n",
       "\n",
       "                                         description county state      lat  \\\n",
       "0  2012 Acura TL Base 4dr Sedan     Offered by: B...    NaN    nc  35.7636   \n",
       "1  BMW 3 Series 335i Convertible Navigation Dakot...    NaN    nc      NaN   \n",
       "2  2011 jaguar XF premium - estate sale. Retired ...    NaN    nc  36.1032   \n",
       "3  2004 Honda Element LX 4dr SUV     Offered by: ...    NaN    nc  35.7636   \n",
       "4  Shop Indoors, Heated Showroom!!!www.gretnaauto...    NaN    ne  41.1345   \n",
       "\n",
       "      long  \n",
       "0 -78.7443  \n",
       "1      NaN  \n",
       "2 -79.8794  \n",
       "3 -78.7443  \n",
       "4 -96.2458  \n",
       "\n",
       "[5 rows x 25 columns]"
      ]
     },
     "execution_count": 5,
     "metadata": {},
     "output_type": "execute_result"
    }
   ],
   "source": [
    "df_raw.head()"
   ]
  },
  {
   "cell_type": "markdown",
   "metadata": {},
   "source": [
    "It can be seen from above dataframe head, that each row represents each unique craigslist vehicle ad."
   ]
  },
  {
   "cell_type": "code",
   "execution_count": 6,
   "metadata": {},
   "outputs": [
    {
     "name": "stdout",
     "output_type": "stream",
     "text": [
      "<class 'pandas.core.frame.DataFrame'>\n",
      "RangeIndex: 539759 entries, 0 to 539758\n",
      "Data columns (total 25 columns):\n",
      "id              539759 non-null int64\n",
      "url             539759 non-null object\n",
      "region          539759 non-null object\n",
      "region_url      539759 non-null object\n",
      "price           539759 non-null int64\n",
      "year            538772 non-null float64\n",
      "manufacturer    516175 non-null object\n",
      "model           531746 non-null object\n",
      "condition       303707 non-null object\n",
      "cylinders       321264 non-null object\n",
      "fuel            536366 non-null object\n",
      "odometer        440783 non-null float64\n",
      "title_status    536819 non-null object\n",
      "transmission    535786 non-null object\n",
      "vin             315349 non-null object\n",
      "drive           383987 non-null object\n",
      "size            168550 non-null object\n",
      "type            392290 non-null object\n",
      "paint_color     365520 non-null object\n",
      "image_url       539740 non-null object\n",
      "description     539738 non-null object\n",
      "county          0 non-null float64\n",
      "state           539759 non-null object\n",
      "lat             530785 non-null float64\n",
      "long            530785 non-null float64\n",
      "dtypes: float64(5), int64(2), object(18)\n",
      "memory usage: 103.0+ MB\n"
     ]
    }
   ],
   "source": [
    "df_raw.info()"
   ]
  },
  {
   "cell_type": "markdown",
   "metadata": {},
   "source": [
    "We can see that `county` column is actually a null column, no data is in it. So, let's remove it. But first, let's create a working copy of our raw dataframe."
   ]
  },
  {
   "cell_type": "code",
   "execution_count": 7,
   "metadata": {},
   "outputs": [
    {
     "name": "stdout",
     "output_type": "stream",
     "text": [
      "<class 'pandas.core.frame.DataFrame'>\n",
      "RangeIndex: 539759 entries, 0 to 539758\n",
      "Data columns (total 24 columns):\n",
      "id              539759 non-null int64\n",
      "url             539759 non-null object\n",
      "region          539759 non-null object\n",
      "region_url      539759 non-null object\n",
      "price           539759 non-null int64\n",
      "year            538772 non-null float64\n",
      "manufacturer    516175 non-null object\n",
      "model           531746 non-null object\n",
      "condition       303707 non-null object\n",
      "cylinders       321264 non-null object\n",
      "fuel            536366 non-null object\n",
      "odometer        440783 non-null float64\n",
      "title_status    536819 non-null object\n",
      "transmission    535786 non-null object\n",
      "vin             315349 non-null object\n",
      "drive           383987 non-null object\n",
      "size            168550 non-null object\n",
      "type            392290 non-null object\n",
      "paint_color     365520 non-null object\n",
      "image_url       539740 non-null object\n",
      "description     539738 non-null object\n",
      "state           539759 non-null object\n",
      "lat             530785 non-null float64\n",
      "long            530785 non-null float64\n",
      "dtypes: float64(4), int64(2), object(18)\n",
      "memory usage: 98.8+ MB\n"
     ]
    }
   ],
   "source": [
    "# Creating a copy of the raw dataframe:\n",
    "df_work1 = df_raw.copy()\n",
    "\n",
    "df_work1 = df_work1.drop(['county'], axis=1)\n",
    "df_work1.info()"
   ]
  },
  {
   "cell_type": "code",
   "execution_count": 8,
   "metadata": {},
   "outputs": [
    {
     "data": {
      "text/plain": [
       "0"
      ]
     },
     "execution_count": 8,
     "metadata": {},
     "output_type": "execute_result"
    }
   ],
   "source": [
    "# Let's see number of duplicate rows we have:\n",
    "df_work1.duplicated().sum()"
   ]
  },
  {
   "cell_type": "markdown",
   "metadata": {},
   "source": [
    "We can see that we don't have any duplicated rows. But is that really the case? Let's actually remove some unique columns (`id`,  `url`, `region_url`, `image_url`), which we won't be using for our model, as they probably won't make any useful impact on our model, but would take our computational capability. After dropping those, let's then check if we still have no duplicated rows."
   ]
  },
  {
   "cell_type": "code",
   "execution_count": 9,
   "metadata": {},
   "outputs": [
    {
     "data": {
      "text/plain": [
       "37043"
      ]
     },
     "execution_count": 9,
     "metadata": {},
     "output_type": "execute_result"
    }
   ],
   "source": [
    "# Dropping unnecessary columns:\n",
    "df_work1 = df_work1.drop(['id',\n",
    "                          'url', \n",
    "                          'region_url',\n",
    "                          'image_url'], axis=1)\n",
    "\n",
    "# Let's see number of duplicate rows we have:\n",
    "df_work1.duplicated().sum()"
   ]
  },
  {
   "cell_type": "markdown",
   "metadata": {},
   "source": [
    "Now, as we can see, we have actually some duplicated rows. These were probably same ads posted few times. Let's remove them."
   ]
  },
  {
   "cell_type": "code",
   "execution_count": 10,
   "metadata": {},
   "outputs": [
    {
     "data": {
      "text/plain": [
       "0"
      ]
     },
     "execution_count": 10,
     "metadata": {},
     "output_type": "execute_result"
    }
   ],
   "source": [
    "# Let's drop duplicate rows:\n",
    "df_work1 = df_work1.drop_duplicates()\n",
    "\n",
    "# Let's see number of duplicate rows we have:\n",
    "df_work1.duplicated().sum()"
   ]
  },
  {
   "cell_type": "markdown",
   "metadata": {},
   "source": [
    "We can see now that there are no duplicated rows left in our dataset."
   ]
  },
  {
   "cell_type": "code",
   "execution_count": 11,
   "metadata": {},
   "outputs": [
    {
     "name": "stdout",
     "output_type": "stream",
     "text": [
      "<class 'pandas.core.frame.DataFrame'>\n",
      "Int64Index: 502716 entries, 0 to 539758\n",
      "Data columns (total 20 columns):\n",
      "region          502716 non-null object\n",
      "price           502716 non-null int64\n",
      "year            501764 non-null float64\n",
      "manufacturer    481335 non-null object\n",
      "model           495471 non-null object\n",
      "condition       283533 non-null object\n",
      "cylinders       300806 non-null object\n",
      "fuel            499504 non-null object\n",
      "odometer        415131 non-null float64\n",
      "title_status    500059 non-null object\n",
      "transmission    498747 non-null object\n",
      "vin             298110 non-null object\n",
      "drive           360334 non-null object\n",
      "size            158068 non-null object\n",
      "type            370108 non-null object\n",
      "paint_color     344528 non-null object\n",
      "description     502695 non-null object\n",
      "state           502716 non-null object\n",
      "lat             494033 non-null float64\n",
      "long            494033 non-null float64\n",
      "dtypes: float64(4), int64(1), object(15)\n",
      "memory usage: 80.5+ MB\n"
     ]
    }
   ],
   "source": [
    "df_work1.info()"
   ]
  },
  {
   "cell_type": "markdown",
   "metadata": {},
   "source": [
    "We also don't really need the `vin` column, for the same reason as it this feature won't make much of a useful impact on our model. Additionally, we would also exclude `state` and `region` columns, as we would use `lat` and `long` columns instead. This would allow us to have much less columns at the end (saves computational load), as we won't have to turn `state` and `region` columns into binary columns, and we would have even more precise geographical information with `lat` and `long` columns.  Also, the `description` column will not be included for now, as it's a separate NLP problem, which is out of the scope of our project for now. So, let's drop those too."
   ]
  },
  {
   "cell_type": "code",
   "execution_count": 12,
   "metadata": {},
   "outputs": [
    {
     "name": "stdout",
     "output_type": "stream",
     "text": [
      "<class 'pandas.core.frame.DataFrame'>\n",
      "Int64Index: 502716 entries, 0 to 539758\n",
      "Data columns (total 16 columns):\n",
      "price           502716 non-null int64\n",
      "year            501764 non-null float64\n",
      "manufacturer    481335 non-null object\n",
      "model           495471 non-null object\n",
      "condition       283533 non-null object\n",
      "cylinders       300806 non-null object\n",
      "fuel            499504 non-null object\n",
      "odometer        415131 non-null float64\n",
      "title_status    500059 non-null object\n",
      "transmission    498747 non-null object\n",
      "drive           360334 non-null object\n",
      "size            158068 non-null object\n",
      "type            370108 non-null object\n",
      "paint_color     344528 non-null object\n",
      "lat             494033 non-null float64\n",
      "long            494033 non-null float64\n",
      "dtypes: float64(4), int64(1), object(11)\n",
      "memory usage: 65.2+ MB\n"
     ]
    }
   ],
   "source": [
    "# Dropping columns stated above:\n",
    "df_work2 = df_work1.drop(['vin', 'description', 'region', 'state'], axis=1)\n",
    "df_work2.info()"
   ]
  },
  {
   "cell_type": "markdown",
   "metadata": {},
   "source": [
    "Having some knowledge about cars, we know that it's extremely unlikely that someone would sell a car for \\\\$0 or very small amount. Also, some of the ads would include car parts wrongly posted in the car sales section. So, to be avoid having wrong data in our dataset, let's look at and remove rows with a price of \\\\$0 to \\\\$500, and also price of more than \\\\$100,000, as those would be outliers."
   ]
  },
  {
   "cell_type": "code",
   "execution_count": 13,
   "metadata": {},
   "outputs": [
    {
     "name": "stdout",
     "output_type": "stream",
     "text": [
      "Number of rows with a price of $500 or less = 49617\n",
      "Number of rows with a price of $100,000 or more = 490\n"
     ]
    }
   ],
   "source": [
    "# Looking at how many cars are advertised at the price of $500 or less, and $100,000 or more:\n",
    "print('Number of rows with a price of $500 or less =', df_work2['price'][df_work2['price'] <= 500.0].count())\n",
    "print('Number of rows with a price of $100,000 or more =', df_work2['price'][df_work2['price'] >= 100000.0].count())"
   ]
  },
  {
   "cell_type": "markdown",
   "metadata": {},
   "source": [
    "We can see that 49,617 cars were advertised at the price of \\\\$500 or less, and 490 cars were advertised at the price of \\\\$100,000 or more."
   ]
  },
  {
   "cell_type": "code",
   "execution_count": 14,
   "metadata": {},
   "outputs": [],
   "source": [
    "# Let's now drop those:\n",
    "df_work2.drop(df_work2.loc[df_work2['price']<=500].index, inplace=True)\n",
    "df_work2.drop(df_work2.loc[df_work2['price']>=100000].index, inplace=True)"
   ]
  },
  {
   "cell_type": "code",
   "execution_count": 15,
   "metadata": {},
   "outputs": [
    {
     "name": "stdout",
     "output_type": "stream",
     "text": [
      "Number of rows with a price of $500 or less = 0\n",
      "Number of rows with a price of $100,000 or more = 0\n"
     ]
    }
   ],
   "source": [
    "# Double check if the values were dropped:\n",
    "print('Number of rows with a price of $500 or less =', df_work2['price'][df_work2['price'] <= 500.0].count())\n",
    "print('Number of rows with a price of $100,000 or more =', df_work2['price'][df_work2['price'] >= 100000.0].count())"
   ]
  },
  {
   "cell_type": "code",
   "execution_count": 16,
   "metadata": {},
   "outputs": [
    {
     "name": "stdout",
     "output_type": "stream",
     "text": [
      "<class 'pandas.core.frame.DataFrame'>\n",
      "Int64Index: 452609 entries, 0 to 539758\n",
      "Data columns (total 16 columns):\n",
      "price           452609 non-null int64\n",
      "year            451718 non-null float64\n",
      "manufacturer    433957 non-null object\n",
      "model           446283 non-null object\n",
      "condition       264736 non-null object\n",
      "cylinders       274168 non-null object\n",
      "fuel            449682 non-null object\n",
      "odometer        375651 non-null float64\n",
      "title_status    450277 non-null object\n",
      "transmission    449246 non-null object\n",
      "drive           324109 non-null object\n",
      "size            143230 non-null object\n",
      "type            331591 non-null object\n",
      "paint_color     311901 non-null object\n",
      "lat             448844 non-null float64\n",
      "long            448844 non-null float64\n",
      "dtypes: float64(4), int64(1), object(11)\n",
      "memory usage: 58.7+ MB\n"
     ]
    }
   ],
   "source": [
    "df_work2.info()"
   ]
  },
  {
   "cell_type": "markdown",
   "metadata": {},
   "source": [
    "Let's further explore our data."
   ]
  },
  {
   "cell_type": "code",
   "execution_count": 17,
   "metadata": {
    "scrolled": false
   },
   "outputs": [
    {
     "data": {
      "text/plain": [
       "price            17677\n",
       "year               111\n",
       "manufacturer        43\n",
       "model            34924\n",
       "condition            6\n",
       "cylinders            8\n",
       "fuel                 5\n",
       "odometer        114943\n",
       "title_status         6\n",
       "transmission         3\n",
       "drive                3\n",
       "size                 4\n",
       "type                13\n",
       "paint_color         12\n",
       "lat              53337\n",
       "long             53365\n",
       "dtype: int64"
      ]
     },
     "execution_count": 17,
     "metadata": {},
     "output_type": "execute_result"
    }
   ],
   "source": [
    "# Let's see how many unique values each of the columns have:\n",
    "df_work2.nunique(axis=0)"
   ]
  },
  {
   "cell_type": "markdown",
   "metadata": {},
   "source": [
    "We can see that we have 34,924 unique values in `model` column. Converting them into dummy variables would take too many columns and the limited computational ability. I decided to drop this column."
   ]
  },
  {
   "cell_type": "code",
   "execution_count": 18,
   "metadata": {},
   "outputs": [
    {
     "data": {
      "text/plain": [
       "price            17677\n",
       "year               111\n",
       "manufacturer        43\n",
       "condition            6\n",
       "cylinders            8\n",
       "fuel                 5\n",
       "odometer        114943\n",
       "title_status         6\n",
       "transmission         3\n",
       "drive                3\n",
       "size                 4\n",
       "type                13\n",
       "paint_color         12\n",
       "lat              53337\n",
       "long             53365\n",
       "dtype: int64"
      ]
     },
     "execution_count": 18,
     "metadata": {},
     "output_type": "execute_result"
    }
   ],
   "source": [
    "# Dropping 'model' column:\n",
    "df_work2 = df_work2.drop(['model'], axis=1)\n",
    "df_work2.nunique(axis=0)"
   ]
  },
  {
   "cell_type": "markdown",
   "metadata": {},
   "source": [
    "We can see that number of unique years are 111. Let's actually explore our year column."
   ]
  },
  {
   "cell_type": "code",
   "execution_count": 19,
   "metadata": {},
   "outputs": [
    {
     "data": {
      "text/html": [
       "<div>\n",
       "<style scoped>\n",
       "    .dataframe tbody tr th:only-of-type {\n",
       "        vertical-align: middle;\n",
       "    }\n",
       "\n",
       "    .dataframe tbody tr th {\n",
       "        vertical-align: top;\n",
       "    }\n",
       "\n",
       "    .dataframe thead th {\n",
       "        text-align: right;\n",
       "    }\n",
       "</style>\n",
       "<table border=\"1\" class=\"dataframe\">\n",
       "  <thead>\n",
       "    <tr style=\"text-align: right;\">\n",
       "      <th></th>\n",
       "      <th>price</th>\n",
       "      <th>year</th>\n",
       "      <th>odometer</th>\n",
       "      <th>lat</th>\n",
       "      <th>long</th>\n",
       "    </tr>\n",
       "  </thead>\n",
       "  <tbody>\n",
       "    <tr>\n",
       "      <th>count</th>\n",
       "      <td>452609.000000</td>\n",
       "      <td>451718.000000</td>\n",
       "      <td>3.756510e+05</td>\n",
       "      <td>448844.000000</td>\n",
       "      <td>448844.000000</td>\n",
       "    </tr>\n",
       "    <tr>\n",
       "      <th>mean</th>\n",
       "      <td>14003.309967</td>\n",
       "      <td>2009.489956</td>\n",
       "      <td>1.026519e+05</td>\n",
       "      <td>38.444946</td>\n",
       "      <td>-93.808058</td>\n",
       "    </tr>\n",
       "    <tr>\n",
       "      <th>std</th>\n",
       "      <td>11048.177835</td>\n",
       "      <td>9.433785</td>\n",
       "      <td>1.866519e+05</td>\n",
       "      <td>5.898099</td>\n",
       "      <td>17.455854</td>\n",
       "    </tr>\n",
       "    <tr>\n",
       "      <th>min</th>\n",
       "      <td>503.000000</td>\n",
       "      <td>0.000000</td>\n",
       "      <td>0.000000e+00</td>\n",
       "      <td>-84.911400</td>\n",
       "      <td>-176.810000</td>\n",
       "    </tr>\n",
       "    <tr>\n",
       "      <th>25%</th>\n",
       "      <td>5900.000000</td>\n",
       "      <td>2006.000000</td>\n",
       "      <td>4.856900e+04</td>\n",
       "      <td>34.221600</td>\n",
       "      <td>-106.369000</td>\n",
       "    </tr>\n",
       "    <tr>\n",
       "      <th>50%</th>\n",
       "      <td>10999.000000</td>\n",
       "      <td>2011.000000</td>\n",
       "      <td>9.500000e+04</td>\n",
       "      <td>39.113200</td>\n",
       "      <td>-87.983550</td>\n",
       "    </tr>\n",
       "    <tr>\n",
       "      <th>75%</th>\n",
       "      <td>18999.000000</td>\n",
       "      <td>2015.000000</td>\n",
       "      <td>1.399575e+05</td>\n",
       "      <td>42.449600</td>\n",
       "      <td>-81.191525</td>\n",
       "    </tr>\n",
       "    <tr>\n",
       "      <th>max</th>\n",
       "      <td>99995.000000</td>\n",
       "      <td>2021.000000</td>\n",
       "      <td>6.480922e+07</td>\n",
       "      <td>84.514800</td>\n",
       "      <td>161.016000</td>\n",
       "    </tr>\n",
       "  </tbody>\n",
       "</table>\n",
       "</div>"
      ],
      "text/plain": [
       "               price           year      odometer            lat  \\\n",
       "count  452609.000000  451718.000000  3.756510e+05  448844.000000   \n",
       "mean    14003.309967    2009.489956  1.026519e+05      38.444946   \n",
       "std     11048.177835       9.433785  1.866519e+05       5.898099   \n",
       "min       503.000000       0.000000  0.000000e+00     -84.911400   \n",
       "25%      5900.000000    2006.000000  4.856900e+04      34.221600   \n",
       "50%     10999.000000    2011.000000  9.500000e+04      39.113200   \n",
       "75%     18999.000000    2015.000000  1.399575e+05      42.449600   \n",
       "max     99995.000000    2021.000000  6.480922e+07      84.514800   \n",
       "\n",
       "                long  \n",
       "count  448844.000000  \n",
       "mean      -93.808058  \n",
       "std        17.455854  \n",
       "min      -176.810000  \n",
       "25%      -106.369000  \n",
       "50%       -87.983550  \n",
       "75%       -81.191525  \n",
       "max       161.016000  "
      ]
     },
     "execution_count": 19,
     "metadata": {},
     "output_type": "execute_result"
    }
   ],
   "source": [
    "df_work2.describe()"
   ]
  },
  {
   "cell_type": "markdown",
   "metadata": {},
   "source": [
    "We can see from here that the min value for our `year` column is 0, and the max value is 2021. These are not realistic values. Let's now actually see unique years in our dataset."
   ]
  },
  {
   "cell_type": "code",
   "execution_count": 20,
   "metadata": {},
   "outputs": [
    {
     "name": "stdout",
     "output_type": "stream",
     "text": [
      "[2019.0, 2018.0, 2017.0, 2016.0, 2015.0, 2014.0, 2013.0, 2012.0, 2011.0, 2010.0, 2009.0, 2008.0, 2007.0, 2006.0, 2005.0, 2004.0, 2003.0, 2002.0, 2001.0, 2000.0, 1999.0, 1998.0, 1997.0, 1996.0, 1995.0, 1994.0, 1993.0, 1992.0, 1991.0, 1990.0, 1989.0, 1988.0, 1987.0, 1986.0, 1985.0, 1984.0, 1983.0, 1981.0, 1980.0, 1979.0, 1977.0, 1975.0, 1974.0, 1973.0, 1972.0, 1971.0, 1970.0, 1968.0, 1967.0, 1966.0, 1964.0, 1951.0, 1950.0, 1949.0, 1942.0, 1929.0, nan, 2021.0, 2020.0, 1982.0, 1978.0, 1976.0, 1969.0, 1965.0, 1963.0, 1962.0, 1961.0, 1960.0, 1959.0, 1958.0, 1957.0, 1956.0, 1955.0, 1954.0, 1953.0, 1952.0, 1948.0, 1947.0, 1946.0, 1945.0, 1943.0, 1941.0, 1940.0, 1939.0, 1938.0, 1937.0, 1936.0, 1935.0, 1934.0, 1933.0, 1932.0, 1931.0, 1930.0, 1928.0, 1927.0, 1926.0, 1925.0, 1924.0, 1923.0, 1922.0, 1919.0, 1918.0, 1917.0, 1916.0, 1915.0, 1914.0, 1913.0, 1912.0, 1909.0, 1908.0, 1900.0, 0.0]\n"
     ]
    }
   ],
   "source": [
    "print(sorted(df_work2['year'].unique(), reverse=True))"
   ]
  },
  {
   "cell_type": "markdown",
   "metadata": {},
   "source": [
    "We can see that we have some NAN values too. Let's see how many we have."
   ]
  },
  {
   "cell_type": "code",
   "execution_count": 21,
   "metadata": {},
   "outputs": [
    {
     "data": {
      "text/plain": [
       "size            68.354584\n",
       "condition       41.508896\n",
       "cylinders       39.424978\n",
       "paint_color     31.088202\n",
       "drive           28.390951\n",
       "type            26.737869\n",
       "odometer        17.003197\n",
       "manufacturer     4.120996\n",
       "long             0.831844\n",
       "lat              0.831844\n",
       "transmission     0.743025\n",
       "fuel             0.646695\n",
       "title_status     0.515235\n",
       "year             0.196859\n",
       "price            0.000000\n",
       "dtype: float64"
      ]
     },
     "execution_count": 21,
     "metadata": {},
     "output_type": "execute_result"
    }
   ],
   "source": [
    "# Let's see what percentage of each column has missing values, and sort in descending order:\n",
    "(np.mean(df_work2.isna()).sort_values(ascending = False))*100"
   ]
  },
  {
   "cell_type": "markdown",
   "metadata": {},
   "source": [
    "We have only 0.2% null values in our year column. Let's drop those null values."
   ]
  },
  {
   "cell_type": "code",
   "execution_count": 22,
   "metadata": {},
   "outputs": [
    {
     "data": {
      "text/plain": [
       "size            68.292165\n",
       "condition       41.393524\n",
       "cylinders       39.498094\n",
       "paint_color     31.129820\n",
       "drive           28.421714\n",
       "type            26.769577\n",
       "odometer        17.032529\n",
       "manufacturer     3.932099\n",
       "long             0.829278\n",
       "lat              0.829278\n",
       "transmission     0.740285\n",
       "fuel             0.589306\n",
       "title_status     0.440540\n",
       "year             0.000000\n",
       "price            0.000000\n",
       "dtype: float64"
      ]
     },
     "execution_count": 22,
     "metadata": {},
     "output_type": "execute_result"
    }
   ],
   "source": [
    "df_work2.dropna(subset=['year'], inplace=True)\n",
    "(np.mean(df_work2.isna()).sort_values(ascending = False))*100"
   ]
  },
  {
   "cell_type": "code",
   "execution_count": 23,
   "metadata": {},
   "outputs": [
    {
     "data": {
      "image/png": "[encoded data removed]",
      "text/plain": [
       "<Figure size 432x288 with 1 Axes>"
      ]
     },
     "metadata": {
      "needs_background": "light"
     },
     "output_type": "display_data"
    }
   ],
   "source": [
    "# Histogram of the years distribution.\n",
    "plt.figure()\n",
    "plt.hist(df_work2['year'], range=(1900,2021), bins=50)\n",
    "plt.xlabel('Year')\n",
    "plt.ylabel('Count')\n",
    "plt.title('Number of Ads for Each Unique Year')\n",
    "plt.show()"
   ]
  },
  {
   "cell_type": "markdown",
   "metadata": {},
   "source": [
    "From the histogram above we can see that there were very few cars older than year of 1950 advertised. Let's exclude those outliers from our project scope.   "
   ]
  },
  {
   "cell_type": "code",
   "execution_count": 24,
   "metadata": {},
   "outputs": [
    {
     "data": {
      "text/html": [
       "<div>\n",
       "<style scoped>\n",
       "    .dataframe tbody tr th:only-of-type {\n",
       "        vertical-align: middle;\n",
       "    }\n",
       "\n",
       "    .dataframe tbody tr th {\n",
       "        vertical-align: top;\n",
       "    }\n",
       "\n",
       "    .dataframe thead th {\n",
       "        text-align: right;\n",
       "    }\n",
       "</style>\n",
       "<table border=\"1\" class=\"dataframe\">\n",
       "  <thead>\n",
       "    <tr style=\"text-align: right;\">\n",
       "      <th></th>\n",
       "      <th>price</th>\n",
       "      <th>year</th>\n",
       "      <th>odometer</th>\n",
       "      <th>lat</th>\n",
       "      <th>long</th>\n",
       "    </tr>\n",
       "  </thead>\n",
       "  <tbody>\n",
       "    <tr>\n",
       "      <th>count</th>\n",
       "      <td>450645.000000</td>\n",
       "      <td>450645.000000</td>\n",
       "      <td>3.744360e+05</td>\n",
       "      <td>446908.000000</td>\n",
       "      <td>446908.000000</td>\n",
       "    </tr>\n",
       "    <tr>\n",
       "      <th>mean</th>\n",
       "      <td>13956.043953</td>\n",
       "      <td>2009.661064</td>\n",
       "      <td>1.028683e+05</td>\n",
       "      <td>38.453736</td>\n",
       "      <td>-93.794010</td>\n",
       "    </tr>\n",
       "    <tr>\n",
       "      <th>std</th>\n",
       "      <td>10996.054685</td>\n",
       "      <td>8.242734</td>\n",
       "      <td>1.867075e+05</td>\n",
       "      <td>5.894294</td>\n",
       "      <td>17.453389</td>\n",
       "    </tr>\n",
       "    <tr>\n",
       "      <th>min</th>\n",
       "      <td>503.000000</td>\n",
       "      <td>1950.000000</td>\n",
       "      <td>0.000000e+00</td>\n",
       "      <td>-84.911400</td>\n",
       "      <td>-176.810000</td>\n",
       "    </tr>\n",
       "    <tr>\n",
       "      <th>25%</th>\n",
       "      <td>5895.000000</td>\n",
       "      <td>2006.000000</td>\n",
       "      <td>4.900000e+04</td>\n",
       "      <td>34.226200</td>\n",
       "      <td>-106.366000</td>\n",
       "    </tr>\n",
       "    <tr>\n",
       "      <th>50%</th>\n",
       "      <td>10995.000000</td>\n",
       "      <td>2011.000000</td>\n",
       "      <td>9.514500e+04</td>\n",
       "      <td>39.123400</td>\n",
       "      <td>-87.971500</td>\n",
       "    </tr>\n",
       "    <tr>\n",
       "      <th>75%</th>\n",
       "      <td>18995.000000</td>\n",
       "      <td>2015.000000</td>\n",
       "      <td>1.400000e+05</td>\n",
       "      <td>42.458200</td>\n",
       "      <td>-81.179600</td>\n",
       "    </tr>\n",
       "    <tr>\n",
       "      <th>max</th>\n",
       "      <td>99995.000000</td>\n",
       "      <td>2020.000000</td>\n",
       "      <td>6.480922e+07</td>\n",
       "      <td>84.514800</td>\n",
       "      <td>161.016000</td>\n",
       "    </tr>\n",
       "  </tbody>\n",
       "</table>\n",
       "</div>"
      ],
      "text/plain": [
       "               price           year      odometer            lat  \\\n",
       "count  450645.000000  450645.000000  3.744360e+05  446908.000000   \n",
       "mean    13956.043953    2009.661064  1.028683e+05      38.453736   \n",
       "std     10996.054685       8.242734  1.867075e+05       5.894294   \n",
       "min       503.000000    1950.000000  0.000000e+00     -84.911400   \n",
       "25%      5895.000000    2006.000000  4.900000e+04      34.226200   \n",
       "50%     10995.000000    2011.000000  9.514500e+04      39.123400   \n",
       "75%     18995.000000    2015.000000  1.400000e+05      42.458200   \n",
       "max     99995.000000    2020.000000  6.480922e+07      84.514800   \n",
       "\n",
       "                long  \n",
       "count  446908.000000  \n",
       "mean      -93.794010  \n",
       "std        17.453389  \n",
       "min      -176.810000  \n",
       "25%      -106.366000  \n",
       "50%       -87.971500  \n",
       "75%       -81.179600  \n",
       "max       161.016000  "
      ]
     },
     "execution_count": 24,
     "metadata": {},
     "output_type": "execute_result"
    }
   ],
   "source": [
    "# Let's now grab only years starting from 1950 and till current year of 2020.\n",
    "df_work2 = df_work2[df_work2['year'].between(1950, 2020)]\n",
    "\n",
    "# Let's just double check our years:\n",
    "df_work2.describe()"
   ]
  },
  {
   "cell_type": "markdown",
   "metadata": {},
   "source": [
    "From the above chart we can also see that our odometer column has some outliers too, with a min of 0 mileage, and max of really high values. For our project scope, we will use realistic mileages of used cars, from 50 to 300,000 odometer values."
   ]
  },
  {
   "cell_type": "code",
   "execution_count": 25,
   "metadata": {},
   "outputs": [
    {
     "data": {
      "text/html": [
       "<div>\n",
       "<style scoped>\n",
       "    .dataframe tbody tr th:only-of-type {\n",
       "        vertical-align: middle;\n",
       "    }\n",
       "\n",
       "    .dataframe tbody tr th {\n",
       "        vertical-align: top;\n",
       "    }\n",
       "\n",
       "    .dataframe thead th {\n",
       "        text-align: right;\n",
       "    }\n",
       "</style>\n",
       "<table border=\"1\" class=\"dataframe\">\n",
       "  <thead>\n",
       "    <tr style=\"text-align: right;\">\n",
       "      <th></th>\n",
       "      <th>price</th>\n",
       "      <th>year</th>\n",
       "      <th>odometer</th>\n",
       "      <th>lat</th>\n",
       "      <th>long</th>\n",
       "    </tr>\n",
       "  </thead>\n",
       "  <tbody>\n",
       "    <tr>\n",
       "      <th>count</th>\n",
       "      <td>369238.000000</td>\n",
       "      <td>369238.000000</td>\n",
       "      <td>369238.000000</td>\n",
       "      <td>366257.000000</td>\n",
       "      <td>366257.000000</td>\n",
       "    </tr>\n",
       "    <tr>\n",
       "      <th>mean</th>\n",
       "      <td>14668.840905</td>\n",
       "      <td>2010.643723</td>\n",
       "      <td>98906.250567</td>\n",
       "      <td>38.638958</td>\n",
       "      <td>-93.989800</td>\n",
       "    </tr>\n",
       "    <tr>\n",
       "      <th>std</th>\n",
       "      <td>10870.472386</td>\n",
       "      <td>6.832618</td>\n",
       "      <td>59217.324925</td>\n",
       "      <td>5.769686</td>\n",
       "      <td>17.677334</td>\n",
       "    </tr>\n",
       "    <tr>\n",
       "      <th>min</th>\n",
       "      <td>503.000000</td>\n",
       "      <td>1950.000000</td>\n",
       "      <td>50.000000</td>\n",
       "      <td>-84.911400</td>\n",
       "      <td>-170.288000</td>\n",
       "    </tr>\n",
       "    <tr>\n",
       "      <th>25%</th>\n",
       "      <td>6495.000000</td>\n",
       "      <td>2007.000000</td>\n",
       "      <td>49500.000000</td>\n",
       "      <td>34.436900</td>\n",
       "      <td>-108.455000</td>\n",
       "    </tr>\n",
       "    <tr>\n",
       "      <th>50%</th>\n",
       "      <td>12200.000000</td>\n",
       "      <td>2012.000000</td>\n",
       "      <td>95112.000000</td>\n",
       "      <td>39.292800</td>\n",
       "      <td>-87.885400</td>\n",
       "    </tr>\n",
       "    <tr>\n",
       "      <th>75%</th>\n",
       "      <td>19988.000000</td>\n",
       "      <td>2015.000000</td>\n",
       "      <td>139012.750000</td>\n",
       "      <td>42.504800</td>\n",
       "      <td>-81.177000</td>\n",
       "    </tr>\n",
       "    <tr>\n",
       "      <th>max</th>\n",
       "      <td>99995.000000</td>\n",
       "      <td>2020.000000</td>\n",
       "      <td>300000.000000</td>\n",
       "      <td>84.514800</td>\n",
       "      <td>161.016000</td>\n",
       "    </tr>\n",
       "  </tbody>\n",
       "</table>\n",
       "</div>"
      ],
      "text/plain": [
       "               price           year       odometer            lat  \\\n",
       "count  369238.000000  369238.000000  369238.000000  366257.000000   \n",
       "mean    14668.840905    2010.643723   98906.250567      38.638958   \n",
       "std     10870.472386       6.832618   59217.324925       5.769686   \n",
       "min       503.000000    1950.000000      50.000000     -84.911400   \n",
       "25%      6495.000000    2007.000000   49500.000000      34.436900   \n",
       "50%     12200.000000    2012.000000   95112.000000      39.292800   \n",
       "75%     19988.000000    2015.000000  139012.750000      42.504800   \n",
       "max     99995.000000    2020.000000  300000.000000      84.514800   \n",
       "\n",
       "                long  \n",
       "count  366257.000000  \n",
       "mean      -93.989800  \n",
       "std        17.677334  \n",
       "min      -170.288000  \n",
       "25%      -108.455000  \n",
       "50%       -87.885400  \n",
       "75%       -81.177000  \n",
       "max       161.016000  "
      ]
     },
     "execution_count": 25,
     "metadata": {},
     "output_type": "execute_result"
    }
   ],
   "source": [
    "# Let's now filter out odometer values from 50 to 300,000.\n",
    "df_work2 = df_work2[df_work2['odometer'].between(50, 300000)]\n",
    "\n",
    "# Let's just double check our years:\n",
    "df_work2.describe()"
   ]
  },
  {
   "cell_type": "code",
   "execution_count": 26,
   "metadata": {},
   "outputs": [],
   "source": [
    "# First, let's check if we have rows with empty values, and replace those empty values with NaN values\n",
    "df_work2 = df_work2.replace({'':np.nan})"
   ]
  },
  {
   "cell_type": "code",
   "execution_count": 27,
   "metadata": {},
   "outputs": [
    {
     "data": {
      "text/plain": [
       "size            66.320639\n",
       "condition       38.080317\n",
       "cylinders       34.921649\n",
       "paint_color     24.209859\n",
       "drive           21.025463\n",
       "type            18.225914\n",
       "manufacturer     2.974775\n",
       "transmission     0.857171\n",
       "long             0.807338\n",
       "lat              0.807338\n",
       "fuel             0.670029\n",
       "title_status     0.518907\n",
       "odometer         0.000000\n",
       "year             0.000000\n",
       "price            0.000000\n",
       "dtype: float64"
      ]
     },
     "execution_count": 27,
     "metadata": {},
     "output_type": "execute_result"
    }
   ],
   "source": [
    "# Let's see what percentage of each column has missing values left:\n",
    "(np.mean(df_work2.isna()).sort_values(ascending = False))*100"
   ]
  },
  {
   "cell_type": "markdown",
   "metadata": {},
   "source": [
    "Let's actually see what unique values each of our non-numeric columns have, and how many of those values are there. Let's see if some of those columns already contain values like 'other' or 'unknown', so instead of dropping null values or assigning some biased values, we would just assign null rows into those values.  "
   ]
  },
  {
   "cell_type": "code",
   "execution_count": 28,
   "metadata": {},
   "outputs": [
    {
     "data": {
      "text/html": [
       "<div>\n",
       "<style scoped>\n",
       "    .dataframe tbody tr th:only-of-type {\n",
       "        vertical-align: middle;\n",
       "    }\n",
       "\n",
       "    .dataframe tbody tr th {\n",
       "        vertical-align: top;\n",
       "    }\n",
       "\n",
       "    .dataframe thead th {\n",
       "        text-align: right;\n",
       "    }\n",
       "</style>\n",
       "<table border=\"1\" class=\"dataframe\">\n",
       "  <thead>\n",
       "    <tr style=\"text-align: right;\">\n",
       "      <th></th>\n",
       "      <th>manufacturer</th>\n",
       "    </tr>\n",
       "  </thead>\n",
       "  <tbody>\n",
       "    <tr>\n",
       "      <th>ford</th>\n",
       "      <td>67303</td>\n",
       "    </tr>\n",
       "    <tr>\n",
       "      <th>chevrolet</th>\n",
       "      <td>53408</td>\n",
       "    </tr>\n",
       "    <tr>\n",
       "      <th>toyota</th>\n",
       "      <td>28751</td>\n",
       "    </tr>\n",
       "    <tr>\n",
       "      <th>nissan</th>\n",
       "      <td>19851</td>\n",
       "    </tr>\n",
       "    <tr>\n",
       "      <th>ram</th>\n",
       "      <td>18395</td>\n",
       "    </tr>\n",
       "    <tr>\n",
       "      <th>honda</th>\n",
       "      <td>18291</td>\n",
       "    </tr>\n",
       "    <tr>\n",
       "      <th>jeep</th>\n",
       "      <td>17988</td>\n",
       "    </tr>\n",
       "    <tr>\n",
       "      <th>gmc</th>\n",
       "      <td>16526</td>\n",
       "    </tr>\n",
       "    <tr>\n",
       "      <th>dodge</th>\n",
       "      <td>12218</td>\n",
       "    </tr>\n",
       "    <tr>\n",
       "      <th>bmw</th>\n",
       "      <td>10961</td>\n",
       "    </tr>\n",
       "    <tr>\n",
       "      <th>hyundai</th>\n",
       "      <td>8906</td>\n",
       "    </tr>\n",
       "    <tr>\n",
       "      <th>subaru</th>\n",
       "      <td>8787</td>\n",
       "    </tr>\n",
       "    <tr>\n",
       "      <th>mercedes-benz</th>\n",
       "      <td>8633</td>\n",
       "    </tr>\n",
       "    <tr>\n",
       "      <th>volkswagen</th>\n",
       "      <td>8069</td>\n",
       "    </tr>\n",
       "    <tr>\n",
       "      <th>kia</th>\n",
       "      <td>6807</td>\n",
       "    </tr>\n",
       "    <tr>\n",
       "      <th>chrysler</th>\n",
       "      <td>5867</td>\n",
       "    </tr>\n",
       "    <tr>\n",
       "      <th>cadillac</th>\n",
       "      <td>5722</td>\n",
       "    </tr>\n",
       "    <tr>\n",
       "      <th>buick</th>\n",
       "      <td>5305</td>\n",
       "    </tr>\n",
       "    <tr>\n",
       "      <th>lexus</th>\n",
       "      <td>4786</td>\n",
       "    </tr>\n",
       "    <tr>\n",
       "      <th>mazda</th>\n",
       "      <td>4638</td>\n",
       "    </tr>\n",
       "    <tr>\n",
       "      <th>audi</th>\n",
       "      <td>4499</td>\n",
       "    </tr>\n",
       "    <tr>\n",
       "      <th>infiniti</th>\n",
       "      <td>3017</td>\n",
       "    </tr>\n",
       "    <tr>\n",
       "      <th>acura</th>\n",
       "      <td>2921</td>\n",
       "    </tr>\n",
       "    <tr>\n",
       "      <th>lincoln</th>\n",
       "      <td>2454</td>\n",
       "    </tr>\n",
       "    <tr>\n",
       "      <th>pontiac</th>\n",
       "      <td>2348</td>\n",
       "    </tr>\n",
       "    <tr>\n",
       "      <th>volvo</th>\n",
       "      <td>2122</td>\n",
       "    </tr>\n",
       "    <tr>\n",
       "      <th>mini</th>\n",
       "      <td>1883</td>\n",
       "    </tr>\n",
       "    <tr>\n",
       "      <th>mitsubishi</th>\n",
       "      <td>1836</td>\n",
       "    </tr>\n",
       "    <tr>\n",
       "      <th>rover</th>\n",
       "      <td>1504</td>\n",
       "    </tr>\n",
       "    <tr>\n",
       "      <th>mercury</th>\n",
       "      <td>1238</td>\n",
       "    </tr>\n",
       "    <tr>\n",
       "      <th>saturn</th>\n",
       "      <td>1144</td>\n",
       "    </tr>\n",
       "    <tr>\n",
       "      <th>jaguar</th>\n",
       "      <td>839</td>\n",
       "    </tr>\n",
       "    <tr>\n",
       "      <th>fiat</th>\n",
       "      <td>727</td>\n",
       "    </tr>\n",
       "    <tr>\n",
       "      <th>tesla</th>\n",
       "      <td>186</td>\n",
       "    </tr>\n",
       "    <tr>\n",
       "      <th>harley-davidson</th>\n",
       "      <td>148</td>\n",
       "    </tr>\n",
       "    <tr>\n",
       "      <th>alfa-romeo</th>\n",
       "      <td>60</td>\n",
       "    </tr>\n",
       "    <tr>\n",
       "      <th>ferrari</th>\n",
       "      <td>34</td>\n",
       "    </tr>\n",
       "    <tr>\n",
       "      <th>datsun</th>\n",
       "      <td>31</td>\n",
       "    </tr>\n",
       "    <tr>\n",
       "      <th>aston-martin</th>\n",
       "      <td>22</td>\n",
       "    </tr>\n",
       "    <tr>\n",
       "      <th>land rover</th>\n",
       "      <td>17</td>\n",
       "    </tr>\n",
       "    <tr>\n",
       "      <th>porche</th>\n",
       "      <td>9</td>\n",
       "    </tr>\n",
       "    <tr>\n",
       "      <th>morgan</th>\n",
       "      <td>2</td>\n",
       "    </tr>\n",
       "    <tr>\n",
       "      <th>hennessey</th>\n",
       "      <td>1</td>\n",
       "    </tr>\n",
       "  </tbody>\n",
       "</table>\n",
       "</div>"
      ],
      "text/plain": [
       "                 manufacturer\n",
       "ford                    67303\n",
       "chevrolet               53408\n",
       "toyota                  28751\n",
       "nissan                  19851\n",
       "ram                     18395\n",
       "honda                   18291\n",
       "jeep                    17988\n",
       "gmc                     16526\n",
       "dodge                   12218\n",
       "bmw                     10961\n",
       "hyundai                  8906\n",
       "subaru                   8787\n",
       "mercedes-benz            8633\n",
       "volkswagen               8069\n",
       "kia                      6807\n",
       "chrysler                 5867\n",
       "cadillac                 5722\n",
       "buick                    5305\n",
       "lexus                    4786\n",
       "mazda                    4638\n",
       "audi                     4499\n",
       "infiniti                 3017\n",
       "acura                    2921\n",
       "lincoln                  2454\n",
       "pontiac                  2348\n",
       "volvo                    2122\n",
       "mini                     1883\n",
       "mitsubishi               1836\n",
       "rover                    1504\n",
       "mercury                  1238\n",
       "saturn                   1144\n",
       "jaguar                    839\n",
       "fiat                      727\n",
       "tesla                     186\n",
       "harley-davidson           148\n",
       "alfa-romeo                 60\n",
       "ferrari                    34\n",
       "datsun                     31\n",
       "aston-martin               22\n",
       "land rover                 17\n",
       "porche                      9\n",
       "morgan                      2\n",
       "hennessey                   1"
      ]
     },
     "metadata": {},
     "output_type": "display_data"
    },
    {
     "data": {
      "text/html": [
       "<div>\n",
       "<style scoped>\n",
       "    .dataframe tbody tr th:only-of-type {\n",
       "        vertical-align: middle;\n",
       "    }\n",
       "\n",
       "    .dataframe tbody tr th {\n",
       "        vertical-align: top;\n",
       "    }\n",
       "\n",
       "    .dataframe thead th {\n",
       "        text-align: right;\n",
       "    }\n",
       "</style>\n",
       "<table border=\"1\" class=\"dataframe\">\n",
       "  <thead>\n",
       "    <tr style=\"text-align: right;\">\n",
       "      <th></th>\n",
       "      <th>condition</th>\n",
       "    </tr>\n",
       "  </thead>\n",
       "  <tbody>\n",
       "    <tr>\n",
       "      <th>excellent</th>\n",
       "      <td>103813</td>\n",
       "    </tr>\n",
       "    <tr>\n",
       "      <th>good</th>\n",
       "      <td>97640</td>\n",
       "    </tr>\n",
       "    <tr>\n",
       "      <th>like new</th>\n",
       "      <td>20614</td>\n",
       "    </tr>\n",
       "    <tr>\n",
       "      <th>fair</th>\n",
       "      <td>5657</td>\n",
       "    </tr>\n",
       "    <tr>\n",
       "      <th>new</th>\n",
       "      <td>524</td>\n",
       "    </tr>\n",
       "    <tr>\n",
       "      <th>salvage</th>\n",
       "      <td>383</td>\n",
       "    </tr>\n",
       "  </tbody>\n",
       "</table>\n",
       "</div>"
      ],
      "text/plain": [
       "           condition\n",
       "excellent     103813\n",
       "good           97640\n",
       "like new       20614\n",
       "fair            5657\n",
       "new              524\n",
       "salvage          383"
      ]
     },
     "metadata": {},
     "output_type": "display_data"
    },
    {
     "data": {
      "text/html": [
       "<div>\n",
       "<style scoped>\n",
       "    .dataframe tbody tr th:only-of-type {\n",
       "        vertical-align: middle;\n",
       "    }\n",
       "\n",
       "    .dataframe tbody tr th {\n",
       "        vertical-align: top;\n",
       "    }\n",
       "\n",
       "    .dataframe thead th {\n",
       "        text-align: right;\n",
       "    }\n",
       "</style>\n",
       "<table border=\"1\" class=\"dataframe\">\n",
       "  <thead>\n",
       "    <tr style=\"text-align: right;\">\n",
       "      <th></th>\n",
       "      <th>cylinders</th>\n",
       "    </tr>\n",
       "  </thead>\n",
       "  <tbody>\n",
       "    <tr>\n",
       "      <th>6 cylinders</th>\n",
       "      <td>88654</td>\n",
       "    </tr>\n",
       "    <tr>\n",
       "      <th>8 cylinders</th>\n",
       "      <td>74276</td>\n",
       "    </tr>\n",
       "    <tr>\n",
       "      <th>4 cylinders</th>\n",
       "      <td>72569</td>\n",
       "    </tr>\n",
       "    <tr>\n",
       "      <th>5 cylinders</th>\n",
       "      <td>2189</td>\n",
       "    </tr>\n",
       "    <tr>\n",
       "      <th>10 cylinders</th>\n",
       "      <td>1393</td>\n",
       "    </tr>\n",
       "    <tr>\n",
       "      <th>other</th>\n",
       "      <td>654</td>\n",
       "    </tr>\n",
       "    <tr>\n",
       "      <th>3 cylinders</th>\n",
       "      <td>423</td>\n",
       "    </tr>\n",
       "    <tr>\n",
       "      <th>12 cylinders</th>\n",
       "      <td>136</td>\n",
       "    </tr>\n",
       "  </tbody>\n",
       "</table>\n",
       "</div>"
      ],
      "text/plain": [
       "              cylinders\n",
       "6 cylinders       88654\n",
       "8 cylinders       74276\n",
       "4 cylinders       72569\n",
       "5 cylinders        2189\n",
       "10 cylinders       1393\n",
       "other               654\n",
       "3 cylinders         423\n",
       "12 cylinders        136"
      ]
     },
     "metadata": {},
     "output_type": "display_data"
    },
    {
     "data": {
      "text/html": [
       "<div>\n",
       "<style scoped>\n",
       "    .dataframe tbody tr th:only-of-type {\n",
       "        vertical-align: middle;\n",
       "    }\n",
       "\n",
       "    .dataframe tbody tr th {\n",
       "        vertical-align: top;\n",
       "    }\n",
       "\n",
       "    .dataframe thead th {\n",
       "        text-align: right;\n",
       "    }\n",
       "</style>\n",
       "<table border=\"1\" class=\"dataframe\">\n",
       "  <thead>\n",
       "    <tr style=\"text-align: right;\">\n",
       "      <th></th>\n",
       "      <th>fuel</th>\n",
       "    </tr>\n",
       "  </thead>\n",
       "  <tbody>\n",
       "    <tr>\n",
       "      <th>gas</th>\n",
       "      <td>322870</td>\n",
       "    </tr>\n",
       "    <tr>\n",
       "      <th>diesel</th>\n",
       "      <td>29067</td>\n",
       "    </tr>\n",
       "    <tr>\n",
       "      <th>other</th>\n",
       "      <td>10890</td>\n",
       "    </tr>\n",
       "    <tr>\n",
       "      <th>hybrid</th>\n",
       "      <td>3197</td>\n",
       "    </tr>\n",
       "    <tr>\n",
       "      <th>electric</th>\n",
       "      <td>740</td>\n",
       "    </tr>\n",
       "  </tbody>\n",
       "</table>\n",
       "</div>"
      ],
      "text/plain": [
       "            fuel\n",
       "gas       322870\n",
       "diesel     29067\n",
       "other      10890\n",
       "hybrid      3197\n",
       "electric     740"
      ]
     },
     "metadata": {},
     "output_type": "display_data"
    },
    {
     "data": {
      "text/html": [
       "<div>\n",
       "<style scoped>\n",
       "    .dataframe tbody tr th:only-of-type {\n",
       "        vertical-align: middle;\n",
       "    }\n",
       "\n",
       "    .dataframe tbody tr th {\n",
       "        vertical-align: top;\n",
       "    }\n",
       "\n",
       "    .dataframe thead th {\n",
       "        text-align: right;\n",
       "    }\n",
       "</style>\n",
       "<table border=\"1\" class=\"dataframe\">\n",
       "  <thead>\n",
       "    <tr style=\"text-align: right;\">\n",
       "      <th></th>\n",
       "      <th>title_status</th>\n",
       "    </tr>\n",
       "  </thead>\n",
       "  <tbody>\n",
       "    <tr>\n",
       "      <th>clean</th>\n",
       "      <td>351698</td>\n",
       "    </tr>\n",
       "    <tr>\n",
       "      <th>rebuilt</th>\n",
       "      <td>9122</td>\n",
       "    </tr>\n",
       "    <tr>\n",
       "      <th>salvage</th>\n",
       "      <td>3860</td>\n",
       "    </tr>\n",
       "    <tr>\n",
       "      <th>lien</th>\n",
       "      <td>2428</td>\n",
       "    </tr>\n",
       "    <tr>\n",
       "      <th>missing</th>\n",
       "      <td>160</td>\n",
       "    </tr>\n",
       "    <tr>\n",
       "      <th>parts only</th>\n",
       "      <td>54</td>\n",
       "    </tr>\n",
       "  </tbody>\n",
       "</table>\n",
       "</div>"
      ],
      "text/plain": [
       "            title_status\n",
       "clean             351698\n",
       "rebuilt             9122\n",
       "salvage             3860\n",
       "lien                2428\n",
       "missing              160\n",
       "parts only            54"
      ]
     },
     "metadata": {},
     "output_type": "display_data"
    },
    {
     "data": {
      "text/html": [
       "<div>\n",
       "<style scoped>\n",
       "    .dataframe tbody tr th:only-of-type {\n",
       "        vertical-align: middle;\n",
       "    }\n",
       "\n",
       "    .dataframe tbody tr th {\n",
       "        vertical-align: top;\n",
       "    }\n",
       "\n",
       "    .dataframe thead th {\n",
       "        text-align: right;\n",
       "    }\n",
       "</style>\n",
       "<table border=\"1\" class=\"dataframe\">\n",
       "  <thead>\n",
       "    <tr style=\"text-align: right;\">\n",
       "      <th></th>\n",
       "      <th>transmission</th>\n",
       "    </tr>\n",
       "  </thead>\n",
       "  <tbody>\n",
       "    <tr>\n",
       "      <th>automatic</th>\n",
       "      <td>324653</td>\n",
       "    </tr>\n",
       "    <tr>\n",
       "      <th>manual</th>\n",
       "      <td>21139</td>\n",
       "    </tr>\n",
       "    <tr>\n",
       "      <th>other</th>\n",
       "      <td>20281</td>\n",
       "    </tr>\n",
       "  </tbody>\n",
       "</table>\n",
       "</div>"
      ],
      "text/plain": [
       "           transmission\n",
       "automatic        324653\n",
       "manual            21139\n",
       "other             20281"
      ]
     },
     "metadata": {},
     "output_type": "display_data"
    },
    {
     "data": {
      "text/html": [
       "<div>\n",
       "<style scoped>\n",
       "    .dataframe tbody tr th:only-of-type {\n",
       "        vertical-align: middle;\n",
       "    }\n",
       "\n",
       "    .dataframe tbody tr th {\n",
       "        vertical-align: top;\n",
       "    }\n",
       "\n",
       "    .dataframe thead th {\n",
       "        text-align: right;\n",
       "    }\n",
       "</style>\n",
       "<table border=\"1\" class=\"dataframe\">\n",
       "  <thead>\n",
       "    <tr style=\"text-align: right;\">\n",
       "      <th></th>\n",
       "      <th>drive</th>\n",
       "    </tr>\n",
       "  </thead>\n",
       "  <tbody>\n",
       "    <tr>\n",
       "      <th>4wd</th>\n",
       "      <td>136205</td>\n",
       "    </tr>\n",
       "    <tr>\n",
       "      <th>fwd</th>\n",
       "      <td>102285</td>\n",
       "    </tr>\n",
       "    <tr>\n",
       "      <th>rwd</th>\n",
       "      <td>53114</td>\n",
       "    </tr>\n",
       "  </tbody>\n",
       "</table>\n",
       "</div>"
      ],
      "text/plain": [
       "      drive\n",
       "4wd  136205\n",
       "fwd  102285\n",
       "rwd   53114"
      ]
     },
     "metadata": {},
     "output_type": "display_data"
    },
    {
     "data": {
      "text/html": [
       "<div>\n",
       "<style scoped>\n",
       "    .dataframe tbody tr th:only-of-type {\n",
       "        vertical-align: middle;\n",
       "    }\n",
       "\n",
       "    .dataframe tbody tr th {\n",
       "        vertical-align: top;\n",
       "    }\n",
       "\n",
       "    .dataframe thead th {\n",
       "        text-align: right;\n",
       "    }\n",
       "</style>\n",
       "<table border=\"1\" class=\"dataframe\">\n",
       "  <thead>\n",
       "    <tr style=\"text-align: right;\">\n",
       "      <th></th>\n",
       "      <th>size</th>\n",
       "    </tr>\n",
       "  </thead>\n",
       "  <tbody>\n",
       "    <tr>\n",
       "      <th>full-size</th>\n",
       "      <td>68292</td>\n",
       "    </tr>\n",
       "    <tr>\n",
       "      <th>mid-size</th>\n",
       "      <td>34487</td>\n",
       "    </tr>\n",
       "    <tr>\n",
       "      <th>compact</th>\n",
       "      <td>18502</td>\n",
       "    </tr>\n",
       "    <tr>\n",
       "      <th>sub-compact</th>\n",
       "      <td>3076</td>\n",
       "    </tr>\n",
       "  </tbody>\n",
       "</table>\n",
       "</div>"
      ],
      "text/plain": [
       "              size\n",
       "full-size    68292\n",
       "mid-size     34487\n",
       "compact      18502\n",
       "sub-compact   3076"
      ]
     },
     "metadata": {},
     "output_type": "display_data"
    },
    {
     "data": {
      "text/html": [
       "<div>\n",
       "<style scoped>\n",
       "    .dataframe tbody tr th:only-of-type {\n",
       "        vertical-align: middle;\n",
       "    }\n",
       "\n",
       "    .dataframe tbody tr th {\n",
       "        vertical-align: top;\n",
       "    }\n",
       "\n",
       "    .dataframe thead th {\n",
       "        text-align: right;\n",
       "    }\n",
       "</style>\n",
       "<table border=\"1\" class=\"dataframe\">\n",
       "  <thead>\n",
       "    <tr style=\"text-align: right;\">\n",
       "      <th></th>\n",
       "      <th>type</th>\n",
       "    </tr>\n",
       "  </thead>\n",
       "  <tbody>\n",
       "    <tr>\n",
       "      <th>sedan</th>\n",
       "      <td>73559</td>\n",
       "    </tr>\n",
       "    <tr>\n",
       "      <th>SUV</th>\n",
       "      <td>72237</td>\n",
       "    </tr>\n",
       "    <tr>\n",
       "      <th>pickup</th>\n",
       "      <td>44969</td>\n",
       "    </tr>\n",
       "    <tr>\n",
       "      <th>truck</th>\n",
       "      <td>36307</td>\n",
       "    </tr>\n",
       "    <tr>\n",
       "      <th>coupe</th>\n",
       "      <td>16908</td>\n",
       "    </tr>\n",
       "    <tr>\n",
       "      <th>other</th>\n",
       "      <td>14098</td>\n",
       "    </tr>\n",
       "    <tr>\n",
       "      <th>hatchback</th>\n",
       "      <td>12066</td>\n",
       "    </tr>\n",
       "    <tr>\n",
       "      <th>wagon</th>\n",
       "      <td>10052</td>\n",
       "    </tr>\n",
       "    <tr>\n",
       "      <th>van</th>\n",
       "      <td>8430</td>\n",
       "    </tr>\n",
       "    <tr>\n",
       "      <th>convertible</th>\n",
       "      <td>7072</td>\n",
       "    </tr>\n",
       "    <tr>\n",
       "      <th>mini-van</th>\n",
       "      <td>5288</td>\n",
       "    </tr>\n",
       "    <tr>\n",
       "      <th>offroad</th>\n",
       "      <td>540</td>\n",
       "    </tr>\n",
       "    <tr>\n",
       "      <th>bus</th>\n",
       "      <td>415</td>\n",
       "    </tr>\n",
       "  </tbody>\n",
       "</table>\n",
       "</div>"
      ],
      "text/plain": [
       "              type\n",
       "sedan        73559\n",
       "SUV          72237\n",
       "pickup       44969\n",
       "truck        36307\n",
       "coupe        16908\n",
       "other        14098\n",
       "hatchback    12066\n",
       "wagon        10052\n",
       "van           8430\n",
       "convertible   7072\n",
       "mini-van      5288\n",
       "offroad        540\n",
       "bus            415"
      ]
     },
     "metadata": {},
     "output_type": "display_data"
    },
    {
     "data": {
      "text/html": [
       "<div>\n",
       "<style scoped>\n",
       "    .dataframe tbody tr th:only-of-type {\n",
       "        vertical-align: middle;\n",
       "    }\n",
       "\n",
       "    .dataframe tbody tr th {\n",
       "        vertical-align: top;\n",
       "    }\n",
       "\n",
       "    .dataframe thead th {\n",
       "        text-align: right;\n",
       "    }\n",
       "</style>\n",
       "<table border=\"1\" class=\"dataframe\">\n",
       "  <thead>\n",
       "    <tr style=\"text-align: right;\">\n",
       "      <th></th>\n",
       "      <th>paint_color</th>\n",
       "    </tr>\n",
       "  </thead>\n",
       "  <tbody>\n",
       "    <tr>\n",
       "      <th>white</th>\n",
       "      <td>72604</td>\n",
       "    </tr>\n",
       "    <tr>\n",
       "      <th>black</th>\n",
       "      <td>57484</td>\n",
       "    </tr>\n",
       "    <tr>\n",
       "      <th>silver</th>\n",
       "      <td>42262</td>\n",
       "    </tr>\n",
       "    <tr>\n",
       "      <th>blue</th>\n",
       "      <td>28447</td>\n",
       "    </tr>\n",
       "    <tr>\n",
       "      <th>red</th>\n",
       "      <td>27829</td>\n",
       "    </tr>\n",
       "    <tr>\n",
       "      <th>grey</th>\n",
       "      <td>26626</td>\n",
       "    </tr>\n",
       "    <tr>\n",
       "      <th>green</th>\n",
       "      <td>7068</td>\n",
       "    </tr>\n",
       "    <tr>\n",
       "      <th>custom</th>\n",
       "      <td>7033</td>\n",
       "    </tr>\n",
       "    <tr>\n",
       "      <th>brown</th>\n",
       "      <td>6215</td>\n",
       "    </tr>\n",
       "    <tr>\n",
       "      <th>yellow</th>\n",
       "      <td>1826</td>\n",
       "    </tr>\n",
       "    <tr>\n",
       "      <th>orange</th>\n",
       "      <td>1790</td>\n",
       "    </tr>\n",
       "    <tr>\n",
       "      <th>purple</th>\n",
       "      <td>662</td>\n",
       "    </tr>\n",
       "  </tbody>\n",
       "</table>\n",
       "</div>"
      ],
      "text/plain": [
       "        paint_color\n",
       "white         72604\n",
       "black         57484\n",
       "silver        42262\n",
       "blue          28447\n",
       "red           27829\n",
       "grey          26626\n",
       "green          7068\n",
       "custom         7033\n",
       "brown          6215\n",
       "yellow         1826\n",
       "orange         1790\n",
       "purple          662"
      ]
     },
     "metadata": {},
     "output_type": "display_data"
    }
   ],
   "source": [
    "for i in df_work2.select_dtypes(include = ['object']).columns:\n",
    "    display(pd.DataFrame(df_work2[i].value_counts()))"
   ]
  },
  {
   "cell_type": "markdown",
   "metadata": {},
   "source": [
    "As we can see from above, our `fuel` column has 0.67% of missing values, and it also has 'other' values. Let's assign our null values to be 'other':"
   ]
  },
  {
   "cell_type": "code",
   "execution_count": 29,
   "metadata": {},
   "outputs": [],
   "source": [
    "# Filling in missing values in 'fuel' column:\n",
    "df_work2['fuel'].fillna('other', inplace=True)"
   ]
  },
  {
   "cell_type": "code",
   "execution_count": 30,
   "metadata": {},
   "outputs": [
    {
     "data": {
      "text/plain": [
       "size            66.320639\n",
       "condition       38.080317\n",
       "cylinders       34.921649\n",
       "paint_color     24.209859\n",
       "drive           21.025463\n",
       "type            18.225914\n",
       "manufacturer     2.974775\n",
       "transmission     0.857171\n",
       "long             0.807338\n",
       "lat              0.807338\n",
       "title_status     0.518907\n",
       "odometer         0.000000\n",
       "fuel             0.000000\n",
       "year             0.000000\n",
       "price            0.000000\n",
       "dtype: float64"
      ]
     },
     "execution_count": 30,
     "metadata": {},
     "output_type": "execute_result"
    }
   ],
   "source": [
    "# Let's see what percentage of each column has missing values, and sort in descending order:\n",
    "(np.mean(df_work2.isna()).sort_values(ascending = False))*100"
   ]
  },
  {
   "cell_type": "markdown",
   "metadata": {},
   "source": [
    "Same goes for `title_status` column which has label of 'missing'. Let's see the distribution and assign null values to be 'missing'."
   ]
  },
  {
   "cell_type": "code",
   "execution_count": 31,
   "metadata": {},
   "outputs": [
    {
     "data": {
      "image/png": "[encoded data removed]",
      "text/plain": [
       "<Figure size 432x288 with 1 Axes>"
      ]
     },
     "metadata": {
      "needs_background": "light"
     },
     "output_type": "display_data"
    }
   ],
   "source": [
    "# See the distribution of unique values in the 'title_status' column:\n",
    "plt.figure()\n",
    "plt.barh(df_work2['title_status'].value_counts().index, \n",
    "         df_work2['title_status'].value_counts().values)\n",
    "plt.title(\"Title Status Distribution\")\n",
    "plt.xlabel(\"Frequency\")\n",
    "plt.ylabel(\"Title Status\")\n",
    "plt.show()"
   ]
  },
  {
   "cell_type": "code",
   "execution_count": 32,
   "metadata": {},
   "outputs": [
    {
     "data": {
      "text/plain": [
       "size            66.320639\n",
       "condition       38.080317\n",
       "cylinders       34.921649\n",
       "paint_color     24.209859\n",
       "drive           21.025463\n",
       "type            18.225914\n",
       "manufacturer     2.974775\n",
       "transmission     0.857171\n",
       "long             0.807338\n",
       "lat              0.807338\n",
       "title_status     0.000000\n",
       "odometer         0.000000\n",
       "fuel             0.000000\n",
       "year             0.000000\n",
       "price            0.000000\n",
       "dtype: float64"
      ]
     },
     "execution_count": 32,
     "metadata": {},
     "output_type": "execute_result"
    }
   ],
   "source": [
    "# Filling in missing values in 'title_status' column:\n",
    "df_work2['title_status'].fillna('missing', inplace=True)\n",
    "\n",
    "# Double check what percentage of each column has missing values, and sort in descending order:\n",
    "(np.mean(df_work2.isna()).sort_values(ascending = False))*100"
   ]
  },
  {
   "cell_type": "markdown",
   "metadata": {},
   "source": [
    "Let's do same with other valid columns too."
   ]
  },
  {
   "cell_type": "code",
   "execution_count": 33,
   "metadata": {},
   "outputs": [
    {
     "data": {
      "image/png": "[encoded data removed]",
      "text/plain": [
       "<Figure size 432x288 with 1 Axes>"
      ]
     },
     "metadata": {
      "needs_background": "light"
     },
     "output_type": "display_data"
    }
   ],
   "source": [
    "# See the distribution of unique values in the 'transmission' column:\n",
    "plt.figure()\n",
    "plt.barh(df_work2['transmission'].value_counts().index, \n",
    "         df_work2['transmission'].value_counts().values)\n",
    "plt.title(\"Transmission Distribution\")\n",
    "plt.xlabel(\"Frequency\")\n",
    "plt.ylabel(\"Transmission\")\n",
    "plt.show()"
   ]
  },
  {
   "cell_type": "code",
   "execution_count": 34,
   "metadata": {
    "scrolled": true
   },
   "outputs": [
    {
     "data": {
      "text/plain": [
       "size            66.320639\n",
       "condition       38.080317\n",
       "cylinders       34.921649\n",
       "paint_color     24.209859\n",
       "drive           21.025463\n",
       "type            18.225914\n",
       "manufacturer     2.974775\n",
       "long             0.807338\n",
       "lat              0.807338\n",
       "transmission     0.000000\n",
       "title_status     0.000000\n",
       "odometer         0.000000\n",
       "fuel             0.000000\n",
       "year             0.000000\n",
       "price            0.000000\n",
       "dtype: float64"
      ]
     },
     "execution_count": 34,
     "metadata": {},
     "output_type": "execute_result"
    }
   ],
   "source": [
    "# Filling in missing values in 'transmission' column:\n",
    "df_work2['transmission'].fillna('other', inplace=True)\n",
    "\n",
    "# Double check what percentage of each column has missing values, and sort in descending order:\n",
    "(np.mean(df_work2.isna()).sort_values(ascending = False))*100"
   ]
  },
  {
   "cell_type": "code",
   "execution_count": 35,
   "metadata": {},
   "outputs": [
    {
     "data": {
      "text/plain": [
       "condition       38.080317\n",
       "cylinders       34.921649\n",
       "paint_color     24.209859\n",
       "drive           21.025463\n",
       "type            18.225914\n",
       "manufacturer     2.974775\n",
       "long             0.807338\n",
       "lat              0.807338\n",
       "transmission     0.000000\n",
       "title_status     0.000000\n",
       "odometer         0.000000\n",
       "fuel             0.000000\n",
       "year             0.000000\n",
       "price            0.000000\n",
       "dtype: float64"
      ]
     },
     "execution_count": 35,
     "metadata": {},
     "output_type": "execute_result"
    }
   ],
   "source": [
    "# Let's drop the column 'size', as it has more than 66% of missing values.\n",
    "df_work2 = df_work2.drop(['size'], axis=1)\n",
    "\n",
    "# Double check what percentage of each column has missing values, and sort in descending order:\n",
    "(np.mean(df_work2.isna()).sort_values(ascending = False))*100"
   ]
  },
  {
   "cell_type": "markdown",
   "metadata": {},
   "source": [
    "Let's see the distribution of values in the remaining missing value columns. "
   ]
  },
  {
   "cell_type": "code",
   "execution_count": 36,
   "metadata": {},
   "outputs": [
    {
     "data": {
      "image/png": "[encoded data removed]",
      "text/plain": [
       "<Figure size 432x288 with 1 Axes>"
      ]
     },
     "metadata": {
      "needs_background": "light"
     },
     "output_type": "display_data"
    },
    {
     "data": {
      "image/png": "[encoded data removed]",
      "text/plain": [
       "<Figure size 432x288 with 1 Axes>"
      ]
     },
     "metadata": {
      "needs_background": "light"
     },
     "output_type": "display_data"
    },
    {
     "data": {
      "image/png": "[encoded data removed]",
      "text/plain": [
       "<Figure size 432x288 with 1 Axes>"
      ]
     },
     "metadata": {
      "needs_background": "light"
     },
     "output_type": "display_data"
    },
    {
     "data": {
      "image/png": "[encoded data removed]",
      "text/plain": [
       "<Figure size 432x288 with 1 Axes>"
      ]
     },
     "metadata": {
      "needs_background": "light"
     },
     "output_type": "display_data"
    },
    {
     "data": {
      "image/png": "[encoded data removed]",
      "text/plain": [
       "<Figure size 432x288 with 1 Axes>"
      ]
     },
     "metadata": {
      "needs_background": "light"
     },
     "output_type": "display_data"
    },
    {
     "data": {
      "image/png": "[encoded data removed]",
      "text/plain": [
       "<Figure size 432x288 with 1 Axes>"
      ]
     },
     "metadata": {
      "needs_background": "light"
     },
     "output_type": "display_data"
    }
   ],
   "source": [
    "# See the distribution of unique values in the 'condition' column:\n",
    "plt.figure()\n",
    "plt.barh(df_work2['condition'].value_counts().index, \n",
    "         df_work2['condition'].value_counts().values)\n",
    "plt.title(\"Condition Distribution\")\n",
    "plt.xlabel(\"Frequency\")\n",
    "plt.ylabel(\"Condition\")\n",
    "plt.show();\n",
    "\n",
    "# See the distribution of unique values in the 'cylinders' column:\n",
    "plt.figure()\n",
    "plt.barh(df_work2['cylinders'].value_counts().index, \n",
    "         df_work2['cylinders'].value_counts().values)\n",
    "plt.title(\"Cylinders Distribution\")\n",
    "plt.xlabel(\"Frequency\")\n",
    "plt.ylabel(\"Cylinders\")\n",
    "plt.show();\n",
    "\n",
    "# See the distribution of unique values in the 'paint_color' column:\n",
    "plt.figure()\n",
    "plt.barh(df_work2['paint_color'].value_counts().index, \n",
    "         df_work2['paint_color'].value_counts().values)\n",
    "plt.title(\"Paint Color Distribution\")\n",
    "plt.xlabel(\"Frequency\")\n",
    "plt.ylabel(\"Paint Color\")\n",
    "plt.show();\n",
    "\n",
    "# See the distribution of unique values in the 'drive' column:\n",
    "plt.figure()\n",
    "plt.barh(df_work2['drive'].value_counts().index, \n",
    "         df_work2['drive'].value_counts().values)\n",
    "plt.title(\"Drive Distribution\")\n",
    "plt.xlabel(\"Frequency\")\n",
    "plt.ylabel(\"Drive\")\n",
    "plt.show();\n",
    "\n",
    "# See the distribution of unique values in the 'type' column:\n",
    "plt.figure()\n",
    "plt.barh(df_work2['type'].value_counts().index, \n",
    "         df_work2['type'].value_counts().values)\n",
    "plt.title(\"Type Distribution\")\n",
    "plt.xlabel(\"Frequency\")\n",
    "plt.ylabel(\"Type\")\n",
    "plt.show();\n",
    "\n",
    "# See the distribution of unique values in the 'manufacturer' column:\n",
    "plt.figure()\n",
    "plt.barh(df_work2['manufacturer'].value_counts().index, \n",
    "         df_work2['manufacturer'].value_counts().values)\n",
    "plt.title(\"Manufacturer Distribution\")\n",
    "plt.xlabel(\"Frequency\")\n",
    "plt.ylabel(\"Manufacturer\")\n",
    "plt.show();"
   ]
  },
  {
   "cell_type": "markdown",
   "metadata": {},
   "source": [
    "As we can see from the distribution charts above, we have few dominant values in each column, thus, assigning missing values as the most frequent value within the column would actually impose bias towards our model, especially when we the percentage of missing values is high (from 18% to 38%). Thus, it was decided to assign those missing values as a separate value. "
   ]
  },
  {
   "cell_type": "code",
   "execution_count": 37,
   "metadata": {},
   "outputs": [
    {
     "data": {
      "text/plain": [
       "long            0.807338\n",
       "lat             0.807338\n",
       "paint_color     0.000000\n",
       "type            0.000000\n",
       "drive           0.000000\n",
       "transmission    0.000000\n",
       "title_status    0.000000\n",
       "odometer        0.000000\n",
       "fuel            0.000000\n",
       "cylinders       0.000000\n",
       "condition       0.000000\n",
       "manufacturer    0.000000\n",
       "year            0.000000\n",
       "price           0.000000\n",
       "dtype: float64"
      ]
     },
     "execution_count": 37,
     "metadata": {},
     "output_type": "execute_result"
    }
   ],
   "source": [
    "# Filling in missing values with new 'missing' name:\n",
    "df_work2['condition'].fillna('missing', inplace=True)\n",
    "df_work2['cylinders'].fillna('missing', inplace=True)\n",
    "df_work2['paint_color'].fillna('missing', inplace=True)\n",
    "df_work2['drive'].fillna('missing', inplace=True)\n",
    "df_work2['type'].fillna('missing', inplace=True)\n",
    "df_work2['manufacturer'].fillna('missing', inplace=True)\n",
    "\n",
    "# Double check what percentage of each column has missing values, and sort in descending order:\n",
    "(np.mean(df_work2.isna()).sort_values(ascending = False))*100"
   ]
  },
  {
   "cell_type": "code",
   "execution_count": 38,
   "metadata": {},
   "outputs": [
    {
     "data": {
      "text/plain": [
       "long            0.0\n",
       "lat             0.0\n",
       "paint_color     0.0\n",
       "type            0.0\n",
       "drive           0.0\n",
       "transmission    0.0\n",
       "title_status    0.0\n",
       "odometer        0.0\n",
       "fuel            0.0\n",
       "cylinders       0.0\n",
       "condition       0.0\n",
       "manufacturer    0.0\n",
       "year            0.0\n",
       "price           0.0\n",
       "dtype: float64"
      ]
     },
     "execution_count": 38,
     "metadata": {},
     "output_type": "execute_result"
    }
   ],
   "source": [
    "# Let's drop na values of lat and long columns, as they are less than 1%:\n",
    "df_work2.dropna(subset=['lat'], inplace=True)\n",
    "df_work2.dropna(subset=['long'], inplace=True)\n",
    "\n",
    "# Double check what percentage of each column has missing values, and sort in descending order:\n",
    "(np.mean(df_work2.isna()).sort_values(ascending = False))*100"
   ]
  },
  {
   "cell_type": "code",
   "execution_count": 39,
   "metadata": {},
   "outputs": [
    {
     "name": "stdout",
     "output_type": "stream",
     "text": [
      "<class 'pandas.core.frame.DataFrame'>\n",
      "Int64Index: 366257 entries, 0 to 539758\n",
      "Data columns (total 14 columns):\n",
      "price           366257 non-null int64\n",
      "year            366257 non-null float64\n",
      "manufacturer    366257 non-null object\n",
      "condition       366257 non-null object\n",
      "cylinders       366257 non-null object\n",
      "fuel            366257 non-null object\n",
      "odometer        366257 non-null float64\n",
      "title_status    366257 non-null object\n",
      "transmission    366257 non-null object\n",
      "drive           366257 non-null object\n",
      "type            366257 non-null object\n",
      "paint_color     366257 non-null object\n",
      "lat             366257 non-null float64\n",
      "long            366257 non-null float64\n",
      "dtypes: float64(4), int64(1), object(9)\n",
      "memory usage: 41.9+ MB\n"
     ]
    }
   ],
   "source": [
    "df_work2.info()"
   ]
  },
  {
   "cell_type": "code",
   "execution_count": 40,
   "metadata": {},
   "outputs": [
    {
     "name": "stdout",
     "output_type": "stream",
     "text": [
      "(366257, 110)\n"
     ]
    },
    {
     "data": {
      "text/html": [
       "<div>\n",
       "<style scoped>\n",
       "    .dataframe tbody tr th:only-of-type {\n",
       "        vertical-align: middle;\n",
       "    }\n",
       "\n",
       "    .dataframe tbody tr th {\n",
       "        vertical-align: top;\n",
       "    }\n",
       "\n",
       "    .dataframe thead th {\n",
       "        text-align: right;\n",
       "    }\n",
       "</style>\n",
       "<table border=\"1\" class=\"dataframe\">\n",
       "  <thead>\n",
       "    <tr style=\"text-align: right;\">\n",
       "      <th></th>\n",
       "      <th>price</th>\n",
       "      <th>year</th>\n",
       "      <th>odometer</th>\n",
       "      <th>lat</th>\n",
       "      <th>long</th>\n",
       "      <th>manufacturer_acura</th>\n",
       "      <th>manufacturer_alfa-romeo</th>\n",
       "      <th>manufacturer_aston-martin</th>\n",
       "      <th>manufacturer_audi</th>\n",
       "      <th>manufacturer_bmw</th>\n",
       "      <th>...</th>\n",
       "      <th>paint_color_custom</th>\n",
       "      <th>paint_color_green</th>\n",
       "      <th>paint_color_grey</th>\n",
       "      <th>paint_color_missing</th>\n",
       "      <th>paint_color_orange</th>\n",
       "      <th>paint_color_purple</th>\n",
       "      <th>paint_color_red</th>\n",
       "      <th>paint_color_silver</th>\n",
       "      <th>paint_color_white</th>\n",
       "      <th>paint_color_yellow</th>\n",
       "    </tr>\n",
       "  </thead>\n",
       "  <tbody>\n",
       "    <tr>\n",
       "      <th>0</th>\n",
       "      <td>10299</td>\n",
       "      <td>2012.0</td>\n",
       "      <td>90186.0</td>\n",
       "      <td>35.7636</td>\n",
       "      <td>-78.7443</td>\n",
       "      <td>1</td>\n",
       "      <td>0</td>\n",
       "      <td>0</td>\n",
       "      <td>0</td>\n",
       "      <td>0</td>\n",
       "      <td>...</td>\n",
       "      <td>0</td>\n",
       "      <td>0</td>\n",
       "      <td>0</td>\n",
       "      <td>0</td>\n",
       "      <td>0</td>\n",
       "      <td>0</td>\n",
       "      <td>0</td>\n",
       "      <td>0</td>\n",
       "      <td>0</td>\n",
       "      <td>0</td>\n",
       "    </tr>\n",
       "    <tr>\n",
       "      <th>2</th>\n",
       "      <td>9500</td>\n",
       "      <td>2011.0</td>\n",
       "      <td>85000.0</td>\n",
       "      <td>36.1032</td>\n",
       "      <td>-79.8794</td>\n",
       "      <td>0</td>\n",
       "      <td>0</td>\n",
       "      <td>0</td>\n",
       "      <td>0</td>\n",
       "      <td>0</td>\n",
       "      <td>...</td>\n",
       "      <td>0</td>\n",
       "      <td>0</td>\n",
       "      <td>0</td>\n",
       "      <td>0</td>\n",
       "      <td>0</td>\n",
       "      <td>0</td>\n",
       "      <td>0</td>\n",
       "      <td>0</td>\n",
       "      <td>0</td>\n",
       "      <td>0</td>\n",
       "    </tr>\n",
       "    <tr>\n",
       "      <th>3</th>\n",
       "      <td>3995</td>\n",
       "      <td>2004.0</td>\n",
       "      <td>212526.0</td>\n",
       "      <td>35.7636</td>\n",
       "      <td>-78.7443</td>\n",
       "      <td>0</td>\n",
       "      <td>0</td>\n",
       "      <td>0</td>\n",
       "      <td>0</td>\n",
       "      <td>0</td>\n",
       "      <td>...</td>\n",
       "      <td>0</td>\n",
       "      <td>0</td>\n",
       "      <td>0</td>\n",
       "      <td>0</td>\n",
       "      <td>1</td>\n",
       "      <td>0</td>\n",
       "      <td>0</td>\n",
       "      <td>0</td>\n",
       "      <td>0</td>\n",
       "      <td>0</td>\n",
       "    </tr>\n",
       "    <tr>\n",
       "      <th>5</th>\n",
       "      <td>12995</td>\n",
       "      <td>2015.0</td>\n",
       "      <td>85127.0</td>\n",
       "      <td>35.7636</td>\n",
       "      <td>-78.7443</td>\n",
       "      <td>0</td>\n",
       "      <td>0</td>\n",
       "      <td>0</td>\n",
       "      <td>0</td>\n",
       "      <td>0</td>\n",
       "      <td>...</td>\n",
       "      <td>0</td>\n",
       "      <td>0</td>\n",
       "      <td>0</td>\n",
       "      <td>1</td>\n",
       "      <td>0</td>\n",
       "      <td>0</td>\n",
       "      <td>0</td>\n",
       "      <td>0</td>\n",
       "      <td>0</td>\n",
       "      <td>0</td>\n",
       "    </tr>\n",
       "    <tr>\n",
       "      <th>6</th>\n",
       "      <td>10995</td>\n",
       "      <td>2014.0</td>\n",
       "      <td>112383.0</td>\n",
       "      <td>35.7636</td>\n",
       "      <td>-78.7443</td>\n",
       "      <td>0</td>\n",
       "      <td>0</td>\n",
       "      <td>0</td>\n",
       "      <td>0</td>\n",
       "      <td>0</td>\n",
       "      <td>...</td>\n",
       "      <td>0</td>\n",
       "      <td>0</td>\n",
       "      <td>0</td>\n",
       "      <td>0</td>\n",
       "      <td>0</td>\n",
       "      <td>0</td>\n",
       "      <td>0</td>\n",
       "      <td>0</td>\n",
       "      <td>0</td>\n",
       "      <td>0</td>\n",
       "    </tr>\n",
       "  </tbody>\n",
       "</table>\n",
       "<p>5 rows × 110 columns</p>\n",
       "</div>"
      ],
      "text/plain": [
       "   price    year  odometer      lat     long  manufacturer_acura  \\\n",
       "0  10299  2012.0   90186.0  35.7636 -78.7443                   1   \n",
       "2   9500  2011.0   85000.0  36.1032 -79.8794                   0   \n",
       "3   3995  2004.0  212526.0  35.7636 -78.7443                   0   \n",
       "5  12995  2015.0   85127.0  35.7636 -78.7443                   0   \n",
       "6  10995  2014.0  112383.0  35.7636 -78.7443                   0   \n",
       "\n",
       "   manufacturer_alfa-romeo  manufacturer_aston-martin  manufacturer_audi  \\\n",
       "0                        0                          0                  0   \n",
       "2                        0                          0                  0   \n",
       "3                        0                          0                  0   \n",
       "5                        0                          0                  0   \n",
       "6                        0                          0                  0   \n",
       "\n",
       "   manufacturer_bmw  ...  paint_color_custom  paint_color_green  \\\n",
       "0                 0  ...                   0                  0   \n",
       "2                 0  ...                   0                  0   \n",
       "3                 0  ...                   0                  0   \n",
       "5                 0  ...                   0                  0   \n",
       "6                 0  ...                   0                  0   \n",
       "\n",
       "   paint_color_grey  paint_color_missing  paint_color_orange  \\\n",
       "0                 0                    0                   0   \n",
       "2                 0                    0                   0   \n",
       "3                 0                    0                   1   \n",
       "5                 0                    1                   0   \n",
       "6                 0                    0                   0   \n",
       "\n",
       "   paint_color_purple  paint_color_red  paint_color_silver  paint_color_white  \\\n",
       "0                   0                0                   0                  0   \n",
       "2                   0                0                   0                  0   \n",
       "3                   0                0                   0                  0   \n",
       "5                   0                0                   0                  0   \n",
       "6                   0                0                   0                  0   \n",
       "\n",
       "   paint_color_yellow  \n",
       "0                   0  \n",
       "2                   0  \n",
       "3                   0  \n",
       "5                   0  \n",
       "6                   0  \n",
       "\n",
       "[5 rows x 110 columns]"
      ]
     },
     "execution_count": 40,
     "metadata": {},
     "output_type": "execute_result"
    }
   ],
   "source": [
    "# Let's now convert our categorical columns into dummy variables:\n",
    "df_work3 = pd.get_dummies(df_work2)\n",
    "print(df_work3.shape)\n",
    "df_work3.head()"
   ]
  },
  {
   "cell_type": "code",
   "execution_count": 41,
   "metadata": {},
   "outputs": [
    {
     "data": {
      "text/html": [
       "<div>\n",
       "<style scoped>\n",
       "    .dataframe tbody tr th:only-of-type {\n",
       "        vertical-align: middle;\n",
       "    }\n",
       "\n",
       "    .dataframe tbody tr th {\n",
       "        vertical-align: top;\n",
       "    }\n",
       "\n",
       "    .dataframe thead th {\n",
       "        text-align: right;\n",
       "    }\n",
       "</style>\n",
       "<table border=\"1\" class=\"dataframe\">\n",
       "  <thead>\n",
       "    <tr style=\"text-align: right;\">\n",
       "      <th></th>\n",
       "      <th>price</th>\n",
       "      <th>year</th>\n",
       "      <th>odometer</th>\n",
       "      <th>lat</th>\n",
       "      <th>long</th>\n",
       "      <th>manufacturer_acura</th>\n",
       "      <th>manufacturer_alfa-romeo</th>\n",
       "      <th>manufacturer_aston-martin</th>\n",
       "      <th>manufacturer_audi</th>\n",
       "      <th>manufacturer_bmw</th>\n",
       "      <th>...</th>\n",
       "      <th>paint_color_custom</th>\n",
       "      <th>paint_color_green</th>\n",
       "      <th>paint_color_grey</th>\n",
       "      <th>paint_color_missing</th>\n",
       "      <th>paint_color_orange</th>\n",
       "      <th>paint_color_purple</th>\n",
       "      <th>paint_color_red</th>\n",
       "      <th>paint_color_silver</th>\n",
       "      <th>paint_color_white</th>\n",
       "      <th>paint_color_yellow</th>\n",
       "    </tr>\n",
       "  </thead>\n",
       "  <tbody>\n",
       "    <tr>\n",
       "      <th>0</th>\n",
       "      <td>10299</td>\n",
       "      <td>2012.0</td>\n",
       "      <td>90186.0</td>\n",
       "      <td>35.7636</td>\n",
       "      <td>-78.7443</td>\n",
       "      <td>1</td>\n",
       "      <td>0</td>\n",
       "      <td>0</td>\n",
       "      <td>0</td>\n",
       "      <td>0</td>\n",
       "      <td>...</td>\n",
       "      <td>0</td>\n",
       "      <td>0</td>\n",
       "      <td>0</td>\n",
       "      <td>0</td>\n",
       "      <td>0</td>\n",
       "      <td>0</td>\n",
       "      <td>0</td>\n",
       "      <td>0</td>\n",
       "      <td>0</td>\n",
       "      <td>0</td>\n",
       "    </tr>\n",
       "    <tr>\n",
       "      <th>2</th>\n",
       "      <td>9500</td>\n",
       "      <td>2011.0</td>\n",
       "      <td>85000.0</td>\n",
       "      <td>36.1032</td>\n",
       "      <td>-79.8794</td>\n",
       "      <td>0</td>\n",
       "      <td>0</td>\n",
       "      <td>0</td>\n",
       "      <td>0</td>\n",
       "      <td>0</td>\n",
       "      <td>...</td>\n",
       "      <td>0</td>\n",
       "      <td>0</td>\n",
       "      <td>0</td>\n",
       "      <td>0</td>\n",
       "      <td>0</td>\n",
       "      <td>0</td>\n",
       "      <td>0</td>\n",
       "      <td>0</td>\n",
       "      <td>0</td>\n",
       "      <td>0</td>\n",
       "    </tr>\n",
       "    <tr>\n",
       "      <th>3</th>\n",
       "      <td>3995</td>\n",
       "      <td>2004.0</td>\n",
       "      <td>212526.0</td>\n",
       "      <td>35.7636</td>\n",
       "      <td>-78.7443</td>\n",
       "      <td>0</td>\n",
       "      <td>0</td>\n",
       "      <td>0</td>\n",
       "      <td>0</td>\n",
       "      <td>0</td>\n",
       "      <td>...</td>\n",
       "      <td>0</td>\n",
       "      <td>0</td>\n",
       "      <td>0</td>\n",
       "      <td>0</td>\n",
       "      <td>1</td>\n",
       "      <td>0</td>\n",
       "      <td>0</td>\n",
       "      <td>0</td>\n",
       "      <td>0</td>\n",
       "      <td>0</td>\n",
       "    </tr>\n",
       "    <tr>\n",
       "      <th>5</th>\n",
       "      <td>12995</td>\n",
       "      <td>2015.0</td>\n",
       "      <td>85127.0</td>\n",
       "      <td>35.7636</td>\n",
       "      <td>-78.7443</td>\n",
       "      <td>0</td>\n",
       "      <td>0</td>\n",
       "      <td>0</td>\n",
       "      <td>0</td>\n",
       "      <td>0</td>\n",
       "      <td>...</td>\n",
       "      <td>0</td>\n",
       "      <td>0</td>\n",
       "      <td>0</td>\n",
       "      <td>1</td>\n",
       "      <td>0</td>\n",
       "      <td>0</td>\n",
       "      <td>0</td>\n",
       "      <td>0</td>\n",
       "      <td>0</td>\n",
       "      <td>0</td>\n",
       "    </tr>\n",
       "    <tr>\n",
       "      <th>6</th>\n",
       "      <td>10995</td>\n",
       "      <td>2014.0</td>\n",
       "      <td>112383.0</td>\n",
       "      <td>35.7636</td>\n",
       "      <td>-78.7443</td>\n",
       "      <td>0</td>\n",
       "      <td>0</td>\n",
       "      <td>0</td>\n",
       "      <td>0</td>\n",
       "      <td>0</td>\n",
       "      <td>...</td>\n",
       "      <td>0</td>\n",
       "      <td>0</td>\n",
       "      <td>0</td>\n",
       "      <td>0</td>\n",
       "      <td>0</td>\n",
       "      <td>0</td>\n",
       "      <td>0</td>\n",
       "      <td>0</td>\n",
       "      <td>0</td>\n",
       "      <td>0</td>\n",
       "    </tr>\n",
       "  </tbody>\n",
       "</table>\n",
       "<p>5 rows × 110 columns</p>\n",
       "</div>"
      ],
      "text/plain": [
       "   price    year  odometer      lat     long  manufacturer_acura  \\\n",
       "0  10299  2012.0   90186.0  35.7636 -78.7443                   1   \n",
       "2   9500  2011.0   85000.0  36.1032 -79.8794                   0   \n",
       "3   3995  2004.0  212526.0  35.7636 -78.7443                   0   \n",
       "5  12995  2015.0   85127.0  35.7636 -78.7443                   0   \n",
       "6  10995  2014.0  112383.0  35.7636 -78.7443                   0   \n",
       "\n",
       "   manufacturer_alfa-romeo  manufacturer_aston-martin  manufacturer_audi  \\\n",
       "0                        0                          0                  0   \n",
       "2                        0                          0                  0   \n",
       "3                        0                          0                  0   \n",
       "5                        0                          0                  0   \n",
       "6                        0                          0                  0   \n",
       "\n",
       "   manufacturer_bmw  ...  paint_color_custom  paint_color_green  \\\n",
       "0                 0  ...                   0                  0   \n",
       "2                 0  ...                   0                  0   \n",
       "3                 0  ...                   0                  0   \n",
       "5                 0  ...                   0                  0   \n",
       "6                 0  ...                   0                  0   \n",
       "\n",
       "   paint_color_grey  paint_color_missing  paint_color_orange  \\\n",
       "0                 0                    0                   0   \n",
       "2                 0                    0                   0   \n",
       "3                 0                    0                   1   \n",
       "5                 0                    1                   0   \n",
       "6                 0                    0                   0   \n",
       "\n",
       "   paint_color_purple  paint_color_red  paint_color_silver  paint_color_white  \\\n",
       "0                   0                0                   0                  0   \n",
       "2                   0                0                   0                  0   \n",
       "3                   0                0                   0                  0   \n",
       "5                   0                0                   0                  0   \n",
       "6                   0                0                   0                  0   \n",
       "\n",
       "   paint_color_yellow  \n",
       "0                   0  \n",
       "2                   0  \n",
       "3                   0  \n",
       "5                   0  \n",
       "6                   0  \n",
       "\n",
       "[5 rows x 110 columns]"
      ]
     },
     "execution_count": 41,
     "metadata": {},
     "output_type": "execute_result"
    }
   ],
   "source": [
    "# Let's remove all the spaces within column names and make them all lowercase (in case if there are some uppercase letters):\n",
    "df_work3.columns = df_work3.columns.str.replace(' ', '_')\n",
    "df_work3.columns = map(str.lower, df_work3.columns)\n",
    "df_work3.head()"
   ]
  },
  {
   "cell_type": "code",
   "execution_count": 42,
   "metadata": {},
   "outputs": [
    {
     "data": {
      "text/html": [
       "<div>\n",
       "<style scoped>\n",
       "    .dataframe tbody tr th:only-of-type {\n",
       "        vertical-align: middle;\n",
       "    }\n",
       "\n",
       "    .dataframe tbody tr th {\n",
       "        vertical-align: top;\n",
       "    }\n",
       "\n",
       "    .dataframe thead th {\n",
       "        text-align: right;\n",
       "    }\n",
       "</style>\n",
       "<table border=\"1\" class=\"dataframe\">\n",
       "  <thead>\n",
       "    <tr style=\"text-align: right;\">\n",
       "      <th></th>\n",
       "      <th>price</th>\n",
       "      <th>year</th>\n",
       "      <th>odometer</th>\n",
       "      <th>lat</th>\n",
       "      <th>long</th>\n",
       "      <th>manufacturer_acura</th>\n",
       "      <th>manufacturer_alfa-romeo</th>\n",
       "      <th>manufacturer_aston-martin</th>\n",
       "      <th>manufacturer_audi</th>\n",
       "      <th>manufacturer_bmw</th>\n",
       "      <th>...</th>\n",
       "      <th>paint_color_custom</th>\n",
       "      <th>paint_color_green</th>\n",
       "      <th>paint_color_grey</th>\n",
       "      <th>paint_color_missing</th>\n",
       "      <th>paint_color_orange</th>\n",
       "      <th>paint_color_purple</th>\n",
       "      <th>paint_color_red</th>\n",
       "      <th>paint_color_silver</th>\n",
       "      <th>paint_color_white</th>\n",
       "      <th>paint_color_yellow</th>\n",
       "    </tr>\n",
       "  </thead>\n",
       "  <tbody>\n",
       "    <tr>\n",
       "      <th>0</th>\n",
       "      <td>10299</td>\n",
       "      <td>2012.0</td>\n",
       "      <td>90186.0</td>\n",
       "      <td>35.7636</td>\n",
       "      <td>-78.7443</td>\n",
       "      <td>1</td>\n",
       "      <td>0</td>\n",
       "      <td>0</td>\n",
       "      <td>0</td>\n",
       "      <td>0</td>\n",
       "      <td>...</td>\n",
       "      <td>0</td>\n",
       "      <td>0</td>\n",
       "      <td>0</td>\n",
       "      <td>0</td>\n",
       "      <td>0</td>\n",
       "      <td>0</td>\n",
       "      <td>0</td>\n",
       "      <td>0</td>\n",
       "      <td>0</td>\n",
       "      <td>0</td>\n",
       "    </tr>\n",
       "    <tr>\n",
       "      <th>1</th>\n",
       "      <td>9500</td>\n",
       "      <td>2011.0</td>\n",
       "      <td>85000.0</td>\n",
       "      <td>36.1032</td>\n",
       "      <td>-79.8794</td>\n",
       "      <td>0</td>\n",
       "      <td>0</td>\n",
       "      <td>0</td>\n",
       "      <td>0</td>\n",
       "      <td>0</td>\n",
       "      <td>...</td>\n",
       "      <td>0</td>\n",
       "      <td>0</td>\n",
       "      <td>0</td>\n",
       "      <td>0</td>\n",
       "      <td>0</td>\n",
       "      <td>0</td>\n",
       "      <td>0</td>\n",
       "      <td>0</td>\n",
       "      <td>0</td>\n",
       "      <td>0</td>\n",
       "    </tr>\n",
       "    <tr>\n",
       "      <th>2</th>\n",
       "      <td>3995</td>\n",
       "      <td>2004.0</td>\n",
       "      <td>212526.0</td>\n",
       "      <td>35.7636</td>\n",
       "      <td>-78.7443</td>\n",
       "      <td>0</td>\n",
       "      <td>0</td>\n",
       "      <td>0</td>\n",
       "      <td>0</td>\n",
       "      <td>0</td>\n",
       "      <td>...</td>\n",
       "      <td>0</td>\n",
       "      <td>0</td>\n",
       "      <td>0</td>\n",
       "      <td>0</td>\n",
       "      <td>1</td>\n",
       "      <td>0</td>\n",
       "      <td>0</td>\n",
       "      <td>0</td>\n",
       "      <td>0</td>\n",
       "      <td>0</td>\n",
       "    </tr>\n",
       "    <tr>\n",
       "      <th>3</th>\n",
       "      <td>12995</td>\n",
       "      <td>2015.0</td>\n",
       "      <td>85127.0</td>\n",
       "      <td>35.7636</td>\n",
       "      <td>-78.7443</td>\n",
       "      <td>0</td>\n",
       "      <td>0</td>\n",
       "      <td>0</td>\n",
       "      <td>0</td>\n",
       "      <td>0</td>\n",
       "      <td>...</td>\n",
       "      <td>0</td>\n",
       "      <td>0</td>\n",
       "      <td>0</td>\n",
       "      <td>1</td>\n",
       "      <td>0</td>\n",
       "      <td>0</td>\n",
       "      <td>0</td>\n",
       "      <td>0</td>\n",
       "      <td>0</td>\n",
       "      <td>0</td>\n",
       "    </tr>\n",
       "    <tr>\n",
       "      <th>4</th>\n",
       "      <td>10995</td>\n",
       "      <td>2014.0</td>\n",
       "      <td>112383.0</td>\n",
       "      <td>35.7636</td>\n",
       "      <td>-78.7443</td>\n",
       "      <td>0</td>\n",
       "      <td>0</td>\n",
       "      <td>0</td>\n",
       "      <td>0</td>\n",
       "      <td>0</td>\n",
       "      <td>...</td>\n",
       "      <td>0</td>\n",
       "      <td>0</td>\n",
       "      <td>0</td>\n",
       "      <td>0</td>\n",
       "      <td>0</td>\n",
       "      <td>0</td>\n",
       "      <td>0</td>\n",
       "      <td>0</td>\n",
       "      <td>0</td>\n",
       "      <td>0</td>\n",
       "    </tr>\n",
       "    <tr>\n",
       "      <th>...</th>\n",
       "      <td>...</td>\n",
       "      <td>...</td>\n",
       "      <td>...</td>\n",
       "      <td>...</td>\n",
       "      <td>...</td>\n",
       "      <td>...</td>\n",
       "      <td>...</td>\n",
       "      <td>...</td>\n",
       "      <td>...</td>\n",
       "      <td>...</td>\n",
       "      <td>...</td>\n",
       "      <td>...</td>\n",
       "      <td>...</td>\n",
       "      <td>...</td>\n",
       "      <td>...</td>\n",
       "      <td>...</td>\n",
       "      <td>...</td>\n",
       "      <td>...</td>\n",
       "      <td>...</td>\n",
       "      <td>...</td>\n",
       "      <td>...</td>\n",
       "    </tr>\n",
       "    <tr>\n",
       "      <th>366252</th>\n",
       "      <td>12955</td>\n",
       "      <td>2015.0</td>\n",
       "      <td>74508.0</td>\n",
       "      <td>35.7636</td>\n",
       "      <td>-78.7443</td>\n",
       "      <td>0</td>\n",
       "      <td>0</td>\n",
       "      <td>0</td>\n",
       "      <td>0</td>\n",
       "      <td>0</td>\n",
       "      <td>...</td>\n",
       "      <td>0</td>\n",
       "      <td>0</td>\n",
       "      <td>0</td>\n",
       "      <td>1</td>\n",
       "      <td>0</td>\n",
       "      <td>0</td>\n",
       "      <td>0</td>\n",
       "      <td>0</td>\n",
       "      <td>0</td>\n",
       "      <td>0</td>\n",
       "    </tr>\n",
       "    <tr>\n",
       "      <th>366253</th>\n",
       "      <td>13995</td>\n",
       "      <td>2016.0</td>\n",
       "      <td>97545.0</td>\n",
       "      <td>35.7636</td>\n",
       "      <td>-78.7443</td>\n",
       "      <td>0</td>\n",
       "      <td>0</td>\n",
       "      <td>0</td>\n",
       "      <td>0</td>\n",
       "      <td>0</td>\n",
       "      <td>...</td>\n",
       "      <td>0</td>\n",
       "      <td>0</td>\n",
       "      <td>0</td>\n",
       "      <td>0</td>\n",
       "      <td>0</td>\n",
       "      <td>0</td>\n",
       "      <td>0</td>\n",
       "      <td>1</td>\n",
       "      <td>0</td>\n",
       "      <td>0</td>\n",
       "    </tr>\n",
       "    <tr>\n",
       "      <th>366254</th>\n",
       "      <td>10995</td>\n",
       "      <td>2010.0</td>\n",
       "      <td>80328.0</td>\n",
       "      <td>35.7636</td>\n",
       "      <td>-78.7443</td>\n",
       "      <td>0</td>\n",
       "      <td>0</td>\n",
       "      <td>0</td>\n",
       "      <td>0</td>\n",
       "      <td>1</td>\n",
       "      <td>...</td>\n",
       "      <td>0</td>\n",
       "      <td>0</td>\n",
       "      <td>0</td>\n",
       "      <td>0</td>\n",
       "      <td>0</td>\n",
       "      <td>0</td>\n",
       "      <td>0</td>\n",
       "      <td>0</td>\n",
       "      <td>0</td>\n",
       "      <td>0</td>\n",
       "    </tr>\n",
       "    <tr>\n",
       "      <th>366255</th>\n",
       "      <td>6495</td>\n",
       "      <td>2015.0</td>\n",
       "      <td>83521.0</td>\n",
       "      <td>35.7636</td>\n",
       "      <td>-78.7443</td>\n",
       "      <td>0</td>\n",
       "      <td>0</td>\n",
       "      <td>0</td>\n",
       "      <td>0</td>\n",
       "      <td>0</td>\n",
       "      <td>...</td>\n",
       "      <td>0</td>\n",
       "      <td>0</td>\n",
       "      <td>0</td>\n",
       "      <td>0</td>\n",
       "      <td>0</td>\n",
       "      <td>0</td>\n",
       "      <td>1</td>\n",
       "      <td>0</td>\n",
       "      <td>0</td>\n",
       "      <td>0</td>\n",
       "    </tr>\n",
       "    <tr>\n",
       "      <th>366256</th>\n",
       "      <td>8990</td>\n",
       "      <td>2008.0</td>\n",
       "      <td>168000.0</td>\n",
       "      <td>46.4500</td>\n",
       "      <td>-95.1247</td>\n",
       "      <td>0</td>\n",
       "      <td>0</td>\n",
       "      <td>0</td>\n",
       "      <td>0</td>\n",
       "      <td>0</td>\n",
       "      <td>...</td>\n",
       "      <td>0</td>\n",
       "      <td>0</td>\n",
       "      <td>0</td>\n",
       "      <td>0</td>\n",
       "      <td>0</td>\n",
       "      <td>0</td>\n",
       "      <td>0</td>\n",
       "      <td>0</td>\n",
       "      <td>1</td>\n",
       "      <td>0</td>\n",
       "    </tr>\n",
       "  </tbody>\n",
       "</table>\n",
       "<p>366257 rows × 110 columns</p>\n",
       "</div>"
      ],
      "text/plain": [
       "        price    year  odometer      lat     long  manufacturer_acura  \\\n",
       "0       10299  2012.0   90186.0  35.7636 -78.7443                   1   \n",
       "1        9500  2011.0   85000.0  36.1032 -79.8794                   0   \n",
       "2        3995  2004.0  212526.0  35.7636 -78.7443                   0   \n",
       "3       12995  2015.0   85127.0  35.7636 -78.7443                   0   \n",
       "4       10995  2014.0  112383.0  35.7636 -78.7443                   0   \n",
       "...       ...     ...       ...      ...      ...                 ...   \n",
       "366252  12955  2015.0   74508.0  35.7636 -78.7443                   0   \n",
       "366253  13995  2016.0   97545.0  35.7636 -78.7443                   0   \n",
       "366254  10995  2010.0   80328.0  35.7636 -78.7443                   0   \n",
       "366255   6495  2015.0   83521.0  35.7636 -78.7443                   0   \n",
       "366256   8990  2008.0  168000.0  46.4500 -95.1247                   0   \n",
       "\n",
       "        manufacturer_alfa-romeo  manufacturer_aston-martin  manufacturer_audi  \\\n",
       "0                             0                          0                  0   \n",
       "1                             0                          0                  0   \n",
       "2                             0                          0                  0   \n",
       "3                             0                          0                  0   \n",
       "4                             0                          0                  0   \n",
       "...                         ...                        ...                ...   \n",
       "366252                        0                          0                  0   \n",
       "366253                        0                          0                  0   \n",
       "366254                        0                          0                  0   \n",
       "366255                        0                          0                  0   \n",
       "366256                        0                          0                  0   \n",
       "\n",
       "        manufacturer_bmw  ...  paint_color_custom  paint_color_green  \\\n",
       "0                      0  ...                   0                  0   \n",
       "1                      0  ...                   0                  0   \n",
       "2                      0  ...                   0                  0   \n",
       "3                      0  ...                   0                  0   \n",
       "4                      0  ...                   0                  0   \n",
       "...                  ...  ...                 ...                ...   \n",
       "366252                 0  ...                   0                  0   \n",
       "366253                 0  ...                   0                  0   \n",
       "366254                 1  ...                   0                  0   \n",
       "366255                 0  ...                   0                  0   \n",
       "366256                 0  ...                   0                  0   \n",
       "\n",
       "        paint_color_grey  paint_color_missing  paint_color_orange  \\\n",
       "0                      0                    0                   0   \n",
       "1                      0                    0                   0   \n",
       "2                      0                    0                   1   \n",
       "3                      0                    1                   0   \n",
       "4                      0                    0                   0   \n",
       "...                  ...                  ...                 ...   \n",
       "366252                 0                    1                   0   \n",
       "366253                 0                    0                   0   \n",
       "366254                 0                    0                   0   \n",
       "366255                 0                    0                   0   \n",
       "366256                 0                    0                   0   \n",
       "\n",
       "        paint_color_purple  paint_color_red  paint_color_silver  \\\n",
       "0                        0                0                   0   \n",
       "1                        0                0                   0   \n",
       "2                        0                0                   0   \n",
       "3                        0                0                   0   \n",
       "4                        0                0                   0   \n",
       "...                    ...              ...                 ...   \n",
       "366252                   0                0                   0   \n",
       "366253                   0                0                   1   \n",
       "366254                   0                0                   0   \n",
       "366255                   0                1                   0   \n",
       "366256                   0                0                   0   \n",
       "\n",
       "        paint_color_white  paint_color_yellow  \n",
       "0                       0                   0  \n",
       "1                       0                   0  \n",
       "2                       0                   0  \n",
       "3                       0                   0  \n",
       "4                       0                   0  \n",
       "...                   ...                 ...  \n",
       "366252                  0                   0  \n",
       "366253                  0                   0  \n",
       "366254                  0                   0  \n",
       "366255                  0                   0  \n",
       "366256                  1                   0  \n",
       "\n",
       "[366257 rows x 110 columns]"
      ]
     },
     "execution_count": 42,
     "metadata": {},
     "output_type": "execute_result"
    }
   ],
   "source": [
    "# Resetting index:\n",
    "df_work3 = df_work3.reset_index().drop(columns = ['index']).copy()\n",
    "df_work3"
   ]
  },
  {
   "cell_type": "markdown",
   "metadata": {},
   "source": [
    "Now we have our clean processed dataframe. Let's mone onto the modelling part."
   ]
  },
  {
   "cell_type": "markdown",
   "metadata": {},
   "source": [
    " "
   ]
  },
  {
   "cell_type": "markdown",
   "metadata": {},
   "source": [
    "## Modelling: RandomForestRegressor"
   ]
  },
  {
   "cell_type": "code",
   "execution_count": 53,
   "metadata": {},
   "outputs": [
    {
     "name": "stdout",
     "output_type": "stream",
     "text": [
      "(366257, 109)\n",
      "(366257,)\n"
     ]
    }
   ],
   "source": [
    "# Assigning data (X) and target (y) columns;\n",
    "X = df_work3.loc[:, df_work3.columns != 'price']\n",
    "y = df_work3['price']\n",
    "\n",
    "print(X.shape)\n",
    "print(y.shape)"
   ]
  },
  {
   "cell_type": "code",
   "execution_count": 54,
   "metadata": {},
   "outputs": [],
   "source": [
    "# Let's now split the data into train and test sets:\n",
    "X_train, X_test, y_train, y_test = train_test_split(X, y, test_size = 0.2, random_state=1)"
   ]
  },
  {
   "cell_type": "code",
   "execution_count": 77,
   "metadata": {},
   "outputs": [
    {
     "name": "stdout",
     "output_type": "stream",
     "text": [
      "The mean absolute error of our model is:  1839.133092206612\n",
      "The mean value of the price column is:  14655.96683749389\n",
      "The train set R2 of our model is:  0.9838\n",
      "The test set R2 of our model is:  0.8843\n"
     ]
    }
   ],
   "source": [
    "# Creating our model:\n",
    "from sklearn.ensemble import RandomForestRegressor\n",
    "from sklearn.metrics import mean_absolute_error as mae\n",
    "\n",
    "RF = RandomForestRegressor(n_estimators=300, max_depth=45, random_state=1)\n",
    "RF.fit(X_train, y_train)\n",
    "y_pred = RF.predict(X_test)\n",
    "\n",
    "# R2 score check (with n_estimators=300, max_depth=45):\n",
    "print(\"The mean absolute error of our model is: \", mae(y_test, y_pred))\n",
    "print(\"The mean value of the price column is: \", df_work3['price'].mean())\n",
    "print(\"The train set R2 of our model is: \", round(RF.score(X_train,y_train),4))\n",
    "print(\"The test set R2 of our model is: \", round(RF.score(X_test,y_test),4))"
   ]
  },
  {
   "cell_type": "code",
   "execution_count": 56,
   "metadata": {},
   "outputs": [
    {
     "name": "stdout",
     "output_type": "stream",
     "text": [
      "The mean absolute error of our model is:  1836.6989216566906\n",
      "The mean value of the price column is:  14655.96683749389\n",
      "The train set R2 of our model is:  0.984\n",
      "The test set R2 of our model is:  0.8843\n"
     ]
    }
   ],
   "source": []
  },
  {
   "cell_type": "code",
   "execution_count": 180,
   "metadata": {},
   "outputs": [
    {
     "name": "stdout",
     "output_type": "stream",
     "text": [
      "The mean absolute error of our model is:  1846.9223123938261\n",
      "The mean value of the price column is:  14655.96683749389\n",
      "The train set R2 of our model is:  0.9835\n",
      "The test set R2 of our model is:  0.8833\n"
     ]
    }
   ],
   "source": [
    "# R2 score check (with default n_estimators):\n",
    "print(\"The mean absolute error of our model is: \", mae(y_test, y_pred))\n",
    "print(\"The mean value of the price column is: \", df_work3['price'].mean())\n",
    "print(\"The train set R2 of our model is: \", round(RF.score(X_train,y_train),4))\n",
    "print(\"The test set R2 of our model is: \", round(RF.score(X_test,y_test),4))"
   ]
  },
  {
   "cell_type": "markdown",
   "metadata": {},
   "source": [
    "### Hyperparameter Optimization: RandomForestRegressor"
   ]
  },
  {
   "cell_type": "markdown",
   "metadata": {},
   "source": [
    "Before processing our data onwards, let's actually divide our dataframe into remainder and test sets, so that we could use validation sets further:"
   ]
  },
  {
   "cell_type": "code",
   "execution_count": 64,
   "metadata": {},
   "outputs": [
    {
     "name": "stdout",
     "output_type": "stream",
     "text": [
      "(293005, 110)\n",
      "(73252, 110)\n"
     ]
    }
   ],
   "source": [
    "# Let's split our dataframe into two sets, the remainder set (which will be train+validation combination) and test set:\n",
    "df_remainder, df_test = train_test_split(df_work3, test_size=0.2, random_state=1)\n",
    "\n",
    "print(df_remainder.shape)\n",
    "print(df_test.shape)"
   ]
  },
  {
   "cell_type": "code",
   "execution_count": 65,
   "metadata": {},
   "outputs": [
    {
     "name": "stdout",
     "output_type": "stream",
     "text": [
      "(87902, 109)\n",
      "(87902,)\n"
     ]
    }
   ],
   "source": [
    "# Let's actually create a subset of our dataframe, and see how different hyperparameters of RandomForestRegressor model affect our R2 score:\n",
    "df_RF_small = df_remainder.sample(frac=0.3, random_state=1)\n",
    "\n",
    "# Assigning data (X) and target (y) columns;\n",
    "X_small = df_RF_small.loc[:, df_RF_small.columns != 'price']\n",
    "y_small = df_RF_small['price']\n",
    "\n",
    "print(X_small.shape)\n",
    "print(y_small.shape)"
   ]
  },
  {
   "cell_type": "code",
   "execution_count": null,
   "metadata": {},
   "outputs": [],
   "source": [
    "# Let's see how different hyperparameters of RandomForestRegressor model affect our R2 score:\n",
    "\n",
    "# Assigning data (X) and target (y) columns;\n",
    "#X_remainder = df_remainder.loc[:, df_remainder.columns != 'price']\n",
    "#y_remainder = df_remainder['price']\n",
    "\n",
    "#print(X_remainder.shape)\n",
    "#print(y_remainder.shape)"
   ]
  },
  {
   "cell_type": "code",
   "execution_count": 66,
   "metadata": {},
   "outputs": [],
   "source": [
    "# Let's now split the data into train and validation sets:\n",
    "X_train_RF, X_valid_RF, y_train_RF, y_valid_RF = train_test_split(X_small, y_small, test_size = 0.2, random_state=1)"
   ]
  },
  {
   "cell_type": "code",
   "execution_count": null,
   "metadata": {},
   "outputs": [],
   "source": [
    "# Let's now split the data into train and validation sets:\n",
    "#X_train_RF, X_valid_RF, y_train_RF, y_valid_RF = train_test_split(X_remainder, y_remainder, test_size = 0.2, random_state=1)"
   ]
  },
  {
   "cell_type": "code",
   "execution_count": 174,
   "metadata": {},
   "outputs": [
    {
     "name": "stdout",
     "output_type": "stream",
     "text": [
      "Train set R2 score with n_estimators=10: 0.9668583398483981\n",
      "Validation set R2 score with n_estimators=10: 0.8170643062808369\n",
      "Train set R2 score with n_estimators=30: 0.9740375551283901\n",
      "Validation set R2 score with n_estimators=30: 0.8287291869307307\n",
      "Train set R2 score with n_estimators=50: 0.9753917382631128\n",
      "Validation set R2 score with n_estimators=50: 0.832983630866087\n",
      "Train set R2 score with n_estimators=70: 0.9759902548448991\n",
      "Validation set R2 score with n_estimators=70: 0.8325311143944291\n",
      "Train set R2 score with n_estimators=90: 0.9763530168139365\n",
      "Validation set R2 score with n_estimators=90: 0.8329316486245295\n",
      "Train set R2 score with n_estimators=100: 0.9763941271253058\n",
      "Validation set R2 score with n_estimators=100: 0.8332629053395791\n",
      "Train set R2 score with n_estimators=120: 0.9766120518540408\n",
      "Validation set R2 score with n_estimators=120: 0.8335563831407076\n",
      "Train set R2 score with n_estimators=140: 0.9766994774597552\n",
      "Validation set R2 score with n_estimators=140: 0.8338894776922902\n",
      "Train set R2 score with n_estimators=160: 0.9768206432872555\n",
      "Validation set R2 score with n_estimators=160: 0.8339611799956307\n",
      "Train set R2 score with n_estimators=180: 0.9768668383854937\n",
      "Validation set R2 score with n_estimators=180: 0.8340467212084474\n",
      "Train set R2 score with n_estimators=200: 0.976947775681745\n",
      "Validation set R2 score with n_estimators=200: 0.8341866685274013\n"
     ]
    }
   ],
   "source": [
    "# Let's now run the RF model with different n_estimators values and see how our R2 scores change:\n",
    "train_scores = []\n",
    "validation_scores = []\n",
    "\n",
    "n_number = [10,30,50,70,90,100,120,140,160, 180, 200] \n",
    "\n",
    "for n in n_number:\n",
    "    \n",
    "    myRF = RandomForestRegressor(n_estimators=n, random_state=1)\n",
    "    myRF.fit(X_train_RF, y_train_RF)\n",
    "    \n",
    "    train_scores.append(myRF.score(X_train_RF, y_train_RF))\n",
    "    validation_scores.append(myRF.score(X_valid_RF, y_valid_RF))\n",
    "    \n",
    "    print(f'Train set R2 score with n_estimators={n}: {myRF.score(X_train_RF, y_train_RF)}')\n",
    "    print(f'Validation set R2 score with n_estimators={n}: {myRF.score(X_valid_RF, y_valid_RF)}')"
   ]
  },
  {
   "cell_type": "code",
   "execution_count": 192,
   "metadata": {
    "scrolled": true
   },
   "outputs": [
    {
     "data": {
      "image/png": "[encoded data removed]",
      "text/plain": [
       "<Figure size 432x288 with 1 Axes>"
      ]
     },
     "metadata": {
      "needs_background": "light"
     },
     "output_type": "display_data"
    }
   ],
   "source": [
    "# Let's plot our results:\n",
    "plt.figure()\n",
    "plt.title(\"R2 Score vs Number of Estimators\")\n",
    "plt.plot(n_number, validation_scores, label=\"Validation\")\n",
    "plt.legend()\n",
    "plt.xlabel(\"Number of Estimators\")\n",
    "plt.ylabel(\"R2 Score\")\n",
    "plt.show()"
   ]
  },
  {
   "cell_type": "code",
   "execution_count": 52,
   "metadata": {},
   "outputs": [
    {
     "name": "stdout",
     "output_type": "stream",
     "text": [
      "Train set R2 score with n_estimators=250: 0.9770410208846118\n",
      "Validation set R2 score with n_estimators=250: 0.8342316127404152\n",
      "Train set R2 score with n_estimators=300: 0.977065980265204\n",
      "Validation set R2 score with n_estimators=300: 0.8344381978148245\n",
      "Train set R2 score with n_estimators=350: 0.9771015970921847\n",
      "Validation set R2 score with n_estimators=350: 0.8344471240523994\n",
      "Train set R2 score with n_estimators=400: 0.9771200041966001\n",
      "Validation set R2 score with n_estimators=400: 0.8343410998726504\n"
     ]
    }
   ],
   "source": [
    "# Let's now run the RF model with different n_estimators values and see how our R2 scores change:\n",
    "train_scores2 = []\n",
    "validation_scores2 = []\n",
    "\n",
    "n_number = [250,300,350,400] \n",
    "\n",
    "for n in n_number:\n",
    "    \n",
    "    myRF = RandomForestRegressor(n_estimators=n, random_state=1)\n",
    "    myRF.fit(X_train_RF, y_train_RF)\n",
    "    \n",
    "    train_scores2.append(myRF.score(X_train_RF, y_train_RF))\n",
    "    validation_scores2.append(myRF.score(X_valid_RF, y_valid_RF))\n",
    "    \n",
    "    print(f'Train set R2 score with n_estimators={n}: {myRF.score(X_train_RF, y_train_RF)}')\n",
    "    print(f'Validation set R2 score with n_estimators={n}: {myRF.score(X_valid_RF, y_valid_RF)}')"
   ]
  },
  {
   "cell_type": "code",
   "execution_count": 71,
   "metadata": {
    "scrolled": true
   },
   "outputs": [
    {
     "name": "stdout",
     "output_type": "stream",
     "text": [
      "Train set R2 score with max_depth=1: 0.290882284034672\n",
      "Validation set R2 score with max_depth=1: 0.30177363867836865\n",
      "Train set R2 score with max_depth=6: 0.6676997378674955\n",
      "Validation set R2 score with max_depth=6: 0.6681725444978117\n",
      "Train set R2 score with max_depth=11: 0.8085546474562768\n",
      "Validation set R2 score with max_depth=11: 0.7631936140657088\n",
      "Train set R2 score with max_depth=16: 0.9038707124604959\n",
      "Validation set R2 score with max_depth=16: 0.8077243668812129\n",
      "Train set R2 score with max_depth=21: 0.9496816114572361\n",
      "Validation set R2 score with max_depth=21: 0.8245519645240511\n",
      "Train set R2 score with max_depth=26: 0.9679602938834827\n",
      "Validation set R2 score with max_depth=26: 0.8302946788899097\n",
      "Train set R2 score with max_depth=31: 0.9741829671612976\n",
      "Validation set R2 score with max_depth=31: 0.8330724322545423\n",
      "Train set R2 score with max_depth=36: 0.9758879797042355\n",
      "Validation set R2 score with max_depth=36: 0.8330878931682898\n",
      "Train set R2 score with max_depth=41: 0.9763330326862093\n",
      "Validation set R2 score with max_depth=41: 0.8328284993696103\n",
      "Train set R2 score with max_depth=46: 0.9763737775286931\n",
      "Validation set R2 score with max_depth=46: 0.8334445576824145\n",
      "Train set R2 score with max_depth=51: 0.9763784790861442\n",
      "Validation set R2 score with max_depth=51: 0.8329553663194296\n",
      "Train set R2 score with max_depth=56: 0.9764045867879485\n",
      "Validation set R2 score with max_depth=56: 0.8332101357629164\n",
      "Train set R2 score with max_depth=61: 0.9763923931317754\n",
      "Validation set R2 score with max_depth=61: 0.8332271091980284\n",
      "Train set R2 score with max_depth=66: 0.9763935432007312\n",
      "Validation set R2 score with max_depth=66: 0.8332283052638265\n",
      "Train set R2 score with max_depth=71: 0.9763935432007312\n",
      "Validation set R2 score with max_depth=71: 0.8332283052638265\n",
      "Train set R2 score with max_depth=76: 0.9763935432007312\n",
      "Validation set R2 score with max_depth=76: 0.8332283052638265\n",
      "Train set R2 score with max_depth=81: 0.9763935432007312\n",
      "Validation set R2 score with max_depth=81: 0.8332283052638265\n",
      "Train set R2 score with max_depth=86: 0.9763935432007312\n",
      "Validation set R2 score with max_depth=86: 0.8332283052638265\n",
      "Train set R2 score with max_depth=91: 0.9763935432007312\n",
      "Validation set R2 score with max_depth=91: 0.8332283052638265\n",
      "Train set R2 score with max_depth=96: 0.9763935432007312\n",
      "Validation set R2 score with max_depth=96: 0.8332283052638265\n"
     ]
    }
   ],
   "source": [
    "# Let's now run the RF model with different max_depth values and see how our R2 scores change:\n",
    "train_scores_md = []\n",
    "validation_scores_md = []\n",
    "\n",
    "depth = list(range(1,100,5)) \n",
    "\n",
    "for d in depth:\n",
    "    \n",
    "    myRF = RandomForestRegressor(max_depth=d, random_state=1)\n",
    "    myRF.fit(X_train_RF, y_train_RF)\n",
    "    \n",
    "    train_scores_md.append(myRF.score(X_train_RF, y_train_RF))\n",
    "    validation_scores_md.append(myRF.score(X_valid_RF, y_valid_RF))\n",
    "    \n",
    "    print(f'Train set R2 score with max_depth={d}: {myRF.score(X_train_RF, y_train_RF)}')\n",
    "    print(f'Validation set R2 score with max_depth={d}: {myRF.score(X_valid_RF, y_valid_RF)}')"
   ]
  },
  {
   "cell_type": "code",
   "execution_count": 72,
   "metadata": {
    "scrolled": false
   },
   "outputs": [
    {
     "data": {
      "image/png": "[encoded data removed]",
      "text/plain": [
       "<Figure size 432x288 with 1 Axes>"
      ]
     },
     "metadata": {
      "needs_background": "light"
     },
     "output_type": "display_data"
    }
   ],
   "source": [
    "# Let's plot our results:\n",
    "plt.figure()\n",
    "plt.title(\"R2 Score vs Max Depth\")\n",
    "plt.plot(depth, train_scores_md, label=\"Train\")\n",
    "plt.plot(depth, validation_scores_md, label=\"Validation\")\n",
    "plt.legend()\n",
    "plt.xlabel(\"Max Depth\")\n",
    "plt.ylabel(\"R2 Score\")\n",
    "plt.show()"
   ]
  },
  {
   "cell_type": "code",
   "execution_count": 76,
   "metadata": {},
   "outputs": [
    {
     "data": {
      "text/plain": [
       "46"
      ]
     },
     "execution_count": 76,
     "metadata": {},
     "output_type": "execute_result"
    }
   ],
   "source": [
    "#depth[np.argmax(validation_scores_md)]"
   ]
  },
  {
   "cell_type": "markdown",
   "metadata": {},
   "source": [
    "We can see that there is a slight improvement in the R2 score value after our default n_estimator value of 100, but that improvement is not reasonable enough to make the model too computationally heavy. Thus, it was decided to keep using the default value of n_estimator parameter."
   ]
  },
  {
   "cell_type": "markdown",
   "metadata": {},
   "source": [
    " "
   ]
  },
  {
   "cell_type": "markdown",
   "metadata": {},
   "source": [
    "### Multiple Hyperparameter Optimization: RandomForestRegressor"
   ]
  },
  {
   "cell_type": "markdown",
   "metadata": {},
   "source": [
    "Let's now use GridSearchCV to optimize multiple hyperparameters of our model and see if we can increase it's score."
   ]
  },
  {
   "cell_type": "code",
   "execution_count": 193,
   "metadata": {},
   "outputs": [
    {
     "name": "stdout",
     "output_type": "stream",
     "text": [
      "(87902, 109)\n",
      "(87902,)\n"
     ]
    }
   ],
   "source": [
    "# Let's actually create a subset of our dataframe, and see how different hyperparameters of RandomForestRegressor model affect our R2 score:\n",
    "df_RF_small = df_remainder.sample(frac=0.3, random_state=1)\n",
    "\n",
    "# Assigning data (X) and target (y) columns;\n",
    "X_small = df_RF_small.loc[:, df_RF_small.columns != 'price']\n",
    "y_small = df_RF_small['price']\n",
    "\n",
    "print(X_small.shape)\n",
    "print(y_small.shape)"
   ]
  },
  {
   "cell_type": "code",
   "execution_count": 195,
   "metadata": {},
   "outputs": [],
   "source": [
    "# Let's define the hyperparameters to look through:\n",
    "RF_params = {'max_depth':[10,15,20,30,40,50,60,70,80,90,100], \n",
    "             'min_samples_leaf':[1,2,3,4,5]}"
   ]
  },
  {
   "cell_type": "code",
   "execution_count": 196,
   "metadata": {},
   "outputs": [
    {
     "ename": "KeyboardInterrupt",
     "evalue": "",
     "output_type": "error",
     "traceback": [
      "\u001b[1;31m---------------------------------------------------------------------------\u001b[0m",
      "\u001b[1;31mKeyboardInterrupt\u001b[0m                         Traceback (most recent call last)",
      "\u001b[1;32m<ipython-input-196-9bdfe1c6c560>\u001b[0m in \u001b[0;36m<module>\u001b[1;34m\u001b[0m\n\u001b[0;32m      7\u001b[0m \u001b[1;33m\u001b[0m\u001b[0m\n\u001b[0;32m      8\u001b[0m \u001b[1;31m# Fit the RF grid search\u001b[0m\u001b[1;33m\u001b[0m\u001b[1;33m\u001b[0m\u001b[1;33m\u001b[0m\u001b[0m\n\u001b[1;32m----> 9\u001b[1;33m \u001b[0mmyRF_gs_fitted\u001b[0m \u001b[1;33m=\u001b[0m \u001b[0mmyRF_gs\u001b[0m\u001b[1;33m.\u001b[0m\u001b[0mfit\u001b[0m\u001b[1;33m(\u001b[0m\u001b[0mX_small\u001b[0m\u001b[1;33m,\u001b[0m \u001b[0my_small\u001b[0m\u001b[1;33m)\u001b[0m\u001b[1;33m\u001b[0m\u001b[1;33m\u001b[0m\u001b[0m\n\u001b[0m",
      "\u001b[1;32m~\\anaconda3\\lib\\site-packages\\sklearn\\model_selection\\_search.py\u001b[0m in \u001b[0;36mfit\u001b[1;34m(self, X, y, groups, **fit_params)\u001b[0m\n\u001b[0;32m    708\u001b[0m                 \u001b[1;32mreturn\u001b[0m \u001b[0mresults\u001b[0m\u001b[1;33m\u001b[0m\u001b[1;33m\u001b[0m\u001b[0m\n\u001b[0;32m    709\u001b[0m \u001b[1;33m\u001b[0m\u001b[0m\n\u001b[1;32m--> 710\u001b[1;33m             \u001b[0mself\u001b[0m\u001b[1;33m.\u001b[0m\u001b[0m_run_search\u001b[0m\u001b[1;33m(\u001b[0m\u001b[0mevaluate_candidates\u001b[0m\u001b[1;33m)\u001b[0m\u001b[1;33m\u001b[0m\u001b[1;33m\u001b[0m\u001b[0m\n\u001b[0m\u001b[0;32m    711\u001b[0m \u001b[1;33m\u001b[0m\u001b[0m\n\u001b[0;32m    712\u001b[0m         \u001b[1;31m# For multi-metric evaluation, store the best_index_, best_params_ and\u001b[0m\u001b[1;33m\u001b[0m\u001b[1;33m\u001b[0m\u001b[1;33m\u001b[0m\u001b[0m\n",
      "\u001b[1;32m~\\anaconda3\\lib\\site-packages\\sklearn\\model_selection\\_search.py\u001b[0m in \u001b[0;36m_run_search\u001b[1;34m(self, evaluate_candidates)\u001b[0m\n\u001b[0;32m   1149\u001b[0m     \u001b[1;32mdef\u001b[0m \u001b[0m_run_search\u001b[0m\u001b[1;33m(\u001b[0m\u001b[0mself\u001b[0m\u001b[1;33m,\u001b[0m \u001b[0mevaluate_candidates\u001b[0m\u001b[1;33m)\u001b[0m\u001b[1;33m:\u001b[0m\u001b[1;33m\u001b[0m\u001b[1;33m\u001b[0m\u001b[0m\n\u001b[0;32m   1150\u001b[0m         \u001b[1;34m\"\"\"Search all candidates in param_grid\"\"\"\u001b[0m\u001b[1;33m\u001b[0m\u001b[1;33m\u001b[0m\u001b[0m\n\u001b[1;32m-> 1151\u001b[1;33m         \u001b[0mevaluate_candidates\u001b[0m\u001b[1;33m(\u001b[0m\u001b[0mParameterGrid\u001b[0m\u001b[1;33m(\u001b[0m\u001b[0mself\u001b[0m\u001b[1;33m.\u001b[0m\u001b[0mparam_grid\u001b[0m\u001b[1;33m)\u001b[0m\u001b[1;33m)\u001b[0m\u001b[1;33m\u001b[0m\u001b[1;33m\u001b[0m\u001b[0m\n\u001b[0m\u001b[0;32m   1152\u001b[0m \u001b[1;33m\u001b[0m\u001b[0m\n\u001b[0;32m   1153\u001b[0m \u001b[1;33m\u001b[0m\u001b[0m\n",
      "\u001b[1;32m~\\anaconda3\\lib\\site-packages\\sklearn\\model_selection\\_search.py\u001b[0m in \u001b[0;36mevaluate_candidates\u001b[1;34m(candidate_params)\u001b[0m\n\u001b[0;32m    687\u001b[0m                                \u001b[1;32mfor\u001b[0m \u001b[0mparameters\u001b[0m\u001b[1;33m,\u001b[0m \u001b[1;33m(\u001b[0m\u001b[0mtrain\u001b[0m\u001b[1;33m,\u001b[0m \u001b[0mtest\u001b[0m\u001b[1;33m)\u001b[0m\u001b[1;33m\u001b[0m\u001b[1;33m\u001b[0m\u001b[0m\n\u001b[0;32m    688\u001b[0m                                in product(candidate_params,\n\u001b[1;32m--> 689\u001b[1;33m                                           cv.split(X, y, groups)))\n\u001b[0m\u001b[0;32m    690\u001b[0m \u001b[1;33m\u001b[0m\u001b[0m\n\u001b[0;32m    691\u001b[0m                 \u001b[1;32mif\u001b[0m \u001b[0mlen\u001b[0m\u001b[1;33m(\u001b[0m\u001b[0mout\u001b[0m\u001b[1;33m)\u001b[0m \u001b[1;33m<\u001b[0m \u001b[1;36m1\u001b[0m\u001b[1;33m:\u001b[0m\u001b[1;33m\u001b[0m\u001b[1;33m\u001b[0m\u001b[0m\n",
      "\u001b[1;32m~\\anaconda3\\lib\\site-packages\\joblib\\parallel.py\u001b[0m in \u001b[0;36m__call__\u001b[1;34m(self, iterable)\u001b[0m\n\u001b[0;32m   1015\u001b[0m \u001b[1;33m\u001b[0m\u001b[0m\n\u001b[0;32m   1016\u001b[0m             \u001b[1;32mwith\u001b[0m \u001b[0mself\u001b[0m\u001b[1;33m.\u001b[0m\u001b[0m_backend\u001b[0m\u001b[1;33m.\u001b[0m\u001b[0mretrieval_context\u001b[0m\u001b[1;33m(\u001b[0m\u001b[1;33m)\u001b[0m\u001b[1;33m:\u001b[0m\u001b[1;33m\u001b[0m\u001b[1;33m\u001b[0m\u001b[0m\n\u001b[1;32m-> 1017\u001b[1;33m                 \u001b[0mself\u001b[0m\u001b[1;33m.\u001b[0m\u001b[0mretrieve\u001b[0m\u001b[1;33m(\u001b[0m\u001b[1;33m)\u001b[0m\u001b[1;33m\u001b[0m\u001b[1;33m\u001b[0m\u001b[0m\n\u001b[0m\u001b[0;32m   1018\u001b[0m             \u001b[1;31m# Make sure that we get a last message telling us we are done\u001b[0m\u001b[1;33m\u001b[0m\u001b[1;33m\u001b[0m\u001b[1;33m\u001b[0m\u001b[0m\n\u001b[0;32m   1019\u001b[0m             \u001b[0melapsed_time\u001b[0m \u001b[1;33m=\u001b[0m \u001b[0mtime\u001b[0m\u001b[1;33m.\u001b[0m\u001b[0mtime\u001b[0m\u001b[1;33m(\u001b[0m\u001b[1;33m)\u001b[0m \u001b[1;33m-\u001b[0m \u001b[0mself\u001b[0m\u001b[1;33m.\u001b[0m\u001b[0m_start_time\u001b[0m\u001b[1;33m\u001b[0m\u001b[1;33m\u001b[0m\u001b[0m\n",
      "\u001b[1;32m~\\anaconda3\\lib\\site-packages\\joblib\\parallel.py\u001b[0m in \u001b[0;36mretrieve\u001b[1;34m(self)\u001b[0m\n\u001b[0;32m    907\u001b[0m             \u001b[1;32mtry\u001b[0m\u001b[1;33m:\u001b[0m\u001b[1;33m\u001b[0m\u001b[1;33m\u001b[0m\u001b[0m\n\u001b[0;32m    908\u001b[0m                 \u001b[1;32mif\u001b[0m \u001b[0mgetattr\u001b[0m\u001b[1;33m(\u001b[0m\u001b[0mself\u001b[0m\u001b[1;33m.\u001b[0m\u001b[0m_backend\u001b[0m\u001b[1;33m,\u001b[0m \u001b[1;34m'supports_timeout'\u001b[0m\u001b[1;33m,\u001b[0m \u001b[1;32mFalse\u001b[0m\u001b[1;33m)\u001b[0m\u001b[1;33m:\u001b[0m\u001b[1;33m\u001b[0m\u001b[1;33m\u001b[0m\u001b[0m\n\u001b[1;32m--> 909\u001b[1;33m                     \u001b[0mself\u001b[0m\u001b[1;33m.\u001b[0m\u001b[0m_output\u001b[0m\u001b[1;33m.\u001b[0m\u001b[0mextend\u001b[0m\u001b[1;33m(\u001b[0m\u001b[0mjob\u001b[0m\u001b[1;33m.\u001b[0m\u001b[0mget\u001b[0m\u001b[1;33m(\u001b[0m\u001b[0mtimeout\u001b[0m\u001b[1;33m=\u001b[0m\u001b[0mself\u001b[0m\u001b[1;33m.\u001b[0m\u001b[0mtimeout\u001b[0m\u001b[1;33m)\u001b[0m\u001b[1;33m)\u001b[0m\u001b[1;33m\u001b[0m\u001b[1;33m\u001b[0m\u001b[0m\n\u001b[0m\u001b[0;32m    910\u001b[0m                 \u001b[1;32melse\u001b[0m\u001b[1;33m:\u001b[0m\u001b[1;33m\u001b[0m\u001b[1;33m\u001b[0m\u001b[0m\n\u001b[0;32m    911\u001b[0m                     \u001b[0mself\u001b[0m\u001b[1;33m.\u001b[0m\u001b[0m_output\u001b[0m\u001b[1;33m.\u001b[0m\u001b[0mextend\u001b[0m\u001b[1;33m(\u001b[0m\u001b[0mjob\u001b[0m\u001b[1;33m.\u001b[0m\u001b[0mget\u001b[0m\u001b[1;33m(\u001b[0m\u001b[1;33m)\u001b[0m\u001b[1;33m)\u001b[0m\u001b[1;33m\u001b[0m\u001b[1;33m\u001b[0m\u001b[0m\n",
      "\u001b[1;32m~\\anaconda3\\lib\\site-packages\\joblib\\_parallel_backends.py\u001b[0m in \u001b[0;36mwrap_future_result\u001b[1;34m(future, timeout)\u001b[0m\n\u001b[0;32m    560\u001b[0m         AsyncResults.get from multiprocessing.\"\"\"\n\u001b[0;32m    561\u001b[0m         \u001b[1;32mtry\u001b[0m\u001b[1;33m:\u001b[0m\u001b[1;33m\u001b[0m\u001b[1;33m\u001b[0m\u001b[0m\n\u001b[1;32m--> 562\u001b[1;33m             \u001b[1;32mreturn\u001b[0m \u001b[0mfuture\u001b[0m\u001b[1;33m.\u001b[0m\u001b[0mresult\u001b[0m\u001b[1;33m(\u001b[0m\u001b[0mtimeout\u001b[0m\u001b[1;33m=\u001b[0m\u001b[0mtimeout\u001b[0m\u001b[1;33m)\u001b[0m\u001b[1;33m\u001b[0m\u001b[1;33m\u001b[0m\u001b[0m\n\u001b[0m\u001b[0;32m    563\u001b[0m         \u001b[1;32mexcept\u001b[0m \u001b[0mLokyTimeoutError\u001b[0m\u001b[1;33m:\u001b[0m\u001b[1;33m\u001b[0m\u001b[1;33m\u001b[0m\u001b[0m\n\u001b[0;32m    564\u001b[0m             \u001b[1;32mraise\u001b[0m \u001b[0mTimeoutError\u001b[0m\u001b[1;33m(\u001b[0m\u001b[1;33m)\u001b[0m\u001b[1;33m\u001b[0m\u001b[1;33m\u001b[0m\u001b[0m\n",
      "\u001b[1;32m~\\anaconda3\\lib\\concurrent\\futures\\_base.py\u001b[0m in \u001b[0;36mresult\u001b[1;34m(self, timeout)\u001b[0m\n\u001b[0;32m    428\u001b[0m                 \u001b[1;32mreturn\u001b[0m \u001b[0mself\u001b[0m\u001b[1;33m.\u001b[0m\u001b[0m__get_result\u001b[0m\u001b[1;33m(\u001b[0m\u001b[1;33m)\u001b[0m\u001b[1;33m\u001b[0m\u001b[1;33m\u001b[0m\u001b[0m\n\u001b[0;32m    429\u001b[0m \u001b[1;33m\u001b[0m\u001b[0m\n\u001b[1;32m--> 430\u001b[1;33m             \u001b[0mself\u001b[0m\u001b[1;33m.\u001b[0m\u001b[0m_condition\u001b[0m\u001b[1;33m.\u001b[0m\u001b[0mwait\u001b[0m\u001b[1;33m(\u001b[0m\u001b[0mtimeout\u001b[0m\u001b[1;33m)\u001b[0m\u001b[1;33m\u001b[0m\u001b[1;33m\u001b[0m\u001b[0m\n\u001b[0m\u001b[0;32m    431\u001b[0m \u001b[1;33m\u001b[0m\u001b[0m\n\u001b[0;32m    432\u001b[0m             \u001b[1;32mif\u001b[0m \u001b[0mself\u001b[0m\u001b[1;33m.\u001b[0m\u001b[0m_state\u001b[0m \u001b[1;32min\u001b[0m \u001b[1;33m[\u001b[0m\u001b[0mCANCELLED\u001b[0m\u001b[1;33m,\u001b[0m \u001b[0mCANCELLED_AND_NOTIFIED\u001b[0m\u001b[1;33m]\u001b[0m\u001b[1;33m:\u001b[0m\u001b[1;33m\u001b[0m\u001b[1;33m\u001b[0m\u001b[0m\n",
      "\u001b[1;32m~\\anaconda3\\lib\\threading.py\u001b[0m in \u001b[0;36mwait\u001b[1;34m(self, timeout)\u001b[0m\n\u001b[0;32m    294\u001b[0m         \u001b[1;32mtry\u001b[0m\u001b[1;33m:\u001b[0m    \u001b[1;31m# restore state no matter what (e.g., KeyboardInterrupt)\u001b[0m\u001b[1;33m\u001b[0m\u001b[1;33m\u001b[0m\u001b[0m\n\u001b[0;32m    295\u001b[0m             \u001b[1;32mif\u001b[0m \u001b[0mtimeout\u001b[0m \u001b[1;32mis\u001b[0m \u001b[1;32mNone\u001b[0m\u001b[1;33m:\u001b[0m\u001b[1;33m\u001b[0m\u001b[1;33m\u001b[0m\u001b[0m\n\u001b[1;32m--> 296\u001b[1;33m                 \u001b[0mwaiter\u001b[0m\u001b[1;33m.\u001b[0m\u001b[0macquire\u001b[0m\u001b[1;33m(\u001b[0m\u001b[1;33m)\u001b[0m\u001b[1;33m\u001b[0m\u001b[1;33m\u001b[0m\u001b[0m\n\u001b[0m\u001b[0;32m    297\u001b[0m                 \u001b[0mgotit\u001b[0m \u001b[1;33m=\u001b[0m \u001b[1;32mTrue\u001b[0m\u001b[1;33m\u001b[0m\u001b[1;33m\u001b[0m\u001b[0m\n\u001b[0;32m    298\u001b[0m             \u001b[1;32melse\u001b[0m\u001b[1;33m:\u001b[0m\u001b[1;33m\u001b[0m\u001b[1;33m\u001b[0m\u001b[0m\n",
      "\u001b[1;31mKeyboardInterrupt\u001b[0m: "
     ]
    }
   ],
   "source": [
    "# Let's import our package:\n",
    "from sklearn.model_selection import GridSearchCV\n",
    "\n",
    "# Initiate the RF grid search\n",
    "myRF_gs = GridSearchCV(estimator=RandomForestRegressor(random_state = 1), \\\n",
    "                        param_grid=RF_params, cv=5, n_jobs=-1, verbose=0)\n",
    "\n",
    "# Fit the RF grid search\n",
    "myRF_gs_fitted = myRF_gs.fit(X_small, y_small)"
   ]
  },
  {
   "cell_type": "code",
   "execution_count": 190,
   "metadata": {},
   "outputs": [
    {
     "name": "stdout",
     "output_type": "stream",
     "text": [
      "{'max_depth': 10, 'min_samples_leaf': 1}\n"
     ]
    }
   ],
   "source": [
    "# Show the best estimators\n",
    "print(myRF_gs_fitted.best_params_)"
   ]
  },
  {
   "cell_type": "code",
   "execution_count": 197,
   "metadata": {},
   "outputs": [
    {
     "name": "stdout",
     "output_type": "stream",
     "text": [
      "{'max_depth': 90, 'min_samples_leaf': 2}\n"
     ]
    }
   ],
   "source": [
    "# Show the best estimators\n",
    "print(myRF_gs_fitted.best_params_)"
   ]
  },
  {
   "cell_type": "code",
   "execution_count": 188,
   "metadata": {},
   "outputs": [
    {
     "name": "stdout",
     "output_type": "stream",
     "text": [
      "0.7773040464552605\n",
      "0.7427427422488926\n"
     ]
    }
   ],
   "source": [
    "# Let's see if our R2 score improved:\n",
    "print(myRF_gs_fitted.score(X_small, y_small))\n",
    "print(myRF_gs_fitted.score(X_test, y_test))"
   ]
  },
  {
   "cell_type": "code",
   "execution_count": 198,
   "metadata": {},
   "outputs": [
    {
     "name": "stdout",
     "output_type": "stream",
     "text": [
      "0.9674377963481268\n",
      "0.8786504130287467\n"
     ]
    }
   ],
   "source": [
    "# Let's see if our R2 score improved:\n",
    "print(myRF_gs_fitted.score(X_small, y_small))\n",
    "print(myRF_gs_fitted.score(X_test, y_test))"
   ]
  },
  {
   "cell_type": "code",
   "execution_count": 189,
   "metadata": {},
   "outputs": [
    {
     "name": "stdout",
     "output_type": "stream",
     "text": [
      "The mean absolute error of our model is:  3479.735154449074\n",
      "The mean value of the price column is:  14655.96683749389\n",
      "The train set R2 of our model is:  0.7569\n",
      "The test set R2 of our model is:  0.7413\n"
     ]
    }
   ],
   "source": [
    "# Checking scores on whole dataset:\n",
    "\n",
    "# Assigning data (X) and target (y) columns;\n",
    "X = df_work3.loc[:, df_work3.columns != 'price']\n",
    "y = df_work3['price']\n",
    "\n",
    "# Let's now split the data into train and test sets:\n",
    "X_train, X_test, y_train, y_test = train_test_split(X, y, test_size = 0.2, random_state=1)\n",
    "\n",
    "RF_adj = RandomForestRegressor(max_depth=10, min_samples_leaf=1, random_state=1)\n",
    "RF_adj.fit(X_train, y_train)\n",
    "y_pred = RF_adj.predict(X_test)\n",
    "\n",
    "# R2 score check:\n",
    "print(\"The mean absolute error of our model is: \", mae(y_test, y_pred))\n",
    "print(\"The mean value of the price column is: \", df_work3['price'].mean())\n",
    "print(\"The train set R2 of our model is: \", round(RF_adj.score(X_train,y_train),4))\n",
    "print(\"The test set R2 of our model is: \", round(RF_adj.score(X_test,y_test),4))"
   ]
  },
  {
   "cell_type": "code",
   "execution_count": null,
   "metadata": {},
   "outputs": [],
   "source": []
  },
  {
   "cell_type": "code",
   "execution_count": null,
   "metadata": {},
   "outputs": [],
   "source": [
    "# Let's define the hyperparameters to look through:\n",
    "RF_params = {'max_depth':[10,15,20,30,40,50,60,70,80,90,100], \n",
    "             'min_samples_leaf':[1,2,3,4,5]}\n",
    "\n",
    "# Let's import our package:\n",
    "from sklearn.model_selection import GridSearchCV\n",
    "\n",
    "# Initiate the RF grid search\n",
    "myRF_gs = GridSearchCV(estimator=RandomForestRegressor(random_state = 1), \\\n",
    "                        param_grid=RF_params, cv=5, n_jobs=-1, verbose=0)\n",
    "\n",
    "# Fit the RF grid search\n",
    "myRF_gs_fitted = myRF_gs.fit(X_train, y_train)\n",
    "\n",
    "# Show the best estimators\n",
    "print(myRF_gs_fitted.best_params_)\n",
    "\n",
    "# Let's see if our R2 score improved:\n",
    "print(myRF_gs_fitted.score(X_train, y_train))\n",
    "print(myRF_gs_fitted.score(X_test, y_test))"
   ]
  },
  {
   "cell_type": "code",
   "execution_count": null,
   "metadata": {},
   "outputs": [],
   "source": []
  },
  {
   "cell_type": "code",
   "execution_count": null,
   "metadata": {},
   "outputs": [],
   "source": []
  },
  {
   "cell_type": "code",
   "execution_count": null,
   "metadata": {},
   "outputs": [],
   "source": []
  },
  {
   "cell_type": "code",
   "execution_count": null,
   "metadata": {},
   "outputs": [],
   "source": []
  },
  {
   "cell_type": "code",
   "execution_count": null,
   "metadata": {},
   "outputs": [],
   "source": []
  },
  {
   "cell_type": "code",
   "execution_count": null,
   "metadata": {},
   "outputs": [],
   "source": []
  },
  {
   "cell_type": "markdown",
   "metadata": {},
   "source": [
    " "
   ]
  },
  {
   "cell_type": "markdown",
   "metadata": {},
   "source": [
    "## Modelling: Linear Regression"
   ]
  },
  {
   "cell_type": "code",
   "execution_count": 63,
   "metadata": {},
   "outputs": [
    {
     "name": "stdout",
     "output_type": "stream",
     "text": [
      "X_lm shape: (366257, 109)\n",
      "y_lm.shape: (366257,)\n",
      "The mean absolute error of our model is:  4347.037743991505\n",
      "The mean value of the price column is:  14676.97776169934\n",
      "The train set R2 of our model is:  0.639\n",
      "The test set R2 of our model is:  0.6338\n"
     ]
    }
   ],
   "source": [
    "# Scikit Learn Linear Regression:\n",
    "\n",
    "# Assigning data (X) and target (y) columns:\n",
    "X_lm = df_work3.loc[:, df_work3.columns != 'price']\n",
    "y_lm = df_work3['price']\n",
    "\n",
    "print('X_lm shape:', X_lm.shape)\n",
    "print('y_lm shape:', y_lm.shape)\n",
    "\n",
    "# Let's split our dataframe into train and test sets:\n",
    "X_lm_train, X_lm_test, y_lm_train, y_lm_test = train_test_split(X_lm, y_lm, test_size = 0.2, random_state=1)\n",
    "\n",
    "print('X_lm_train shape:', X_lm_train.shape)\n",
    "print('y_lm_train shape:', y_lm_train.shape)\n",
    "print('X_lm_test shape:', X_lm_test.shape)\n",
    "print('y_lm_test shape:', y_lm_test.shape)\n",
    "print(\"---------------------------------------------------------------\")\n",
    "\n",
    "# Importing package:\n",
    "from sklearn.linear_model import LinearRegression\n",
    "\n",
    "# 1. Instantiate the model\n",
    "myLM = LinearRegression()\n",
    "\n",
    "# 2. Fit the model\n",
    "myLM.fit(X_lm_train, y_lm_train)\n",
    "\n",
    "# 3. Make prediction (will use it for mae)\n",
    "y_lm_train_pred = myLM.predict(X_lm_train)\n",
    "y_lm_test_pred = myLM.predict(X_lm_test)\n",
    "\n",
    "# R2 score check:\n",
    "print(\"The mean absolute error of our model is: \", mae(y_lm_test, y_lm_test_pred))\n",
    "print(\"The mean value of the price column is: \", y_lm_test.mean())\n",
    "print(\"The train set R2 of our model is: \", round(myLM.score(X_lm_train,y_lm_train),4))\n",
    "print(\"The test set R2 of our model is: \", round(myLM.score(X_lm_test,y_lm_test),4))"
   ]
  },
  {
   "cell_type": "code",
   "execution_count": null,
   "metadata": {},
   "outputs": [],
   "source": [
    "#try with a scaler"
   ]
  },
  {
   "cell_type": "markdown",
   "metadata": {},
   "source": [
    " "
   ]
  },
  {
   "cell_type": "markdown",
   "metadata": {},
   "source": [
    "## Modelling: Ridge Regression"
   ]
  },
  {
   "cell_type": "code",
   "execution_count": 78,
   "metadata": {},
   "outputs": [
    {
     "name": "stdout",
     "output_type": "stream",
     "text": [
      "X_rr shape: (366257, 109)\n",
      "y_rr shape: (366257,)\n",
      "X_rr_train shape: (293005, 109)\n",
      "y_rr_train shape: (293005,)\n",
      "X_rr_test shape: (73252, 109)\n",
      "y_rr_test shape: (73252,)\n",
      "---------------------------------------------------------------\n",
      "The mean absolute error of our model is:  4347.243313907914\n",
      "The mean value of the price column is:  14676.97776169934\n",
      "The train set R2 of our model is:  0.639\n",
      "The test set R2 of our model is:  0.6338\n"
     ]
    }
   ],
   "source": [
    "# Scikit Learn Ridge Regression:\n",
    "\n",
    "# Assigning data (X) and target (y) columns:\n",
    "X_rr = df_work3.loc[:, df_work3.columns != 'price']\n",
    "y_rr = df_work3['price']\n",
    "\n",
    "print('X_rr shape:', X_rr.shape)\n",
    "print('y_rr shape:', y_rr.shape)\n",
    "\n",
    "# Let's split our dataframe into train and test sets:\n",
    "X_rr_train, X_rr_test, y_rr_train, y_rr_test = train_test_split(X_rr, y_rr, test_size = 0.2, random_state=1)\n",
    "\n",
    "print('X_rr_train shape:', X_rr_train.shape)\n",
    "print('y_rr_train shape:', y_rr_train.shape)\n",
    "print('X_rr_test shape:', X_rr_test.shape)\n",
    "print('y_rr_test shape:', y_rr_test.shape)\n",
    "print(\"---------------------------------------------------------------\")\n",
    "\n",
    "# Importing package:\n",
    "from sklearn.linear_model import Ridge\n",
    "\n",
    "# 1. Instantiate the model\n",
    "myRR = Ridge()\n",
    "\n",
    "# 2. Fit the model\n",
    "myRR.fit(X_rr_train, y_rr_train)\n",
    "\n",
    "# 3. Make prediction (will use it for mae)\n",
    "y_rr_train_pred = myRR.predict(X_rr_train)\n",
    "y_rr_test_pred = myRR.predict(X_rr_test)\n",
    "\n",
    "# R2 score check:\n",
    "print(\"The mean absolute error of our model is: \", mae(y_rr_test, y_rr_test_pred))\n",
    "print(\"The mean value of the price column is: \", y_rr_test.mean())\n",
    "print(\"The train set R2 of our model is: \", round(myRR.score(X_rr_train,y_rr_train),4))\n",
    "print(\"The test set R2 of our model is: \", round(myRR.score(X_rr_test,y_rr_test),4))"
   ]
  },
  {
   "cell_type": "markdown",
   "metadata": {},
   "source": [
    " "
   ]
  },
  {
   "cell_type": "markdown",
   "metadata": {},
   "source": [
    "## Modelling: RidgeCV Regression "
   ]
  },
  {
   "cell_type": "code",
   "execution_count": 79,
   "metadata": {},
   "outputs": [
    {
     "name": "stdout",
     "output_type": "stream",
     "text": [
      "X_rrcv shape: (366257, 109)\n",
      "y_rrcv shape: (366257,)\n",
      "X_rr_train shape: (293005, 109)\n",
      "y_rr_train shape: (293005,)\n",
      "X_rr_test shape: (73252, 109)\n",
      "y_rr_test shape: (73252,)\n",
      "---------------------------------------------------------------\n",
      "The mean absolute error of our model is:  370886.86901116715\n",
      "The mean value of the price column is:  14676.97776169934\n",
      "The train set R2 of our model is:  -1728.4512\n",
      "The test set R2 of our model is:  -1724.1221\n",
      "\n"
     ]
    },
    {
     "ename": "AttributeError",
     "evalue": "'RidgeCV' object has no attribute 'best_score_'",
     "output_type": "error",
     "traceback": [
      "\u001b[1;31m---------------------------------------------------------------------------\u001b[0m",
      "\u001b[1;31mAttributeError\u001b[0m                            Traceback (most recent call last)",
      "\u001b[1;32m<ipython-input-79-885e3dd147f2>\u001b[0m in \u001b[0;36m<module>\u001b[1;34m\u001b[0m\n\u001b[0;32m     36\u001b[0m \u001b[0mprint\u001b[0m\u001b[1;33m(\u001b[0m\u001b[1;34m\"The test set R2 of our model is: \"\u001b[0m\u001b[1;33m,\u001b[0m \u001b[0mround\u001b[0m\u001b[1;33m(\u001b[0m\u001b[0mmyRRCV\u001b[0m\u001b[1;33m.\u001b[0m\u001b[0mscore\u001b[0m\u001b[1;33m(\u001b[0m\u001b[0mX_rrcv_test\u001b[0m\u001b[1;33m,\u001b[0m\u001b[0my_rrcv_test\u001b[0m\u001b[1;33m)\u001b[0m\u001b[1;33m,\u001b[0m\u001b[1;36m4\u001b[0m\u001b[1;33m)\u001b[0m\u001b[1;33m)\u001b[0m\u001b[1;33m\u001b[0m\u001b[1;33m\u001b[0m\u001b[0m\n\u001b[0;32m     37\u001b[0m \u001b[0mprint\u001b[0m\u001b[1;33m(\u001b[0m\u001b[1;33m)\u001b[0m\u001b[1;33m\u001b[0m\u001b[1;33m\u001b[0m\u001b[0m\n\u001b[1;32m---> 38\u001b[1;33m \u001b[0mmyRRCV\u001b[0m\u001b[1;33m.\u001b[0m\u001b[0mbest_score_\u001b[0m\u001b[1;33m\u001b[0m\u001b[1;33m\u001b[0m\u001b[0m\n\u001b[0m",
      "\u001b[1;31mAttributeError\u001b[0m: 'RidgeCV' object has no attribute 'best_score_'"
     ]
    }
   ],
   "source": [
    "# Scikit Learn RidgeCV Regression (default values):\n",
    "\n",
    "# Assigning data (X) and target (y) columns:\n",
    "X_rrcv = df_work3.loc[:, df_work3.columns != 'price']\n",
    "y_rrcv = df_work3['price']\n",
    "\n",
    "print('X_rrcv shape:', X_rrcv.shape)\n",
    "print('y_rrcv shape:', y_rrcv.shape)\n",
    "\n",
    "# Let's split our dataframe into train and test sets:\n",
    "X_rrcv_train, X_rrcv_test, y_rrcv_train, y_rrcv_test = train_test_split(X_rrcv, y_rrcv, test_size = 0.2, random_state=1)\n",
    "\n",
    "print('X_rr_train shape:', X_rrcv_train.shape)\n",
    "print('y_rr_train shape:', y_rrcv_train.shape)\n",
    "print('X_rr_test shape:', X_rrcv_test.shape)\n",
    "print('y_rr_test shape:', y_rrcv_test.shape)\n",
    "print(\"---------------------------------------------------------------\")\n",
    "\n",
    "# Importing package:\n",
    "from sklearn.linear_model import RidgeCV\n",
    "\n",
    "# 1. Instantiate the model\n",
    "myRRCV = RidgeCV()\n",
    "\n",
    "# 2. Fit the model\n",
    "myRRCV.fit(X_rrcv_train, y_rrcv_train)\n",
    "\n",
    "# 3. Make prediction (will use it for mae)\n",
    "y_rrcv_train_pred = myRRCV.predict(X_rrcv_train)\n",
    "y_rrcv_test_pred = myRRCV.predict(X_rrcv_test)\n",
    "\n",
    "# R2 score check:\n",
    "print(\"The mean absolute error of our model is: \", mae(y_rrcv_test, y_rrcv_test_pred))\n",
    "print(\"The mean value of the price column is: \", y_rrcv_test.mean())\n",
    "print(\"The train set R2 of our model is: \", round(myRRCV.score(X_rrcv_train,y_rrcv_train),4))\n",
    "print(\"The test set R2 of our model is: \", round(myRRCV.score(X_rrcv_test,y_rrcv_test),4))\n",
    "print()\n",
    "myRRCV.best_score_"
   ]
  },
  {
   "cell_type": "code",
   "execution_count": 80,
   "metadata": {},
   "outputs": [
    {
     "name": "stdout",
     "output_type": "stream",
     "text": [
      "X_rrcv shape: (366257, 109)\n",
      "y_rrcv shape: (366257,)\n",
      "X_rr_train shape: (293005, 109)\n",
      "y_rr_train shape: (293005,)\n",
      "X_rr_test shape: (73252, 109)\n",
      "y_rr_test shape: (73252,)\n",
      "---------------------------------------------------------------\n"
     ]
    },
    {
     "name": "stderr",
     "output_type": "stream",
     "text": [
      "C:\\Users\\Meylis\\anaconda3\\lib\\site-packages\\sklearn\\linear_model\\_ridge.py:148: LinAlgWarning: Ill-conditioned matrix (rcond=9.73147e-17): result may not be accurate.\n",
      "  overwrite_a=True).T\n"
     ]
    },
    {
     "name": "stdout",
     "output_type": "stream",
     "text": [
      "The mean absolute error of our model is:  4347.06279807068\n",
      "The mean value of the price column is:  14676.97776169934\n",
      "The train set R2 of our model is:  0.639\n",
      "The test set R2 of our model is:  0.6338\n",
      "\n"
     ]
    }
   ],
   "source": [
    "# Scikit Learn RidgeCV Regression (cv=5):\n",
    "\n",
    "# Assigning data (X) and target (y) columns:\n",
    "X_rrcv = df_work3.loc[:, df_work3.columns != 'price']\n",
    "y_rrcv = df_work3['price']\n",
    "\n",
    "print('X_rrcv shape:', X_rrcv.shape)\n",
    "print('y_rrcv shape:', y_rrcv.shape)\n",
    "\n",
    "# Let's split our dataframe into train and test sets:\n",
    "X_rrcv_train, X_rrcv_test, y_rrcv_train, y_rrcv_test = train_test_split(X_rrcv, y_rrcv, test_size = 0.2, random_state=1)\n",
    "\n",
    "print('X_rr_train shape:', X_rrcv_train.shape)\n",
    "print('y_rr_train shape:', y_rrcv_train.shape)\n",
    "print('X_rr_test shape:', X_rrcv_test.shape)\n",
    "print('y_rr_test shape:', y_rrcv_test.shape)\n",
    "print(\"---------------------------------------------------------------\")\n",
    "\n",
    "# Importing package:\n",
    "from sklearn.linear_model import RidgeCV\n",
    "\n",
    "# 1. Instantiate the model\n",
    "myRRCV = RidgeCV(cv=5)\n",
    "\n",
    "# 2. Fit the model\n",
    "myRRCV.fit(X_rrcv_train, y_rrcv_train)\n",
    "\n",
    "# 3. Make prediction (will use it for mae)\n",
    "y_rrcv_train_pred = myRRCV.predict(X_rrcv_train)\n",
    "y_rrcv_test_pred = myRRCV.predict(X_rrcv_test)\n",
    "\n",
    "# R2 score check:\n",
    "print(\"The mean absolute error of our model is: \", mae(y_rrcv_test, y_rrcv_test_pred))\n",
    "print(\"The mean value of the price column is: \", y_rrcv_test.mean())\n",
    "print(\"The train set R2 of our model is: \", round(myRRCV.score(X_rrcv_train,y_rrcv_train),4))\n",
    "print(\"The test set R2 of our model is: \", round(myRRCV.score(X_rrcv_test,y_rrcv_test),4))\n",
    "print()\n"
   ]
  },
  {
   "cell_type": "code",
   "execution_count": 81,
   "metadata": {},
   "outputs": [
    {
     "name": "stdout",
     "output_type": "stream",
     "text": [
      "X_rrcv shape: (366257, 109)\n",
      "y_rrcv shape: (366257,)\n",
      "X_rr_train shape: (293005, 109)\n",
      "y_rr_train shape: (293005,)\n",
      "X_rr_test shape: (73252, 109)\n",
      "y_rr_test shape: (73252,)\n",
      "---------------------------------------------------------------\n"
     ]
    },
    {
     "name": "stderr",
     "output_type": "stream",
     "text": [
      "C:\\Users\\Meylis\\anaconda3\\lib\\site-packages\\sklearn\\linear_model\\_ridge.py:148: LinAlgWarning: Ill-conditioned matrix (rcond=1.21711e-18): result may not be accurate.\n",
      "  overwrite_a=True).T\n",
      "C:\\Users\\Meylis\\anaconda3\\lib\\site-packages\\sklearn\\linear_model\\_ridge.py:148: LinAlgWarning: Ill-conditioned matrix (rcond=1.21848e-18): result may not be accurate.\n",
      "  overwrite_a=True).T\n",
      "C:\\Users\\Meylis\\anaconda3\\lib\\site-packages\\sklearn\\linear_model\\_ridge.py:148: LinAlgWarning: Ill-conditioned matrix (rcond=1.21549e-18): result may not be accurate.\n",
      "  overwrite_a=True).T\n",
      "C:\\Users\\Meylis\\anaconda3\\lib\\site-packages\\sklearn\\linear_model\\_ridge.py:148: LinAlgWarning: Ill-conditioned matrix (rcond=1.21601e-18): result may not be accurate.\n",
      "  overwrite_a=True).T\n",
      "C:\\Users\\Meylis\\anaconda3\\lib\\site-packages\\sklearn\\linear_model\\_ridge.py:148: LinAlgWarning: Ill-conditioned matrix (rcond=1.21548e-18): result may not be accurate.\n",
      "  overwrite_a=True).T\n",
      "C:\\Users\\Meylis\\anaconda3\\lib\\site-packages\\sklearn\\linear_model\\_ridge.py:148: LinAlgWarning: Ill-conditioned matrix (rcond=1.2171e-17): result may not be accurate.\n",
      "  overwrite_a=True).T\n",
      "C:\\Users\\Meylis\\anaconda3\\lib\\site-packages\\sklearn\\linear_model\\_ridge.py:148: LinAlgWarning: Ill-conditioned matrix (rcond=1.21847e-17): result may not be accurate.\n",
      "  overwrite_a=True).T\n",
      "C:\\Users\\Meylis\\anaconda3\\lib\\site-packages\\sklearn\\linear_model\\_ridge.py:148: LinAlgWarning: Ill-conditioned matrix (rcond=1.21548e-17): result may not be accurate.\n",
      "  overwrite_a=True).T\n",
      "C:\\Users\\Meylis\\anaconda3\\lib\\site-packages\\sklearn\\linear_model\\_ridge.py:148: LinAlgWarning: Ill-conditioned matrix (rcond=1.216e-17): result may not be accurate.\n",
      "  overwrite_a=True).T\n",
      "C:\\Users\\Meylis\\anaconda3\\lib\\site-packages\\sklearn\\linear_model\\_ridge.py:148: LinAlgWarning: Ill-conditioned matrix (rcond=1.21547e-17): result may not be accurate.\n",
      "  overwrite_a=True).T\n",
      "C:\\Users\\Meylis\\anaconda3\\lib\\site-packages\\sklearn\\linear_model\\_ridge.py:148: LinAlgWarning: Ill-conditioned matrix (rcond=9.73208e-19): result may not be accurate.\n",
      "  overwrite_a=True).T\n"
     ]
    },
    {
     "name": "stdout",
     "output_type": "stream",
     "text": [
      "The mean absolute error of our model is:  4347.038002602254\n",
      "The mean value of the price column is:  14676.97776169934\n",
      "The train set R2 of our model is:  0.639\n",
      "The test set R2 of our model is:  0.6338\n",
      "\n"
     ]
    }
   ],
   "source": [
    "# Scikit Learn RidgeCV Regression (cv=5, alphas updated):\n",
    "\n",
    "# Assigning data (X) and target (y) columns:\n",
    "X_rrcv = df_work3.loc[:, df_work3.columns != 'price']\n",
    "y_rrcv = df_work3['price']\n",
    "\n",
    "print('X_rrcv shape:', X_rrcv.shape)\n",
    "print('y_rrcv shape:', y_rrcv.shape)\n",
    "\n",
    "# Let's split our dataframe into train and test sets:\n",
    "X_rrcv_train, X_rrcv_test, y_rrcv_train, y_rrcv_test = train_test_split(X_rrcv, y_rrcv, test_size = 0.2, random_state=1)\n",
    "\n",
    "print('X_rr_train shape:', X_rrcv_train.shape)\n",
    "print('y_rr_train shape:', y_rrcv_train.shape)\n",
    "print('X_rr_test shape:', X_rrcv_test.shape)\n",
    "print('y_rr_test shape:', y_rrcv_test.shape)\n",
    "print(\"---------------------------------------------------------------\")\n",
    "\n",
    "# Importing package:\n",
    "from sklearn.linear_model import RidgeCV\n",
    "\n",
    "# 1. Instantiate the model\n",
    "myRRCV = RidgeCV(alphas=[0.001, 0.01, 0,1, 1, 2, 4, 6, 8, 10, 15, 20], cv=5)\n",
    "\n",
    "# 2. Fit the model\n",
    "myRRCV.fit(X_rrcv_train, y_rrcv_train)\n",
    "\n",
    "# 3. Make prediction (will use it for mae)\n",
    "y_rrcv_train_pred = myRRCV.predict(X_rrcv_train)\n",
    "y_rrcv_test_pred = myRRCV.predict(X_rrcv_test)\n",
    "\n",
    "# R2 score check:\n",
    "print(\"The mean absolute error of our model is: \", mae(y_rrcv_test, y_rrcv_test_pred))\n",
    "print(\"The mean value of the price column is: \", y_rrcv_test.mean())\n",
    "print(\"The train set R2 of our model is: \", round(myRRCV.score(X_rrcv_train,y_rrcv_train),4))\n",
    "print(\"The test set R2 of our model is: \", round(myRRCV.score(X_rrcv_test,y_rrcv_test),4))\n",
    "print()\n"
   ]
  },
  {
   "cell_type": "code",
   "execution_count": null,
   "metadata": {},
   "outputs": [],
   "source": []
  },
  {
   "cell_type": "code",
   "execution_count": null,
   "metadata": {},
   "outputs": [],
   "source": []
  },
  {
   "cell_type": "code",
   "execution_count": null,
   "metadata": {},
   "outputs": [],
   "source": []
  },
  {
   "cell_type": "code",
   "execution_count": null,
   "metadata": {},
   "outputs": [],
   "source": []
  },
  {
   "cell_type": "code",
   "execution_count": null,
   "metadata": {},
   "outputs": [],
   "source": []
  },
  {
   "cell_type": "code",
   "execution_count": null,
   "metadata": {},
   "outputs": [],
   "source": [
    "#feat_importances = pd.Series(model.feature_importances_, index=X_head.columns)\n",
    "#feat_importances.nlargest(25).plot(kind='barh',figsize=(10,10))"
   ]
  },
  {
   "cell_type": "code",
   "execution_count": null,
   "metadata": {},
   "outputs": [],
   "source": []
  },
  {
   "cell_type": "code",
   "execution_count": null,
   "metadata": {},
   "outputs": [],
   "source": []
  },
  {
   "cell_type": "code",
   "execution_count": null,
   "metadata": {},
   "outputs": [],
   "source": []
  },
  {
   "cell_type": "code",
   "execution_count": null,
   "metadata": {},
   "outputs": [],
   "source": []
  },
  {
   "cell_type": "code",
   "execution_count": null,
   "metadata": {},
   "outputs": [],
   "source": []
  },
  {
   "cell_type": "code",
   "execution_count": null,
   "metadata": {},
   "outputs": [],
   "source": []
  },
  {
   "cell_type": "code",
   "execution_count": null,
   "metadata": {},
   "outputs": [],
   "source": []
  },
  {
   "cell_type": "code",
   "execution_count": null,
   "metadata": {},
   "outputs": [],
   "source": []
  },
  {
   "cell_type": "code",
   "execution_count": null,
   "metadata": {},
   "outputs": [],
   "source": []
  },
  {
   "cell_type": "code",
   "execution_count": null,
   "metadata": {},
   "outputs": [],
   "source": []
  },
  {
   "cell_type": "code",
   "execution_count": null,
   "metadata": {},
   "outputs": [],
   "source": []
  },
  {
   "cell_type": "code",
   "execution_count": null,
   "metadata": {},
   "outputs": [],
   "source": []
  },
  {
   "cell_type": "code",
   "execution_count": null,
   "metadata": {},
   "outputs": [],
   "source": []
  },
  {
   "cell_type": "code",
   "execution_count": null,
   "metadata": {},
   "outputs": [],
   "source": []
  },
  {
   "cell_type": "code",
   "execution_count": null,
   "metadata": {},
   "outputs": [],
   "source": []
  },
  {
   "cell_type": "code",
   "execution_count": null,
   "metadata": {},
   "outputs": [],
   "source": []
  },
  {
   "cell_type": "code",
   "execution_count": null,
   "metadata": {},
   "outputs": [],
   "source": []
  },
  {
   "cell_type": "code",
   "execution_count": null,
   "metadata": {},
   "outputs": [],
   "source": []
  },
  {
   "cell_type": "code",
   "execution_count": null,
   "metadata": {},
   "outputs": [],
   "source": []
  },
  {
   "cell_type": "code",
   "execution_count": null,
   "metadata": {},
   "outputs": [],
   "source": []
  },
  {
   "cell_type": "code",
   "execution_count": null,
   "metadata": {},
   "outputs": [],
   "source": []
  },
  {
   "cell_type": "code",
   "execution_count": null,
   "metadata": {},
   "outputs": [],
   "source": []
  },
  {
   "cell_type": "code",
   "execution_count": null,
   "metadata": {},
   "outputs": [],
   "source": []
  },
  {
   "cell_type": "code",
   "execution_count": null,
   "metadata": {},
   "outputs": [],
   "source": []
  },
  {
   "cell_type": "code",
   "execution_count": null,
   "metadata": {},
   "outputs": [],
   "source": []
  },
  {
   "cell_type": "code",
   "execution_count": null,
   "metadata": {},
   "outputs": [],
   "source": []
  },
  {
   "cell_type": "code",
   "execution_count": null,
   "metadata": {},
   "outputs": [],
   "source": []
  },
  {
   "cell_type": "code",
   "execution_count": null,
   "metadata": {},
   "outputs": [],
   "source": []
  },
  {
   "cell_type": "code",
   "execution_count": 159,
   "metadata": {},
   "outputs": [],
   "source": [
    "# Let's now scale the data:\n",
    "#from sklearn.preprocessing import StandardScaler\n",
    "\n",
    "#scaler = StandardScaler()\n",
    "#scaler.fit(X_train)\n",
    "#X_train = scaler.transform(X_train)\n",
    "#X_test = scaler.transform(X_test)"
   ]
  },
  {
   "cell_type": "code",
   "execution_count": null,
   "metadata": {},
   "outputs": [],
   "source": [
    "# Some additional works to do:\n",
    "# make prediction model just based on one particular state, California for ex\n"
   ]
  },
  {
   "cell_type": "code",
   "execution_count": null,
   "metadata": {},
   "outputs": [],
   "source": []
  },
  {
   "cell_type": "code",
   "execution_count": null,
   "metadata": {},
   "outputs": [],
   "source": [
    "# # Assigning data (X) and target (y) columns:\n",
    "# #X_lm = df_work3.loc[:, df_work3.columns != 'price']\n",
    "# #y_lm = df_work3['price']\n",
    "\n",
    "# #print('X_lm shape:', X_lm.shape)\n",
    "# #print('y_lm.shape:', y_lm.shape)\n",
    "\n",
    "# # Let's split our dataframe into train and test sets:\n",
    "# #X_lm_train, X_lm_test, y_lm_train, y_lm_test = train_test_split(X_lm, y_lm, test_size = 0.2, random_state=1)\n",
    "\n",
    "\n",
    "# # OLS\n",
    "\n",
    "# # Importing our package:\n",
    "# import statsmodels.api as sm\n",
    "\n",
    "# # Adding constant:\n",
    "# X_withconstant = sm.add_constant(X_lm_train)\n",
    "# display(X_withconstant.head())\n",
    "\n",
    "# # 1. Instantiate Model\n",
    "# myLM = sm.OLS(y,X_withconstant)\n",
    "\n",
    "# # 2. Fit Model (this returns a seperate object with the parameters)\n",
    "# myLM_results = myLM.fit()\n",
    "\n",
    "# # Looking at the summary\n",
    "# myLM_results.summary()\n",
    "\n",
    "# # Checking our test set:\n",
    "\n",
    "# # Adding constant:\n",
    "# #X_test_const = sm.add_constant(X_lm_test)\n",
    "\n",
    "# # Predictions\n",
    "# #y_lm_pred = myLM_results.predict(X_test_const)\n",
    "\n",
    "# #r, p_value = stats.pearsonr(X_test_const,y_lm_test)"
   ]
  },
  {
   "cell_type": "markdown",
   "metadata": {},
   "source": [
    " "
   ]
  },
  {
   "cell_type": "markdown",
   "metadata": {},
   "source": [
    " "
   ]
  },
  {
   "cell_type": "markdown",
   "metadata": {},
   "source": [
    " "
   ]
  }
 ],
 "metadata": {
  "kernelspec": {
   "display_name": "Python 3",
   "language": "python",
   "name": "python3"
  },
  "language_info": {
   "codemirror_mode": {
    "name": "ipython",
    "version": 3
   },
   "file_extension": ".py",
   "mimetype": "text/x-python",
   "name": "python",
   "nbconvert_exporter": "python",
   "pygments_lexer": "ipython3",
   "version": "3.7.7"
  },
  "toc-autonumbering": false
 },
 "nbformat": 4,
 "nbformat_minor": 4
}
