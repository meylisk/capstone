{
 "cells": [
  {
   "cell_type": "markdown",
   "metadata": {},
   "source": [
    "# Car Price Prediction Model\n",
    "___\n",
    "*A Capstone Project by Meylis Garryyev (June 2020)*"
   ]
  },
  {
   "cell_type": "markdown",
   "metadata": {},
   "source": [
    "This is the 1st notebook of my capstone project."
   ]
  },
  {
   "cell_type": "markdown",
   "metadata": {},
   "source": [
    " \n"
   ]
  },
  {
   "cell_type": "markdown",
   "metadata": {},
   "source": [
    "## Part 1: Cleaning and Exploratory Data Analysis"
   ]
  },
  {
   "cell_type": "markdown",
   "metadata": {},
   "source": [
    "Before starting working on our project, let's actually import python packages and libraries that we will be working with. In this notebook we will be working with ScikitLearn ML models and one XGBoost model. In another notebook, which is also provided, we will be working with Neural Networks run on Google's Colab space."
   ]
  },
  {
   "cell_type": "code",
   "execution_count": 2,
   "metadata": {},
   "outputs": [],
   "source": [
    "# Importing Python packages:\n",
    "import numpy as np\n",
    "import pandas as pd\n",
    "import seaborn as sns\n",
    "import matplotlib.pyplot as plt\n",
    "%matplotlib inline\n",
    "\n",
    "from sklearn.model_selection import train_test_split\n",
    "from sklearn.model_selection import GridSearchCV\n",
    "from sklearn.preprocessing import StandardScaler\n",
    "from sklearn.metrics import  mean_absolute_error as mae\n",
    "import joblib\n",
    "\n",
    "# ML models used:\n",
    "from sklearn.linear_model import LinearRegression\n",
    "from sklearn.linear_model import Ridge\n",
    "from sklearn.linear_model import RidgeCV\n",
    "from sklearn.linear_model import Lasso\n",
    "from sklearn.linear_model import LassoCV\n",
    "from sklearn.linear_model import ElasticNet\n",
    "from sklearn.neighbors import KNeighborsRegressor\n",
    "from sklearn.tree import DecisionTreeRegressor\n",
    "from sklearn.svm import LinearSVR\n",
    "from sklearn.ensemble import RandomForestRegressor\n",
    "import xgboost as xgb\n",
    "# if you don't have py-xgboost-cpu installed, just import my \"capstone\" conda environment that is provided with this notebook\n",
    "\n",
    "#Some of these packages will generate a ton of warnings ...\n",
    "import warnings\n",
    "warnings.filterwarnings(\"ignore\")"
   ]
  },
  {
   "cell_type": "markdown",
   "metadata": {},
   "source": [
    " "
   ]
  },
  {
   "cell_type": "markdown",
   "metadata": {},
   "source": [
    "Let's first start with importing our dataset file. The dataset was acquired from Kaggle, and is being updated every few months. The dataset that is used in this notebook is Version 5, is the [source](https://www.kaggle.com/austinreese/craigslist-carstrucks-data).\n",
    "\n",
    "The main assumption in using this dataset was that prices that are shown for each ad were assumed to be the sold value of that particular car. "
   ]
  },
  {
   "cell_type": "code",
   "execution_count": 3,
   "metadata": {},
   "outputs": [],
   "source": [
    "# Loading the file as dataframe:\n",
    "df_raw = pd.read_csv('data/vehicles.csv')"
   ]
  },
  {
   "cell_type": "code",
   "execution_count": 4,
   "metadata": {},
   "outputs": [
    {
     "name": "stdout",
     "output_type": "stream",
     "text": [
      "Shape of the dataset:  (539759, 25)\n"
     ]
    },
    {
     "data": {
      "text/html": [
       "<div>\n",
       "<style scoped>\n",
       "    .dataframe tbody tr th:only-of-type {\n",
       "        vertical-align: middle;\n",
       "    }\n",
       "\n",
       "    .dataframe tbody tr th {\n",
       "        vertical-align: top;\n",
       "    }\n",
       "\n",
       "    .dataframe thead th {\n",
       "        text-align: right;\n",
       "    }\n",
       "</style>\n",
       "<table border=\"1\" class=\"dataframe\">\n",
       "  <thead>\n",
       "    <tr style=\"text-align: right;\">\n",
       "      <th></th>\n",
       "      <th>id</th>\n",
       "      <th>url</th>\n",
       "      <th>region</th>\n",
       "      <th>region_url</th>\n",
       "      <th>price</th>\n",
       "      <th>year</th>\n",
       "      <th>manufacturer</th>\n",
       "      <th>model</th>\n",
       "      <th>condition</th>\n",
       "      <th>cylinders</th>\n",
       "      <th>...</th>\n",
       "      <th>drive</th>\n",
       "      <th>size</th>\n",
       "      <th>type</th>\n",
       "      <th>paint_color</th>\n",
       "      <th>image_url</th>\n",
       "      <th>description</th>\n",
       "      <th>county</th>\n",
       "      <th>state</th>\n",
       "      <th>lat</th>\n",
       "      <th>long</th>\n",
       "    </tr>\n",
       "  </thead>\n",
       "  <tbody>\n",
       "    <tr>\n",
       "      <th>0</th>\n",
       "      <td>7088746062</td>\n",
       "      <td>https://greensboro.craigslist.org/ctd/d/cary-2...</td>\n",
       "      <td>greensboro</td>\n",
       "      <td>https://greensboro.craigslist.org</td>\n",
       "      <td>10299</td>\n",
       "      <td>2012.0</td>\n",
       "      <td>acura</td>\n",
       "      <td>tl</td>\n",
       "      <td>NaN</td>\n",
       "      <td>NaN</td>\n",
       "      <td>...</td>\n",
       "      <td>NaN</td>\n",
       "      <td>NaN</td>\n",
       "      <td>other</td>\n",
       "      <td>blue</td>\n",
       "      <td>https://images.craigslist.org/01414_3LIXs9EO33...</td>\n",
       "      <td>2012 Acura TL Base 4dr Sedan     Offered by: B...</td>\n",
       "      <td>NaN</td>\n",
       "      <td>nc</td>\n",
       "      <td>35.7636</td>\n",
       "      <td>-78.7443</td>\n",
       "    </tr>\n",
       "    <tr>\n",
       "      <th>1</th>\n",
       "      <td>7088745301</td>\n",
       "      <td>https://greensboro.craigslist.org/ctd/d/bmw-3-...</td>\n",
       "      <td>greensboro</td>\n",
       "      <td>https://greensboro.craigslist.org</td>\n",
       "      <td>0</td>\n",
       "      <td>2011.0</td>\n",
       "      <td>bmw</td>\n",
       "      <td>335</td>\n",
       "      <td>NaN</td>\n",
       "      <td>6 cylinders</td>\n",
       "      <td>...</td>\n",
       "      <td>rwd</td>\n",
       "      <td>NaN</td>\n",
       "      <td>convertible</td>\n",
       "      <td>blue</td>\n",
       "      <td>https://images.craigslist.org/00S0S_1kTatLGLxB...</td>\n",
       "      <td>BMW 3 Series 335i Convertible Navigation Dakot...</td>\n",
       "      <td>NaN</td>\n",
       "      <td>nc</td>\n",
       "      <td>NaN</td>\n",
       "      <td>NaN</td>\n",
       "    </tr>\n",
       "    <tr>\n",
       "      <th>2</th>\n",
       "      <td>7088744126</td>\n",
       "      <td>https://greensboro.craigslist.org/cto/d/greens...</td>\n",
       "      <td>greensboro</td>\n",
       "      <td>https://greensboro.craigslist.org</td>\n",
       "      <td>9500</td>\n",
       "      <td>2011.0</td>\n",
       "      <td>jaguar</td>\n",
       "      <td>xf</td>\n",
       "      <td>excellent</td>\n",
       "      <td>NaN</td>\n",
       "      <td>...</td>\n",
       "      <td>NaN</td>\n",
       "      <td>NaN</td>\n",
       "      <td>NaN</td>\n",
       "      <td>blue</td>\n",
       "      <td>https://images.craigslist.org/00505_f22HGItCRp...</td>\n",
       "      <td>2011 jaguar XF premium - estate sale. Retired ...</td>\n",
       "      <td>NaN</td>\n",
       "      <td>nc</td>\n",
       "      <td>36.1032</td>\n",
       "      <td>-79.8794</td>\n",
       "    </tr>\n",
       "    <tr>\n",
       "      <th>3</th>\n",
       "      <td>7088743681</td>\n",
       "      <td>https://greensboro.craigslist.org/ctd/d/cary-2...</td>\n",
       "      <td>greensboro</td>\n",
       "      <td>https://greensboro.craigslist.org</td>\n",
       "      <td>3995</td>\n",
       "      <td>2004.0</td>\n",
       "      <td>honda</td>\n",
       "      <td>element</td>\n",
       "      <td>NaN</td>\n",
       "      <td>NaN</td>\n",
       "      <td>...</td>\n",
       "      <td>fwd</td>\n",
       "      <td>NaN</td>\n",
       "      <td>SUV</td>\n",
       "      <td>orange</td>\n",
       "      <td>https://images.craigslist.org/00E0E_eAUnhFF86M...</td>\n",
       "      <td>2004 Honda Element LX 4dr SUV     Offered by: ...</td>\n",
       "      <td>NaN</td>\n",
       "      <td>nc</td>\n",
       "      <td>35.7636</td>\n",
       "      <td>-78.7443</td>\n",
       "    </tr>\n",
       "    <tr>\n",
       "      <th>4</th>\n",
       "      <td>7074612539</td>\n",
       "      <td>https://lincoln.craigslist.org/ctd/d/gretna-20...</td>\n",
       "      <td>lincoln</td>\n",
       "      <td>https://lincoln.craigslist.org</td>\n",
       "      <td>41988</td>\n",
       "      <td>2016.0</td>\n",
       "      <td>chevrolet</td>\n",
       "      <td>silverado k2500hd</td>\n",
       "      <td>NaN</td>\n",
       "      <td>NaN</td>\n",
       "      <td>...</td>\n",
       "      <td>NaN</td>\n",
       "      <td>NaN</td>\n",
       "      <td>NaN</td>\n",
       "      <td>NaN</td>\n",
       "      <td>https://images.craigslist.org/00S0S_8msT7RQquO...</td>\n",
       "      <td>Shop Indoors, Heated Showroom!!!www.gretnaauto...</td>\n",
       "      <td>NaN</td>\n",
       "      <td>ne</td>\n",
       "      <td>41.1345</td>\n",
       "      <td>-96.2458</td>\n",
       "    </tr>\n",
       "  </tbody>\n",
       "</table>\n",
       "<p>5 rows × 25 columns</p>\n",
       "</div>"
      ],
      "text/plain": [
       "           id                                                url      region  \\\n",
       "0  7088746062  https://greensboro.craigslist.org/ctd/d/cary-2...  greensboro   \n",
       "1  7088745301  https://greensboro.craigslist.org/ctd/d/bmw-3-...  greensboro   \n",
       "2  7088744126  https://greensboro.craigslist.org/cto/d/greens...  greensboro   \n",
       "3  7088743681  https://greensboro.craigslist.org/ctd/d/cary-2...  greensboro   \n",
       "4  7074612539  https://lincoln.craigslist.org/ctd/d/gretna-20...     lincoln   \n",
       "\n",
       "                          region_url  price    year manufacturer  \\\n",
       "0  https://greensboro.craigslist.org  10299  2012.0        acura   \n",
       "1  https://greensboro.craigslist.org      0  2011.0          bmw   \n",
       "2  https://greensboro.craigslist.org   9500  2011.0       jaguar   \n",
       "3  https://greensboro.craigslist.org   3995  2004.0        honda   \n",
       "4     https://lincoln.craigslist.org  41988  2016.0    chevrolet   \n",
       "\n",
       "               model  condition    cylinders  ... drive  size         type  \\\n",
       "0                 tl        NaN          NaN  ...   NaN   NaN        other   \n",
       "1                335        NaN  6 cylinders  ...   rwd   NaN  convertible   \n",
       "2                 xf  excellent          NaN  ...   NaN   NaN          NaN   \n",
       "3            element        NaN          NaN  ...   fwd   NaN          SUV   \n",
       "4  silverado k2500hd        NaN          NaN  ...   NaN   NaN          NaN   \n",
       "\n",
       "  paint_color                                          image_url  \\\n",
       "0        blue  https://images.craigslist.org/01414_3LIXs9EO33...   \n",
       "1        blue  https://images.craigslist.org/00S0S_1kTatLGLxB...   \n",
       "2        blue  https://images.craigslist.org/00505_f22HGItCRp...   \n",
       "3      orange  https://images.craigslist.org/00E0E_eAUnhFF86M...   \n",
       "4         NaN  https://images.craigslist.org/00S0S_8msT7RQquO...   \n",
       "\n",
       "                                         description county state      lat  \\\n",
       "0  2012 Acura TL Base 4dr Sedan     Offered by: B...    NaN    nc  35.7636   \n",
       "1  BMW 3 Series 335i Convertible Navigation Dakot...    NaN    nc      NaN   \n",
       "2  2011 jaguar XF premium - estate sale. Retired ...    NaN    nc  36.1032   \n",
       "3  2004 Honda Element LX 4dr SUV     Offered by: ...    NaN    nc  35.7636   \n",
       "4  Shop Indoors, Heated Showroom!!!www.gretnaauto...    NaN    ne  41.1345   \n",
       "\n",
       "      long  \n",
       "0 -78.7443  \n",
       "1      NaN  \n",
       "2 -79.8794  \n",
       "3 -78.7443  \n",
       "4 -96.2458  \n",
       "\n",
       "[5 rows x 25 columns]"
      ]
     },
     "execution_count": 4,
     "metadata": {},
     "output_type": "execute_result"
    }
   ],
   "source": [
    "# Let's see the shape of our dataset:\n",
    "print('Shape of the dataset: ', df_raw.shape)\n",
    "\n",
    "# The head of the dataset:\n",
    "df_raw.head()"
   ]
  },
  {
   "cell_type": "markdown",
   "metadata": {},
   "source": [
    "As we can see, our dataset consist of 539,759 rows and 25 columns, where each row represents each unique craigslist vehicle ad."
   ]
  },
  {
   "cell_type": "code",
   "execution_count": 5,
   "metadata": {
    "tags": []
   },
   "outputs": [
    {
     "name": "stdout",
     "output_type": "stream",
     "text": [
      "<class 'pandas.core.frame.DataFrame'>\n",
      "RangeIndex: 539759 entries, 0 to 539758\n",
      "Data columns (total 25 columns):\n",
      " #   Column        Non-Null Count   Dtype  \n",
      "---  ------        --------------   -----  \n",
      " 0   id            539759 non-null  int64  \n",
      " 1   url           539759 non-null  object \n",
      " 2   region        539759 non-null  object \n",
      " 3   region_url    539759 non-null  object \n",
      " 4   price         539759 non-null  int64  \n",
      " 5   year          538772 non-null  float64\n",
      " 6   manufacturer  516175 non-null  object \n",
      " 7   model         531746 non-null  object \n",
      " 8   condition     303707 non-null  object \n",
      " 9   cylinders     321264 non-null  object \n",
      " 10  fuel          536366 non-null  object \n",
      " 11  odometer      440783 non-null  float64\n",
      " 12  title_status  536819 non-null  object \n",
      " 13  transmission  535786 non-null  object \n",
      " 14  vin           315349 non-null  object \n",
      " 15  drive         383987 non-null  object \n",
      " 16  size          168550 non-null  object \n",
      " 17  type          392290 non-null  object \n",
      " 18  paint_color   365520 non-null  object \n",
      " 19  image_url     539740 non-null  object \n",
      " 20  description   539738 non-null  object \n",
      " 21  county        0 non-null       float64\n",
      " 22  state         539759 non-null  object \n",
      " 23  lat           530785 non-null  float64\n",
      " 24  long          530785 non-null  float64\n",
      "dtypes: float64(5), int64(2), object(18)\n",
      "memory usage: 103.0+ MB\n"
     ]
    }
   ],
   "source": [
    "# Let's just get some more useful insights from our dataset:\n",
    "df_raw.info()"
   ]
  },
  {
   "cell_type": "markdown",
   "metadata": {},
   "source": [
    "We can see that `county` column is actually a null column, no data is in it. So, let's remove it. But first, let's create a working copy of our raw dataframe."
   ]
  },
  {
   "cell_type": "code",
   "execution_count": 6,
   "metadata": {
    "tags": []
   },
   "outputs": [
    {
     "name": "stdout",
     "output_type": "stream",
     "text": [
      "<class 'pandas.core.frame.DataFrame'>\n",
      "RangeIndex: 539759 entries, 0 to 539758\n",
      "Data columns (total 24 columns):\n",
      " #   Column        Non-Null Count   Dtype  \n",
      "---  ------        --------------   -----  \n",
      " 0   id            539759 non-null  int64  \n",
      " 1   url           539759 non-null  object \n",
      " 2   region        539759 non-null  object \n",
      " 3   region_url    539759 non-null  object \n",
      " 4   price         539759 non-null  int64  \n",
      " 5   year          538772 non-null  float64\n",
      " 6   manufacturer  516175 non-null  object \n",
      " 7   model         531746 non-null  object \n",
      " 8   condition     303707 non-null  object \n",
      " 9   cylinders     321264 non-null  object \n",
      " 10  fuel          536366 non-null  object \n",
      " 11  odometer      440783 non-null  float64\n",
      " 12  title_status  536819 non-null  object \n",
      " 13  transmission  535786 non-null  object \n",
      " 14  vin           315349 non-null  object \n",
      " 15  drive         383987 non-null  object \n",
      " 16  size          168550 non-null  object \n",
      " 17  type          392290 non-null  object \n",
      " 18  paint_color   365520 non-null  object \n",
      " 19  image_url     539740 non-null  object \n",
      " 20  description   539738 non-null  object \n",
      " 21  state         539759 non-null  object \n",
      " 22  lat           530785 non-null  float64\n",
      " 23  long          530785 non-null  float64\n",
      "dtypes: float64(4), int64(2), object(18)\n",
      "memory usage: 98.8+ MB\n"
     ]
    }
   ],
   "source": [
    "# Creating a copy of the raw dataframe:\n",
    "df_work1 = df_raw.copy()\n",
    "\n",
    "# Dropping 'county' column:\n",
    "df_work1 = df_work1.drop(['county'], axis=1)\n",
    "df_work1.info()"
   ]
  },
  {
   "cell_type": "markdown",
   "metadata": {},
   "source": [
    "Now, let's see if we have any duplicate rows."
   ]
  },
  {
   "cell_type": "code",
   "execution_count": 7,
   "metadata": {},
   "outputs": [
    {
     "data": {
      "text/plain": [
       "0"
      ]
     },
     "execution_count": 7,
     "metadata": {},
     "output_type": "execute_result"
    }
   ],
   "source": [
    "# Let's see number of duplicate rows we have:\n",
    "df_work1.duplicated().sum()"
   ]
  },
  {
   "cell_type": "markdown",
   "metadata": {},
   "source": [
    "We can see that we don't have any duplicated rows. But is that really the case? Probably not, because we have some unique value columns in our dataset, like url's that were created for each ad, even if the ad was re-posted.\n",
    "\n",
    "Let's actually remove some those columns (`id`,  `url`, `region_url`, `image_url`), which we won't be using for our model, as they probably won't make any useful impact on our model, but would take our computational capability. After dropping those, let's then check if we still have no duplicated rows."
   ]
  },
  {
   "cell_type": "code",
   "execution_count": 8,
   "metadata": {},
   "outputs": [
    {
     "data": {
      "text/plain": [
       "37043"
      ]
     },
     "execution_count": 8,
     "metadata": {},
     "output_type": "execute_result"
    }
   ],
   "source": [
    "# Dropping unnecessary columns:\n",
    "df_work1 = df_work1.drop(['id', 'url', 'region_url', 'image_url'], axis=1)\n",
    "\n",
    "# Let's see number of duplicate rows we have now:\n",
    "df_work1.duplicated().sum()"
   ]
  },
  {
   "cell_type": "markdown",
   "metadata": {},
   "source": [
    "Now, as we can see, we have actually some duplicated rows. These were probably same ads posted few times. Let's remove them."
   ]
  },
  {
   "cell_type": "code",
   "execution_count": 9,
   "metadata": {},
   "outputs": [
    {
     "data": {
      "text/plain": [
       "0"
      ]
     },
     "execution_count": 9,
     "metadata": {},
     "output_type": "execute_result"
    }
   ],
   "source": [
    "# Let's drop duplicate rows:\n",
    "df_work1 = df_work1.drop_duplicates()\n",
    "\n",
    "# Let's see number of duplicate rows we have:\n",
    "df_work1.duplicated().sum()"
   ]
  },
  {
   "cell_type": "markdown",
   "metadata": {},
   "source": [
    "We can see now that there are no duplicated rows left in our dataset."
   ]
  },
  {
   "cell_type": "markdown",
   "metadata": {},
   "source": [
    "We also don't really need the `vin` column, for the same reason as it this feature won't make much of a useful impact on our model. Additionally, we would also exclude `state` and `region` columns, as we would use `lat` and `long` columns instead. This would allow us to have much less columns at the end (saves computational load), as we won't have to turn `state` and `region` columns into binary columns, and we would have even more precise geographical information with `lat` and `long` columns.  Also, the `description` column will not be included for now, as it's a separate NLP problem, which is out of the scope of our project for now. So, let's drop those too."
   ]
  },
  {
   "cell_type": "code",
   "execution_count": 10,
   "metadata": {
    "tags": []
   },
   "outputs": [
    {
     "name": "stdout",
     "output_type": "stream",
     "text": [
      "<class 'pandas.core.frame.DataFrame'>\n",
      "Int64Index: 502716 entries, 0 to 539758\n",
      "Data columns (total 16 columns):\n",
      " #   Column        Non-Null Count   Dtype  \n",
      "---  ------        --------------   -----  \n",
      " 0   price         502716 non-null  int64  \n",
      " 1   year          501764 non-null  float64\n",
      " 2   manufacturer  481335 non-null  object \n",
      " 3   model         495471 non-null  object \n",
      " 4   condition     283533 non-null  object \n",
      " 5   cylinders     300806 non-null  object \n",
      " 6   fuel          499504 non-null  object \n",
      " 7   odometer      415131 non-null  float64\n",
      " 8   title_status  500059 non-null  object \n",
      " 9   transmission  498747 non-null  object \n",
      " 10  drive         360334 non-null  object \n",
      " 11  size          158068 non-null  object \n",
      " 12  type          370108 non-null  object \n",
      " 13  paint_color   344528 non-null  object \n",
      " 14  lat           494033 non-null  float64\n",
      " 15  long          494033 non-null  float64\n",
      "dtypes: float64(4), int64(1), object(11)\n",
      "memory usage: 65.2+ MB\n"
     ]
    }
   ],
   "source": [
    "# Dropping columns stated above:\n",
    "df_work2 = df_work1.drop(['vin', 'description', 'region', 'state'], axis=1)\n",
    "df_work2.info()"
   ]
  },
  {
   "cell_type": "markdown",
   "metadata": {},
   "source": [
    "Before we begin exploring our data, let's check if we have any empty values and replace those with null values."
   ]
  },
  {
   "cell_type": "code",
   "execution_count": 11,
   "metadata": {},
   "outputs": [],
   "source": [
    "# Let's check if we have rows with empty values, and replace those empty values with NaN values:\n",
    "df_work2 = df_work2.replace({'':np.nan})"
   ]
  },
  {
   "cell_type": "markdown",
   "metadata": {},
   "source": [
    "Now, let's explore our numerical columns distributions."
   ]
  },
  {
   "cell_type": "code",
   "execution_count": 12,
   "metadata": {},
   "outputs": [
    {
     "data": {
      "text/html": [
       "<div>\n",
       "<style scoped>\n",
       "    .dataframe tbody tr th:only-of-type {\n",
       "        vertical-align: middle;\n",
       "    }\n",
       "\n",
       "    .dataframe tbody tr th {\n",
       "        vertical-align: top;\n",
       "    }\n",
       "\n",
       "    .dataframe thead th {\n",
       "        text-align: right;\n",
       "    }\n",
       "</style>\n",
       "<table border=\"1\" class=\"dataframe\">\n",
       "  <thead>\n",
       "    <tr style=\"text-align: right;\">\n",
       "      <th></th>\n",
       "      <th>price</th>\n",
       "      <th>year</th>\n",
       "      <th>odometer</th>\n",
       "      <th>lat</th>\n",
       "      <th>long</th>\n",
       "    </tr>\n",
       "  </thead>\n",
       "  <tbody>\n",
       "    <tr>\n",
       "      <th>count</th>\n",
       "      <td>5.027160e+05</td>\n",
       "      <td>501764.000000</td>\n",
       "      <td>4.151310e+05</td>\n",
       "      <td>494033.000000</td>\n",
       "      <td>494033.000000</td>\n",
       "    </tr>\n",
       "    <tr>\n",
       "      <th>mean</th>\n",
       "      <td>2.013242e+05</td>\n",
       "      <td>2009.804105</td>\n",
       "      <td>1.003181e+05</td>\n",
       "      <td>38.413751</td>\n",
       "      <td>-94.046993</td>\n",
       "    </tr>\n",
       "    <tr>\n",
       "      <th>std</th>\n",
       "      <td>2.268544e+07</td>\n",
       "      <td>9.277610</td>\n",
       "      <td>1.801603e+05</td>\n",
       "      <td>5.890140</td>\n",
       "      <td>17.599488</td>\n",
       "    </tr>\n",
       "    <tr>\n",
       "      <th>min</th>\n",
       "      <td>0.000000e+00</td>\n",
       "      <td>0.000000</td>\n",
       "      <td>0.000000e+00</td>\n",
       "      <td>-84.911400</td>\n",
       "      <td>-176.810000</td>\n",
       "    </tr>\n",
       "    <tr>\n",
       "      <th>25%</th>\n",
       "      <td>4.495000e+03</td>\n",
       "      <td>2007.000000</td>\n",
       "      <td>4.635800e+04</td>\n",
       "      <td>34.186400</td>\n",
       "      <td>-107.368000</td>\n",
       "    </tr>\n",
       "    <tr>\n",
       "      <th>50%</th>\n",
       "      <td>9.840000e+03</td>\n",
       "      <td>2012.000000</td>\n",
       "      <td>9.252000e+04</td>\n",
       "      <td>39.045500</td>\n",
       "      <td>-88.066500</td>\n",
       "    </tr>\n",
       "    <tr>\n",
       "      <th>75%</th>\n",
       "      <td>1.799500e+04</td>\n",
       "      <td>2015.000000</td>\n",
       "      <td>1.370500e+05</td>\n",
       "      <td>42.449000</td>\n",
       "      <td>-81.282700</td>\n",
       "    </tr>\n",
       "    <tr>\n",
       "      <th>max</th>\n",
       "      <td>4.294967e+09</td>\n",
       "      <td>2021.000000</td>\n",
       "      <td>6.480922e+07</td>\n",
       "      <td>84.514800</td>\n",
       "      <td>161.016000</td>\n",
       "    </tr>\n",
       "  </tbody>\n",
       "</table>\n",
       "</div>"
      ],
      "text/plain": [
       "              price           year      odometer            lat           long\n",
       "count  5.027160e+05  501764.000000  4.151310e+05  494033.000000  494033.000000\n",
       "mean   2.013242e+05    2009.804105  1.003181e+05      38.413751     -94.046993\n",
       "std    2.268544e+07       9.277610  1.801603e+05       5.890140      17.599488\n",
       "min    0.000000e+00       0.000000  0.000000e+00     -84.911400    -176.810000\n",
       "25%    4.495000e+03    2007.000000  4.635800e+04      34.186400    -107.368000\n",
       "50%    9.840000e+03    2012.000000  9.252000e+04      39.045500     -88.066500\n",
       "75%    1.799500e+04    2015.000000  1.370500e+05      42.449000     -81.282700\n",
       "max    4.294967e+09    2021.000000  6.480922e+07      84.514800     161.016000"
      ]
     },
     "execution_count": 12,
     "metadata": {},
     "output_type": "execute_result"
    }
   ],
   "source": [
    "# View distribution range of numerical columns:\n",
    "df_work2.describe()"
   ]
  },
  {
   "cell_type": "markdown",
   "metadata": {},
   "source": [
    "Having some knowledge about cars, we know that it's extremely unlikely that someone would sell a car for \\\\$0 or very small amount. Also, some of the ads would include car parts wrongly (or maybe intentionally) posted in the car sales section. Besides that, we can also see some extremely high numbers for the price. Those were probably are fake prices.\n",
    "\n",
    "So, to be avoid having wrong data in our dataset and to address skewness, let's look at and remove rows with a price of \\\\$0 to \\\\$500, and also price of more than \\\\$100,000, as those would be outliers."
   ]
  },
  {
   "cell_type": "code",
   "execution_count": 13,
   "metadata": {
    "tags": []
   },
   "outputs": [
    {
     "name": "stdout",
     "output_type": "stream",
     "text": [
      "Number of rows with a price of $500 or less = 49617\n",
      "Number of rows with a price of $100,000 or more = 490\n"
     ]
    }
   ],
   "source": [
    "# Looking at how many cars are advertised at the price of $500 or less, and $1000,000 or more:\n",
    "print('Number of rows with a price of $500 or less =', df_work2['price'][df_work2['price'] <= 500.0].count())\n",
    "print('Number of rows with a price of $100,000 or more =', df_work2['price'][df_work2['price'] >= 100000.0].count())"
   ]
  },
  {
   "cell_type": "markdown",
   "metadata": {},
   "source": [
    "We can see that 49,617 cars were advertised at the price of \\\\$500 or less, and 490 cars were advertised at the price of \\\\$100,000 or more."
   ]
  },
  {
   "cell_type": "code",
   "execution_count": 14,
   "metadata": {},
   "outputs": [],
   "source": [
    "# Let's now drop those:\n",
    "df_work2.drop(df_work2.loc[df_work2['price']<=500].index, inplace=True)\n",
    "df_work2.drop(df_work2.loc[df_work2['price']>=100000].index, inplace=True)"
   ]
  },
  {
   "cell_type": "markdown",
   "metadata": {},
   "source": [
    "After initial filtering of our `price` column, let's view the distribution of it and see if we still have skewness left. "
   ]
  },
  {
   "cell_type": "code",
   "execution_count": 15,
   "metadata": {},
   "outputs": [
    {
     "data": {
      "text/plain": [
       "<matplotlib.axes._subplots.AxesSubplot at 0x25495df8948>"
      ]
     },
     "execution_count": 15,
     "metadata": {},
     "output_type": "execute_result"
    },
    {
     "data": {
      "image/png": "[encoded data removed]",
      "text/plain": [
       "<Figure size 432x288 with 1 Axes>"
      ]
     },
     "metadata": {
      "needs_background": "light"
     },
     "output_type": "display_data"
    }
   ],
   "source": [
    "# Let's look at the distribution of the \"price\" column:\n",
    "sns.distplot(df_work2[\"price\"])"
   ]
  },
  {
   "cell_type": "markdown",
   "metadata": {},
   "source": [
    "We can clearly see here that there are still some outliers. Ideally, I would like to set an upper price range of \\\\$40,000, and that would probably give me better model results. But due to my further plan of implementing this model into a website, and my intent to run tree based models, which we know won't be able to predict prices they haven't \"seen\", I decided to scope my price range up to \\\\$50,000. "
   ]
  },
  {
   "cell_type": "code",
   "execution_count": 16,
   "metadata": {},
   "outputs": [
    {
     "name": "stdout",
     "output_type": "stream",
     "text": [
      "Number of rows with a price of $500 or less = 0\n",
      "Number of rows with a price of $50,000 or more = 0\n"
     ]
    },
    {
     "data": {
      "text/plain": [
       "<matplotlib.axes._subplots.AxesSubplot at 0x25495f2e488>"
      ]
     },
     "execution_count": 16,
     "metadata": {},
     "output_type": "execute_result"
    },
    {
     "data": {
      "image/png": "[encoded data removed]",
      "text/plain": [
       "<Figure size 432x288 with 1 Axes>"
      ]
     },
     "metadata": {
      "needs_background": "light"
     },
     "output_type": "display_data"
    }
   ],
   "source": [
    "# Let's now drop those:\n",
    "df_work2.drop(df_work2.loc[df_work2['price']>=50000].index, inplace=True)\n",
    "\n",
    "# Double check if the values were dropped:\n",
    "print('Number of rows with a price of $500 or less =', df_work2['price'][df_work2['price'] <= 500.0].count())\n",
    "print('Number of rows with a price of $50,000 or more =', df_work2['price'][df_work2['price'] >= 50000.0].count())\n",
    "\n",
    "# Let's look at the distribution of the \"price\" column:\n",
    "sns.distplot(df_work2[\"price\"])"
   ]
  },
  {
   "cell_type": "markdown",
   "metadata": {},
   "source": [
    "Let's further explore our data."
   ]
  },
  {
   "cell_type": "code",
   "execution_count": 17,
   "metadata": {},
   "outputs": [
    {
     "data": {
      "text/plain": [
       "price            16582\n",
       "year               111\n",
       "manufacturer        42\n",
       "model            34294\n",
       "condition            6\n",
       "cylinders            8\n",
       "fuel                 5\n",
       "odometer        114264\n",
       "title_status         6\n",
       "transmission         3\n",
       "drive                3\n",
       "size                 4\n",
       "type                13\n",
       "paint_color         12\n",
       "lat              53131\n",
       "long             53155\n",
       "dtype: int64"
      ]
     },
     "execution_count": 17,
     "metadata": {},
     "output_type": "execute_result"
    }
   ],
   "source": [
    "# Let's see how many unique values each of the columns have:\n",
    "df_work2.nunique(axis=0)"
   ]
  },
  {
   "cell_type": "markdown",
   "metadata": {},
   "source": [
    "We can see that we have 34,294 unique values in our categorical `model` column. Converting them into dummy variables would take too many columns and would limit computational ability. I decided to drop this column."
   ]
  },
  {
   "cell_type": "code",
   "execution_count": 18,
   "metadata": {},
   "outputs": [
    {
     "data": {
      "text/plain": [
       "price            16582\n",
       "year               111\n",
       "manufacturer        42\n",
       "condition            6\n",
       "cylinders            8\n",
       "fuel                 5\n",
       "odometer        114264\n",
       "title_status         6\n",
       "transmission         3\n",
       "drive                3\n",
       "size                 4\n",
       "type                13\n",
       "paint_color         12\n",
       "lat              53131\n",
       "long             53155\n",
       "dtype: int64"
      ]
     },
     "execution_count": 18,
     "metadata": {},
     "output_type": "execute_result"
    }
   ],
   "source": [
    "# Dropping 'model' column:\n",
    "df_work2 = df_work2.drop(['model'], axis=1)\n",
    "df_work2.nunique(axis=0)"
   ]
  },
  {
   "cell_type": "markdown",
   "metadata": {},
   "source": [
    "We can see that the number of unique years is 111. Let's actually explore our `year` column."
   ]
  },
  {
   "cell_type": "code",
   "execution_count": 19,
   "metadata": {},
   "outputs": [
    {
     "data": {
      "text/html": [
       "<div>\n",
       "<style scoped>\n",
       "    .dataframe tbody tr th:only-of-type {\n",
       "        vertical-align: middle;\n",
       "    }\n",
       "\n",
       "    .dataframe tbody tr th {\n",
       "        vertical-align: top;\n",
       "    }\n",
       "\n",
       "    .dataframe thead th {\n",
       "        text-align: right;\n",
       "    }\n",
       "</style>\n",
       "<table border=\"1\" class=\"dataframe\">\n",
       "  <thead>\n",
       "    <tr style=\"text-align: right;\">\n",
       "      <th></th>\n",
       "      <th>price</th>\n",
       "      <th>year</th>\n",
       "      <th>odometer</th>\n",
       "      <th>lat</th>\n",
       "      <th>long</th>\n",
       "    </tr>\n",
       "  </thead>\n",
       "  <tbody>\n",
       "    <tr>\n",
       "      <th>count</th>\n",
       "      <td>447936.000000</td>\n",
       "      <td>447143.000000</td>\n",
       "      <td>3.716510e+05</td>\n",
       "      <td>444255.000000</td>\n",
       "      <td>444255.000000</td>\n",
       "    </tr>\n",
       "    <tr>\n",
       "      <th>mean</th>\n",
       "      <td>13494.169002</td>\n",
       "      <td>2009.452262</td>\n",
       "      <td>1.033392e+05</td>\n",
       "      <td>38.443925</td>\n",
       "      <td>-93.740187</td>\n",
       "    </tr>\n",
       "    <tr>\n",
       "      <th>std</th>\n",
       "      <td>9843.242874</td>\n",
       "      <td>9.376574</td>\n",
       "      <td>1.873337e+05</td>\n",
       "      <td>5.892406</td>\n",
       "      <td>17.429466</td>\n",
       "    </tr>\n",
       "    <tr>\n",
       "      <th>min</th>\n",
       "      <td>503.000000</td>\n",
       "      <td>0.000000</td>\n",
       "      <td>0.000000e+00</td>\n",
       "      <td>-84.911400</td>\n",
       "      <td>-176.810000</td>\n",
       "    </tr>\n",
       "    <tr>\n",
       "      <th>25%</th>\n",
       "      <td>5800.000000</td>\n",
       "      <td>2006.000000</td>\n",
       "      <td>4.964550e+04</td>\n",
       "      <td>34.221850</td>\n",
       "      <td>-106.286500</td>\n",
       "    </tr>\n",
       "    <tr>\n",
       "      <th>50%</th>\n",
       "      <td>10995.000000</td>\n",
       "      <td>2011.000000</td>\n",
       "      <td>9.576700e+04</td>\n",
       "      <td>39.123400</td>\n",
       "      <td>-87.931700</td>\n",
       "    </tr>\n",
       "    <tr>\n",
       "      <th>75%</th>\n",
       "      <td>18900.000000</td>\n",
       "      <td>2015.000000</td>\n",
       "      <td>1.400000e+05</td>\n",
       "      <td>42.449100</td>\n",
       "      <td>-81.143300</td>\n",
       "    </tr>\n",
       "    <tr>\n",
       "      <th>max</th>\n",
       "      <td>49999.000000</td>\n",
       "      <td>2021.000000</td>\n",
       "      <td>6.480922e+07</td>\n",
       "      <td>84.514800</td>\n",
       "      <td>161.016000</td>\n",
       "    </tr>\n",
       "  </tbody>\n",
       "</table>\n",
       "</div>"
      ],
      "text/plain": [
       "               price           year      odometer            lat  \\\n",
       "count  447936.000000  447143.000000  3.716510e+05  444255.000000   \n",
       "mean    13494.169002    2009.452262  1.033392e+05      38.443925   \n",
       "std      9843.242874       9.376574  1.873337e+05       5.892406   \n",
       "min       503.000000       0.000000  0.000000e+00     -84.911400   \n",
       "25%      5800.000000    2006.000000  4.964550e+04      34.221850   \n",
       "50%     10995.000000    2011.000000  9.576700e+04      39.123400   \n",
       "75%     18900.000000    2015.000000  1.400000e+05      42.449100   \n",
       "max     49999.000000    2021.000000  6.480922e+07      84.514800   \n",
       "\n",
       "                long  \n",
       "count  444255.000000  \n",
       "mean      -93.740187  \n",
       "std        17.429466  \n",
       "min      -176.810000  \n",
       "25%      -106.286500  \n",
       "50%       -87.931700  \n",
       "75%       -81.143300  \n",
       "max       161.016000  "
      ]
     },
     "execution_count": 19,
     "metadata": {},
     "output_type": "execute_result"
    }
   ],
   "source": [
    "# Looking at our 'year' column:\n",
    "df_work2.describe()"
   ]
  },
  {
   "cell_type": "markdown",
   "metadata": {},
   "source": [
    "We can see from here that the min value for our `year` column is 0, and the max value is 2021 (data was scraped from Craigslist in Feb 2020). These are not realistic values. Let's now actually see unique years in our dataset."
   ]
  },
  {
   "cell_type": "code",
   "execution_count": 20,
   "metadata": {
    "tags": []
   },
   "outputs": [
    {
     "name": "stdout",
     "output_type": "stream",
     "text": [
      "[2019.0, 2018.0, 2017.0, 2016.0, 2015.0, 2014.0, 2013.0, 2012.0, 2011.0, 2010.0, 2009.0, 2008.0, 2007.0, 2006.0, 2005.0, 2004.0, 2003.0, 2002.0, 2001.0, 2000.0, 1999.0, 1998.0, 1997.0, 1996.0, 1995.0, 1994.0, 1993.0, 1992.0, 1991.0, 1990.0, 1989.0, 1988.0, 1987.0, 1986.0, 1985.0, 1984.0, 1983.0, 1981.0, 1980.0, 1979.0, 1977.0, 1975.0, 1974.0, 1973.0, 1972.0, 1971.0, 1970.0, 1968.0, 1967.0, 1966.0, 1964.0, 1951.0, 1950.0, 1949.0, 1942.0, 1929.0, nan, 2021.0, 2020.0, 1982.0, 1978.0, 1976.0, 1969.0, 1965.0, 1963.0, 1962.0, 1961.0, 1960.0, 1959.0, 1958.0, 1957.0, 1956.0, 1955.0, 1954.0, 1953.0, 1952.0, 1948.0, 1947.0, 1946.0, 1945.0, 1943.0, 1941.0, 1940.0, 1939.0, 1938.0, 1937.0, 1936.0, 1935.0, 1934.0, 1933.0, 1932.0, 1931.0, 1930.0, 1928.0, 1927.0, 1926.0, 1925.0, 1924.0, 1923.0, 1922.0, 1919.0, 1918.0, 1917.0, 1916.0, 1915.0, 1914.0, 1913.0, 1912.0, 1909.0, 1908.0, 1900.0, 0.0]\n"
     ]
    }
   ],
   "source": [
    "print(sorted(df_work2['year'].unique(), reverse=True))"
   ]
  },
  {
   "cell_type": "markdown",
   "metadata": {},
   "source": [
    "We can see that we have some NAN values too. Let's see how many we have."
   ]
  },
  {
   "cell_type": "code",
   "execution_count": 21,
   "metadata": {},
   "outputs": [
    {
     "data": {
      "text/plain": [
       "size            68.239659\n",
       "condition       41.309026\n",
       "cylinders       39.253375\n",
       "paint_color     31.027424\n",
       "drive           28.374143\n",
       "type            26.689974\n",
       "odometer        17.030335\n",
       "manufacturer     3.959717\n",
       "long             0.821769\n",
       "lat              0.821769\n",
       "transmission     0.734703\n",
       "fuel             0.642949\n",
       "title_status     0.510341\n",
       "year             0.177034\n",
       "price            0.000000\n",
       "dtype: float64"
      ]
     },
     "execution_count": 21,
     "metadata": {},
     "output_type": "execute_result"
    }
   ],
   "source": [
    "# Let's see what percentage of each column has missing values, and sort in descending order:\n",
    "(np.mean(df_work2.isna()).sort_values(ascending = False))*100"
   ]
  },
  {
   "cell_type": "markdown",
   "metadata": {},
   "source": [
    "We have only 0.18% null values in our `year` column. As this is a tiny percentage, it was decided to drop those null values."
   ]
  },
  {
   "cell_type": "code",
   "execution_count": 22,
   "metadata": {},
   "outputs": [
    {
     "data": {
      "text/plain": [
       "size            68.183333\n",
       "condition       41.204939\n",
       "cylinders       39.318294\n",
       "paint_color     31.066348\n",
       "drive           28.402323\n",
       "type            26.717627\n",
       "odometer        17.056288\n",
       "manufacturer     3.789615\n",
       "long             0.818977\n",
       "lat              0.818977\n",
       "transmission     0.731757\n",
       "fuel             0.587508\n",
       "title_status     0.441917\n",
       "year             0.000000\n",
       "price            0.000000\n",
       "dtype: float64"
      ]
     },
     "execution_count": 22,
     "metadata": {},
     "output_type": "execute_result"
    }
   ],
   "source": [
    "# Dropping null values in 'year' column:\n",
    "df_work2.dropna(subset=['year'], inplace=True)\n",
    "(np.mean(df_work2.isna()).sort_values(ascending = False))*100"
   ]
  },
  {
   "cell_type": "code",
   "execution_count": 23,
   "metadata": {},
   "outputs": [
    {
     "data": {
      "image/png": "[encoded data removed]",
      "text/plain": [
       "<Figure size 432x288 with 1 Axes>"
      ]
     },
     "metadata": {
      "needs_background": "light"
     },
     "output_type": "display_data"
    }
   ],
   "source": [
    "# Histogram of the years distribution:\n",
    "plt.figure()\n",
    "plt.hist(df_work2['year'], range=(1900,2021), bins=50)\n",
    "plt.xlabel('Year')\n",
    "plt.ylabel('Count')\n",
    "plt.title('Number of Ads for Each Unique Year')\n",
    "plt.show()"
   ]
  },
  {
   "cell_type": "markdown",
   "metadata": {},
   "source": [
    "From the histogram above we can see that there were very few cars older than year of 1950 advertised. Let's exclude those outliers from our project scope. Again, here the scope was not too limited, as we could have set a lower range from 1980 or 1990 onwards, and get better results, but it was decided to have a higher range just for future plans of model implementation and the use of tree based models, as I have already described above."
   ]
  },
  {
   "cell_type": "code",
   "execution_count": 24,
   "metadata": {},
   "outputs": [
    {
     "data": {
      "text/html": [
       "<div>\n",
       "<style scoped>\n",
       "    .dataframe tbody tr th:only-of-type {\n",
       "        vertical-align: middle;\n",
       "    }\n",
       "\n",
       "    .dataframe tbody tr th {\n",
       "        vertical-align: top;\n",
       "    }\n",
       "\n",
       "    .dataframe thead th {\n",
       "        text-align: right;\n",
       "    }\n",
       "</style>\n",
       "<table border=\"1\" class=\"dataframe\">\n",
       "  <thead>\n",
       "    <tr style=\"text-align: right;\">\n",
       "      <th></th>\n",
       "      <th>price</th>\n",
       "      <th>year</th>\n",
       "      <th>odometer</th>\n",
       "      <th>lat</th>\n",
       "      <th>long</th>\n",
       "    </tr>\n",
       "  </thead>\n",
       "  <tbody>\n",
       "    <tr>\n",
       "      <th>count</th>\n",
       "      <td>446096.000000</td>\n",
       "      <td>446096.000000</td>\n",
       "      <td>3.705490e+05</td>\n",
       "      <td>442443.000000</td>\n",
       "      <td>442443.000000</td>\n",
       "    </tr>\n",
       "    <tr>\n",
       "      <th>mean</th>\n",
       "      <td>13457.875758</td>\n",
       "      <td>2009.620824</td>\n",
       "      <td>1.035323e+05</td>\n",
       "      <td>38.452336</td>\n",
       "      <td>-93.728282</td>\n",
       "    </tr>\n",
       "    <tr>\n",
       "      <th>std</th>\n",
       "      <td>9810.368517</td>\n",
       "      <td>8.183100</td>\n",
       "      <td>1.873696e+05</td>\n",
       "      <td>5.888064</td>\n",
       "      <td>17.426862</td>\n",
       "    </tr>\n",
       "    <tr>\n",
       "      <th>min</th>\n",
       "      <td>503.000000</td>\n",
       "      <td>1950.000000</td>\n",
       "      <td>0.000000e+00</td>\n",
       "      <td>-84.911400</td>\n",
       "      <td>-176.810000</td>\n",
       "    </tr>\n",
       "    <tr>\n",
       "      <th>25%</th>\n",
       "      <td>5800.000000</td>\n",
       "      <td>2006.000000</td>\n",
       "      <td>5.000000e+04</td>\n",
       "      <td>34.231600</td>\n",
       "      <td>-106.245000</td>\n",
       "    </tr>\n",
       "    <tr>\n",
       "      <th>50%</th>\n",
       "      <td>10995.000000</td>\n",
       "      <td>2011.000000</td>\n",
       "      <td>9.600000e+04</td>\n",
       "      <td>39.123400</td>\n",
       "      <td>-87.922700</td>\n",
       "    </tr>\n",
       "    <tr>\n",
       "      <th>75%</th>\n",
       "      <td>18900.000000</td>\n",
       "      <td>2015.000000</td>\n",
       "      <td>1.400100e+05</td>\n",
       "      <td>42.454400</td>\n",
       "      <td>-81.130300</td>\n",
       "    </tr>\n",
       "    <tr>\n",
       "      <th>max</th>\n",
       "      <td>49999.000000</td>\n",
       "      <td>2020.000000</td>\n",
       "      <td>6.480922e+07</td>\n",
       "      <td>84.514800</td>\n",
       "      <td>161.016000</td>\n",
       "    </tr>\n",
       "  </tbody>\n",
       "</table>\n",
       "</div>"
      ],
      "text/plain": [
       "               price           year      odometer            lat  \\\n",
       "count  446096.000000  446096.000000  3.705490e+05  442443.000000   \n",
       "mean    13457.875758    2009.620824  1.035323e+05      38.452336   \n",
       "std      9810.368517       8.183100  1.873696e+05       5.888064   \n",
       "min       503.000000    1950.000000  0.000000e+00     -84.911400   \n",
       "25%      5800.000000    2006.000000  5.000000e+04      34.231600   \n",
       "50%     10995.000000    2011.000000  9.600000e+04      39.123400   \n",
       "75%     18900.000000    2015.000000  1.400100e+05      42.454400   \n",
       "max     49999.000000    2020.000000  6.480922e+07      84.514800   \n",
       "\n",
       "                long  \n",
       "count  442443.000000  \n",
       "mean      -93.728282  \n",
       "std        17.426862  \n",
       "min      -176.810000  \n",
       "25%      -106.245000  \n",
       "50%       -87.922700  \n",
       "75%       -81.130300  \n",
       "max       161.016000  "
      ]
     },
     "execution_count": 24,
     "metadata": {},
     "output_type": "execute_result"
    }
   ],
   "source": [
    "# Let's now grab only years starting from 1950 and until current year of 2020:\n",
    "df_work2 = df_work2[df_work2['year'].between(1950, 2020)]\n",
    "\n",
    "# Let's just double check our years:\n",
    "df_work2.describe()"
   ]
  },
  {
   "cell_type": "markdown",
   "metadata": {},
   "source": [
    "From the above chart we can also see that our odometer column has some outliers too, with a min of 0 mileage, and max of really high values. For our project scope, we will use realistic mileages of used cars, from 50 to 300,000 odometer values."
   ]
  },
  {
   "cell_type": "code",
   "execution_count": 25,
   "metadata": {},
   "outputs": [
    {
     "data": {
      "text/html": [
       "<div>\n",
       "<style scoped>\n",
       "    .dataframe tbody tr th:only-of-type {\n",
       "        vertical-align: middle;\n",
       "    }\n",
       "\n",
       "    .dataframe tbody tr th {\n",
       "        vertical-align: top;\n",
       "    }\n",
       "\n",
       "    .dataframe thead th {\n",
       "        text-align: right;\n",
       "    }\n",
       "</style>\n",
       "<table border=\"1\" class=\"dataframe\">\n",
       "  <thead>\n",
       "    <tr style=\"text-align: right;\">\n",
       "      <th></th>\n",
       "      <th>price</th>\n",
       "      <th>year</th>\n",
       "      <th>odometer</th>\n",
       "      <th>lat</th>\n",
       "      <th>long</th>\n",
       "    </tr>\n",
       "  </thead>\n",
       "  <tbody>\n",
       "    <tr>\n",
       "      <th>count</th>\n",
       "      <td>365752.000000</td>\n",
       "      <td>365752.000000</td>\n",
       "      <td>365752.000000</td>\n",
       "      <td>362854.000000</td>\n",
       "      <td>362854.000000</td>\n",
       "    </tr>\n",
       "    <tr>\n",
       "      <th>mean</th>\n",
       "      <td>14212.702235</td>\n",
       "      <td>2010.602682</td>\n",
       "      <td>99555.629749</td>\n",
       "      <td>38.635932</td>\n",
       "      <td>-93.915396</td>\n",
       "    </tr>\n",
       "    <tr>\n",
       "      <th>std</th>\n",
       "      <td>9797.012366</td>\n",
       "      <td>6.790377</td>\n",
       "      <td>59035.403243</td>\n",
       "      <td>5.759702</td>\n",
       "      <td>17.643886</td>\n",
       "    </tr>\n",
       "    <tr>\n",
       "      <th>min</th>\n",
       "      <td>503.000000</td>\n",
       "      <td>1950.000000</td>\n",
       "      <td>50.000000</td>\n",
       "      <td>-84.911400</td>\n",
       "      <td>-170.288000</td>\n",
       "    </tr>\n",
       "    <tr>\n",
       "      <th>25%</th>\n",
       "      <td>6490.000000</td>\n",
       "      <td>2007.000000</td>\n",
       "      <td>50467.000000</td>\n",
       "      <td>34.453025</td>\n",
       "      <td>-107.751500</td>\n",
       "    </tr>\n",
       "    <tr>\n",
       "      <th>50%</th>\n",
       "      <td>11999.000000</td>\n",
       "      <td>2012.000000</td>\n",
       "      <td>95959.500000</td>\n",
       "      <td>39.292800</td>\n",
       "      <td>-87.823200</td>\n",
       "    </tr>\n",
       "    <tr>\n",
       "      <th>75%</th>\n",
       "      <td>19800.000000</td>\n",
       "      <td>2015.000000</td>\n",
       "      <td>139728.000000</td>\n",
       "      <td>42.498600</td>\n",
       "      <td>-81.118200</td>\n",
       "    </tr>\n",
       "    <tr>\n",
       "      <th>max</th>\n",
       "      <td>49999.000000</td>\n",
       "      <td>2020.000000</td>\n",
       "      <td>300000.000000</td>\n",
       "      <td>84.514800</td>\n",
       "      <td>161.016000</td>\n",
       "    </tr>\n",
       "  </tbody>\n",
       "</table>\n",
       "</div>"
      ],
      "text/plain": [
       "               price           year       odometer            lat  \\\n",
       "count  365752.000000  365752.000000  365752.000000  362854.000000   \n",
       "mean    14212.702235    2010.602682   99555.629749      38.635932   \n",
       "std      9797.012366       6.790377   59035.403243       5.759702   \n",
       "min       503.000000    1950.000000      50.000000     -84.911400   \n",
       "25%      6490.000000    2007.000000   50467.000000      34.453025   \n",
       "50%     11999.000000    2012.000000   95959.500000      39.292800   \n",
       "75%     19800.000000    2015.000000  139728.000000      42.498600   \n",
       "max     49999.000000    2020.000000  300000.000000      84.514800   \n",
       "\n",
       "                long  \n",
       "count  362854.000000  \n",
       "mean      -93.915396  \n",
       "std        17.643886  \n",
       "min      -170.288000  \n",
       "25%      -107.751500  \n",
       "50%       -87.823200  \n",
       "75%       -81.118200  \n",
       "max       161.016000  "
      ]
     },
     "execution_count": 25,
     "metadata": {},
     "output_type": "execute_result"
    }
   ],
   "source": [
    "# Let's now filter out odometer values from 50 to 300,000:\n",
    "df_work2 = df_work2[df_work2['odometer'].between(50, 300000)]\n",
    "\n",
    "# Let's just double check our odometer values:\n",
    "df_work2.describe()"
   ]
  },
  {
   "cell_type": "code",
   "execution_count": 26,
   "metadata": {},
   "outputs": [
    {
     "data": {
      "text/plain": [
       "size            66.221374\n",
       "condition       37.884687\n",
       "cylinders       34.756611\n",
       "paint_color     24.167469\n",
       "drive           21.008498\n",
       "type            18.167501\n",
       "manufacturer     2.867243\n",
       "transmission     0.847569\n",
       "long             0.792340\n",
       "lat              0.792340\n",
       "fuel             0.669033\n",
       "title_status     0.520024\n",
       "odometer         0.000000\n",
       "year             0.000000\n",
       "price            0.000000\n",
       "dtype: float64"
      ]
     },
     "execution_count": 26,
     "metadata": {},
     "output_type": "execute_result"
    }
   ],
   "source": [
    "# Let's see what percentage of each column has missing values left:\n",
    "(np.mean(df_work2.isna()).sort_values(ascending = False))*100"
   ]
  },
  {
   "cell_type": "markdown",
   "metadata": {},
   "source": [
    "Let's actually see what unique values each of our non-numeric columns have, and how many of those values are there. Let's see if some of those columns already contain values like 'other' or 'unknown', so instead of dropping null values or assigning some biased values, we would just assign null rows into those values.  "
   ]
  },
  {
   "cell_type": "code",
   "execution_count": 27,
   "metadata": {},
   "outputs": [
    {
     "data": {
      "text/html": [
       "<div>\n",
       "<style scoped>\n",
       "    .dataframe tbody tr th:only-of-type {\n",
       "        vertical-align: middle;\n",
       "    }\n",
       "\n",
       "    .dataframe tbody tr th {\n",
       "        vertical-align: top;\n",
       "    }\n",
       "\n",
       "    .dataframe thead th {\n",
       "        text-align: right;\n",
       "    }\n",
       "</style>\n",
       "<table border=\"1\" class=\"dataframe\">\n",
       "  <thead>\n",
       "    <tr style=\"text-align: right;\">\n",
       "      <th></th>\n",
       "      <th>manufacturer</th>\n",
       "    </tr>\n",
       "  </thead>\n",
       "  <tbody>\n",
       "    <tr>\n",
       "      <th>ford</th>\n",
       "      <td>66365</td>\n",
       "    </tr>\n",
       "    <tr>\n",
       "      <th>chevrolet</th>\n",
       "      <td>52856</td>\n",
       "    </tr>\n",
       "    <tr>\n",
       "      <th>toyota</th>\n",
       "      <td>28716</td>\n",
       "    </tr>\n",
       "    <tr>\n",
       "      <th>nissan</th>\n",
       "      <td>19809</td>\n",
       "    </tr>\n",
       "    <tr>\n",
       "      <th>honda</th>\n",
       "      <td>18282</td>\n",
       "    </tr>\n",
       "    <tr>\n",
       "      <th>ram</th>\n",
       "      <td>18197</td>\n",
       "    </tr>\n",
       "    <tr>\n",
       "      <th>jeep</th>\n",
       "      <td>17929</td>\n",
       "    </tr>\n",
       "    <tr>\n",
       "      <th>gmc</th>\n",
       "      <td>16258</td>\n",
       "    </tr>\n",
       "    <tr>\n",
       "      <th>dodge</th>\n",
       "      <td>12166</td>\n",
       "    </tr>\n",
       "    <tr>\n",
       "      <th>bmw</th>\n",
       "      <td>10814</td>\n",
       "    </tr>\n",
       "    <tr>\n",
       "      <th>hyundai</th>\n",
       "      <td>8904</td>\n",
       "    </tr>\n",
       "    <tr>\n",
       "      <th>subaru</th>\n",
       "      <td>8786</td>\n",
       "    </tr>\n",
       "    <tr>\n",
       "      <th>mercedes-benz</th>\n",
       "      <td>8426</td>\n",
       "    </tr>\n",
       "    <tr>\n",
       "      <th>volkswagen</th>\n",
       "      <td>8068</td>\n",
       "    </tr>\n",
       "    <tr>\n",
       "      <th>kia</th>\n",
       "      <td>6806</td>\n",
       "    </tr>\n",
       "    <tr>\n",
       "      <th>chrysler</th>\n",
       "      <td>5863</td>\n",
       "    </tr>\n",
       "    <tr>\n",
       "      <th>cadillac</th>\n",
       "      <td>5658</td>\n",
       "    </tr>\n",
       "    <tr>\n",
       "      <th>buick</th>\n",
       "      <td>5305</td>\n",
       "    </tr>\n",
       "    <tr>\n",
       "      <th>lexus</th>\n",
       "      <td>4760</td>\n",
       "    </tr>\n",
       "    <tr>\n",
       "      <th>mazda</th>\n",
       "      <td>4637</td>\n",
       "    </tr>\n",
       "    <tr>\n",
       "      <th>audi</th>\n",
       "      <td>4437</td>\n",
       "    </tr>\n",
       "    <tr>\n",
       "      <th>infiniti</th>\n",
       "      <td>3010</td>\n",
       "    </tr>\n",
       "    <tr>\n",
       "      <th>acura</th>\n",
       "      <td>2916</td>\n",
       "    </tr>\n",
       "    <tr>\n",
       "      <th>lincoln</th>\n",
       "      <td>2429</td>\n",
       "    </tr>\n",
       "    <tr>\n",
       "      <th>pontiac</th>\n",
       "      <td>2338</td>\n",
       "    </tr>\n",
       "    <tr>\n",
       "      <th>volvo</th>\n",
       "      <td>2110</td>\n",
       "    </tr>\n",
       "    <tr>\n",
       "      <th>mini</th>\n",
       "      <td>1883</td>\n",
       "    </tr>\n",
       "    <tr>\n",
       "      <th>mitsubishi</th>\n",
       "      <td>1836</td>\n",
       "    </tr>\n",
       "    <tr>\n",
       "      <th>rover</th>\n",
       "      <td>1394</td>\n",
       "    </tr>\n",
       "    <tr>\n",
       "      <th>mercury</th>\n",
       "      <td>1238</td>\n",
       "    </tr>\n",
       "    <tr>\n",
       "      <th>saturn</th>\n",
       "      <td>1144</td>\n",
       "    </tr>\n",
       "    <tr>\n",
       "      <th>jaguar</th>\n",
       "      <td>827</td>\n",
       "    </tr>\n",
       "    <tr>\n",
       "      <th>fiat</th>\n",
       "      <td>727</td>\n",
       "    </tr>\n",
       "    <tr>\n",
       "      <th>harley-davidson</th>\n",
       "      <td>148</td>\n",
       "    </tr>\n",
       "    <tr>\n",
       "      <th>tesla</th>\n",
       "      <td>88</td>\n",
       "    </tr>\n",
       "    <tr>\n",
       "      <th>alfa-romeo</th>\n",
       "      <td>58</td>\n",
       "    </tr>\n",
       "    <tr>\n",
       "      <th>datsun</th>\n",
       "      <td>31</td>\n",
       "    </tr>\n",
       "    <tr>\n",
       "      <th>aston-martin</th>\n",
       "      <td>16</td>\n",
       "    </tr>\n",
       "    <tr>\n",
       "      <th>land rover</th>\n",
       "      <td>16</td>\n",
       "    </tr>\n",
       "    <tr>\n",
       "      <th>porche</th>\n",
       "      <td>9</td>\n",
       "    </tr>\n",
       "    <tr>\n",
       "      <th>ferrari</th>\n",
       "      <td>3</td>\n",
       "    </tr>\n",
       "    <tr>\n",
       "      <th>morgan</th>\n",
       "      <td>2</td>\n",
       "    </tr>\n",
       "  </tbody>\n",
       "</table>\n",
       "</div>"
      ],
      "text/plain": [
       "                 manufacturer\n",
       "ford                    66365\n",
       "chevrolet               52856\n",
       "toyota                  28716\n",
       "nissan                  19809\n",
       "honda                   18282\n",
       "ram                     18197\n",
       "jeep                    17929\n",
       "gmc                     16258\n",
       "dodge                   12166\n",
       "bmw                     10814\n",
       "hyundai                  8904\n",
       "subaru                   8786\n",
       "mercedes-benz            8426\n",
       "volkswagen               8068\n",
       "kia                      6806\n",
       "chrysler                 5863\n",
       "cadillac                 5658\n",
       "buick                    5305\n",
       "lexus                    4760\n",
       "mazda                    4637\n",
       "audi                     4437\n",
       "infiniti                 3010\n",
       "acura                    2916\n",
       "lincoln                  2429\n",
       "pontiac                  2338\n",
       "volvo                    2110\n",
       "mini                     1883\n",
       "mitsubishi               1836\n",
       "rover                    1394\n",
       "mercury                  1238\n",
       "saturn                   1144\n",
       "jaguar                    827\n",
       "fiat                      727\n",
       "harley-davidson           148\n",
       "tesla                      88\n",
       "alfa-romeo                 58\n",
       "datsun                     31\n",
       "aston-martin               16\n",
       "land rover                 16\n",
       "porche                      9\n",
       "ferrari                     3\n",
       "morgan                      2"
      ]
     },
     "metadata": {},
     "output_type": "display_data"
    },
    {
     "data": {
      "text/html": [
       "<div>\n",
       "<style scoped>\n",
       "    .dataframe tbody tr th:only-of-type {\n",
       "        vertical-align: middle;\n",
       "    }\n",
       "\n",
       "    .dataframe tbody tr th {\n",
       "        vertical-align: top;\n",
       "    }\n",
       "\n",
       "    .dataframe thead th {\n",
       "        text-align: right;\n",
       "    }\n",
       "</style>\n",
       "<table border=\"1\" class=\"dataframe\">\n",
       "  <thead>\n",
       "    <tr style=\"text-align: right;\">\n",
       "      <th></th>\n",
       "      <th>condition</th>\n",
       "    </tr>\n",
       "  </thead>\n",
       "  <tbody>\n",
       "    <tr>\n",
       "      <th>excellent</th>\n",
       "      <td>103050</td>\n",
       "    </tr>\n",
       "    <tr>\n",
       "      <th>good</th>\n",
       "      <td>97446</td>\n",
       "    </tr>\n",
       "    <tr>\n",
       "      <th>like new</th>\n",
       "      <td>20188</td>\n",
       "    </tr>\n",
       "    <tr>\n",
       "      <th>fair</th>\n",
       "      <td>5652</td>\n",
       "    </tr>\n",
       "    <tr>\n",
       "      <th>new</th>\n",
       "      <td>469</td>\n",
       "    </tr>\n",
       "    <tr>\n",
       "      <th>salvage</th>\n",
       "      <td>383</td>\n",
       "    </tr>\n",
       "  </tbody>\n",
       "</table>\n",
       "</div>"
      ],
      "text/plain": [
       "           condition\n",
       "excellent     103050\n",
       "good           97446\n",
       "like new       20188\n",
       "fair            5652\n",
       "new              469\n",
       "salvage          383"
      ]
     },
     "metadata": {},
     "output_type": "display_data"
    },
    {
     "data": {
      "text/html": [
       "<div>\n",
       "<style scoped>\n",
       "    .dataframe tbody tr th:only-of-type {\n",
       "        vertical-align: middle;\n",
       "    }\n",
       "\n",
       "    .dataframe tbody tr th {\n",
       "        vertical-align: top;\n",
       "    }\n",
       "\n",
       "    .dataframe thead th {\n",
       "        text-align: right;\n",
       "    }\n",
       "</style>\n",
       "<table border=\"1\" class=\"dataframe\">\n",
       "  <thead>\n",
       "    <tr style=\"text-align: right;\">\n",
       "      <th></th>\n",
       "      <th>cylinders</th>\n",
       "    </tr>\n",
       "  </thead>\n",
       "  <tbody>\n",
       "    <tr>\n",
       "      <th>6 cylinders</th>\n",
       "      <td>88184</td>\n",
       "    </tr>\n",
       "    <tr>\n",
       "      <th>8 cylinders</th>\n",
       "      <td>73262</td>\n",
       "    </tr>\n",
       "    <tr>\n",
       "      <th>4 cylinders</th>\n",
       "      <td>72511</td>\n",
       "    </tr>\n",
       "    <tr>\n",
       "      <th>5 cylinders</th>\n",
       "      <td>2185</td>\n",
       "    </tr>\n",
       "    <tr>\n",
       "      <th>10 cylinders</th>\n",
       "      <td>1349</td>\n",
       "    </tr>\n",
       "    <tr>\n",
       "      <th>other</th>\n",
       "      <td>622</td>\n",
       "    </tr>\n",
       "    <tr>\n",
       "      <th>3 cylinders</th>\n",
       "      <td>418</td>\n",
       "    </tr>\n",
       "    <tr>\n",
       "      <th>12 cylinders</th>\n",
       "      <td>98</td>\n",
       "    </tr>\n",
       "  </tbody>\n",
       "</table>\n",
       "</div>"
      ],
      "text/plain": [
       "              cylinders\n",
       "6 cylinders       88184\n",
       "8 cylinders       73262\n",
       "4 cylinders       72511\n",
       "5 cylinders        2185\n",
       "10 cylinders       1349\n",
       "other               622\n",
       "3 cylinders         418\n",
       "12 cylinders         98"
      ]
     },
     "metadata": {},
     "output_type": "display_data"
    },
    {
     "data": {
      "text/html": [
       "<div>\n",
       "<style scoped>\n",
       "    .dataframe tbody tr th:only-of-type {\n",
       "        vertical-align: middle;\n",
       "    }\n",
       "\n",
       "    .dataframe tbody tr th {\n",
       "        vertical-align: top;\n",
       "    }\n",
       "\n",
       "    .dataframe thead th {\n",
       "        text-align: right;\n",
       "    }\n",
       "</style>\n",
       "<table border=\"1\" class=\"dataframe\">\n",
       "  <thead>\n",
       "    <tr style=\"text-align: right;\">\n",
       "      <th></th>\n",
       "      <th>fuel</th>\n",
       "    </tr>\n",
       "  </thead>\n",
       "  <tbody>\n",
       "    <tr>\n",
       "      <th>gas</th>\n",
       "      <td>321003</td>\n",
       "    </tr>\n",
       "    <tr>\n",
       "      <th>diesel</th>\n",
       "      <td>27706</td>\n",
       "    </tr>\n",
       "    <tr>\n",
       "      <th>other</th>\n",
       "      <td>10746</td>\n",
       "    </tr>\n",
       "    <tr>\n",
       "      <th>hybrid</th>\n",
       "      <td>3178</td>\n",
       "    </tr>\n",
       "    <tr>\n",
       "      <th>electric</th>\n",
       "      <td>672</td>\n",
       "    </tr>\n",
       "  </tbody>\n",
       "</table>\n",
       "</div>"
      ],
      "text/plain": [
       "            fuel\n",
       "gas       321003\n",
       "diesel     27706\n",
       "other      10746\n",
       "hybrid      3178\n",
       "electric     672"
      ]
     },
     "metadata": {},
     "output_type": "display_data"
    },
    {
     "data": {
      "text/html": [
       "<div>\n",
       "<style scoped>\n",
       "    .dataframe tbody tr th:only-of-type {\n",
       "        vertical-align: middle;\n",
       "    }\n",
       "\n",
       "    .dataframe tbody tr th {\n",
       "        vertical-align: top;\n",
       "    }\n",
       "\n",
       "    .dataframe thead th {\n",
       "        text-align: right;\n",
       "    }\n",
       "</style>\n",
       "<table border=\"1\" class=\"dataframe\">\n",
       "  <thead>\n",
       "    <tr style=\"text-align: right;\">\n",
       "      <th></th>\n",
       "      <th>title_status</th>\n",
       "    </tr>\n",
       "  </thead>\n",
       "  <tbody>\n",
       "    <tr>\n",
       "      <th>clean</th>\n",
       "      <td>348302</td>\n",
       "    </tr>\n",
       "    <tr>\n",
       "      <th>rebuilt</th>\n",
       "      <td>9116</td>\n",
       "    </tr>\n",
       "    <tr>\n",
       "      <th>salvage</th>\n",
       "      <td>3851</td>\n",
       "    </tr>\n",
       "    <tr>\n",
       "      <th>lien</th>\n",
       "      <td>2367</td>\n",
       "    </tr>\n",
       "    <tr>\n",
       "      <th>missing</th>\n",
       "      <td>160</td>\n",
       "    </tr>\n",
       "    <tr>\n",
       "      <th>parts only</th>\n",
       "      <td>54</td>\n",
       "    </tr>\n",
       "  </tbody>\n",
       "</table>\n",
       "</div>"
      ],
      "text/plain": [
       "            title_status\n",
       "clean             348302\n",
       "rebuilt             9116\n",
       "salvage             3851\n",
       "lien                2367\n",
       "missing              160\n",
       "parts only            54"
      ]
     },
     "metadata": {},
     "output_type": "display_data"
    },
    {
     "data": {
      "text/html": [
       "<div>\n",
       "<style scoped>\n",
       "    .dataframe tbody tr th:only-of-type {\n",
       "        vertical-align: middle;\n",
       "    }\n",
       "\n",
       "    .dataframe tbody tr th {\n",
       "        vertical-align: top;\n",
       "    }\n",
       "\n",
       "    .dataframe thead th {\n",
       "        text-align: right;\n",
       "    }\n",
       "</style>\n",
       "<table border=\"1\" class=\"dataframe\">\n",
       "  <thead>\n",
       "    <tr style=\"text-align: right;\">\n",
       "      <th></th>\n",
       "      <th>transmission</th>\n",
       "    </tr>\n",
       "  </thead>\n",
       "  <tbody>\n",
       "    <tr>\n",
       "      <th>automatic</th>\n",
       "      <td>321549</td>\n",
       "    </tr>\n",
       "    <tr>\n",
       "      <th>manual</th>\n",
       "      <td>20892</td>\n",
       "    </tr>\n",
       "    <tr>\n",
       "      <th>other</th>\n",
       "      <td>20211</td>\n",
       "    </tr>\n",
       "  </tbody>\n",
       "</table>\n",
       "</div>"
      ],
      "text/plain": [
       "           transmission\n",
       "automatic        321549\n",
       "manual            20892\n",
       "other             20211"
      ]
     },
     "metadata": {},
     "output_type": "display_data"
    },
    {
     "data": {
      "text/html": [
       "<div>\n",
       "<style scoped>\n",
       "    .dataframe tbody tr th:only-of-type {\n",
       "        vertical-align: middle;\n",
       "    }\n",
       "\n",
       "    .dataframe tbody tr th {\n",
       "        vertical-align: top;\n",
       "    }\n",
       "\n",
       "    .dataframe thead th {\n",
       "        text-align: right;\n",
       "    }\n",
       "</style>\n",
       "<table border=\"1\" class=\"dataframe\">\n",
       "  <thead>\n",
       "    <tr style=\"text-align: right;\">\n",
       "      <th></th>\n",
       "      <th>drive</th>\n",
       "    </tr>\n",
       "  </thead>\n",
       "  <tbody>\n",
       "    <tr>\n",
       "      <th>4wd</th>\n",
       "      <td>134077</td>\n",
       "    </tr>\n",
       "    <tr>\n",
       "      <th>fwd</th>\n",
       "      <td>102218</td>\n",
       "    </tr>\n",
       "    <tr>\n",
       "      <th>rwd</th>\n",
       "      <td>52618</td>\n",
       "    </tr>\n",
       "  </tbody>\n",
       "</table>\n",
       "</div>"
      ],
      "text/plain": [
       "      drive\n",
       "4wd  134077\n",
       "fwd  102218\n",
       "rwd   52618"
      ]
     },
     "metadata": {},
     "output_type": "display_data"
    },
    {
     "data": {
      "text/html": [
       "<div>\n",
       "<style scoped>\n",
       "    .dataframe tbody tr th:only-of-type {\n",
       "        vertical-align: middle;\n",
       "    }\n",
       "\n",
       "    .dataframe tbody tr th {\n",
       "        vertical-align: top;\n",
       "    }\n",
       "\n",
       "    .dataframe thead th {\n",
       "        text-align: right;\n",
       "    }\n",
       "</style>\n",
       "<table border=\"1\" class=\"dataframe\">\n",
       "  <thead>\n",
       "    <tr style=\"text-align: right;\">\n",
       "      <th></th>\n",
       "      <th>size</th>\n",
       "    </tr>\n",
       "  </thead>\n",
       "  <tbody>\n",
       "    <tr>\n",
       "      <th>full-size</th>\n",
       "      <td>67691</td>\n",
       "    </tr>\n",
       "    <tr>\n",
       "      <th>mid-size</th>\n",
       "      <td>34369</td>\n",
       "    </tr>\n",
       "    <tr>\n",
       "      <th>compact</th>\n",
       "      <td>18426</td>\n",
       "    </tr>\n",
       "    <tr>\n",
       "      <th>sub-compact</th>\n",
       "      <td>3060</td>\n",
       "    </tr>\n",
       "  </tbody>\n",
       "</table>\n",
       "</div>"
      ],
      "text/plain": [
       "              size\n",
       "full-size    67691\n",
       "mid-size     34369\n",
       "compact      18426\n",
       "sub-compact   3060"
      ]
     },
     "metadata": {},
     "output_type": "display_data"
    },
    {
     "data": {
      "text/html": [
       "<div>\n",
       "<style scoped>\n",
       "    .dataframe tbody tr th:only-of-type {\n",
       "        vertical-align: middle;\n",
       "    }\n",
       "\n",
       "    .dataframe tbody tr th {\n",
       "        vertical-align: top;\n",
       "    }\n",
       "\n",
       "    .dataframe thead th {\n",
       "        text-align: right;\n",
       "    }\n",
       "</style>\n",
       "<table border=\"1\" class=\"dataframe\">\n",
       "  <thead>\n",
       "    <tr style=\"text-align: right;\">\n",
       "      <th></th>\n",
       "      <th>type</th>\n",
       "    </tr>\n",
       "  </thead>\n",
       "  <tbody>\n",
       "    <tr>\n",
       "      <th>sedan</th>\n",
       "      <td>73379</td>\n",
       "    </tr>\n",
       "    <tr>\n",
       "      <th>SUV</th>\n",
       "      <td>71856</td>\n",
       "    </tr>\n",
       "    <tr>\n",
       "      <th>pickup</th>\n",
       "      <td>44231</td>\n",
       "    </tr>\n",
       "    <tr>\n",
       "      <th>truck</th>\n",
       "      <td>35670</td>\n",
       "    </tr>\n",
       "    <tr>\n",
       "      <th>coupe</th>\n",
       "      <td>16561</td>\n",
       "    </tr>\n",
       "    <tr>\n",
       "      <th>other</th>\n",
       "      <td>13986</td>\n",
       "    </tr>\n",
       "    <tr>\n",
       "      <th>hatchback</th>\n",
       "      <td>12044</td>\n",
       "    </tr>\n",
       "    <tr>\n",
       "      <th>wagon</th>\n",
       "      <td>10043</td>\n",
       "    </tr>\n",
       "    <tr>\n",
       "      <th>van</th>\n",
       "      <td>8381</td>\n",
       "    </tr>\n",
       "    <tr>\n",
       "      <th>convertible</th>\n",
       "      <td>6923</td>\n",
       "    </tr>\n",
       "    <tr>\n",
       "      <th>mini-van</th>\n",
       "      <td>5283</td>\n",
       "    </tr>\n",
       "    <tr>\n",
       "      <th>offroad</th>\n",
       "      <td>534</td>\n",
       "    </tr>\n",
       "    <tr>\n",
       "      <th>bus</th>\n",
       "      <td>413</td>\n",
       "    </tr>\n",
       "  </tbody>\n",
       "</table>\n",
       "</div>"
      ],
      "text/plain": [
       "              type\n",
       "sedan        73379\n",
       "SUV          71856\n",
       "pickup       44231\n",
       "truck        35670\n",
       "coupe        16561\n",
       "other        13986\n",
       "hatchback    12044\n",
       "wagon        10043\n",
       "van           8381\n",
       "convertible   6923\n",
       "mini-van      5283\n",
       "offroad        534\n",
       "bus            413"
      ]
     },
     "metadata": {},
     "output_type": "display_data"
    },
    {
     "data": {
      "text/html": [
       "<div>\n",
       "<style scoped>\n",
       "    .dataframe tbody tr th:only-of-type {\n",
       "        vertical-align: middle;\n",
       "    }\n",
       "\n",
       "    .dataframe tbody tr th {\n",
       "        vertical-align: top;\n",
       "    }\n",
       "\n",
       "    .dataframe thead th {\n",
       "        text-align: right;\n",
       "    }\n",
       "</style>\n",
       "<table border=\"1\" class=\"dataframe\">\n",
       "  <thead>\n",
       "    <tr style=\"text-align: right;\">\n",
       "      <th></th>\n",
       "      <th>paint_color</th>\n",
       "    </tr>\n",
       "  </thead>\n",
       "  <tbody>\n",
       "    <tr>\n",
       "      <th>white</th>\n",
       "      <td>71754</td>\n",
       "    </tr>\n",
       "    <tr>\n",
       "      <th>black</th>\n",
       "      <td>56720</td>\n",
       "    </tr>\n",
       "    <tr>\n",
       "      <th>silver</th>\n",
       "      <td>42097</td>\n",
       "    </tr>\n",
       "    <tr>\n",
       "      <th>blue</th>\n",
       "      <td>28284</td>\n",
       "    </tr>\n",
       "    <tr>\n",
       "      <th>red</th>\n",
       "      <td>27612</td>\n",
       "    </tr>\n",
       "    <tr>\n",
       "      <th>grey</th>\n",
       "      <td>26443</td>\n",
       "    </tr>\n",
       "    <tr>\n",
       "      <th>green</th>\n",
       "      <td>7032</td>\n",
       "    </tr>\n",
       "    <tr>\n",
       "      <th>custom</th>\n",
       "      <td>6996</td>\n",
       "    </tr>\n",
       "    <tr>\n",
       "      <th>brown</th>\n",
       "      <td>6201</td>\n",
       "    </tr>\n",
       "    <tr>\n",
       "      <th>yellow</th>\n",
       "      <td>1781</td>\n",
       "    </tr>\n",
       "    <tr>\n",
       "      <th>orange</th>\n",
       "      <td>1777</td>\n",
       "    </tr>\n",
       "    <tr>\n",
       "      <th>purple</th>\n",
       "      <td>662</td>\n",
       "    </tr>\n",
       "  </tbody>\n",
       "</table>\n",
       "</div>"
      ],
      "text/plain": [
       "        paint_color\n",
       "white         71754\n",
       "black         56720\n",
       "silver        42097\n",
       "blue          28284\n",
       "red           27612\n",
       "grey          26443\n",
       "green          7032\n",
       "custom         6996\n",
       "brown          6201\n",
       "yellow         1781\n",
       "orange         1777\n",
       "purple          662"
      ]
     },
     "metadata": {},
     "output_type": "display_data"
    }
   ],
   "source": [
    "for i in df_work2.select_dtypes(include = ['object']).columns:\n",
    "    display(pd.DataFrame(df_work2[i].value_counts()))"
   ]
  },
  {
   "cell_type": "markdown",
   "metadata": {},
   "source": [
    "As we can see from above, our `fuel` column has 0.67% of missing values, and it also has 'other' values. Let's assign our null values to be 'other':"
   ]
  },
  {
   "cell_type": "code",
   "execution_count": 28,
   "metadata": {},
   "outputs": [],
   "source": [
    "# Filling in missing values in 'fuel' column:\n",
    "df_work2['fuel'].fillna('other', inplace=True)"
   ]
  },
  {
   "cell_type": "code",
   "execution_count": 29,
   "metadata": {},
   "outputs": [
    {
     "data": {
      "text/plain": [
       "size            66.221374\n",
       "condition       37.884687\n",
       "cylinders       34.756611\n",
       "paint_color     24.167469\n",
       "drive           21.008498\n",
       "type            18.167501\n",
       "manufacturer     2.867243\n",
       "transmission     0.847569\n",
       "long             0.792340\n",
       "lat              0.792340\n",
       "title_status     0.520024\n",
       "odometer         0.000000\n",
       "fuel             0.000000\n",
       "year             0.000000\n",
       "price            0.000000\n",
       "dtype: float64"
      ]
     },
     "execution_count": 29,
     "metadata": {},
     "output_type": "execute_result"
    }
   ],
   "source": [
    "# Let's see what percentage of each column has missing values, and sort in descending order:\n",
    "(np.mean(df_work2.isna()).sort_values(ascending = False))*100"
   ]
  },
  {
   "cell_type": "markdown",
   "metadata": {},
   "source": [
    "Same goes for `title_status` column which has label of 'missing'. Let's see the distribution and assign null values to be 'missing'."
   ]
  },
  {
   "cell_type": "code",
   "execution_count": 30,
   "metadata": {},
   "outputs": [
    {
     "data": {
      "image/png": "[encoded data removed]",
      "text/plain": [
       "<Figure size 432x288 with 1 Axes>"
      ]
     },
     "metadata": {
      "needs_background": "light"
     },
     "output_type": "display_data"
    }
   ],
   "source": [
    "# See the distribution of unique values in the 'title_status' column:\n",
    "plt.figure()\n",
    "plt.barh(df_work2['title_status'].value_counts().index, \n",
    "         df_work2['title_status'].value_counts().values)\n",
    "plt.title(\"Title Status Distribution\")\n",
    "plt.xlabel(\"Frequency\")\n",
    "plt.ylabel(\"Title Status\")\n",
    "plt.show()"
   ]
  },
  {
   "cell_type": "code",
   "execution_count": 31,
   "metadata": {},
   "outputs": [
    {
     "data": {
      "text/plain": [
       "size            66.221374\n",
       "condition       37.884687\n",
       "cylinders       34.756611\n",
       "paint_color     24.167469\n",
       "drive           21.008498\n",
       "type            18.167501\n",
       "manufacturer     2.867243\n",
       "transmission     0.847569\n",
       "long             0.792340\n",
       "lat              0.792340\n",
       "title_status     0.000000\n",
       "odometer         0.000000\n",
       "fuel             0.000000\n",
       "year             0.000000\n",
       "price            0.000000\n",
       "dtype: float64"
      ]
     },
     "execution_count": 31,
     "metadata": {},
     "output_type": "execute_result"
    }
   ],
   "source": [
    "# Filling in missing values in 'title_status' column:\n",
    "df_work2['title_status'].fillna('missing', inplace=True)\n",
    "\n",
    "# Double check what percentage of each column has missing values, and sort in descending order:\n",
    "(np.mean(df_work2.isna()).sort_values(ascending = False))*100"
   ]
  },
  {
   "cell_type": "markdown",
   "metadata": {},
   "source": [
    "Let's do same with other valid columns too."
   ]
  },
  {
   "cell_type": "code",
   "execution_count": 32,
   "metadata": {},
   "outputs": [
    {
     "data": {
      "image/png": "[encoded data removed]",
      "text/plain": [
       "<Figure size 432x288 with 1 Axes>"
      ]
     },
     "metadata": {
      "needs_background": "light"
     },
     "output_type": "display_data"
    }
   ],
   "source": [
    "# See the distribution of unique values in the 'transmission' column:\n",
    "plt.figure()\n",
    "plt.barh(df_work2['transmission'].value_counts().index, \n",
    "         df_work2['transmission'].value_counts().values)\n",
    "plt.title(\"Transmission Distribution\")\n",
    "plt.xlabel(\"Frequency\")\n",
    "plt.ylabel(\"Transmission\")\n",
    "plt.show()"
   ]
  },
  {
   "cell_type": "code",
   "execution_count": 33,
   "metadata": {},
   "outputs": [
    {
     "data": {
      "text/plain": [
       "size            66.221374\n",
       "condition       37.884687\n",
       "cylinders       34.756611\n",
       "paint_color     24.167469\n",
       "drive           21.008498\n",
       "type            18.167501\n",
       "manufacturer     2.867243\n",
       "long             0.792340\n",
       "lat              0.792340\n",
       "transmission     0.000000\n",
       "title_status     0.000000\n",
       "odometer         0.000000\n",
       "fuel             0.000000\n",
       "year             0.000000\n",
       "price            0.000000\n",
       "dtype: float64"
      ]
     },
     "execution_count": 33,
     "metadata": {},
     "output_type": "execute_result"
    }
   ],
   "source": [
    "# Filling in missing values in 'transmission' column:\n",
    "df_work2['transmission'].fillna('other', inplace=True)\n",
    "\n",
    "# Double check what percentage of each column has missing values, and sort in descending order:\n",
    "(np.mean(df_work2.isna()).sort_values(ascending = False))*100"
   ]
  },
  {
   "cell_type": "markdown",
   "metadata": {},
   "source": [
    "We can also see here that the `size` column has more than 66% of missing values in it. This is too much, and if we impute them, it would introduce a lot of bias into our model. So, it was decide to drop this column."
   ]
  },
  {
   "cell_type": "code",
   "execution_count": 34,
   "metadata": {},
   "outputs": [
    {
     "data": {
      "text/plain": [
       "condition       37.884687\n",
       "cylinders       34.756611\n",
       "paint_color     24.167469\n",
       "drive           21.008498\n",
       "type            18.167501\n",
       "manufacturer     2.867243\n",
       "long             0.792340\n",
       "lat              0.792340\n",
       "transmission     0.000000\n",
       "title_status     0.000000\n",
       "odometer         0.000000\n",
       "fuel             0.000000\n",
       "year             0.000000\n",
       "price            0.000000\n",
       "dtype: float64"
      ]
     },
     "execution_count": 34,
     "metadata": {},
     "output_type": "execute_result"
    }
   ],
   "source": [
    "# Dropping the 'size' column: \n",
    "df_work2 = df_work2.drop(['size'], axis=1)\n",
    "\n",
    "# Double check what percentage of each column has missing values, and sort in descending order:\n",
    "(np.mean(df_work2.isna()).sort_values(ascending = False))*100"
   ]
  },
  {
   "cell_type": "markdown",
   "metadata": {},
   "source": [
    "Let's see the distribution of values in the remaining missing value columns. "
   ]
  },
  {
   "cell_type": "code",
   "execution_count": 35,
   "metadata": {},
   "outputs": [
    {
     "data": {
      "image/png": "[encoded data removed]",
      "text/plain": [
       "<Figure size 432x288 with 1 Axes>"
      ]
     },
     "metadata": {
      "needs_background": "light"
     },
     "output_type": "display_data"
    },
    {
     "data": {
      "image/png": "[encoded data removed]",
      "text/plain": [
       "<Figure size 432x288 with 1 Axes>"
      ]
     },
     "metadata": {
      "needs_background": "light"
     },
     "output_type": "display_data"
    },
    {
     "data": {
      "image/png": "[encoded data removed]",
      "text/plain": [
       "<Figure size 432x288 with 1 Axes>"
      ]
     },
     "metadata": {
      "needs_background": "light"
     },
     "output_type": "display_data"
    },
    {
     "data": {
      "image/png": "[encoded data removed]",
      "text/plain": [
       "<Figure size 432x288 with 1 Axes>"
      ]
     },
     "metadata": {
      "needs_background": "light"
     },
     "output_type": "display_data"
    },
    {
     "data": {
      "image/png": "[encoded data removed]",
      "text/plain": [
       "<Figure size 432x288 with 1 Axes>"
      ]
     },
     "metadata": {
      "needs_background": "light"
     },
     "output_type": "display_data"
    },
    {
     "data": {
      "image/png": "[encoded data removed]",
      "text/plain": [
       "<Figure size 432x288 with 1 Axes>"
      ]
     },
     "metadata": {
      "needs_background": "light"
     },
     "output_type": "display_data"
    }
   ],
   "source": [
    "# See the distribution of unique values in the 'condition' column:\n",
    "plt.figure()\n",
    "plt.barh(df_work2['condition'].value_counts().index, \n",
    "         df_work2['condition'].value_counts().values)\n",
    "plt.title(\"Condition Distribution\")\n",
    "plt.xlabel(\"Frequency\")\n",
    "plt.ylabel(\"Condition\")\n",
    "plt.show();\n",
    "\n",
    "# See the distribution of unique values in the 'cylinders' column:\n",
    "plt.figure()\n",
    "plt.barh(df_work2['cylinders'].value_counts().index, \n",
    "         df_work2['cylinders'].value_counts().values)\n",
    "plt.title(\"Cylinders Distribution\")\n",
    "plt.xlabel(\"Frequency\")\n",
    "plt.ylabel(\"Cylinders\")\n",
    "plt.show();\n",
    "\n",
    "# See the distribution of unique values in the 'paint_color' column:\n",
    "plt.figure()\n",
    "plt.barh(df_work2['paint_color'].value_counts().index, \n",
    "         df_work2['paint_color'].value_counts().values)\n",
    "plt.title(\"Paint Color Distribution\")\n",
    "plt.xlabel(\"Frequency\")\n",
    "plt.ylabel(\"Paint Color\")\n",
    "plt.show();\n",
    "\n",
    "# See the distribution of unique values in the 'drive' column:\n",
    "plt.figure()\n",
    "plt.barh(df_work2['drive'].value_counts().index, \n",
    "         df_work2['drive'].value_counts().values)\n",
    "plt.title(\"Drive Distribution\")\n",
    "plt.xlabel(\"Frequency\")\n",
    "plt.ylabel(\"Drive\")\n",
    "plt.show();\n",
    "\n",
    "# See the distribution of unique values in the 'type' column:\n",
    "plt.figure()\n",
    "plt.barh(df_work2['type'].value_counts().index, \n",
    "         df_work2['type'].value_counts().values)\n",
    "plt.title(\"Type Distribution\")\n",
    "plt.xlabel(\"Frequency\")\n",
    "plt.ylabel(\"Type\")\n",
    "plt.show();\n",
    "\n",
    "# See the distribution of unique values in the 'manufacturer' column:\n",
    "plt.figure()\n",
    "plt.barh(df_work2['manufacturer'].value_counts().index, \n",
    "         df_work2['manufacturer'].value_counts().values)\n",
    "plt.title(\"Manufacturer Distribution\")\n",
    "plt.xlabel(\"Frequency\")\n",
    "plt.ylabel(\"Manufacturer\")\n",
    "plt.show();"
   ]
  },
  {
   "cell_type": "markdown",
   "metadata": {},
   "source": [
    "As we can see from the distribution charts above, we have few dominant values in each column, thus, assigning missing values as the most frequent value within the column would actually impose bias towards our model, especially when we the percentage of missing values is high (from 18% to 38%). Thus, it was decided to assign those missing values as a separate value. "
   ]
  },
  {
   "cell_type": "code",
   "execution_count": 36,
   "metadata": {},
   "outputs": [
    {
     "data": {
      "text/plain": [
       "long            0.79234\n",
       "lat             0.79234\n",
       "paint_color     0.00000\n",
       "type            0.00000\n",
       "drive           0.00000\n",
       "transmission    0.00000\n",
       "title_status    0.00000\n",
       "odometer        0.00000\n",
       "fuel            0.00000\n",
       "cylinders       0.00000\n",
       "condition       0.00000\n",
       "manufacturer    0.00000\n",
       "year            0.00000\n",
       "price           0.00000\n",
       "dtype: float64"
      ]
     },
     "execution_count": 36,
     "metadata": {},
     "output_type": "execute_result"
    }
   ],
   "source": [
    "# Filling in missing values with new 'missing' name:\n",
    "df_work2['condition'].fillna('missing', inplace=True)\n",
    "df_work2['cylinders'].fillna('missing', inplace=True)\n",
    "df_work2['paint_color'].fillna('missing', inplace=True)\n",
    "df_work2['drive'].fillna('missing', inplace=True)\n",
    "df_work2['type'].fillna('missing', inplace=True)\n",
    "df_work2['manufacturer'].fillna('missing', inplace=True)\n",
    "\n",
    "# Double check what percentage of each column has missing values, and sort in descending order:\n",
    "(np.mean(df_work2.isna()).sort_values(ascending = False))*100"
   ]
  },
  {
   "cell_type": "code",
   "execution_count": 37,
   "metadata": {},
   "outputs": [
    {
     "data": {
      "text/plain": [
       "long            0.0\n",
       "lat             0.0\n",
       "paint_color     0.0\n",
       "type            0.0\n",
       "drive           0.0\n",
       "transmission    0.0\n",
       "title_status    0.0\n",
       "odometer        0.0\n",
       "fuel            0.0\n",
       "cylinders       0.0\n",
       "condition       0.0\n",
       "manufacturer    0.0\n",
       "year            0.0\n",
       "price           0.0\n",
       "dtype: float64"
      ]
     },
     "execution_count": 37,
     "metadata": {},
     "output_type": "execute_result"
    }
   ],
   "source": [
    "# Let's drop na values of lat and long columns, as they are less than 1%:\n",
    "df_work2.dropna(subset=['lat'], inplace=True)\n",
    "df_work2.dropna(subset=['long'], inplace=True)\n",
    "\n",
    "# Double check what percentage of each column has missing values, and sort in descending order:\n",
    "(np.mean(df_work2.isna()).sort_values(ascending = False))*100"
   ]
  },
  {
   "cell_type": "code",
   "execution_count": 38,
   "metadata": {},
   "outputs": [
    {
     "data": {
      "text/html": [
       "<style  type=\"text/css\" >\n",
       "    #T_f198e48a_b95d_11ea_bc09_0050b6c39083row0_col0 {\n",
       "            background-color:  #023858;\n",
       "            color:  #f1f1f1;\n",
       "        }    #T_f198e48a_b95d_11ea_bc09_0050b6c39083row0_col1 {\n",
       "            background-color:  #2f8bbe;\n",
       "            color:  #000000;\n",
       "        }    #T_f198e48a_b95d_11ea_bc09_0050b6c39083row0_col2 {\n",
       "            background-color:  #fff7fb;\n",
       "            color:  #000000;\n",
       "        }    #T_f198e48a_b95d_11ea_bc09_0050b6c39083row0_col3 {\n",
       "            background-color:  #e1dfed;\n",
       "            color:  #000000;\n",
       "        }    #T_f198e48a_b95d_11ea_bc09_0050b6c39083row0_col4 {\n",
       "            background-color:  #fdf5fa;\n",
       "            color:  #000000;\n",
       "        }    #T_f198e48a_b95d_11ea_bc09_0050b6c39083row1_col0 {\n",
       "            background-color:  #2a88bc;\n",
       "            color:  #000000;\n",
       "        }    #T_f198e48a_b95d_11ea_bc09_0050b6c39083row1_col1 {\n",
       "            background-color:  #023858;\n",
       "            color:  #f1f1f1;\n",
       "        }    #T_f198e48a_b95d_11ea_bc09_0050b6c39083row1_col2 {\n",
       "            background-color:  #faf3f9;\n",
       "            color:  #000000;\n",
       "        }    #T_f198e48a_b95d_11ea_bc09_0050b6c39083row1_col3 {\n",
       "            background-color:  #e8e4f0;\n",
       "            color:  #000000;\n",
       "        }    #T_f198e48a_b95d_11ea_bc09_0050b6c39083row1_col4 {\n",
       "            background-color:  #ebe6f2;\n",
       "            color:  #000000;\n",
       "        }    #T_f198e48a_b95d_11ea_bc09_0050b6c39083row2_col0 {\n",
       "            background-color:  #fff7fb;\n",
       "            color:  #000000;\n",
       "        }    #T_f198e48a_b95d_11ea_bc09_0050b6c39083row2_col1 {\n",
       "            background-color:  #fff7fb;\n",
       "            color:  #000000;\n",
       "        }    #T_f198e48a_b95d_11ea_bc09_0050b6c39083row2_col2 {\n",
       "            background-color:  #023858;\n",
       "            color:  #f1f1f1;\n",
       "        }    #T_f198e48a_b95d_11ea_bc09_0050b6c39083row2_col3 {\n",
       "            background-color:  #e3e0ee;\n",
       "            color:  #000000;\n",
       "        }    #T_f198e48a_b95d_11ea_bc09_0050b6c39083row2_col4 {\n",
       "            background-color:  #e0dded;\n",
       "            color:  #000000;\n",
       "        }    #T_f198e48a_b95d_11ea_bc09_0050b6c39083row3_col0 {\n",
       "            background-color:  #a9bfdc;\n",
       "            color:  #000000;\n",
       "        }    #T_f198e48a_b95d_11ea_bc09_0050b6c39083row3_col1 {\n",
       "            background-color:  #bbc7e0;\n",
       "            color:  #000000;\n",
       "        }    #T_f198e48a_b95d_11ea_bc09_0050b6c39083row3_col2 {\n",
       "            background-color:  #acc0dd;\n",
       "            color:  #000000;\n",
       "        }    #T_f198e48a_b95d_11ea_bc09_0050b6c39083row3_col3 {\n",
       "            background-color:  #023858;\n",
       "            color:  #f1f1f1;\n",
       "        }    #T_f198e48a_b95d_11ea_bc09_0050b6c39083row3_col4 {\n",
       "            background-color:  #fff7fb;\n",
       "            color:  #000000;\n",
       "        }    #T_f198e48a_b95d_11ea_bc09_0050b6c39083row4_col0 {\n",
       "            background-color:  #d2d2e7;\n",
       "            color:  #000000;\n",
       "        }    #T_f198e48a_b95d_11ea_bc09_0050b6c39083row4_col1 {\n",
       "            background-color:  #bdc8e1;\n",
       "            color:  #000000;\n",
       "        }    #T_f198e48a_b95d_11ea_bc09_0050b6c39083row4_col2 {\n",
       "            background-color:  #a8bedc;\n",
       "            color:  #000000;\n",
       "        }    #T_f198e48a_b95d_11ea_bc09_0050b6c39083row4_col3 {\n",
       "            background-color:  #fff7fb;\n",
       "            color:  #000000;\n",
       "        }    #T_f198e48a_b95d_11ea_bc09_0050b6c39083row4_col4 {\n",
       "            background-color:  #023858;\n",
       "            color:  #f1f1f1;\n",
       "        }</style><table id=\"T_f198e48a_b95d_11ea_bc09_0050b6c39083\" ><thead>    <tr>        <th class=\"blank level0\" ></th>        <th class=\"col_heading level0 col0\" >price</th>        <th class=\"col_heading level0 col1\" >year</th>        <th class=\"col_heading level0 col2\" >odometer</th>        <th class=\"col_heading level0 col3\" >lat</th>        <th class=\"col_heading level0 col4\" >long</th>    </tr></thead><tbody>\n",
       "                <tr>\n",
       "                        <th id=\"T_f198e48a_b95d_11ea_bc09_0050b6c39083level0_row0\" class=\"row_heading level0 row0\" >price</th>\n",
       "                        <td id=\"T_f198e48a_b95d_11ea_bc09_0050b6c39083row0_col0\" class=\"data row0 col0\" >1.000000</td>\n",
       "                        <td id=\"T_f198e48a_b95d_11ea_bc09_0050b6c39083row0_col1\" class=\"data row0 col1\" >0.478164</td>\n",
       "                        <td id=\"T_f198e48a_b95d_11ea_bc09_0050b6c39083row0_col2\" class=\"data row0 col2\" >-0.517035</td>\n",
       "                        <td id=\"T_f198e48a_b95d_11ea_bc09_0050b6c39083row0_col3\" class=\"data row0 col3\" >0.036000</td>\n",
       "                        <td id=\"T_f198e48a_b95d_11ea_bc09_0050b6c39083row0_col4\" class=\"data row0 col4\" >-0.149115</td>\n",
       "            </tr>\n",
       "            <tr>\n",
       "                        <th id=\"T_f198e48a_b95d_11ea_bc09_0050b6c39083level0_row1\" class=\"row_heading level0 row1\" >year</th>\n",
       "                        <td id=\"T_f198e48a_b95d_11ea_bc09_0050b6c39083row1_col0\" class=\"data row1 col0\" >0.478164</td>\n",
       "                        <td id=\"T_f198e48a_b95d_11ea_bc09_0050b6c39083row1_col1\" class=\"data row1 col1\" >1.000000</td>\n",
       "                        <td id=\"T_f198e48a_b95d_11ea_bc09_0050b6c39083row1_col2\" class=\"data row1 col2\" >-0.466989</td>\n",
       "                        <td id=\"T_f198e48a_b95d_11ea_bc09_0050b6c39083row1_col3\" class=\"data row1 col3\" >-0.003752</td>\n",
       "                        <td id=\"T_f198e48a_b95d_11ea_bc09_0050b6c39083row1_col4\" class=\"data row1 col4\" >-0.017337</td>\n",
       "            </tr>\n",
       "            <tr>\n",
       "                        <th id=\"T_f198e48a_b95d_11ea_bc09_0050b6c39083level0_row2\" class=\"row_heading level0 row2\" >odometer</th>\n",
       "                        <td id=\"T_f198e48a_b95d_11ea_bc09_0050b6c39083row2_col0\" class=\"data row2 col0\" >-0.517035</td>\n",
       "                        <td id=\"T_f198e48a_b95d_11ea_bc09_0050b6c39083row2_col1\" class=\"data row2 col1\" >-0.466989</td>\n",
       "                        <td id=\"T_f198e48a_b95d_11ea_bc09_0050b6c39083row2_col2\" class=\"data row2 col2\" >1.000000</td>\n",
       "                        <td id=\"T_f198e48a_b95d_11ea_bc09_0050b6c39083row2_col3\" class=\"data row2 col3\" >0.026567</td>\n",
       "                        <td id=\"T_f198e48a_b95d_11ea_bc09_0050b6c39083row2_col4\" class=\"data row2 col4\" >0.042387</td>\n",
       "            </tr>\n",
       "            <tr>\n",
       "                        <th id=\"T_f198e48a_b95d_11ea_bc09_0050b6c39083level0_row3\" class=\"row_heading level0 row3\" >lat</th>\n",
       "                        <td id=\"T_f198e48a_b95d_11ea_bc09_0050b6c39083row3_col0\" class=\"data row3 col0\" >0.036000</td>\n",
       "                        <td id=\"T_f198e48a_b95d_11ea_bc09_0050b6c39083row3_col1\" class=\"data row3 col1\" >-0.003752</td>\n",
       "                        <td id=\"T_f198e48a_b95d_11ea_bc09_0050b6c39083row3_col2\" class=\"data row3 col2\" >0.026567</td>\n",
       "                        <td id=\"T_f198e48a_b95d_11ea_bc09_0050b6c39083row3_col3\" class=\"data row3 col3\" >1.000000</td>\n",
       "                        <td id=\"T_f198e48a_b95d_11ea_bc09_0050b6c39083row3_col4\" class=\"data row3 col4\" >-0.168342</td>\n",
       "            </tr>\n",
       "            <tr>\n",
       "                        <th id=\"T_f198e48a_b95d_11ea_bc09_0050b6c39083level0_row4\" class=\"row_heading level0 row4\" >long</th>\n",
       "                        <td id=\"T_f198e48a_b95d_11ea_bc09_0050b6c39083row4_col0\" class=\"data row4 col0\" >-0.149115</td>\n",
       "                        <td id=\"T_f198e48a_b95d_11ea_bc09_0050b6c39083row4_col1\" class=\"data row4 col1\" >-0.017337</td>\n",
       "                        <td id=\"T_f198e48a_b95d_11ea_bc09_0050b6c39083row4_col2\" class=\"data row4 col2\" >0.042387</td>\n",
       "                        <td id=\"T_f198e48a_b95d_11ea_bc09_0050b6c39083row4_col3\" class=\"data row4 col3\" >-0.168342</td>\n",
       "                        <td id=\"T_f198e48a_b95d_11ea_bc09_0050b6c39083row4_col4\" class=\"data row4 col4\" >1.000000</td>\n",
       "            </tr>\n",
       "    </tbody></table>"
      ],
      "text/plain": [
       "<pandas.io.formats.style.Styler at 0x25493132ac8>"
      ]
     },
     "execution_count": 38,
     "metadata": {},
     "output_type": "execute_result"
    }
   ],
   "source": [
    "# Let's take a quick look at the correlation between our columns:\n",
    "df_work2.corr().style.background_gradient()"
   ]
  },
  {
   "cell_type": "markdown",
   "metadata": {},
   "source": [
    "From the correlation chart above, we can state that there is a strong positive correlation between `year` and `price`, which mean that the higher the year value, the higher would the price be. Also, there is a strong negative correlation between the `odometer` feature and the `price` value, meaning that with higher mileage distance, the price would be lower. Also, there is a negative correlation between `year` and `odometer` features, implying that the newer the car (higher year value) the less mileage it would have. All these correlations make sense realistically too.\n",
    "\n",
    "We won't go deeply in exploring all these correlations, instead, we will explore the feature importance values after running some ml models later.\n",
    "\n",
    "Now, after cleaning our dataset, let's convert our categorical features into numerical, so that we could run our models."
   ]
  },
  {
   "cell_type": "code",
   "execution_count": 39,
   "metadata": {
    "tags": []
   },
   "outputs": [
    {
     "name": "stdout",
     "output_type": "stream",
     "text": [
      "The shape of our new dataframe is:  (362854, 109)\n",
      "\n"
     ]
    },
    {
     "data": {
      "text/html": [
       "<div>\n",
       "<style scoped>\n",
       "    .dataframe tbody tr th:only-of-type {\n",
       "        vertical-align: middle;\n",
       "    }\n",
       "\n",
       "    .dataframe tbody tr th {\n",
       "        vertical-align: top;\n",
       "    }\n",
       "\n",
       "    .dataframe thead th {\n",
       "        text-align: right;\n",
       "    }\n",
       "</style>\n",
       "<table border=\"1\" class=\"dataframe\">\n",
       "  <thead>\n",
       "    <tr style=\"text-align: right;\">\n",
       "      <th></th>\n",
       "      <th>price</th>\n",
       "      <th>year</th>\n",
       "      <th>odometer</th>\n",
       "      <th>lat</th>\n",
       "      <th>long</th>\n",
       "      <th>manufacturer_acura</th>\n",
       "      <th>manufacturer_alfa-romeo</th>\n",
       "      <th>manufacturer_aston-martin</th>\n",
       "      <th>manufacturer_audi</th>\n",
       "      <th>manufacturer_bmw</th>\n",
       "      <th>...</th>\n",
       "      <th>paint_color_custom</th>\n",
       "      <th>paint_color_green</th>\n",
       "      <th>paint_color_grey</th>\n",
       "      <th>paint_color_missing</th>\n",
       "      <th>paint_color_orange</th>\n",
       "      <th>paint_color_purple</th>\n",
       "      <th>paint_color_red</th>\n",
       "      <th>paint_color_silver</th>\n",
       "      <th>paint_color_white</th>\n",
       "      <th>paint_color_yellow</th>\n",
       "    </tr>\n",
       "  </thead>\n",
       "  <tbody>\n",
       "    <tr>\n",
       "      <th>0</th>\n",
       "      <td>10299</td>\n",
       "      <td>2012.0</td>\n",
       "      <td>90186.0</td>\n",
       "      <td>35.7636</td>\n",
       "      <td>-78.7443</td>\n",
       "      <td>1</td>\n",
       "      <td>0</td>\n",
       "      <td>0</td>\n",
       "      <td>0</td>\n",
       "      <td>0</td>\n",
       "      <td>...</td>\n",
       "      <td>0</td>\n",
       "      <td>0</td>\n",
       "      <td>0</td>\n",
       "      <td>0</td>\n",
       "      <td>0</td>\n",
       "      <td>0</td>\n",
       "      <td>0</td>\n",
       "      <td>0</td>\n",
       "      <td>0</td>\n",
       "      <td>0</td>\n",
       "    </tr>\n",
       "    <tr>\n",
       "      <th>1</th>\n",
       "      <td>9500</td>\n",
       "      <td>2011.0</td>\n",
       "      <td>85000.0</td>\n",
       "      <td>36.1032</td>\n",
       "      <td>-79.8794</td>\n",
       "      <td>0</td>\n",
       "      <td>0</td>\n",
       "      <td>0</td>\n",
       "      <td>0</td>\n",
       "      <td>0</td>\n",
       "      <td>...</td>\n",
       "      <td>0</td>\n",
       "      <td>0</td>\n",
       "      <td>0</td>\n",
       "      <td>0</td>\n",
       "      <td>0</td>\n",
       "      <td>0</td>\n",
       "      <td>0</td>\n",
       "      <td>0</td>\n",
       "      <td>0</td>\n",
       "      <td>0</td>\n",
       "    </tr>\n",
       "    <tr>\n",
       "      <th>2</th>\n",
       "      <td>3995</td>\n",
       "      <td>2004.0</td>\n",
       "      <td>212526.0</td>\n",
       "      <td>35.7636</td>\n",
       "      <td>-78.7443</td>\n",
       "      <td>0</td>\n",
       "      <td>0</td>\n",
       "      <td>0</td>\n",
       "      <td>0</td>\n",
       "      <td>0</td>\n",
       "      <td>...</td>\n",
       "      <td>0</td>\n",
       "      <td>0</td>\n",
       "      <td>0</td>\n",
       "      <td>0</td>\n",
       "      <td>1</td>\n",
       "      <td>0</td>\n",
       "      <td>0</td>\n",
       "      <td>0</td>\n",
       "      <td>0</td>\n",
       "      <td>0</td>\n",
       "    </tr>\n",
       "    <tr>\n",
       "      <th>3</th>\n",
       "      <td>12995</td>\n",
       "      <td>2015.0</td>\n",
       "      <td>85127.0</td>\n",
       "      <td>35.7636</td>\n",
       "      <td>-78.7443</td>\n",
       "      <td>0</td>\n",
       "      <td>0</td>\n",
       "      <td>0</td>\n",
       "      <td>0</td>\n",
       "      <td>0</td>\n",
       "      <td>...</td>\n",
       "      <td>0</td>\n",
       "      <td>0</td>\n",
       "      <td>0</td>\n",
       "      <td>1</td>\n",
       "      <td>0</td>\n",
       "      <td>0</td>\n",
       "      <td>0</td>\n",
       "      <td>0</td>\n",
       "      <td>0</td>\n",
       "      <td>0</td>\n",
       "    </tr>\n",
       "    <tr>\n",
       "      <th>4</th>\n",
       "      <td>10995</td>\n",
       "      <td>2014.0</td>\n",
       "      <td>112383.0</td>\n",
       "      <td>35.7636</td>\n",
       "      <td>-78.7443</td>\n",
       "      <td>0</td>\n",
       "      <td>0</td>\n",
       "      <td>0</td>\n",
       "      <td>0</td>\n",
       "      <td>0</td>\n",
       "      <td>...</td>\n",
       "      <td>0</td>\n",
       "      <td>0</td>\n",
       "      <td>0</td>\n",
       "      <td>0</td>\n",
       "      <td>0</td>\n",
       "      <td>0</td>\n",
       "      <td>0</td>\n",
       "      <td>0</td>\n",
       "      <td>0</td>\n",
       "      <td>0</td>\n",
       "    </tr>\n",
       "  </tbody>\n",
       "</table>\n",
       "<p>5 rows × 109 columns</p>\n",
       "</div>"
      ],
      "text/plain": [
       "   price    year  odometer      lat     long  manufacturer_acura  \\\n",
       "0  10299  2012.0   90186.0  35.7636 -78.7443                   1   \n",
       "1   9500  2011.0   85000.0  36.1032 -79.8794                   0   \n",
       "2   3995  2004.0  212526.0  35.7636 -78.7443                   0   \n",
       "3  12995  2015.0   85127.0  35.7636 -78.7443                   0   \n",
       "4  10995  2014.0  112383.0  35.7636 -78.7443                   0   \n",
       "\n",
       "   manufacturer_alfa-romeo  manufacturer_aston-martin  manufacturer_audi  \\\n",
       "0                        0                          0                  0   \n",
       "1                        0                          0                  0   \n",
       "2                        0                          0                  0   \n",
       "3                        0                          0                  0   \n",
       "4                        0                          0                  0   \n",
       "\n",
       "   manufacturer_bmw  ...  paint_color_custom  paint_color_green  \\\n",
       "0                 0  ...                   0                  0   \n",
       "1                 0  ...                   0                  0   \n",
       "2                 0  ...                   0                  0   \n",
       "3                 0  ...                   0                  0   \n",
       "4                 0  ...                   0                  0   \n",
       "\n",
       "   paint_color_grey  paint_color_missing  paint_color_orange  \\\n",
       "0                 0                    0                   0   \n",
       "1                 0                    0                   0   \n",
       "2                 0                    0                   1   \n",
       "3                 0                    1                   0   \n",
       "4                 0                    0                   0   \n",
       "\n",
       "   paint_color_purple  paint_color_red  paint_color_silver  paint_color_white  \\\n",
       "0                   0                0                   0                  0   \n",
       "1                   0                0                   0                  0   \n",
       "2                   0                0                   0                  0   \n",
       "3                   0                0                   0                  0   \n",
       "4                   0                0                   0                  0   \n",
       "\n",
       "   paint_color_yellow  \n",
       "0                   0  \n",
       "1                   0  \n",
       "2                   0  \n",
       "3                   0  \n",
       "4                   0  \n",
       "\n",
       "[5 rows x 109 columns]"
      ]
     },
     "execution_count": 39,
     "metadata": {},
     "output_type": "execute_result"
    }
   ],
   "source": [
    "# Let's now convert our categorical columns into dummy variables:\n",
    "df_work3 = pd.get_dummies(df_work2)\n",
    "\n",
    "# Let's reset index, and remove all the spaces within column names and make them all lowercase (in case if there are some uppercase letters):\n",
    "df_work3.columns = df_work3.columns.str.replace(' ', '_')\n",
    "df_work3.columns = map(str.lower, df_work3.columns)\n",
    "\n",
    "# Resetting index:\n",
    "df_work3 = df_work3.reset_index().drop(columns = ['index']).copy()\n",
    "print('The shape of our new dataframe is: ', df_work3.shape)\n",
    "print()\n",
    "df_work3.head()"
   ]
  },
  {
   "cell_type": "markdown",
   "metadata": {},
   "source": [
    "Now we have our clean processed dataframe. Let's move onto the modelling part.\n",
    "\n",
    "Again, please note, there will be another notebook provided for the Neural Network modelling part."
   ]
  },
  {
   "cell_type": "markdown",
   "metadata": {},
   "source": [
    " "
   ]
  },
  {
   "cell_type": "markdown",
   "metadata": {},
   "source": [
    "## Part 2: Modelling"
   ]
  },
  {
   "cell_type": "markdown",
   "metadata": {},
   "source": [
    " "
   ]
  },
  {
   "cell_type": "markdown",
   "metadata": {},
   "source": [
    "### 2.1. Linear Regression"
   ]
  },
  {
   "cell_type": "code",
   "execution_count": 39,
   "metadata": {
    "tags": []
   },
   "outputs": [
    {
     "name": "stdout",
     "output_type": "stream",
     "text": [
      "X_lm shape: (362854, 108)\n",
      "y_lm shape: (362854,)\n",
      "X_lm_train shape: (290283, 108)\n",
      "y_lm_train shape: (290283,)\n",
      "X_lm_test shape: (72571, 108)\n",
      "y_lm_test shape: (72571,)\n",
      "--------------------------------------------------------------------------------------------------------------------------------\n",
      "The mean absolute error of our model is:  3994.351827470891\n",
      "The mean value of the price column is:  14254.943448484932\n",
      "The train set R^2 of our model is:  0.6721\n",
      "The test set R^2 of our model is:  0.6733\n"
     ]
    }
   ],
   "source": [
    "# ScikitLearn Linear Regression (default values):\n",
    "\n",
    "# Assigning data (X) and target (y) columns:\n",
    "X_lm = df_work3.loc[:, df_work3.columns != 'price']\n",
    "y_lm = df_work3['price']\n",
    "\n",
    "print('X_lm shape:', X_lm.shape)\n",
    "print('y_lm shape:', y_lm.shape)\n",
    "\n",
    "# Let's split our dataframe into train and test sets:\n",
    "X_lm_train, X_lm_test, y_lm_train, y_lm_test = train_test_split(X_lm, y_lm, test_size = 0.2, random_state=1)\n",
    "\n",
    "print('X_lm_train shape:', X_lm_train.shape)\n",
    "print('y_lm_train shape:', y_lm_train.shape)\n",
    "print('X_lm_test shape:', X_lm_test.shape)\n",
    "print('y_lm_test shape:', y_lm_test.shape)\n",
    "print(\"--------------------------------------------------------------------------------------------------------------------------------\")\n",
    "\n",
    "# 1. Instantiate the model:\n",
    "myLM = LinearRegression()\n",
    "\n",
    "# 2. Fit the model:\n",
    "myLM.fit(X_lm_train, y_lm_train)\n",
    "\n",
    "# 3. Make prediction (will use it for mae):\n",
    "y_lm_test_pred = myLM.predict(X_lm_test)\n",
    "\n",
    "# 4. R^2 score check:\n",
    "print(\"The mean absolute error of our model is: \", mae(y_lm_test, y_lm_test_pred))\n",
    "print(\"The mean value of the price column is: \", y_lm_test.mean())\n",
    "print(\"The train set R^2 of our model is: \", round(myLM.score(X_lm_train,y_lm_train),4))\n",
    "print(\"The test set R^2 of our model is: \", round(myLM.score(X_lm_test,y_lm_test),4))"
   ]
  },
  {
   "cell_type": "code",
   "execution_count": 40,
   "metadata": {
    "tags": []
   },
   "outputs": [
    {
     "name": "stdout",
     "output_type": "stream",
     "text": [
      "X_lm shape: (362854, 108)\n",
      "y_lm shape: (362854,)\n",
      "X_lm_train shape: (290283, 108)\n",
      "y_lm_train shape: (290283,)\n",
      "X_lm_test shape: (72571, 108)\n",
      "y_lm_test shape: (72571,)\n",
      "--------------------------------------------------------------------------------------------------------------------------------\n",
      "The mean absolute error of our model is:  3994.4628825562563\n",
      "The mean value of the price column is:  14254.943448484932\n",
      "The train set R^2 of our model is:  0.672\n",
      "The test set R^2 of our model is:  0.6732\n"
     ]
    }
   ],
   "source": [
    "# Let's now run the same model but with scaling first, it's advised to do so for better user interpretability: \n",
    "# ScikitLearn Linear Regression (with Standard Scaler):\n",
    "\n",
    "# Assigning data (X) and target (y) columns:\n",
    "X_lm = df_work3.loc[:, df_work3.columns != 'price']\n",
    "y_lm = df_work3['price']\n",
    "\n",
    "print('X_lm shape:', X_lm.shape)\n",
    "print('y_lm shape:', y_lm.shape)\n",
    "\n",
    "# Let's split our dataframe into train and test sets:\n",
    "X_lm_train, X_lm_test, y_lm_train, y_lm_test = train_test_split(X_lm, y_lm, test_size = 0.2, random_state=1)\n",
    "\n",
    "print('X_lm_train shape:', X_lm_train.shape)\n",
    "print('y_lm_train shape:', y_lm_train.shape)\n",
    "print('X_lm_test shape:', X_lm_test.shape)\n",
    "print('y_lm_test shape:', y_lm_test.shape)\n",
    "print(\"--------------------------------------------------------------------------------------------------------------------------------\")\n",
    "\n",
    "# Scale and Transform data:\n",
    "scaler = StandardScaler()\n",
    "scaler.fit(X_lm_train)\n",
    "X_lm_train = scaler.transform(X_lm_train)\n",
    "X_lm_test = scaler.transform(X_lm_test)\n",
    "\n",
    "# 1. Instantiate the model:\n",
    "myLM = LinearRegression()\n",
    "\n",
    "# 2. Fit the model:\n",
    "myLM.fit(X_lm_train, y_lm_train)\n",
    "\n",
    "# 3. Make prediction (will use it for mae):\n",
    "y_lm_test_pred = myLM.predict(X_lm_test)\n",
    "\n",
    "# 4. R^2 score check:\n",
    "print(\"The mean absolute error of our model is: \", mae(y_lm_test, y_lm_test_pred))\n",
    "print(\"The mean value of the price column is: \", y_lm_test.mean())\n",
    "print(\"The train set R^2 of our model is: \", round(myLM.score(X_lm_train,y_lm_train),4))\n",
    "print(\"The test set R^2 of our model is: \", round(myLM.score(X_lm_test,y_lm_test),4))"
   ]
  },
  {
   "cell_type": "markdown",
   "metadata": {},
   "source": [
    " "
   ]
  },
  {
   "cell_type": "markdown",
   "metadata": {},
   "source": [
    "### 2.2. Ridge Regression"
   ]
  },
  {
   "cell_type": "code",
   "execution_count": 41,
   "metadata": {
    "tags": []
   },
   "outputs": [
    {
     "name": "stdout",
     "output_type": "stream",
     "text": [
      "X_rr shape: (362854, 108)\n",
      "y_rr shape: (362854,)\n",
      "X_rr_train shape: (290283, 108)\n",
      "y_rr_train shape: (290283,)\n",
      "X_rr_test shape: (72571, 108)\n",
      "y_rr_test shape: (72571,)\n",
      "--------------------------------------------------------------------------------------------------------------------------------\n",
      "The mean absolute error of our model is:  3994.553516533962\n",
      "The mean value of the price column is:  14254.943448484932\n",
      "The train set R^2 of our model is:  0.672\n",
      "The test set R^2 of our model is:  0.6733\n"
     ]
    }
   ],
   "source": [
    "# ScikitLearn Ridge Regression (with Standard Scaler):\n",
    "\n",
    "# Assigning data (X) and target (y) columns:\n",
    "X_rr = df_work3.loc[:, df_work3.columns != 'price']\n",
    "y_rr = df_work3['price']\n",
    "\n",
    "print('X_rr shape:', X_rr.shape)\n",
    "print('y_rr shape:', y_rr.shape)\n",
    "\n",
    "# Let's split our dataframe into train and test sets:\n",
    "X_rr_train, X_rr_test, y_rr_train, y_rr_test = train_test_split(X_rr, y_rr, test_size = 0.2, random_state=1)\n",
    "\n",
    "print('X_rr_train shape:', X_rr_train.shape)\n",
    "print('y_rr_train shape:', y_rr_train.shape)\n",
    "print('X_rr_test shape:', X_rr_test.shape)\n",
    "print('y_rr_test shape:', y_rr_test.shape)\n",
    "print(\"--------------------------------------------------------------------------------------------------------------------------------\")\n",
    "\n",
    "# Scale and Transform data:\n",
    "scaler = StandardScaler()\n",
    "scaler.fit(X_lm_train)\n",
    "X_lm_train = scaler.transform(X_lm_train)\n",
    "X_lm_test = scaler.transform(X_lm_test)\n",
    "\n",
    "# 1. Instantiate the model\n",
    "myRR = Ridge()\n",
    "\n",
    "# 2. Fit the model\n",
    "myRR.fit(X_rr_train, y_rr_train)\n",
    "\n",
    "# 3. Make prediction (will use it for mae)\n",
    "y_rr_test_pred = myRR.predict(X_rr_test)\n",
    "\n",
    "# 4. R^2 score check:\n",
    "print(\"The mean absolute error of our model is: \", mae(y_rr_test, y_rr_test_pred))\n",
    "print(\"The mean value of the price column is: \", y_rr_test.mean())\n",
    "print(\"The train set R^2 of our model is: \", round(myRR.score(X_rr_train,y_rr_train),4))\n",
    "print(\"The test set R^2 of our model is: \", round(myRR.score(X_rr_test,y_rr_test),4))"
   ]
  },
  {
   "cell_type": "markdown",
   "metadata": {},
   "source": [
    " "
   ]
  },
  {
   "cell_type": "markdown",
   "metadata": {},
   "source": [
    "### 2.3. RidgeCV Regression "
   ]
  },
  {
   "cell_type": "code",
   "execution_count": 42,
   "metadata": {},
   "outputs": [
    {
     "name": "stdout",
     "output_type": "stream",
     "text": [
      "X_rrcv shape: (362854, 108)\n",
      "y_rrcv shape: (362854,)\n",
      "X_rrcv_train shape: (290283, 108)\n",
      "y_rrcv_train shape: (290283,)\n",
      "X_rrcv_test shape: (72571, 108)\n",
      "y_rrcv_test shape: (72571,)\n",
      "--------------------------------------------------------------------------------------------------------------------------------\n",
      "The mean absolute error of our model is:  3994.375520728161\n",
      "The mean value of the price column is:  14254.943448484932\n",
      "The train set R^2 of our model is:  0.6721\n",
      "The test set R^2 of our model is:  0.6733\n"
     ]
    }
   ],
   "source": [
    "# Scikit Learn RidgeCV Regression (cv=5):\n",
    "\n",
    "# Assigning data (X) and target (y) columns:\n",
    "X_rrcv = df_work3.loc[:, df_work3.columns != 'price']\n",
    "y_rrcv = df_work3['price']\n",
    "\n",
    "print('X_rrcv shape:', X_rrcv.shape)\n",
    "print('y_rrcv shape:', y_rrcv.shape)\n",
    "\n",
    "# Let's split our dataframe into train and test sets:\n",
    "X_rrcv_train, X_rrcv_test, y_rrcv_train, y_rrcv_test = train_test_split(X_rrcv, y_rrcv, test_size = 0.2, random_state=1)\n",
    "\n",
    "print('X_rrcv_train shape:', X_rrcv_train.shape)\n",
    "print('y_rrcv_train shape:', y_rrcv_train.shape)\n",
    "print('X_rrcv_test shape:', X_rrcv_test.shape)\n",
    "print('y_rrcv_test shape:', y_rrcv_test.shape)\n",
    "print(\"--------------------------------------------------------------------------------------------------------------------------------\")\n",
    "\n",
    "# 1. Instantiate the model:\n",
    "myRRCV = RidgeCV(cv=5)\n",
    "\n",
    "# 2. Fit the model:\n",
    "myRRCV.fit(X_rrcv_train, y_rrcv_train)\n",
    "\n",
    "# 3. Make prediction (will use it for mae):\n",
    "y_rrcv_test_pred = myRRCV.predict(X_rrcv_test)\n",
    "\n",
    "# 4. R^2 score check:\n",
    "print(\"The mean absolute error of our model is: \", mae(y_rrcv_test, y_rrcv_test_pred))\n",
    "print(\"The mean value of the price column is: \", y_rrcv_test.mean())\n",
    "print(\"The train set R^2 of our model is: \", round(myRRCV.score(X_rrcv_train,y_rrcv_train),4))\n",
    "print(\"The test set R^2 of our model is: \", round(myRRCV.score(X_rrcv_test,y_rrcv_test),4))"
   ]
  },
  {
   "cell_type": "code",
   "execution_count": 43,
   "metadata": {
    "tags": []
   },
   "outputs": [
    {
     "name": "stdout",
     "output_type": "stream",
     "text": [
      "X_rrcv shape: (362854, 108)\n",
      "y_rrcv shape: (362854,)\n",
      "X_rrcv_train shape: (290283, 108)\n",
      "y_rrcv_train shape: (290283,)\n",
      "X_rrcv_test shape: (72571, 108)\n",
      "y_rrcv_test shape: (72571,)\n",
      "--------------------------------------------------------------------------------------------------------------------------------\n",
      "The mean absolute error of our model is:  3994.354253659961\n",
      "The mean value of the price column is:  14254.943448484932\n",
      "The train set R^2 of our model is:  0.6721\n",
      "The test set R^2 of our model is:  0.6733\n"
     ]
    }
   ],
   "source": [
    "# Scikit Learn RidgeCV Regression (cv=5, alphas updated):\n",
    "\n",
    "# Assigning data (X) and target (y) columns:\n",
    "X_rrcv = df_work3.loc[:, df_work3.columns != 'price']\n",
    "y_rrcv = df_work3['price']\n",
    "\n",
    "print('X_rrcv shape:', X_rrcv.shape)\n",
    "print('y_rrcv shape:', y_rrcv.shape)\n",
    "\n",
    "# Let's split our dataframe into train and test sets:\n",
    "X_rrcv_train, X_rrcv_test, y_rrcv_train, y_rrcv_test = train_test_split(X_rrcv, y_rrcv, test_size = 0.2, random_state=1)\n",
    "\n",
    "print('X_rrcv_train shape:', X_rrcv_train.shape)\n",
    "print('y_rrcv_train shape:', y_rrcv_train.shape)\n",
    "print('X_rrcv_test shape:', X_rrcv_test.shape)\n",
    "print('y_rrcv_test shape:', y_rrcv_test.shape)\n",
    "print(\"--------------------------------------------------------------------------------------------------------------------------------\")\n",
    "\n",
    "# 1. Instantiate the model:\n",
    "myRRCV = RidgeCV(alphas=[0.001, 0.01, 0,1, 1, 2, 4, 6, 8, 10, 15, 20], cv=5)\n",
    "\n",
    "# 2. Fit the model:\n",
    "myRRCV.fit(X_rrcv_train, y_rrcv_train)\n",
    "\n",
    "# 3. Make prediction (will use it for mae):\n",
    "y_rrcv_test_pred = myRRCV.predict(X_rrcv_test)\n",
    "\n",
    "# 4. R^2 score check:\n",
    "print(\"The mean absolute error of our model is: \", mae(y_rrcv_test, y_rrcv_test_pred))\n",
    "print(\"The mean value of the price column is: \", y_rrcv_test.mean())\n",
    "print(\"The train set R^2 of our model is: \", round(myRRCV.score(X_rrcv_train,y_rrcv_train),4))\n",
    "print(\"The test set R^2 of our model is: \", round(myRRCV.score(X_rrcv_test,y_rrcv_test),4))"
   ]
  },
  {
   "cell_type": "code",
   "execution_count": 44,
   "metadata": {},
   "outputs": [
    {
     "name": "stdout",
     "output_type": "stream",
     "text": [
      "Best alpha value is:  0.01\n"
     ]
    }
   ],
   "source": [
    "# Let's view the best alpha value:\n",
    "print('Best alpha value is: ', myRRCV.alpha_)"
   ]
  },
  {
   "cell_type": "markdown",
   "metadata": {},
   "source": [
    " "
   ]
  },
  {
   "cell_type": "markdown",
   "metadata": {},
   "source": [
    "### 2.4. Lasso Regression "
   ]
  },
  {
   "cell_type": "code",
   "execution_count": 45,
   "metadata": {},
   "outputs": [
    {
     "name": "stdout",
     "output_type": "stream",
     "text": [
      "X_lr shape: (362854, 108)\n",
      "y_lr shape: (362854,)\n",
      "X_lr_train shape: (290283, 108)\n",
      "y_lr_train shape: (290283,)\n",
      "X_lr_test shape: (72571, 108)\n",
      "y_lr_test shape: (72571,)\n",
      "--------------------------------------------------------------------------------------------------------------------------------\n",
      "The mean absolute error of our model is:  3994.3528586599778\n",
      "The mean value of the price column is:  14254.943448484932\n",
      "The train set R^2 of our model is:  0.6721\n",
      "The test set R^2 of our model is:  0.6733\n"
     ]
    }
   ],
   "source": [
    "# ScikitLearn Lasso Regression:\n",
    "\n",
    "# Assigning data (X) and target (y) columns:\n",
    "X_lr = df_work3.loc[:, df_work3.columns != 'price']\n",
    "y_lr = df_work3['price']\n",
    "\n",
    "print('X_lr shape:', X_lr.shape)\n",
    "print('y_lr shape:', y_lr.shape)\n",
    "\n",
    "# Let's split our dataframe into train and test sets:\n",
    "X_lr_train, X_lr_test, y_lr_train, y_lr_test = train_test_split(X_lr, y_lr, test_size = 0.2, random_state=1)\n",
    "\n",
    "print('X_lr_train shape:', X_lr_train.shape)\n",
    "print('y_lr_train shape:', y_lr_train.shape)\n",
    "print('X_lr_test shape:', X_lr_test.shape)\n",
    "print('y_lr_test shape:', y_lr_test.shape)\n",
    "print(\"--------------------------------------------------------------------------------------------------------------------------------\")\n",
    "\n",
    "# 1. Instantiate the model:\n",
    "myLasso = Lasso(alpha=0.001)\n",
    "\n",
    "# 2. Fit the model:\n",
    "myLasso.fit(X_lr_train, y_lr_train)\n",
    "\n",
    "# 3. Make prediction (will use it for mae):\n",
    "y_lr_test_pred = myLasso.predict(X_lr_test)\n",
    "\n",
    "# 4. R^2 score check:\n",
    "print(\"The mean absolute error of our model is: \", mae(y_lr_test, y_lr_test_pred))\n",
    "print(\"The mean value of the price column is: \", y_lr_test.mean())\n",
    "print(\"The train set R^2 of our model is: \", round(myLasso.score(X_lr_train,y_lr_train),4))\n",
    "print(\"The test set R^2 of our model is: \", round(myLasso.score(X_lr_test,y_lr_test),4))"
   ]
  },
  {
   "cell_type": "code",
   "execution_count": 46,
   "metadata": {},
   "outputs": [
    {
     "name": "stdout",
     "output_type": "stream",
     "text": [
      "X_lr shape: (362854, 108)\n",
      "y_lr shape: (362854,)\n",
      "X_lr_train shape: (290283, 108)\n",
      "y_lr_train shape: (290283,)\n",
      "X_lr_test shape: (72571, 108)\n",
      "y_lr_test shape: (72571,)\n",
      "--------------------------------------------------------------------------------------------------------------------------------\n",
      "The mean absolute error of our model is:  3994.3517592781077\n",
      "The mean value of the price column is:  14254.943448484932\n",
      "The train set R^2 of our model is:  0.6721\n",
      "The test set R^2 of our model is:  0.6733\n"
     ]
    }
   ],
   "source": [
    "# ScikitLearn Lasso Regression (with StandardScaler and max_iter=10,000):\n",
    "\n",
    "# Assigning data (X) and target (y) columns:\n",
    "X_lr = df_work3.loc[:, df_work3.columns != 'price']\n",
    "y_lr = df_work3['price']\n",
    "\n",
    "print('X_lr shape:', X_lr.shape)\n",
    "print('y_lr shape:', y_lr.shape)\n",
    "\n",
    "# Let's split our dataframe into train and test sets:\n",
    "X_lr_train, X_lr_test, y_lr_train, y_lr_test = train_test_split(X_lr, y_lr, test_size = 0.2, random_state=1)\n",
    "\n",
    "print('X_lr_train shape:', X_lr_train.shape)\n",
    "print('y_lr_train shape:', y_lr_train.shape)\n",
    "print('X_lr_test shape:', X_lr_test.shape)\n",
    "print('y_lr_test shape:', y_lr_test.shape)\n",
    "print(\"--------------------------------------------------------------------------------------------------------------------------------\")\n",
    "\n",
    "# Scale and Transform data:\n",
    "scaler = StandardScaler()\n",
    "scaler.fit(X_lr_train)\n",
    "X_lr_train = scaler.transform(X_lr_train)\n",
    "X_lr_test = scaler.transform(X_lr_test)\n",
    "\n",
    "# 1. Instantiate the model:\n",
    "myLasso = Lasso(alpha=0.001, max_iter=10000)\n",
    "\n",
    "# 2. Fit the model:\n",
    "myLasso.fit(X_lr_train, y_lr_train)\n",
    "\n",
    "# 3. Make prediction (will use it for mae):\n",
    "y_lr_test_pred = myLasso.predict(X_lr_test)\n",
    "\n",
    "# 4. R^2 score check:\n",
    "print(\"The mean absolute error of our model is: \", mae(y_lr_test, y_lr_test_pred))\n",
    "print(\"The mean value of the price column is: \", y_lr_test.mean())\n",
    "print(\"The train set R^2 of our model is: \", round(myLasso.score(X_lr_train,y_lr_train),4))\n",
    "print(\"The test set R^2 of our model is: \", round(myLasso.score(X_lr_test,y_lr_test),4))"
   ]
  },
  {
   "cell_type": "code",
   "execution_count": 47,
   "metadata": {},
   "outputs": [
    {
     "name": "stdout",
     "output_type": "stream",
     "text": [
      "Train set R^2 score with alpha=0.001: 0.6720717664344774\n",
      "Validation set R^2 score with alpha=0.001: 0.6732734301163493\n",
      "\n",
      "Train set R^2 score with alpha=0.01: 0.6720717663360171\n",
      "Validation set R^2 score with alpha=0.01: 0.673273392071866\n",
      "\n",
      "Train set R^2 score with alpha=0.05: 0.672071763934895\n",
      "Validation set R^2 score with alpha=0.05: 0.6732732840529876\n",
      "\n",
      "Train set R^2 score with alpha=0.1: 0.6720717566505943\n",
      "Validation set R^2 score with alpha=0.1: 0.6732730807677311\n",
      "\n",
      "Train set R^2 score with alpha=0.2: 0.6720717284754935\n",
      "Validation set R^2 score with alpha=0.2: 0.673272611743324\n",
      "\n",
      "Train set R^2 score with alpha=0.4: 0.6720716181301759\n",
      "Validation set R^2 score with alpha=0.4: 0.6732719150122639\n",
      "\n",
      "Train set R^2 score with alpha=0.6: 0.6720714330371761\n",
      "Validation set R^2 score with alpha=0.6: 0.6732709833399848\n",
      "\n",
      "Train set R^2 score with alpha=0.8: 0.6720711737973737\n",
      "Validation set R^2 score with alpha=0.8: 0.6732700072662886\n",
      "\n",
      "Train set R^2 score with alpha=1: 0.6720708387401505\n",
      "Validation set R^2 score with alpha=1: 0.6732687671787454\n",
      "\n",
      "Train set R^2 score with alpha=2: 0.6720681147043226\n",
      "Validation set R^2 score with alpha=2: 0.6732621137297821\n",
      "\n",
      "Train set R^2 score with alpha=4: 0.6720574132955995\n",
      "Validation set R^2 score with alpha=4: 0.6732431521162131\n",
      "\n",
      "Train set R^2 score with alpha=6: 0.6720396153107681\n",
      "Validation set R^2 score with alpha=6: 0.6732170376458954\n",
      "\n",
      "Train set R^2 score with alpha=8: 0.6720147968252183\n",
      "Validation set R^2 score with alpha=8: 0.6731848588323801\n",
      "\n",
      "Train set R^2 score with alpha=10: 0.6719830643162339\n",
      "Validation set R^2 score with alpha=10: 0.6731472387471236\n",
      "\n"
     ]
    }
   ],
   "source": [
    "# Let's now run the Lasso Regression model with different alpha values and see how our R^2 scores change:\n",
    "train_scores_lr = []\n",
    "test_scores_lr = []\n",
    "\n",
    "alpha_values = [0.001, 0.01, 0.05, 0.1, 0.2, 0.4, 0.6, 0.8, 1, 2, 4, 6, 8, 10] \n",
    "\n",
    "for a in alpha_values:\n",
    "    \n",
    "    myLasso = Lasso(alpha=a)\n",
    "    myLasso.fit(X_lr_train, y_lr_train)\n",
    "    \n",
    "    train_scores_lr.append(myLasso.score(X_lr_train,y_lr_train))\n",
    "    test_scores_lr.append(myLasso.score(X_lr_test,y_lr_test))\n",
    "    \n",
    "    print(f'Train set R^2 score with alpha={a}: {myLasso.score(X_lr_train,y_lr_train)}')\n",
    "    print(f'Validation set R^2 score with alpha={a}: {myLasso.score(X_lr_test,y_lr_test)}')\n",
    "    print()"
   ]
  },
  {
   "cell_type": "code",
   "execution_count": 48,
   "metadata": {},
   "outputs": [
    {
     "data": {
      "image/png": "[encoded data removed]",
      "text/plain": [
       "<Figure size 432x288 with 1 Axes>"
      ]
     },
     "metadata": {
      "needs_background": "light"
     },
     "output_type": "display_data"
    }
   ],
   "source": [
    "# Let's plot our results:\n",
    "plt.figure()\n",
    "plt.title(\"R^2 Score vs Alpha Values in Lasso Regression Model\")\n",
    "plt.plot(alpha_values, train_scores_lr, label=\"Train\")\n",
    "plt.plot(alpha_values, test_scores_lr, label=\"Test\")\n",
    "plt.legend()\n",
    "plt.xlabel(\"Alpha Value\")\n",
    "plt.ylabel(\"R^2 Score\")\n",
    "plt.show()"
   ]
  },
  {
   "cell_type": "markdown",
   "metadata": {},
   "source": [
    " "
   ]
  },
  {
   "cell_type": "markdown",
   "metadata": {},
   "source": [
    "### 2.5. LassoCV Regression "
   ]
  },
  {
   "cell_type": "code",
   "execution_count": 49,
   "metadata": {},
   "outputs": [
    {
     "name": "stdout",
     "output_type": "stream",
     "text": [
      "X_lrcv shape: (362854, 108)\n",
      "y_lrcv shape: (362854,)\n",
      "X_lrcv_train shape: (290283, 108)\n",
      "y_lrcv_train shape: (290283,)\n",
      "X_lrcv_test shape: (72571, 108)\n",
      "y_lrcv_test shape: (72571,)\n",
      "--------------------------------------------------------------------------------------------------------------------------------\n",
      "The mean absolute error of our model is:  3993.4367784085175\n",
      "The mean value of the price column is:  14254.943448484932\n",
      "The train set R^2 of our model is:  0.672\n",
      "The test set R^2 of our model is:  0.6732\n"
     ]
    }
   ],
   "source": [
    "# ScikitLearn LassoCV Regression (default values):\n",
    "\n",
    "# Assigning data (X) and target (y) columns:\n",
    "X_lrcv = df_work3.loc[:, df_work3.columns != 'price']\n",
    "y_lrcv = df_work3['price']\n",
    "\n",
    "print('X_lrcv shape:', X_lrcv.shape)\n",
    "print('y_lrcv shape:', y_lrcv.shape)\n",
    "\n",
    "# Let's split our dataframe into train and test sets:\n",
    "X_lrcv_train, X_lrcv_test, y_lrcv_train, y_lrcv_test = train_test_split(X_lrcv, y_lrcv, test_size = 0.2, random_state=1)\n",
    "\n",
    "print('X_lrcv_train shape:', X_lrcv_train.shape)\n",
    "print('y_lrcv_train shape:', y_lrcv_train.shape)\n",
    "print('X_lrcv_test shape:', X_lrcv_test.shape)\n",
    "print('y_lrcv_test shape:', y_lrcv_test.shape)\n",
    "print(\"--------------------------------------------------------------------------------------------------------------------------------\")\n",
    "\n",
    "# Scale and Transform data:\n",
    "scaler = StandardScaler()\n",
    "scaler.fit(X_lrcv_train)\n",
    "X_lrcv_train = scaler.transform(X_lrcv_train)\n",
    "X_lrcv_test = scaler.transform(X_lrcv_test)\n",
    "\n",
    "# 1. Instantiate the model:\n",
    "myLassoCV = LassoCV()\n",
    "\n",
    "# 2. Fit the model:\n",
    "myLassoCV.fit(X_lrcv_train, y_lrcv_train)\n",
    "\n",
    "# 3. Make prediction (will use it for mae):\n",
    "y_lrcv_test_pred = myLassoCV.predict(X_lrcv_test)\n",
    "\n",
    "# 4. R^2 score check:\n",
    "print(\"The mean absolute error of our model is: \", mae(y_lrcv_test, y_lrcv_test_pred))\n",
    "print(\"The mean value of the price column is: \", y_lrcv_test.mean())\n",
    "print(\"The train set R^2 of our model is: \", round(myLassoCV.score(X_lrcv_train,y_lrcv_train),4))\n",
    "print(\"The test set R^2 of our model is: \", round(myLassoCV.score(X_lrcv_test,y_lrcv_test),4))"
   ]
  },
  {
   "cell_type": "code",
   "execution_count": 50,
   "metadata": {},
   "outputs": [
    {
     "name": "stdout",
     "output_type": "stream",
     "text": [
      "The mean absolute error of our model is:  3993.4367784085175\n",
      "The mean value of the price column is:  14254.943448484932\n",
      "The train set R^2 of our model is:  0.672\n",
      "The test set R^2 of our model is:  0.6732\n"
     ]
    }
   ],
   "source": [
    "# ScikitLearn LassoCV Regression (custom values):\n",
    "\n",
    "# 1. Instantiate the model:\n",
    "myLassoCV = LassoCV(normalize=True, cv=5, random_state=1)\n",
    "\n",
    "# 2. Fit the model:\n",
    "myLassoCV.fit(X_lrcv_train, y_lrcv_train)\n",
    "\n",
    "# 3. Make prediction (will use it for mae):\n",
    "y_lrcv_test_pred = myLassoCV.predict(X_lrcv_test)\n",
    "\n",
    "# 4. R^2 score check:\n",
    "print(\"The mean absolute error of our model is: \", mae(y_lrcv_test, y_lrcv_test_pred))\n",
    "print(\"The mean value of the price column is: \", y_lrcv_test.mean())\n",
    "print(\"The train set R^2 of our model is: \", round(myLassoCV.score(X_lrcv_train,y_lrcv_train),4))\n",
    "print(\"The test set R^2 of our model is: \", round(myLassoCV.score(X_lrcv_test,y_lrcv_test),4))"
   ]
  },
  {
   "cell_type": "code",
   "execution_count": 51,
   "metadata": {},
   "outputs": [
    {
     "name": "stdout",
     "output_type": "stream",
     "text": [
      "Best alpha value is:  0.009389603637139544\n"
     ]
    }
   ],
   "source": [
    "# Let's view the best alpha value:\n",
    "print('Best alpha value is: ', myLassoCV.alpha_)"
   ]
  },
  {
   "cell_type": "markdown",
   "metadata": {},
   "source": [
    "  "
   ]
  },
  {
   "cell_type": "markdown",
   "metadata": {},
   "source": [
    "### 2.6. Elastic Regression "
   ]
  },
  {
   "cell_type": "code",
   "execution_count": 52,
   "metadata": {},
   "outputs": [
    {
     "name": "stdout",
     "output_type": "stream",
     "text": [
      "X_elr shape: (362854, 108)\n",
      "y_elr shape: (362854,)\n",
      "X_elr_train shape: (290283, 108)\n",
      "y_elr_train shape: (290283,)\n",
      "X_elr_test shape: (72571, 108)\n",
      "y_elr_test shape: (72571,)\n",
      "--------------------------------------------------------------------------------------------------------------------------------\n",
      "The mean absolute error of our model is:  4313.34217965821\n",
      "The mean value of the price column is:  14254.943448484932\n",
      "The train set R^2 of our model is:  0.6298\n",
      "The test set R^2 of our model is:  0.6295\n"
     ]
    }
   ],
   "source": [
    "# ScikitLearn Elastic Regression (default values):\n",
    "\n",
    "# Assigning data (X) and target (y) columns:\n",
    "X_elr = df_work3.loc[:, df_work3.columns != 'price']\n",
    "y_elr = df_work3['price']\n",
    "\n",
    "print('X_elr shape:', X_elr.shape)\n",
    "print('y_elr shape:', y_elr.shape)\n",
    "\n",
    "# Let's split our dataframe into train and test sets:\n",
    "X_elr_train, X_elr_test, y_elr_train, y_elr_test = train_test_split(X_elr, y_elr, test_size = 0.2, random_state=1)\n",
    "\n",
    "print('X_elr_train shape:', X_elr_train.shape)\n",
    "print('y_elr_train shape:', y_elr_train.shape)\n",
    "print('X_elr_test shape:', X_elr_test.shape)\n",
    "print('y_elr_test shape:', y_elr_test.shape)\n",
    "print(\"--------------------------------------------------------------------------------------------------------------------------------\")\n",
    "\n",
    "# Scale and Transform data:\n",
    "scaler = StandardScaler()\n",
    "scaler.fit(X_elr_train)\n",
    "X_elr_train = scaler.transform(X_elr_train)\n",
    "X_elr_test = scaler.transform(X_elr_test)\n",
    "\n",
    "# 1. Instantiate the model:\n",
    "myER = ElasticNet()\n",
    "\n",
    "# 2. Fit the model:\n",
    "myER.fit(X_elr_train, y_elr_train)\n",
    "\n",
    "# 3. Make prediction (will use it for mae):\n",
    "y_elr_test_pred = myER.predict(X_elr_test)\n",
    "\n",
    "# 4. R^2 score check:\n",
    "print(\"The mean absolute error of our model is: \", mae(y_elr_test, y_elr_test_pred))\n",
    "print(\"The mean value of the price column is: \", y_elr_test.mean())\n",
    "print(\"The train set R^2 of our model is: \", round(myER.score(X_elr_train,y_elr_train),4))\n",
    "print(\"The test set R^2 of our model is: \", round(myER.score(X_elr_test,y_elr_test),4))"
   ]
  },
  {
   "cell_type": "code",
   "execution_count": 53,
   "metadata": {},
   "outputs": [
    {
     "name": "stdout",
     "output_type": "stream",
     "text": [
      "Train set R^2 score with alpha=0.0001: 0.6720717654877923\n",
      "Validation set R^2 score with alpha=0.0001: 0.6732731935522975\n",
      "\n",
      "Train set R^2 score with alpha=0.0005: 0.6720717418624943\n",
      "Validation set R^2 score with alpha=0.0005: 0.6732721612273167\n",
      "\n",
      "Train set R^2 score with alpha=0.001: 0.672071668125087\n",
      "Validation set R^2 score with alpha=0.001: 0.673270837991164\n",
      "\n",
      "Train set R^2 score with alpha=0.005: 0.672069320088494\n",
      "Validation set R^2 score with alpha=0.005: 0.6732585340507242\n",
      "\n",
      "Train set R^2 score with alpha=0.01: 0.6720620376010366\n",
      "Validation set R^2 score with alpha=0.01: 0.6732388876271522\n",
      "\n",
      "Train set R^2 score with alpha=0.05: 0.6718393607869966\n",
      "Validation set R^2 score with alpha=0.05: 0.6729204266017303\n",
      "\n",
      "Train set R^2 score with alpha=0.1: 0.6711917006588981\n",
      "Validation set R^2 score with alpha=0.1: 0.6721603771458399\n",
      "\n",
      "Train set R^2 score with alpha=0.2: 0.668896967897805\n",
      "Validation set R^2 score with alpha=0.2: 0.6696624451886164\n",
      "\n",
      "Train set R^2 score with alpha=0.4: 0.6615252553338555\n",
      "Validation set R^2 score with alpha=0.4: 0.6619541692356803\n",
      "\n",
      "Train set R^2 score with alpha=0.6: 0.6519237567935094\n",
      "Validation set R^2 score with alpha=0.6: 0.6520867916286807\n",
      "\n",
      "Train set R^2 score with alpha=0.8: 0.6411364763847184\n",
      "Validation set R^2 score with alpha=0.8: 0.6410859844327171\n",
      "\n",
      "Train set R^2 score with alpha=1: 0.6297555265983029\n",
      "Validation set R^2 score with alpha=1: 0.629531289232153\n",
      "\n",
      "Train set R^2 score with alpha=2: 0.5724418574997887\n",
      "Validation set R^2 score with alpha=2: 0.5717095378166681\n",
      "\n",
      "Train set R^2 score with alpha=4: 0.47717499021164256\n",
      "Validation set R^2 score with alpha=4: 0.47615354168662405\n",
      "\n",
      "Train set R^2 score with alpha=6: 0.4072077629863484\n",
      "Validation set R^2 score with alpha=6: 0.40616778106092855\n",
      "\n",
      "Train set R^2 score with alpha=8: 0.35464516881205466\n",
      "Validation set R^2 score with alpha=8: 0.3536547952415956\n",
      "\n",
      "Train set R^2 score with alpha=10: 0.313912302940602\n",
      "Validation set R^2 score with alpha=10: 0.3129866241216511\n",
      "\n"
     ]
    },
    {
     "data": {
      "image/png": "[encoded data removed]",
      "text/plain": [
       "<Figure size 432x288 with 1 Axes>"
      ]
     },
     "metadata": {
      "needs_background": "light"
     },
     "output_type": "display_data"
    }
   ],
   "source": [
    "# Let's now run the Elastic Regression model (max_iter=10,000) with different alpha values and see how our R^2 scores change:\n",
    "train_scores_er = []\n",
    "test_scores_er = []\n",
    "\n",
    "alpha_values = [0.0001, 0.0005, 0.001, 0.005, 0.01, 0.05, 0.1, 0.2, 0.4, 0.6, 0.8, 1, 2, 4, 6, 8, 10] \n",
    "\n",
    "for a in alpha_values:\n",
    "    \n",
    "    myER = ElasticNet(alpha=a, max_iter=10000)\n",
    "    myER.fit(X_elr_train, y_elr_train)\n",
    "    \n",
    "    train_scores_er.append(myER.score(X_elr_train,y_elr_train))\n",
    "    test_scores_er.append(myER.score(X_elr_test,y_elr_test))\n",
    "    \n",
    "    print(f'Train set R^2 score with alpha={a}: {myER.score(X_elr_train,y_elr_train)}')\n",
    "    print(f'Validation set R^2 score with alpha={a}: {myER.score(X_elr_test,y_elr_test)}')\n",
    "    print()\n",
    "    \n",
    "\n",
    "# Let's plot our results:\n",
    "plt.figure()\n",
    "plt.title(\"R^2 Score vs Alpha Values in Elastic Regression Model\")\n",
    "plt.plot(alpha_values, train_scores_er, label=\"Train\")\n",
    "plt.plot(alpha_values, test_scores_er, label=\"Test\")\n",
    "plt.legend()\n",
    "plt.xlabel(\"Alpha Value\")\n",
    "plt.ylabel(\"R^2 Score\")\n",
    "plt.show()"
   ]
  },
  {
   "cell_type": "code",
   "execution_count": 48,
   "metadata": {},
   "outputs": [
    {
     "name": "stdout",
     "output_type": "stream",
     "text": [
      "X_elr shape: (362854, 108)\n",
      "y_elr shape: (362854,)\n",
      "X_elr_train shape: (290283, 108)\n",
      "y_elr_train shape: (290283,)\n",
      "X_elr_test shape: (72571, 108)\n",
      "y_elr_test shape: (72571,)\n",
      "--------------------------------------------------------------------------------------------------------------------------------\n",
      "The mean absolute error of our model is:  3994.353900245437\n",
      "The mean value of the price column is:  14254.943448484932\n",
      "The train set R^2 of our model is:  0.6721\n",
      "The test set R^2 of our model is:  0.6733\n"
     ]
    }
   ],
   "source": [
    "# ScikitLearn Elastic Regression (adjusted parameters):\n",
    "\n",
    "# Assigning data (X) and target (y) columns:\n",
    "X_elr = df_work3.loc[:, df_work3.columns != 'price']\n",
    "y_elr = df_work3['price']\n",
    "\n",
    "print('X_elr shape:', X_elr.shape)\n",
    "print('y_elr shape:', y_elr.shape)\n",
    "\n",
    "# Let's split our dataframe into train and test sets:\n",
    "X_elr_train, X_elr_test, y_elr_train, y_elr_test = train_test_split(X_elr, y_elr, test_size = 0.2, random_state=1)\n",
    "\n",
    "print('X_elr_train shape:', X_elr_train.shape)\n",
    "print('y_elr_train shape:', y_elr_train.shape)\n",
    "print('X_elr_test shape:', X_elr_test.shape)\n",
    "print('y_elr_test shape:', y_elr_test.shape)\n",
    "print(\"--------------------------------------------------------------------------------------------------------------------------------\")\n",
    "\n",
    "# Scale and Transform data:\n",
    "scaler = StandardScaler()\n",
    "scaler.fit(X_elr_train)\n",
    "X_elr_train = scaler.transform(X_elr_train)\n",
    "X_elr_test = scaler.transform(X_elr_test)\n",
    "\n",
    "# 1. Instantiate the model:\n",
    "myER = ElasticNet(alpha=0.0001, max_iter=10000)\n",
    "\n",
    "# 2. Fit the model:\n",
    "myER.fit(X_elr_train, y_elr_train)\n",
    "\n",
    "# 3. Make prediction (will use it for mae):\n",
    "y_elr_test_pred = myER.predict(X_elr_test)\n",
    "\n",
    "# 4. R^2 score check:\n",
    "print(\"The mean absolute error of our model is: \", mae(y_elr_test, y_elr_test_pred))\n",
    "print(\"The mean value of the price column is: \", y_elr_test.mean())\n",
    "print(\"The train set R^2 of our model is: \", round(myER.score(X_elr_train,y_elr_train),4))\n",
    "print(\"The test set R^2 of our model is: \", round(myER.score(X_elr_test,y_elr_test),4))"
   ]
  },
  {
   "cell_type": "markdown",
   "metadata": {},
   "source": [
    "We can see that all the linear models gave us an R^2 score for the test set at around 0.67, not the best scores. Let's actually move on to some advanced machine learning models."
   ]
  },
  {
   "cell_type": "markdown",
   "metadata": {},
   "source": [
    " "
   ]
  },
  {
   "cell_type": "markdown",
   "metadata": {},
   "source": [
    "### 2.7. KNN Regression "
   ]
  },
  {
   "cell_type": "code",
   "execution_count": 55,
   "metadata": {},
   "outputs": [
    {
     "name": "stdout",
     "output_type": "stream",
     "text": [
      "X_knn shape: (362854, 108)\n",
      "y_knn shape: (362854,)\n",
      "X_knn_train shape: (290283, 108)\n",
      "y_knn_train shape: (290283,)\n",
      "X_knn_test shape: (72571, 108)\n",
      "y_knn_test shape: (72571,)\n",
      "---------------------------------------------------------------\n",
      "The mean absolute error of our model is:  3141.0855245208145\n",
      "The mean value of the price column is:  14254.943448484932\n",
      "The train set R^2 of our model is:  0.8415\n",
      "The test set R^2 of our model is:  0.7477\n"
     ]
    },
    {
     "data": {
      "text/plain": [
       "['myKNN.pkl']"
      ]
     },
     "execution_count": 55,
     "metadata": {},
     "output_type": "execute_result"
    }
   ],
   "source": [
    "# ScikitLearn KNN Regression (default values):\n",
    "\n",
    "# Assigning data (X) and target (y) columns:\n",
    "X_knn = df_work3.loc[:, df_work3.columns != 'price']\n",
    "y_knn = df_work3['price']\n",
    "\n",
    "print('X_knn shape:', X_knn.shape)\n",
    "print('y_knn shape:', y_knn.shape)\n",
    "\n",
    "# Let's split our dataframe into train and test sets:\n",
    "X_knn_train, X_knn_test, y_knn_train, y_knn_test = train_test_split(X_knn, y_knn, test_size = 0.2, random_state=1)\n",
    "\n",
    "print('X_knn_train shape:', X_knn_train.shape)\n",
    "print('y_knn_train shape:', y_knn_train.shape)\n",
    "print('X_knn_test shape:', X_knn_test.shape)\n",
    "print('y_knn_test shape:', y_knn_test.shape)\n",
    "print(\"---------------------------------------------------------------\")\n",
    "\n",
    "# Scale and Transform data:\n",
    "scaler = StandardScaler()\n",
    "scaler.fit(X_knn_train)\n",
    "X_knn_train = scaler.transform(X_knn_train)\n",
    "X_knn_test = scaler.transform(X_knn_test)\n",
    "\n",
    "# 1. Instantiate the model:\n",
    "myKNN = KNeighborsRegressor()\n",
    "\n",
    "# 2. Fit the model:\n",
    "myKNN.fit(X_knn_train, y_knn_train)\n",
    "\n",
    "# 3. Make prediction (will use it for mae):\n",
    "y_knn_test_pred = myKNN.predict(X_knn_test)\n",
    "\n",
    "# 4. R^2 score check:\n",
    "print(\"The mean absolute error of our model is: \", mae(y_knn_test, y_knn_test_pred))\n",
    "print(\"The mean value of the price column is: \", y_knn_test.mean())\n",
    "print(\"The train set R^2 of our model is: \", round(myKNN.score(X_knn_train,y_knn_train),4))\n",
    "print(\"The test set R^2 of our model is: \", round(myKNN.score(X_knn_test,y_knn_test),4))\n",
    "\n",
    "# Saving our model:\n",
    "joblib.dump(myKNN, 'myKNN.pkl')"
   ]
  },
  {
   "cell_type": "markdown",
   "metadata": {},
   "source": [
    " "
   ]
  },
  {
   "cell_type": "markdown",
   "metadata": {},
   "source": [
    "#### 2.7.1. KNN Regression: Hyperparameter Optimization"
   ]
  },
  {
   "cell_type": "code",
   "execution_count": 56,
   "metadata": {},
   "outputs": [
    {
     "name": "stdout",
     "output_type": "stream",
     "text": [
      "X_knn shape: (362854, 108)\n",
      "y_knn shape: (362854,)\n",
      "X_knn_train shape: (290283, 108)\n",
      "y_knn_train shape: (290283,)\n",
      "X_knn_test shape: (72571, 108)\n",
      "y_knn_test shape: (72571,)\n",
      "---------------------------------------------------------------\n",
      "The mean absolute error of our model is:  2376.552643539577\n",
      "The mean value of the price column is:  14254.943448484932\n",
      "The train set R^2 of our model is:  0.9995\n",
      "The test set R^2 of our model is:  0.8003\n",
      "\n"
     ]
    }
   ],
   "source": [
    "# ScikitLearn KNN Regression (weights='distance'):\n",
    "\n",
    "# Assigning data (X) and target (y) columns:\n",
    "X_knn = df_work3.loc[:, df_work3.columns != 'price']\n",
    "y_knn = df_work3['price']\n",
    "\n",
    "print('X_knn shape:', X_knn.shape)\n",
    "print('y_knn shape:', y_knn.shape)\n",
    "\n",
    "# Let's split our dataframe into train and test sets:\n",
    "X_knn_train, X_knn_test, y_knn_train, y_knn_test = train_test_split(X_knn, y_knn, test_size = 0.2, random_state=1)\n",
    "\n",
    "print('X_knn_train shape:', X_knn_train.shape)\n",
    "print('y_knn_train shape:', y_knn_train.shape)\n",
    "print('X_knn_test shape:', X_knn_test.shape)\n",
    "print('y_knn_test shape:', y_knn_test.shape)\n",
    "print(\"---------------------------------------------------------------\")\n",
    "\n",
    "# Scale and Transform data:\n",
    "scaler = StandardScaler()\n",
    "scaler.fit(X_knn_train)\n",
    "X_knn_train = scaler.transform(X_knn_train)\n",
    "X_knn_test = scaler.transform(X_knn_test)\n",
    "\n",
    "# 1. Instantiate the model:\n",
    "myKNN = KNeighborsRegressor(weights='distance')\n",
    "\n",
    "# 2. Fit the model:\n",
    "myKNN.fit(X_knn_train, y_knn_train)\n",
    "\n",
    "# 3. Make prediction (will use it for mae):\n",
    "y_knn_test_pred = myKNN.predict(X_knn_test)\n",
    "\n",
    "# 4. R^2 score check:\n",
    "print(\"The mean absolute error of our model is: \", mae(y_knn_test, y_knn_test_pred))\n",
    "print(\"The mean value of the price column is: \", y_knn_test.mean())\n",
    "print(\"The train set R^2 of our model is: \", round(myKNN.score(X_knn_train,y_knn_train),4))\n",
    "print(\"The test set R^2 of our model is: \", round(myKNN.score(X_knn_test,y_knn_test),4))"
   ]
  },
  {
   "cell_type": "code",
   "execution_count": 57,
   "metadata": {},
   "outputs": [
    {
     "data": {
      "text/plain": [
       "['myKNN_weights.pkl']"
      ]
     },
     "execution_count": 57,
     "metadata": {},
     "output_type": "execute_result"
    }
   ],
   "source": [
    "# Saving our model:\n",
    "joblib.dump(myKNN, 'myKNN_weights.pkl')"
   ]
  },
  {
   "cell_type": "markdown",
   "metadata": {},
   "source": [
    "We can clearly see that with hyperparameter `weights='distance'` the R^2 score improved from 0.748 to 0.80."
   ]
  },
  {
   "cell_type": "code",
   "execution_count": 58,
   "metadata": {},
   "outputs": [
    {
     "name": "stdout",
     "output_type": "stream",
     "text": [
      "X_knn_small shape: (108856, 108)\n",
      "y_knn_small shape: (108856,)\n",
      "X_knn_small_train shape: (87084, 108)\n",
      "y_knn_small_train shape: (87084,)\n",
      "X_knn_small_test shape: (21772, 108)\n",
      "y_knn_small_test shape: (21772,)\n",
      "---------------------------------------------------------------\n",
      "Train set R^2 score with k_value=1: 0.9996587482447327\n",
      "Test set R^2 score with k_value=1: 0.5756948315432036\n",
      "Train set R^2 score with k_value=3: 0.999814482877036\n",
      "Test set R^2 score with k_value=3: 0.6814111938210651\n",
      "Train set R^2 score with k_value=5: 0.9998188027143134\n",
      "Test set R^2 score with k_value=5: 0.7028746469505541\n",
      "Train set R^2 score with k_value=7: 0.9998193293655618\n",
      "Test set R^2 score with k_value=7: 0.7089105294953644\n",
      "Train set R^2 score with k_value=9: 0.9998199912855434\n",
      "Test set R^2 score with k_value=9: 0.7115388726034837\n",
      "Train set R^2 score with k_value=11: 0.9998200398083198\n",
      "Test set R^2 score with k_value=11: 0.7114329110962208\n"
     ]
    },
    {
     "data": {
      "image/png": "[encoded data removed]",
      "text/plain": [
       "<Figure size 432x288 with 1 Axes>"
      ]
     },
     "metadata": {
      "needs_background": "light"
     },
     "output_type": "display_data"
    }
   ],
   "source": [
    "# ScikitLearn KNN Regression (finding optimal k_neighbors):\n",
    "\n",
    "# Let's actually create a subset of our dataframe, and see how different k_neigbors affect our R^2 score:\n",
    "df_knn_small = df_work3.sample(frac=0.3, random_state=1)\n",
    "\n",
    "# Assigning data (X) and target (y) columns:\n",
    "X_knn_small = df_knn_small.loc[:, df_knn_small.columns != 'price']\n",
    "y_knn_small = df_knn_small['price']\n",
    "\n",
    "print('X_knn_small shape:', X_knn_small.shape)\n",
    "print('y_knn_small shape:', y_knn_small.shape)\n",
    "\n",
    "# Let's split our dataframe into train and test sets:\n",
    "X_knn_small_train, X_knn_small_test, y_knn_small_train, y_knn_small_test = train_test_split(X_knn_small, y_knn_small, test_size = 0.2, random_state=1)\n",
    "\n",
    "print('X_knn_small_train shape:', X_knn_small_train.shape)\n",
    "print('y_knn_small_train shape:', y_knn_small_train.shape)\n",
    "print('X_knn_small_test shape:', X_knn_small_test.shape)\n",
    "print('y_knn_small_test shape:', y_knn_small_test.shape)\n",
    "print(\"---------------------------------------------------------------\")\n",
    "\n",
    "# Scale and Transform data:\n",
    "scaler = StandardScaler()\n",
    "scaler.fit(X_knn_small_train)\n",
    "X_knn_small_train = scaler.transform(X_knn_small_train)\n",
    "X_knn_small_test = scaler.transform(X_knn_small_test)\n",
    "\n",
    "# Running through loop:\n",
    "train_scores_knn = []\n",
    "test_scores_knn = []\n",
    "\n",
    "k_values = list(range(1, 12, 2))\n",
    "\n",
    "for k in k_values:\n",
    "    \n",
    "    myKNN = KNeighborsRegressor(n_neighbors=k, weights='distance')\n",
    "    myKNN.fit(X_knn_small_train, y_knn_small_train)\n",
    "    \n",
    "    train_scores_knn.append(myKNN.score(X_knn_small_train,y_knn_small_train))\n",
    "    test_scores_knn.append(myKNN.score(X_knn_small_test,y_knn_small_test))\n",
    "    \n",
    "    print(f'Train set R^2 score with k_value={k}: {myKNN.score(X_knn_small_train,y_knn_small_train)}')\n",
    "    print(f'Test set R^2 score with k_value={k}: {myKNN.score(X_knn_small_test,y_knn_small_test)}')\n",
    "    \n",
    "# Let's plot our results:\n",
    "plt.figure()\n",
    "plt.title(\"R^2 Score vs K Neighbors in KNN Regression Model\")\n",
    "plt.plot(k_values, train_scores_knn, label=\"Train\")\n",
    "plt.plot(k_values, test_scores_knn, label=\"Test\")\n",
    "plt.legend()\n",
    "plt.xlabel(\"K Neighbors\")\n",
    "plt.ylabel(\"R^2 Score\")\n",
    "plt.show()"
   ]
  },
  {
   "cell_type": "markdown",
   "metadata": {},
   "source": [
    "We can see here that after `n_neignors=5`, which is the default number of the KNeighborsRegressor model, the score doesn't improve by too much. So, we'll just leave our model as is, and move onto trying other models now."
   ]
  },
  {
   "cell_type": "markdown",
   "metadata": {},
   "source": [
    " "
   ]
  },
  {
   "cell_type": "markdown",
   "metadata": {},
   "source": [
    "### 2.8. Decision Tree Regression "
   ]
  },
  {
   "cell_type": "code",
   "execution_count": 59,
   "metadata": {},
   "outputs": [
    {
     "name": "stdout",
     "output_type": "stream",
     "text": [
      "X_dt shape: (362854, 108)\n",
      "y_dt shape: (362854,)\n",
      "X_dt_train shape: (290283, 108)\n",
      "y_dt_train shape: (290283,)\n",
      "X_dt_test shape: (72571, 108)\n",
      "y_dt_test shape: (72571,)\n",
      "----------------------------------------------------------------------------------------------------------\n",
      "The mean absolute error of our model is:  2167.3224430448863\n",
      "The mean value of the price column is:  14254.943448484932\n",
      "The train set R^2 of our model is:  0.9995\n",
      "The test set R^2 of our model is:  0.8065\n"
     ]
    },
    {
     "data": {
      "text/plain": [
       "['myDT.pkl']"
      ]
     },
     "execution_count": 59,
     "metadata": {},
     "output_type": "execute_result"
    }
   ],
   "source": [
    "# ScikitLearn DT Regression (default values). We won't be doing scaling for tree based models, as it is not required.\n",
    "\n",
    "# Assigning data (X) and target (y) columns:\n",
    "X_dt = df_work3.loc[:, df_work3.columns != 'price']\n",
    "y_dt = df_work3['price']\n",
    "\n",
    "print('X_dt shape:', X_dt.shape)\n",
    "print('y_dt shape:', y_dt.shape)\n",
    "\n",
    "# Let's split our dataframe into train and test sets:\n",
    "X_dt_train, X_dt_test, y_dt_train, y_dt_test = train_test_split(X_dt, y_dt, test_size = 0.2, random_state=1)\n",
    "\n",
    "print('X_dt_train shape:', X_dt_train.shape)\n",
    "print('y_dt_train shape:', y_dt_train.shape)\n",
    "print('X_dt_test shape:', X_dt_test.shape)\n",
    "print('y_dt_test shape:', y_dt_test.shape)\n",
    "print(\"----------------------------------------------------------------------------------------------------------\")\n",
    "\n",
    "# 1. Instantiate the model:\n",
    "myDT = DecisionTreeRegressor()\n",
    "\n",
    "# 2. Fit the model:\n",
    "myDT.fit(X_dt_train, y_dt_train)\n",
    "\n",
    "# 3. Make prediction (will use it for mae):\n",
    "y_dt_test_pred = myDT.predict(X_dt_test)\n",
    "\n",
    "# 4. R^2 score check:\n",
    "print(\"The mean absolute error of our model is: \", mae(y_dt_test, y_dt_test_pred))\n",
    "print(\"The mean value of the price column is: \", y_dt_test.mean())\n",
    "print(\"The train set R^2 of our model is: \", round(myDT.score(X_dt_train,y_dt_train),4))\n",
    "print(\"The test set R^2 of our model is: \", round(myDT.score(X_dt_test,y_dt_test),4))\n",
    "\n",
    "# Saving our model:\n",
    "joblib.dump(myDT, 'myDT.pkl')"
   ]
  },
  {
   "cell_type": "code",
   "execution_count": 61,
   "metadata": {},
   "outputs": [
    {
     "data": {
      "text/plain": [
       "68"
      ]
     },
     "execution_count": 61,
     "metadata": {},
     "output_type": "execute_result"
    }
   ],
   "source": [
    "# Let's see what was the best max_depth parameter for our DT model (note: this is a max_depth which gave the highest score on train set, not test):\n",
    "myDT.get_depth()"
   ]
  },
  {
   "cell_type": "markdown",
   "metadata": {},
   "source": [
    " "
   ]
  },
  {
   "cell_type": "markdown",
   "metadata": {},
   "source": [
    "#### 2.8.1. Decision Tree Regression: Hyperparameter Optimization"
   ]
  },
  {
   "cell_type": "code",
   "execution_count": 65,
   "metadata": {},
   "outputs": [
    {
     "name": "stdout",
     "output_type": "stream",
     "text": [
      "X_dt shape: (362854, 108)\n",
      "y_dt shape: (362854,)\n",
      "X_dt_train shape: (290283, 108)\n",
      "y_dt_train shape: (290283,)\n",
      "X_dt_test shape: (72571, 108)\n",
      "y_dt_test shape: (72571,)\n",
      "----------------------------------------------------------------------------------------------------------\n",
      "The mean absolute error of our model with max_depth=3: 4933.189766055643\n",
      "The mean value of the price column is:  14254.943448484932\n",
      "Train set R^2 score with max_depth=3: 0.5388217594331539\n",
      "Test set R^2 score with max_depth=3: 0.5378984128732367\n",
      "\n",
      "The mean absolute error of our model with max_depth=5: 4250.028268805613\n",
      "The mean value of the price column is:  14254.943448484932\n",
      "Train set R^2 score with max_depth=5: 0.6422643773232147\n",
      "Test set R^2 score with max_depth=5: 0.6409484515784782\n",
      "\n",
      "The mean absolute error of our model with max_depth=7: 3744.287779376935\n",
      "The mean value of the price column is:  14254.943448484932\n",
      "Train set R^2 score with max_depth=7: 0.7053494578563954\n",
      "Test set R^2 score with max_depth=7: 0.7040874023766188\n",
      "\n",
      "The mean absolute error of our model with max_depth=10: 3327.423800968495\n",
      "The mean value of the price column is:  14254.943448484932\n",
      "Train set R^2 score with max_depth=10: 0.7633044511377971\n",
      "Test set R^2 score with max_depth=10: 0.7539183509807031\n",
      "\n",
      "The mean absolute error of our model with max_depth=15: 2816.8855581210255\n",
      "The mean value of the price column is:  14254.943448484932\n",
      "Train set R^2 score with max_depth=15: 0.8493598979704328\n",
      "Test set R^2 score with max_depth=15: 0.8036653444230797\n",
      "\n",
      "The mean absolute error of our model with max_depth=20: 2498.462501710198\n",
      "The mean value of the price column is:  14254.943448484932\n",
      "Train set R^2 score with max_depth=20: 0.9192793796093377\n",
      "Test set R^2 score with max_depth=20: 0.8149936091521919\n",
      "\n",
      "The mean absolute error of our model with max_depth=25: 2321.6483282217046\n",
      "The mean value of the price column is:  14254.943448484932\n",
      "Train set R^2 score with max_depth=25: 0.9620211957850587\n",
      "Test set R^2 score with max_depth=25: 0.8131502309712645\n",
      "\n",
      "The mean absolute error of our model with max_depth=30: 2228.097909990796\n",
      "The mean value of the price column is:  14254.943448484932\n",
      "Train set R^2 score with max_depth=30: 0.9837794255777794\n",
      "Test set R^2 score with max_depth=30: 0.8114401207796137\n",
      "\n",
      "The mean absolute error of our model with max_depth=40: 2166.888777568519\n",
      "The mean value of the price column is:  14254.943448484932\n",
      "Train set R^2 score with max_depth=40: 0.9974156850547865\n",
      "Test set R^2 score with max_depth=40: 0.8097636272156887\n",
      "\n",
      "The mean absolute error of our model with max_depth=50: 2163.8945202637924\n",
      "The mean value of the price column is:  14254.943448484932\n",
      "Train set R^2 score with max_depth=50: 0.9993394547222688\n",
      "Test set R^2 score with max_depth=50: 0.808084494086569\n",
      "\n",
      "The mean absolute error of our model with max_depth=60: 2167.229913850643\n",
      "The mean value of the price column is:  14254.943448484932\n",
      "Train set R^2 score with max_depth=60: 0.9994749372778522\n",
      "Test set R^2 score with max_depth=60: 0.8066774722917429\n",
      "\n",
      "The mean absolute error of our model with max_depth=70: 2165.7026980956357\n",
      "The mean value of the price column is:  14254.943448484932\n",
      "Train set R^2 score with max_depth=70: 0.9994762531763772\n",
      "Test set R^2 score with max_depth=70: 0.8081510653904077\n",
      "\n",
      "The mean absolute error of our model with max_depth=80: 2166.631675877714\n",
      "The mean value of the price column is:  14254.943448484932\n",
      "Train set R^2 score with max_depth=80: 0.9994762531763772\n",
      "Test set R^2 score with max_depth=80: 0.8067932835592331\n",
      "\n",
      "The mean absolute error of our model with max_depth=90: 2158.037963971927\n",
      "The mean value of the price column is:  14254.943448484932\n",
      "Train set R^2 score with max_depth=90: 0.9994762531763772\n",
      "Test set R^2 score with max_depth=90: 0.8086969250606098\n",
      "\n",
      "The mean absolute error of our model with max_depth=100: 2165.0780613514357\n",
      "The mean value of the price column is:  14254.943448484932\n",
      "Train set R^2 score with max_depth=100: 0.9994762531763772\n",
      "Test set R^2 score with max_depth=100: 0.8073575226747\n",
      "\n",
      "The mean absolute error of our model with max_depth=120: 2164.901704387694\n",
      "The mean value of the price column is:  14254.943448484932\n",
      "Train set R^2 score with max_depth=120: 0.9994762531763772\n",
      "Test set R^2 score with max_depth=120: 0.807345330142304\n",
      "\n",
      "The mean absolute error of our model with max_depth=140: 2160.8100994508986\n",
      "The mean value of the price column is:  14254.943448484932\n",
      "Train set R^2 score with max_depth=140: 0.9994762531763772\n",
      "Test set R^2 score with max_depth=140: 0.8087894378540775\n",
      "\n",
      "The mean absolute error of our model with max_depth=160: 2162.4347940079383\n",
      "The mean value of the price column is:  14254.943448484932\n",
      "Train set R^2 score with max_depth=160: 0.9994762531763772\n",
      "Test set R^2 score with max_depth=160: 0.8077880280582065\n",
      "\n",
      "The mean absolute error of our model with max_depth=200: 2160.1916667134674\n",
      "The mean value of the price column is:  14254.943448484932\n",
      "Train set R^2 score with max_depth=200: 0.9994762531763772\n",
      "Test set R^2 score with max_depth=200: 0.8097421396085606\n",
      "\n"
     ]
    },
    {
     "data": {
      "image/png": "[encoded data removed]",
      "text/plain": [
       "<Figure size 432x288 with 1 Axes>"
      ]
     },
     "metadata": {
      "needs_background": "light"
     },
     "output_type": "display_data"
    }
   ],
   "source": [
    "# ScikitLearn DT Regression (finding optimal max_depth):\n",
    "\n",
    "# Assigning data (X) and target (y) columns:\n",
    "X_dt = df_work3.loc[:, df_work3.columns != 'price']\n",
    "y_dt = df_work3['price']\n",
    "\n",
    "print('X_dt shape:', X_dt.shape)\n",
    "print('y_dt shape:', y_dt.shape)\n",
    "\n",
    "# Let's split our dataframe into train and test sets:\n",
    "X_dt_train, X_dt_test, y_dt_train, y_dt_test = train_test_split(X_dt, y_dt, test_size = 0.2, random_state=1)\n",
    "\n",
    "print('X_dt_train shape:', X_dt_train.shape)\n",
    "print('y_dt_train shape:', y_dt_train.shape)\n",
    "print('X_dt_test shape:', X_dt_test.shape)\n",
    "print('y_dt_test shape:', y_dt_test.shape)\n",
    "print(\"----------------------------------------------------------------------------------------------------------\")\n",
    "\n",
    "\n",
    "# Running through loop:\n",
    "train_scores_dt = []\n",
    "test_scores_dt = []\n",
    "\n",
    "depth = [3,5,7,10,15,20,25,30,40,50,60,70,80,90,100,120,140,160,200]\n",
    "\n",
    "for d in depth:\n",
    "    # 1. Instantiate the model:\n",
    "    myDT = DecisionTreeRegressor(max_depth=d)\n",
    "\n",
    "    # 2. Fit the model:\n",
    "    myDT.fit(X_dt_train, y_dt_train)\n",
    "    \n",
    "    train_scores_dt.append(myDT.score(X_dt_train,y_dt_train))\n",
    "    test_scores_dt.append(myDT.score(X_dt_test,y_dt_test))\n",
    "    \n",
    "    # 3. Make prediction (will use it for mae):\n",
    "    y_dt_test_pred = myDT.predict(X_dt_test)\n",
    "\n",
    "    # 4. R^2 score check:\n",
    "    print(f'The mean absolute error of our model with max_depth={d}: {mae(y_dt_test, y_dt_test_pred)}')\n",
    "    print(\"The mean value of the price column is: \", y_dt_test.mean())\n",
    "    print(f'Train set R^2 score with max_depth={d}: {myDT.score(X_dt_train,y_dt_train)}')\n",
    "    print(f'Test set R^2 score with max_depth={d}: {myDT.score(X_dt_test,y_dt_test)}')\n",
    "    print()\n",
    "\n",
    "# Let's plot our results:\n",
    "plt.figure()\n",
    "plt.title(\"R^2 Score vs Max Depth in DT Regression Model\")\n",
    "plt.plot(depth, train_scores_dt, label=\"Train\")\n",
    "plt.plot(depth, test_scores_dt, label=\"Test\")\n",
    "plt.legend()\n",
    "plt.xlabel(\"Max Depth\")\n",
    "plt.ylabel(\"R^2 Score\")\n",
    "plt.show()"
   ]
  },
  {
   "cell_type": "markdown",
   "metadata": {},
   "source": [
    "We can see that at the `max_depth=20` we get highest possible R^2 score for our test set - 0.815, and after that model starts to overfit, where train set's scores become better, but test set's scores keep around same level. But as for the MAE metric results, we can see that the optimal we got is at max_depth=40, where MAE is 2166, and R^2 score for the tes set is 0.81. Let's continue with training other models and look for the best possible results."
   ]
  },
  {
   "cell_type": "markdown",
   "metadata": {},
   "source": [
    " "
   ]
  },
  {
   "cell_type": "markdown",
   "metadata": {},
   "source": [
    "### 2.9. LinearSVR Regression "
   ]
  },
  {
   "cell_type": "code",
   "execution_count": 54,
   "metadata": {},
   "outputs": [
    {
     "name": "stdout",
     "output_type": "stream",
     "text": [
      "X_svr shape: (362854, 108)\n",
      "y_svr shape: (362854,)\n",
      "X_svr_train shape: (290283, 108)\n",
      "y_svr_train shape: (290283,)\n",
      "X_svr_test shape: (72571, 108)\n",
      "y_svr_test shape: (72571,)\n",
      "--------------------------------------------------------------------------------------------------------------------------------\n",
      "The mean absolute error of our model is:  3897.144329949029\n",
      "The mean value of the price column is:  14254.943448484932\n",
      "The train set R^2 of our model is:  0.643\n",
      "The test set R^2 of our model is:  0.6431\n"
     ]
    }
   ],
   "source": [
    "# ScikitLearn LinearSVR Regression (default values):\n",
    "\n",
    "# Assigning data (X) and target (y) columns:\n",
    "X_svr = df_work3.loc[:, df_work3.columns != 'price']\n",
    "y_svr = df_work3['price']\n",
    "\n",
    "print('X_svr shape:', X_svr.shape)\n",
    "print('y_svr shape:', y_svr.shape)\n",
    "\n",
    "# Let's split our dataframe into train and test sets:\n",
    "X_svr_train, X_svr_test, y_svr_train, y_svr_test = train_test_split(X_svr, y_svr, test_size = 0.2, random_state=1)\n",
    "\n",
    "print('X_svr_train shape:', X_svr_train.shape)\n",
    "print('y_svr_train shape:', y_svr_train.shape)\n",
    "print('X_svr_test shape:', X_svr_test.shape)\n",
    "print('y_svr_test shape:', y_svr_test.shape)\n",
    "print(\"--------------------------------------------------------------------------------------------------------------------------------\")\n",
    "\n",
    "# Scale and Transform data:\n",
    "scaler = StandardScaler()\n",
    "scaler.fit(X_svr_train)\n",
    "X_svr_train = scaler.transform(X_svr_train)\n",
    "X_svr_test = scaler.transform(X_svr_test)\n",
    "\n",
    "# 1. Instantiate the model:\n",
    "mySVR = LinearSVR()\n",
    "\n",
    "# 2. Fit the model:\n",
    "mySVR.fit(X_svr_train, y_svr_train)\n",
    " \n",
    "# 3. Make prediction (will use it for mae):\n",
    "y_svr_test_pred = mySVR.predict(X_svr_test)\n",
    "\n",
    "# 4. R^2 score check:\n",
    "print(\"The mean absolute error of our model is: \", mae(y_svr_test, y_svr_test_pred))\n",
    "print(\"The mean value of the price column is: \", y_svr_test.mean())\n",
    "print(\"The train set R^2 of our model is: \", round(mySVR.score(X_svr_train,y_svr_train),4))\n",
    "print(\"The test set R^2 of our model is: \", round(mySVR.score(X_svr_test,y_svr_test),4))"
   ]
  },
  {
   "cell_type": "markdown",
   "metadata": {},
   "source": [
    " "
   ]
  },
  {
   "cell_type": "markdown",
   "metadata": {},
   "source": [
    "#### 2.9.1. LinearSVR Regression: Hyperparameter Optimization"
   ]
  },
  {
   "cell_type": "code",
   "execution_count": 55,
   "metadata": {},
   "outputs": [
    {
     "name": "stdout",
     "output_type": "stream",
     "text": [
      "Result for the C= 1\n",
      "The mean absolute error of our model is:  3895.461281977956\n",
      "The mean value of the price column is:  14254.943448484932\n",
      "The train set R^2 of our model is:  0.6437\n",
      "The test set R^2 of our model is:  0.6439\n",
      "\n",
      "Result for the C= 6\n",
      "The mean absolute error of our model is:  3887.035529303547\n",
      "The mean value of the price column is:  14254.943448484932\n",
      "The train set R^2 of our model is:  0.6488\n",
      "The test set R^2 of our model is:  0.6491\n",
      "\n",
      "Result for the C= 11\n",
      "The mean absolute error of our model is:  3886.8565038891975\n",
      "The mean value of the price column is:  14254.943448484932\n",
      "The train set R^2 of our model is:  0.6492\n",
      "The test set R^2 of our model is:  0.6495\n",
      "\n",
      "Result for the C= 16\n",
      "The mean absolute error of our model is:  3886.731158067787\n",
      "The mean value of the price column is:  14254.943448484932\n",
      "The train set R^2 of our model is:  0.6494\n",
      "The test set R^2 of our model is:  0.6497\n",
      "\n",
      "Result for the C= 21\n",
      "The mean absolute error of our model is:  3886.877004400078\n",
      "The mean value of the price column is:  14254.943448484932\n",
      "The train set R^2 of our model is:  0.6494\n",
      "The test set R^2 of our model is:  0.6497\n",
      "\n",
      "Result for the C= 26\n",
      "The mean absolute error of our model is:  3886.925367438312\n",
      "The mean value of the price column is:  14254.943448484932\n",
      "The train set R^2 of our model is:  0.6496\n",
      "The test set R^2 of our model is:  0.6499\n",
      "\n",
      "Result for the C= 31\n",
      "The mean absolute error of our model is:  3886.7857391182656\n",
      "The mean value of the price column is:  14254.943448484932\n",
      "The train set R^2 of our model is:  0.6496\n",
      "The test set R^2 of our model is:  0.6499\n",
      "\n",
      "Result for the C= 36\n",
      "The mean absolute error of our model is:  3886.6375792454605\n",
      "The mean value of the price column is:  14254.943448484932\n",
      "The train set R^2 of our model is:  0.6494\n",
      "The test set R^2 of our model is:  0.6498\n",
      "\n",
      "Result for the C= 41\n",
      "The mean absolute error of our model is:  3886.7414790698185\n",
      "The mean value of the price column is:  14254.943448484932\n",
      "The train set R^2 of our model is:  0.6496\n",
      "The test set R^2 of our model is:  0.6499\n",
      "\n",
      "Result for the C= 46\n",
      "The mean absolute error of our model is:  3886.7407318320375\n",
      "The mean value of the price column is:  14254.943448484932\n",
      "The train set R^2 of our model is:  0.6495\n",
      "The test set R^2 of our model is:  0.6498\n",
      "\n",
      "Result for the C= 51\n",
      "The mean absolute error of our model is:  3887.001798815437\n",
      "The mean value of the price column is:  14254.943448484932\n",
      "The train set R^2 of our model is:  0.6496\n",
      "The test set R^2 of our model is:  0.6499\n",
      "\n",
      "Result for the C= 56\n",
      "The mean absolute error of our model is:  3886.4511389506847\n",
      "The mean value of the price column is:  14254.943448484932\n",
      "The train set R^2 of our model is:  0.6495\n",
      "The test set R^2 of our model is:  0.6498\n",
      "\n",
      "Result for the C= 61\n",
      "The mean absolute error of our model is:  3886.809083833744\n",
      "The mean value of the price column is:  14254.943448484932\n",
      "The train set R^2 of our model is:  0.6496\n",
      "The test set R^2 of our model is:  0.6498\n",
      "\n",
      "Result for the C= 66\n",
      "The mean absolute error of our model is:  3886.5608223026434\n",
      "The mean value of the price column is:  14254.943448484932\n",
      "The train set R^2 of our model is:  0.6496\n",
      "The test set R^2 of our model is:  0.65\n",
      "\n",
      "Result for the C= 71\n",
      "The mean absolute error of our model is:  3886.859872772462\n",
      "The mean value of the price column is:  14254.943448484932\n",
      "The train set R^2 of our model is:  0.6497\n",
      "The test set R^2 of our model is:  0.65\n",
      "\n",
      "Result for the C= 76\n",
      "The mean absolute error of our model is:  3886.825887069394\n",
      "The mean value of the price column is:  14254.943448484932\n",
      "The train set R^2 of our model is:  0.6496\n",
      "The test set R^2 of our model is:  0.6499\n",
      "\n",
      "Result for the C= 81\n",
      "The mean absolute error of our model is:  3886.796509778803\n",
      "The mean value of the price column is:  14254.943448484932\n",
      "The train set R^2 of our model is:  0.6496\n",
      "The test set R^2 of our model is:  0.6499\n",
      "\n",
      "Result for the C= 86\n",
      "The mean absolute error of our model is:  3886.578408896594\n",
      "The mean value of the price column is:  14254.943448484932\n",
      "The train set R^2 of our model is:  0.6496\n",
      "The test set R^2 of our model is:  0.6499\n",
      "\n",
      "Result for the C= 91\n",
      "The mean absolute error of our model is:  3886.7209658086704\n",
      "The mean value of the price column is:  14254.943448484932\n",
      "The train set R^2 of our model is:  0.6496\n",
      "The test set R^2 of our model is:  0.6499\n",
      "\n",
      "Result for the C= 96\n",
      "The mean absolute error of our model is:  3886.5514553924136\n",
      "The mean value of the price column is:  14254.943448484932\n",
      "The train set R^2 of our model is:  0.6497\n",
      "The test set R^2 of our model is:  0.65\n",
      "\n"
     ]
    },
    {
     "data": {
      "image/png": "[encoded data removed]",
      "text/plain": [
       "<Figure size 432x288 with 1 Axes>"
      ]
     },
     "metadata": {
      "needs_background": "light"
     },
     "output_type": "display_data"
    }
   ],
   "source": [
    "# ScikitLearn LinearSVR Regression (custom c_values):\n",
    "\n",
    "C_values = range(1,100,5)\n",
    "\n",
    "train_scores_svr = []\n",
    "test_scores_svr = []\n",
    "\n",
    "for c in C_values:\n",
    "\n",
    "    # 1. Instantiate the model\n",
    "    mySVR = LinearSVR(C=c)\n",
    "\n",
    "    # 2. Fit the model\n",
    "    mySVR.fit(X_svr_train, y_svr_train)\n",
    "\n",
    "    train_scores_svr.append(mySVR.score(X_svr_train,y_svr_train))\n",
    "    test_scores_svr.append(mySVR.score(X_svr_test,y_svr_test))\n",
    "    \n",
    "    # 3. Make prediction (will use it for mae)\n",
    "    y_svr_test_pred = mySVR.predict(X_svr_test)\n",
    "\n",
    "    # 4. R^2 score check:\n",
    "    print(\"Result for the C=\", c)\n",
    "    print(\"The mean absolute error of our model is: \", mae(y_svr_test, y_svr_test_pred))\n",
    "    print(\"The mean value of the price column is: \", y_svr_test.mean())\n",
    "    print(\"The train set R^2 of our model is: \", round(mySVR.score(X_svr_train,y_svr_train),4))\n",
    "    print(\"The test set R^2 of our model is: \", round(mySVR.score(X_svr_test,y_svr_test),4))\n",
    "    print()\n",
    "    \n",
    "# Let's plot our results:\n",
    "plt.figure()\n",
    "plt.title(\"R^2 Score vs C Values in SVR Regression Model\")\n",
    "plt.plot(C_values, train_scores_svr, label=\"Train\")\n",
    "plt.plot(C_values, test_scores_svr, label=\"Test\")\n",
    "plt.legend()\n",
    "plt.xlabel(\"C Values\")\n",
    "plt.ylabel(\"R^2 Score\")\n",
    "plt.show()"
   ]
  },
  {
   "cell_type": "markdown",
   "metadata": {},
   "source": [
    "We can see from the graph that with higher C values, the R^2 scores generally tend to stay around the same 0.65 value, which is certainly not the best result we have seen so far. Let's just move onto our next model."
   ]
  },
  {
   "cell_type": "markdown",
   "metadata": {},
   "source": [
    " "
   ]
  },
  {
   "cell_type": "markdown",
   "metadata": {},
   "source": [
    "### 2.10. RandomForestRegressor"
   ]
  },
  {
   "cell_type": "code",
   "execution_count": 56,
   "metadata": {},
   "outputs": [
    {
     "name": "stdout",
     "output_type": "stream",
     "text": [
      "X_rf shape: (362854, 108)\n",
      "y_rf shape: (362854,)\n",
      "X_rf_train shape: (290283, 108)\n",
      "y_rf_train shape: (290283,)\n",
      "X_rf_test shape: (72571, 108)\n",
      "y_rf_test shape: (72571,)\n",
      "-------------------------------------------------------------------------------------------------------------\n",
      "The mean absolute error of our model is:  1729.8365905104833\n",
      "The mean value of the price column is:  14254.943448484932\n",
      "The train set R^2 of our model is:  0.9855\n",
      "The test set R^2 of our model is:  0.8978\n"
     ]
    },
    {
     "data": {
      "text/plain": [
       "['myRF_default.pkl']"
      ]
     },
     "execution_count": 56,
     "metadata": {},
     "output_type": "execute_result"
    }
   ],
   "source": [
    "# ScikitLearn RandomForest Regression (default values): \n",
    "\n",
    "# Assigning data (X) and target (y) columns:\n",
    "X_rf = df_work3.loc[:, df_work3.columns != 'price']\n",
    "y_rf = df_work3['price']\n",
    "\n",
    "print('X_rf shape:', X_rf.shape)\n",
    "print('y_rf shape:', y_rf.shape)\n",
    "\n",
    "# Let's split our dataframe into train and test sets:\n",
    "X_rf_train, X_rf_test, y_rf_train, y_rf_test = train_test_split(X_rf, y_rf, test_size = 0.2, random_state=1)\n",
    "\n",
    "print('X_rf_train shape:', X_rf_train.shape)\n",
    "print('y_rf_train shape:', y_rf_train.shape)\n",
    "print('X_rf_test shape:', X_rf_test.shape)\n",
    "print('y_rf_test shape:', y_rf_test.shape)\n",
    "print(\"-------------------------------------------------------------------------------------------------------------\")\n",
    "\n",
    "# 1. Instantiate the model:\n",
    "myRF = RandomForestRegressor(random_state=1)\n",
    "\n",
    "# 2. Fit the model:\n",
    "myRF.fit(X_rf_train, y_rf_train)\n",
    "\n",
    "# 3. Make prediction (will use it for mae):\n",
    "y_rf_test_pred = myRF.predict(X_rf_test)\n",
    "\n",
    "# 4. R^2 score check:\n",
    "print(\"The mean absolute error of our model is: \", mae(y_rf_test, y_rf_test_pred))\n",
    "print(\"The mean value of the price column is: \", y_rf_test.mean())\n",
    "print(\"The train set R^2 of our model is: \", round(myRF.score(X_rf_train,y_rf_train),4))\n",
    "print(\"The test set R^2 of our model is: \", round(myRF.score(X_rf_test,y_rf_test),4))\n",
    "\n",
    "# Saving our model:\n",
    "joblib.dump(myRF, 'myRF_default.pkl')"
   ]
  },
  {
   "cell_type": "code",
   "execution_count": 57,
   "metadata": {},
   "outputs": [],
   "source": [
    "# Let's see feature importances of our model:\n",
    "feat_importances = pd.Series(myRF.feature_importances_, index=X_rf_train.columns)"
   ]
  },
  {
   "cell_type": "code",
   "execution_count": 58,
   "metadata": {},
   "outputs": [
    {
     "data": {
      "image/png": "[encoded data removed]",
      "text/plain": [
       "<Figure size 720x720 with 1 Axes>"
      ]
     },
     "metadata": {
      "needs_background": "light"
     },
     "output_type": "display_data"
    }
   ],
   "source": [
    "# Top 30 features:\n",
    "fig, ax = plt.subplots()\n",
    "feat_importances.sort_values(ascending=False).head(30).plot(kind='barh', x='x', y='y', ax=ax, figsize=(10,10))\n",
    "plt.gca().invert_yaxis()\n",
    "plt.title('Top 30 features of RandomForestRegressor Model')\n",
    "plt.xlabel('Feature Importance Coefficient')\n",
    "plt.show()"
   ]
  },
  {
   "cell_type": "markdown",
   "metadata": {},
   "source": [
    "It can be clearly seen from the graph that the `year` column is the most important in predicting the price value. And as we saw from the correlation table above, in EDA section, the newer the model the higher the price of it will be. We can also see `odometer`, `drive_fwd` and `fuel_diesel` being top price predictive columns.\n",
    "\n",
    "On the other hand, we can see that \"paint_color\" feature is at the very bottom of the top 30 features list, and it does not add any value, but rather take some computational time to process the model. Let's remove that feature from our model and run our model again, and see if the score has changed."
   ]
  },
  {
   "cell_type": "code",
   "execution_count": 41,
   "metadata": {},
   "outputs": [
    {
     "name": "stdout",
     "output_type": "stream",
     "text": [
      "<class 'pandas.core.frame.DataFrame'>\n",
      "Int64Index: 362854 entries, 0 to 539758\n",
      "Data columns (total 13 columns):\n",
      " #   Column        Non-Null Count   Dtype  \n",
      "---  ------        --------------   -----  \n",
      " 0   price         362854 non-null  int64  \n",
      " 1   year          362854 non-null  float64\n",
      " 2   manufacturer  362854 non-null  object \n",
      " 3   condition     362854 non-null  object \n",
      " 4   cylinders     362854 non-null  object \n",
      " 5   fuel          362854 non-null  object \n",
      " 6   odometer      362854 non-null  float64\n",
      " 7   title_status  362854 non-null  object \n",
      " 8   transmission  362854 non-null  object \n",
      " 9   drive         362854 non-null  object \n",
      " 10  type          362854 non-null  object \n",
      " 11  lat           362854 non-null  float64\n",
      " 12  long          362854 non-null  float64\n",
      "dtypes: float64(4), int64(1), object(8)\n",
      "memory usage: 38.8+ MB\n"
     ]
    }
   ],
   "source": [
    "# Dropping 'paint_color' column:\n",
    "df_work2_new = df_work2.drop(['paint_color'], axis=1)\n",
    "df_work2_new.info()"
   ]
  },
  {
   "cell_type": "code",
   "execution_count": 42,
   "metadata": {},
   "outputs": [
    {
     "name": "stdout",
     "output_type": "stream",
     "text": [
      "The shape of our new dataframe:  (362854, 96)\n"
     ]
    },
    {
     "data": {
      "text/html": [
       "<div>\n",
       "<style scoped>\n",
       "    .dataframe tbody tr th:only-of-type {\n",
       "        vertical-align: middle;\n",
       "    }\n",
       "\n",
       "    .dataframe tbody tr th {\n",
       "        vertical-align: top;\n",
       "    }\n",
       "\n",
       "    .dataframe thead th {\n",
       "        text-align: right;\n",
       "    }\n",
       "</style>\n",
       "<table border=\"1\" class=\"dataframe\">\n",
       "  <thead>\n",
       "    <tr style=\"text-align: right;\">\n",
       "      <th></th>\n",
       "      <th>price</th>\n",
       "      <th>year</th>\n",
       "      <th>odometer</th>\n",
       "      <th>lat</th>\n",
       "      <th>long</th>\n",
       "      <th>manufacturer_acura</th>\n",
       "      <th>manufacturer_alfa-romeo</th>\n",
       "      <th>manufacturer_aston-martin</th>\n",
       "      <th>manufacturer_audi</th>\n",
       "      <th>manufacturer_bmw</th>\n",
       "      <th>...</th>\n",
       "      <th>type_hatchback</th>\n",
       "      <th>type_mini-van</th>\n",
       "      <th>type_missing</th>\n",
       "      <th>type_offroad</th>\n",
       "      <th>type_other</th>\n",
       "      <th>type_pickup</th>\n",
       "      <th>type_sedan</th>\n",
       "      <th>type_truck</th>\n",
       "      <th>type_van</th>\n",
       "      <th>type_wagon</th>\n",
       "    </tr>\n",
       "  </thead>\n",
       "  <tbody>\n",
       "    <tr>\n",
       "      <th>0</th>\n",
       "      <td>10299</td>\n",
       "      <td>2012.0</td>\n",
       "      <td>90186.0</td>\n",
       "      <td>35.7636</td>\n",
       "      <td>-78.7443</td>\n",
       "      <td>1</td>\n",
       "      <td>0</td>\n",
       "      <td>0</td>\n",
       "      <td>0</td>\n",
       "      <td>0</td>\n",
       "      <td>...</td>\n",
       "      <td>0</td>\n",
       "      <td>0</td>\n",
       "      <td>0</td>\n",
       "      <td>0</td>\n",
       "      <td>1</td>\n",
       "      <td>0</td>\n",
       "      <td>0</td>\n",
       "      <td>0</td>\n",
       "      <td>0</td>\n",
       "      <td>0</td>\n",
       "    </tr>\n",
       "    <tr>\n",
       "      <th>1</th>\n",
       "      <td>9500</td>\n",
       "      <td>2011.0</td>\n",
       "      <td>85000.0</td>\n",
       "      <td>36.1032</td>\n",
       "      <td>-79.8794</td>\n",
       "      <td>0</td>\n",
       "      <td>0</td>\n",
       "      <td>0</td>\n",
       "      <td>0</td>\n",
       "      <td>0</td>\n",
       "      <td>...</td>\n",
       "      <td>0</td>\n",
       "      <td>0</td>\n",
       "      <td>1</td>\n",
       "      <td>0</td>\n",
       "      <td>0</td>\n",
       "      <td>0</td>\n",
       "      <td>0</td>\n",
       "      <td>0</td>\n",
       "      <td>0</td>\n",
       "      <td>0</td>\n",
       "    </tr>\n",
       "    <tr>\n",
       "      <th>2</th>\n",
       "      <td>3995</td>\n",
       "      <td>2004.0</td>\n",
       "      <td>212526.0</td>\n",
       "      <td>35.7636</td>\n",
       "      <td>-78.7443</td>\n",
       "      <td>0</td>\n",
       "      <td>0</td>\n",
       "      <td>0</td>\n",
       "      <td>0</td>\n",
       "      <td>0</td>\n",
       "      <td>...</td>\n",
       "      <td>0</td>\n",
       "      <td>0</td>\n",
       "      <td>0</td>\n",
       "      <td>0</td>\n",
       "      <td>0</td>\n",
       "      <td>0</td>\n",
       "      <td>0</td>\n",
       "      <td>0</td>\n",
       "      <td>0</td>\n",
       "      <td>0</td>\n",
       "    </tr>\n",
       "    <tr>\n",
       "      <th>3</th>\n",
       "      <td>12995</td>\n",
       "      <td>2015.0</td>\n",
       "      <td>85127.0</td>\n",
       "      <td>35.7636</td>\n",
       "      <td>-78.7443</td>\n",
       "      <td>0</td>\n",
       "      <td>0</td>\n",
       "      <td>0</td>\n",
       "      <td>0</td>\n",
       "      <td>0</td>\n",
       "      <td>...</td>\n",
       "      <td>0</td>\n",
       "      <td>0</td>\n",
       "      <td>0</td>\n",
       "      <td>0</td>\n",
       "      <td>0</td>\n",
       "      <td>0</td>\n",
       "      <td>0</td>\n",
       "      <td>0</td>\n",
       "      <td>0</td>\n",
       "      <td>1</td>\n",
       "    </tr>\n",
       "    <tr>\n",
       "      <th>4</th>\n",
       "      <td>10995</td>\n",
       "      <td>2014.0</td>\n",
       "      <td>112383.0</td>\n",
       "      <td>35.7636</td>\n",
       "      <td>-78.7443</td>\n",
       "      <td>0</td>\n",
       "      <td>0</td>\n",
       "      <td>0</td>\n",
       "      <td>0</td>\n",
       "      <td>0</td>\n",
       "      <td>...</td>\n",
       "      <td>0</td>\n",
       "      <td>0</td>\n",
       "      <td>0</td>\n",
       "      <td>0</td>\n",
       "      <td>0</td>\n",
       "      <td>0</td>\n",
       "      <td>0</td>\n",
       "      <td>0</td>\n",
       "      <td>0</td>\n",
       "      <td>0</td>\n",
       "    </tr>\n",
       "    <tr>\n",
       "      <th>...</th>\n",
       "      <td>...</td>\n",
       "      <td>...</td>\n",
       "      <td>...</td>\n",
       "      <td>...</td>\n",
       "      <td>...</td>\n",
       "      <td>...</td>\n",
       "      <td>...</td>\n",
       "      <td>...</td>\n",
       "      <td>...</td>\n",
       "      <td>...</td>\n",
       "      <td>...</td>\n",
       "      <td>...</td>\n",
       "      <td>...</td>\n",
       "      <td>...</td>\n",
       "      <td>...</td>\n",
       "      <td>...</td>\n",
       "      <td>...</td>\n",
       "      <td>...</td>\n",
       "      <td>...</td>\n",
       "      <td>...</td>\n",
       "      <td>...</td>\n",
       "    </tr>\n",
       "    <tr>\n",
       "      <th>362849</th>\n",
       "      <td>12955</td>\n",
       "      <td>2015.0</td>\n",
       "      <td>74508.0</td>\n",
       "      <td>35.7636</td>\n",
       "      <td>-78.7443</td>\n",
       "      <td>0</td>\n",
       "      <td>0</td>\n",
       "      <td>0</td>\n",
       "      <td>0</td>\n",
       "      <td>0</td>\n",
       "      <td>...</td>\n",
       "      <td>0</td>\n",
       "      <td>0</td>\n",
       "      <td>0</td>\n",
       "      <td>0</td>\n",
       "      <td>0</td>\n",
       "      <td>0</td>\n",
       "      <td>0</td>\n",
       "      <td>0</td>\n",
       "      <td>0</td>\n",
       "      <td>1</td>\n",
       "    </tr>\n",
       "    <tr>\n",
       "      <th>362850</th>\n",
       "      <td>13995</td>\n",
       "      <td>2016.0</td>\n",
       "      <td>97545.0</td>\n",
       "      <td>35.7636</td>\n",
       "      <td>-78.7443</td>\n",
       "      <td>0</td>\n",
       "      <td>0</td>\n",
       "      <td>0</td>\n",
       "      <td>0</td>\n",
       "      <td>0</td>\n",
       "      <td>...</td>\n",
       "      <td>0</td>\n",
       "      <td>0</td>\n",
       "      <td>0</td>\n",
       "      <td>0</td>\n",
       "      <td>0</td>\n",
       "      <td>1</td>\n",
       "      <td>0</td>\n",
       "      <td>0</td>\n",
       "      <td>0</td>\n",
       "      <td>0</td>\n",
       "    </tr>\n",
       "    <tr>\n",
       "      <th>362851</th>\n",
       "      <td>10995</td>\n",
       "      <td>2010.0</td>\n",
       "      <td>80328.0</td>\n",
       "      <td>35.7636</td>\n",
       "      <td>-78.7443</td>\n",
       "      <td>0</td>\n",
       "      <td>0</td>\n",
       "      <td>0</td>\n",
       "      <td>0</td>\n",
       "      <td>1</td>\n",
       "      <td>...</td>\n",
       "      <td>0</td>\n",
       "      <td>0</td>\n",
       "      <td>0</td>\n",
       "      <td>0</td>\n",
       "      <td>0</td>\n",
       "      <td>0</td>\n",
       "      <td>0</td>\n",
       "      <td>0</td>\n",
       "      <td>0</td>\n",
       "      <td>0</td>\n",
       "    </tr>\n",
       "    <tr>\n",
       "      <th>362852</th>\n",
       "      <td>6495</td>\n",
       "      <td>2015.0</td>\n",
       "      <td>83521.0</td>\n",
       "      <td>35.7636</td>\n",
       "      <td>-78.7443</td>\n",
       "      <td>0</td>\n",
       "      <td>0</td>\n",
       "      <td>0</td>\n",
       "      <td>0</td>\n",
       "      <td>0</td>\n",
       "      <td>...</td>\n",
       "      <td>0</td>\n",
       "      <td>0</td>\n",
       "      <td>0</td>\n",
       "      <td>0</td>\n",
       "      <td>0</td>\n",
       "      <td>0</td>\n",
       "      <td>1</td>\n",
       "      <td>0</td>\n",
       "      <td>0</td>\n",
       "      <td>0</td>\n",
       "    </tr>\n",
       "    <tr>\n",
       "      <th>362853</th>\n",
       "      <td>8990</td>\n",
       "      <td>2008.0</td>\n",
       "      <td>168000.0</td>\n",
       "      <td>46.4500</td>\n",
       "      <td>-95.1247</td>\n",
       "      <td>0</td>\n",
       "      <td>0</td>\n",
       "      <td>0</td>\n",
       "      <td>0</td>\n",
       "      <td>0</td>\n",
       "      <td>...</td>\n",
       "      <td>0</td>\n",
       "      <td>0</td>\n",
       "      <td>0</td>\n",
       "      <td>0</td>\n",
       "      <td>0</td>\n",
       "      <td>0</td>\n",
       "      <td>0</td>\n",
       "      <td>0</td>\n",
       "      <td>0</td>\n",
       "      <td>0</td>\n",
       "    </tr>\n",
       "  </tbody>\n",
       "</table>\n",
       "<p>362854 rows × 96 columns</p>\n",
       "</div>"
      ],
      "text/plain": [
       "        price    year  odometer      lat     long  manufacturer_acura  \\\n",
       "0       10299  2012.0   90186.0  35.7636 -78.7443                   1   \n",
       "1        9500  2011.0   85000.0  36.1032 -79.8794                   0   \n",
       "2        3995  2004.0  212526.0  35.7636 -78.7443                   0   \n",
       "3       12995  2015.0   85127.0  35.7636 -78.7443                   0   \n",
       "4       10995  2014.0  112383.0  35.7636 -78.7443                   0   \n",
       "...       ...     ...       ...      ...      ...                 ...   \n",
       "362849  12955  2015.0   74508.0  35.7636 -78.7443                   0   \n",
       "362850  13995  2016.0   97545.0  35.7636 -78.7443                   0   \n",
       "362851  10995  2010.0   80328.0  35.7636 -78.7443                   0   \n",
       "362852   6495  2015.0   83521.0  35.7636 -78.7443                   0   \n",
       "362853   8990  2008.0  168000.0  46.4500 -95.1247                   0   \n",
       "\n",
       "        manufacturer_alfa-romeo  manufacturer_aston-martin  manufacturer_audi  \\\n",
       "0                             0                          0                  0   \n",
       "1                             0                          0                  0   \n",
       "2                             0                          0                  0   \n",
       "3                             0                          0                  0   \n",
       "4                             0                          0                  0   \n",
       "...                         ...                        ...                ...   \n",
       "362849                        0                          0                  0   \n",
       "362850                        0                          0                  0   \n",
       "362851                        0                          0                  0   \n",
       "362852                        0                          0                  0   \n",
       "362853                        0                          0                  0   \n",
       "\n",
       "        manufacturer_bmw  ...  type_hatchback  type_mini-van  type_missing  \\\n",
       "0                      0  ...               0              0             0   \n",
       "1                      0  ...               0              0             1   \n",
       "2                      0  ...               0              0             0   \n",
       "3                      0  ...               0              0             0   \n",
       "4                      0  ...               0              0             0   \n",
       "...                  ...  ...             ...            ...           ...   \n",
       "362849                 0  ...               0              0             0   \n",
       "362850                 0  ...               0              0             0   \n",
       "362851                 1  ...               0              0             0   \n",
       "362852                 0  ...               0              0             0   \n",
       "362853                 0  ...               0              0             0   \n",
       "\n",
       "        type_offroad  type_other  type_pickup  type_sedan  type_truck  \\\n",
       "0                  0           1            0           0           0   \n",
       "1                  0           0            0           0           0   \n",
       "2                  0           0            0           0           0   \n",
       "3                  0           0            0           0           0   \n",
       "4                  0           0            0           0           0   \n",
       "...              ...         ...          ...         ...         ...   \n",
       "362849             0           0            0           0           0   \n",
       "362850             0           0            1           0           0   \n",
       "362851             0           0            0           0           0   \n",
       "362852             0           0            0           1           0   \n",
       "362853             0           0            0           0           0   \n",
       "\n",
       "        type_van  type_wagon  \n",
       "0              0           0  \n",
       "1              0           0  \n",
       "2              0           0  \n",
       "3              0           1  \n",
       "4              0           0  \n",
       "...          ...         ...  \n",
       "362849         0           1  \n",
       "362850         0           0  \n",
       "362851         0           0  \n",
       "362852         0           0  \n",
       "362853         0           0  \n",
       "\n",
       "[362854 rows x 96 columns]"
      ]
     },
     "execution_count": 42,
     "metadata": {},
     "output_type": "execute_result"
    }
   ],
   "source": [
    "# Let's now convert our categorical columns into dummy variables:\n",
    "df_work3_new = pd.get_dummies(df_work2_new)\n",
    "print(\"The shape of our new dataframe: \", df_work3_new.shape)\n",
    "\n",
    "# Let's remove all the spaces within column names and make them all lowercase (in case if there are some uppercase letters):\n",
    "df_work3_new.columns = df_work3_new.columns.str.replace(' ', '_')\n",
    "df_work3_new.columns = map(str.lower, df_work3_new.columns)\n",
    "\n",
    "# Resetting index:\n",
    "df_work3_new = df_work3_new.reset_index().drop(columns = ['index']).copy()\n",
    "df_work3_new"
   ]
  },
  {
   "cell_type": "markdown",
   "metadata": {},
   "source": [
    "Now we can see that we have 96 columns, instead of 109 columns that we had to compute before. Let's now check our RF model's performance on the optimized dataset."
   ]
  },
  {
   "cell_type": "code",
   "execution_count": 63,
   "metadata": {},
   "outputs": [
    {
     "name": "stdout",
     "output_type": "stream",
     "text": [
      "X_rf shape: (362854, 95)\n",
      "y_rf shape: (362854,)\n",
      "X_rf_train shape: (290283, 95)\n",
      "y_rf_train shape: (290283,)\n",
      "X_rf_test shape: (72571, 95)\n",
      "y_rf_test shape: (72571,)\n",
      "-------------------------------------------------------------------------------------------------------------\n",
      "The mean absolute error of our model is:  1733.4998260437524\n",
      "The mean value of the price column is:  14254.943448484932\n",
      "The train set R^2 of our model is:  0.9854\n",
      "The test set R^2 of our model is:  0.8975\n"
     ]
    },
    {
     "data": {
      "text/plain": [
       "['myRF_default_new.pkl']"
      ]
     },
     "execution_count": 63,
     "metadata": {},
     "output_type": "execute_result"
    }
   ],
   "source": [
    "# ScikitLearn RandomForest Regression on new optimized dataset (default values):\n",
    "\n",
    "# Assigning data (X) and target (y) columns:\n",
    "X_rf = df_work3_new.loc[:, df_work3_new.columns != 'price']\n",
    "y_rf = df_work3_new['price']\n",
    "\n",
    "print('X_rf shape:', X_rf.shape)\n",
    "print('y_rf shape:', y_rf.shape)\n",
    "\n",
    "# Let's split our dataframe into train and test sets:\n",
    "X_rf_train, X_rf_test, y_rf_train, y_rf_test = train_test_split(X_rf, y_rf, test_size = 0.2, random_state=1)\n",
    "\n",
    "print('X_rf_train shape:', X_rf_train.shape)\n",
    "print('y_rf_train shape:', y_rf_train.shape)\n",
    "print('X_rf_test shape:', X_rf_test.shape)\n",
    "print('y_rf_test shape:', y_rf_test.shape)\n",
    "print(\"-------------------------------------------------------------------------------------------------------------\")\n",
    "\n",
    "# 1. Instantiate the model:\n",
    "myRF = RandomForestRegressor(random_state=1)\n",
    "\n",
    "# 2. Fit the model:\n",
    "myRF.fit(X_rf_train, y_rf_train)\n",
    "\n",
    "# 3. Make prediction (will use it for mae):\n",
    "y_rf_test_pred = myRF.predict(X_rf_test)\n",
    "\n",
    "# 4. R^2 score check:\n",
    "print(\"The mean absolute error of our model is: \", mae(y_rf_test, y_rf_test_pred))\n",
    "print(\"The mean value of the price column is: \", y_rf_test.mean())\n",
    "print(\"The train set R^2 of our model is: \", round(myRF.score(X_rf_train,y_rf_train),4))\n",
    "print(\"The test set R^2 of our model is: \", round(myRF.score(X_rf_test,y_rf_test),4))\n",
    "\n",
    "# Saving our model:\n",
    "joblib.dump(myRF, 'myRF_default_new.pkl')"
   ]
  },
  {
   "cell_type": "markdown",
   "metadata": {},
   "source": [
    "We can see that our R^2 score and MAE have almost not changed, but the computational load on our model eased. "
   ]
  },
  {
   "cell_type": "markdown",
   "metadata": {},
   "source": [
    " "
   ]
  },
  {
   "cell_type": "markdown",
   "metadata": {},
   "source": [
    "#### 2.10.1. RandomForestRegressor: Hyperparameter Optimization"
   ]
  },
  {
   "cell_type": "code",
   "execution_count": 81,
   "metadata": {},
   "outputs": [
    {
     "name": "stdout",
     "output_type": "stream",
     "text": [
      "X_rf_small shape: (108856, 95)\n",
      "y_rf_small shape: (108856,)\n",
      "X_rf_train_small shape: (87084, 95)\n",
      "y_rf_train_small shape: (87084,)\n",
      "X_rf_test_small shape: (21772, 95)\n",
      "y_rf_test_small shape: (21772,)\n",
      "-------------------------------------------------------------------------------------------------------------\n",
      "Train set R^2 score with n_estimators=10: 0.971838632433565\n",
      "Test set R^2 score with n_estimators=10: 0.8408995284614909\n",
      "\n",
      "Train set R^2 score with n_estimators=30: 0.9781011878083906\n",
      "Test set R^2 score with n_estimators=30: 0.8515955922433618\n",
      "\n",
      "Train set R^2 score with n_estimators=50: 0.9792245378582513\n",
      "Test set R^2 score with n_estimators=50: 0.8541781576330306\n",
      "\n",
      "Train set R^2 score with n_estimators=70: 0.9797523585186158\n",
      "Test set R^2 score with n_estimators=70: 0.8554250739943718\n",
      "\n",
      "Train set R^2 score with n_estimators=100: 0.9800714234766429\n",
      "Test set R^2 score with n_estimators=100: 0.8560166577927044\n",
      "\n",
      "Train set R^2 score with n_estimators=150: 0.9803589722168543\n",
      "Test set R^2 score with n_estimators=150: 0.856470990062757\n",
      "\n",
      "Train set R^2 score with n_estimators=200: 0.9804657312542499\n",
      "Test set R^2 score with n_estimators=200: 0.8567196478623386\n",
      "\n",
      "Train set R^2 score with n_estimators=250: 0.9805084946759813\n",
      "Test set R^2 score with n_estimators=250: 0.856973217669241\n",
      "\n",
      "Train set R^2 score with n_estimators=300: 0.9805749068583208\n",
      "Test set R^2 score with n_estimators=300: 0.8571309657306634\n",
      "\n"
     ]
    },
    {
     "data": {
      "image/png": "[encoded data removed]",
      "text/plain": [
       "<Figure size 432x288 with 1 Axes>"
      ]
     },
     "metadata": {
      "needs_background": "light"
     },
     "output_type": "display_data"
    }
   ],
   "source": [
    "# Let's actually create a subset of our dataframe, and see how different hyperparameters of RandomForestRegressor model affect our R^2 score:\n",
    "df_RF_small = df_work3_new.sample(frac=0.3, random_state=1)\n",
    "\n",
    "# Assigning data (X) and target (y) columns;\n",
    "X_rf_small = df_RF_small.loc[:, df_RF_small.columns != 'price']\n",
    "y_rf_small = df_RF_small['price']\n",
    "\n",
    "print('X_rf_small shape:', X_rf_small.shape)\n",
    "print('y_rf_small shape:', y_rf_small.shape)\n",
    "\n",
    "# Let's now split the data into train and test sets:\n",
    "X_rf_train_small, X_rf_test_small, y_rf_train_small, y_rf_test_small = train_test_split(X_rf_small, y_rf_small, test_size = 0.2, random_state=1)\n",
    "\n",
    "print('X_rf_train_small shape:', X_rf_train_small.shape)\n",
    "print('y_rf_train_small shape:', y_rf_train_small.shape)\n",
    "print('X_rf_test_small shape:', X_rf_test_small.shape)\n",
    "print('y_rf_test_small shape:', y_rf_test_small.shape)\n",
    "print(\"-------------------------------------------------------------------------------------------------------------\")\n",
    "\n",
    "\n",
    "# Let's now run the RF model with different n_estimators and see how our R^2 scores change:\n",
    "train_scores_rf = []\n",
    "test_scores_rf = []\n",
    "\n",
    "n_number = [10,30,50,70,100,150,200,250,300] \n",
    "\n",
    "for n in n_number:\n",
    "    \n",
    "    myRF = RandomForestRegressor(n_estimators=n, random_state=1)\n",
    "    myRF.fit(X_rf_train_small, y_rf_train_small)\n",
    "    \n",
    "    train_scores_rf.append(myRF.score(X_rf_train_small, y_rf_train_small))\n",
    "    test_scores_rf.append(myRF.score(X_rf_test_small, y_rf_test_small))\n",
    "    \n",
    "    print(f'Train set R^2 score with n_estimators={n}: {myRF.score(X_rf_train_small, y_rf_train_small)}')\n",
    "    print(f'Test set R^2 score with n_estimators={n}: {myRF.score(X_rf_test_small, y_rf_test_small)}')\n",
    "    print()\n",
    "\n",
    "# Let's plot our results:\n",
    "plt.figure()\n",
    "plt.title(\"R^2 Score vs Number of Estimators in RF Regression Model\")\n",
    "plt.plot(n_number, train_scores_rf, label=\"Train\")\n",
    "plt.plot(n_number, test_scores_rf, label=\"Test\")\n",
    "plt.legend()\n",
    "plt.xlabel(\"Number of Estimators\")\n",
    "plt.ylabel(\"R^2 Score\")\n",
    "plt.show()"
   ]
  },
  {
   "cell_type": "markdown",
   "metadata": {},
   "source": [
    "We can see from the graph that after `n_estimators=100`, which is the model's default value, the test set R^2 score improves slightly, but it becomes much more heavy computationally. So, let's just keep the default value for now."
   ]
  },
  {
   "cell_type": "code",
   "execution_count": 62,
   "metadata": {},
   "outputs": [
    {
     "name": "stdout",
     "output_type": "stream",
     "text": [
      "Train set R^2 score with max_depth=1: 0.3147067355194164\n",
      "Test set R^2 score with max_depth=1: 0.3089673927143085\n",
      "\n",
      "Train set R^2 score with max_depth=6: 0.6949280871190602\n",
      "Test set R^2 score with max_depth=6: 0.6871351860992478\n",
      "\n",
      "Train set R^2 score with max_depth=11: 0.8188220837064407\n",
      "Test set R^2 score with max_depth=11: 0.7882396450849765\n",
      "\n",
      "Train set R^2 score with max_depth=16: 0.906636197293115\n",
      "Test set R^2 score with max_depth=16: 0.8306335867230076\n",
      "\n",
      "Train set R^2 score with max_depth=21: 0.9533420412191008\n",
      "Test set R^2 score with max_depth=21: 0.8476909730308715\n",
      "\n",
      "Train set R^2 score with max_depth=26: 0.9717774402195805\n",
      "Test set R^2 score with max_depth=26: 0.8539151241698093\n",
      "\n",
      "Train set R^2 score with max_depth=31: 0.9778661002433889\n",
      "Test set R^2 score with max_depth=31: 0.8555962861471778\n",
      "\n",
      "Train set R^2 score with max_depth=36: 0.9795497516340743\n",
      "Test set R^2 score with max_depth=36: 0.8562008165585426\n",
      "\n",
      "Train set R^2 score with max_depth=41: 0.9799943126439525\n",
      "Test set R^2 score with max_depth=41: 0.8560731206005223\n",
      "\n",
      "Train set R^2 score with max_depth=46: 0.9800707998818643\n",
      "Test set R^2 score with max_depth=46: 0.8563423055314265\n",
      "\n",
      "Train set R^2 score with max_depth=51: 0.9800716614722613\n",
      "Test set R^2 score with max_depth=51: 0.8560188626743652\n",
      "\n",
      "Train set R^2 score with max_depth=56: 0.9800685687168059\n",
      "Test set R^2 score with max_depth=56: 0.8559805326285185\n",
      "\n",
      "Train set R^2 score with max_depth=61: 0.9800714131488449\n",
      "Test set R^2 score with max_depth=61: 0.8559990658247444\n",
      "\n",
      "Train set R^2 score with max_depth=66: 0.9800714234766429\n",
      "Test set R^2 score with max_depth=66: 0.8560166577927044\n",
      "\n",
      "Train set R^2 score with max_depth=71: 0.9800714234766429\n",
      "Test set R^2 score with max_depth=71: 0.8560166577927044\n",
      "\n",
      "Train set R^2 score with max_depth=76: 0.9800714234766429\n",
      "Test set R^2 score with max_depth=76: 0.8560166577927044\n",
      "\n",
      "Train set R^2 score with max_depth=81: 0.9800714234766429\n",
      "Test set R^2 score with max_depth=81: 0.8560166577927044\n",
      "\n",
      "Train set R^2 score with max_depth=86: 0.9800714234766429\n",
      "Test set R^2 score with max_depth=86: 0.8560166577927044\n",
      "\n",
      "Train set R^2 score with max_depth=91: 0.9800714234766429\n",
      "Test set R^2 score with max_depth=91: 0.8560166577927044\n",
      "\n",
      "Train set R^2 score with max_depth=96: 0.9800714234766429\n",
      "Test set R^2 score with max_depth=96: 0.8560166577927044\n",
      "\n"
     ]
    },
    {
     "data": {
      "image/png": "[encoded data removed]",
      "text/plain": [
       "<Figure size 432x288 with 1 Axes>"
      ]
     },
     "metadata": {
      "needs_background": "light"
     },
     "output_type": "display_data"
    }
   ],
   "source": [
    "# Let's now run the RF model with different max_depth values and see how our R^2 scores change:\n",
    "train_scores_rf_md = []\n",
    "test_scores_rf_md = []\n",
    "\n",
    "depth = list(range(1,100,5)) \n",
    "\n",
    "for d in depth:\n",
    "    \n",
    "    myRF = RandomForestRegressor(max_depth=d, random_state=1)\n",
    "    myRF.fit(X_rf_train_small, y_rf_train_small)\n",
    "    \n",
    "    train_scores_rf_md.append(myRF.score(X_rf_train_small, y_rf_train_small))\n",
    "    test_scores_rf_md.append(myRF.score(X_rf_test_small, y_rf_test_small))\n",
    "    \n",
    "    print(f'Train set R^2 score with max_depth={d}: {myRF.score(X_rf_train_small, y_rf_train_small)}')\n",
    "    print(f'Test set R^2 score with max_depth={d}: {myRF.score(X_rf_test_small, y_rf_test_small)}')\n",
    "    print()\n",
    "    \n",
    "# Let's plot our results:\n",
    "plt.figure()\n",
    "plt.title(\"R^2 Score vs Max Depth\")\n",
    "plt.plot(depth, train_scores_rf_md, label=\"Train\")\n",
    "plt.plot(depth, test_scores_rf_md, label=\"Test\")\n",
    "plt.legend()\n",
    "plt.xlabel(\"Max Depth\")\n",
    "plt.ylabel(\"R^2 Score\")\n",
    "plt.show()"
   ]
  },
  {
   "cell_type": "code",
   "execution_count": 65,
   "metadata": {},
   "outputs": [
    {
     "data": {
      "text/plain": [
       "46"
      ]
     },
     "execution_count": 65,
     "metadata": {},
     "output_type": "execute_result"
    }
   ],
   "source": [
    "# The max_depth value with highest R^2 score for the test set:\n",
    "depth[np.argmax(test_scores_rf_md)]"
   ]
  },
  {
   "cell_type": "code",
   "execution_count": 67,
   "metadata": {},
   "outputs": [
    {
     "name": "stdout",
     "output_type": "stream",
     "text": [
      "X_rf shape: (362854, 95)\n",
      "y_rf shape: (362854,)\n",
      "X_rf_train shape: (290283, 95)\n",
      "y_rf_train shape: (290283,)\n",
      "X_rf_test shape: (72571, 95)\n",
      "y_rf_test shape: (72571,)\n",
      "-------------------------------------------------------------------------------------------------------------\n",
      "The mean absolute error of our model is:  1733.5049251641785\n",
      "The mean value of the price column is:  14254.943448484932\n",
      "The train set R^2 of our model is:  0.9853\n",
      "The test set R^2 of our model is:  0.8974\n"
     ]
    },
    {
     "data": {
      "text/plain": [
       "['myRF_optimized.pkl']"
      ]
     },
     "execution_count": 67,
     "metadata": {},
     "output_type": "execute_result"
    }
   ],
   "source": [
    "# Creating our RF model (n_estimators=default(100), max_depth=46 - after hyperparameter optimization):\n",
    "\n",
    "# Assigning data (X) and target (y) columns:\n",
    "X_rf = df_work3_new.loc[:, df_work3_new.columns != 'price']\n",
    "y_rf = df_work3_new['price']\n",
    "\n",
    "print('X_rf shape:', X_rf.shape)\n",
    "print('y_rf shape:', y_rf.shape)\n",
    "\n",
    "# Let's split our dataframe into train and test sets:\n",
    "X_rf_train, X_rf_test, y_rf_train, y_rf_test = train_test_split(X_rf, y_rf, test_size = 0.2, random_state=1)\n",
    "\n",
    "print('X_rf_train shape:', X_rf_train.shape)\n",
    "print('y_rf_train shape:', y_rf_train.shape)\n",
    "print('X_rf_test shape:', X_rf_test.shape)\n",
    "print('y_rf_test shape:', y_rf_test.shape)\n",
    "print(\"-------------------------------------------------------------------------------------------------------------\")\n",
    "\n",
    "# 1. Instantiate the model:\n",
    "myRF = RandomForestRegressor(max_depth=46, random_state=1)\n",
    "\n",
    "# 2. Fit the model:\n",
    "myRF.fit(X_rf_train, y_rf_train)\n",
    "\n",
    "# 3. Make prediction (will use it for mae):\n",
    "y_rf_test_pred = myRF.predict(X_rf_test)\n",
    "\n",
    "# 4. R^2 score check:\n",
    "print(\"The mean absolute error of our model is: \", mae(y_rf_test, y_rf_test_pred))\n",
    "print(\"The mean value of the price column is: \", y_rf_test.mean())\n",
    "print(\"The train set R^2 of our model is: \", round(myRF.score(X_rf_train,y_rf_train),4))\n",
    "print(\"The test set R^2 of our model is: \", round(myRF.score(X_rf_test,y_rf_test),4))\n",
    "\n",
    "# Saving our model:\n",
    "joblib.dump(myRF, 'myRF_optimized.pkl')"
   ]
  },
  {
   "cell_type": "markdown",
   "metadata": {},
   "source": [
    "Well, results remained the same as running RF with default values. So, probably default RF values are good enough to give the best scores. Let's see what multiple hyperparameter optimization would show."
   ]
  },
  {
   "cell_type": "markdown",
   "metadata": {},
   "source": [
    " "
   ]
  },
  {
   "cell_type": "markdown",
   "metadata": {},
   "source": [
    "#### 2.10.2. RandomForestRegressor: Multiple Hyperparameter Optimization"
   ]
  },
  {
   "cell_type": "markdown",
   "metadata": {},
   "source": [
    "Let's now use GridSearchCV to optimize multiple hyperparameters of our model and see if we can increase it's score."
   ]
  },
  {
   "cell_type": "code",
   "execution_count": 42,
   "metadata": {},
   "outputs": [
    {
     "name": "stdout",
     "output_type": "stream",
     "text": [
      "(108856, 95)\n",
      "(108856,)\n"
     ]
    }
   ],
   "source": [
    "# Let's actually create a subset of our dataframe, and see how different hyperparameters of RandomForestRegressor model affect our R^2 score:\n",
    "df_RF_small = df_work3_new.sample(frac=0.3, random_state=1)\n",
    "\n",
    "# Assigning data (X) and target (y) columns;\n",
    "X_small = df_RF_small.loc[:, df_RF_small.columns != 'price']\n",
    "y_small = df_RF_small['price']\n",
    "\n",
    "print(X_small.shape)\n",
    "print(y_small.shape)"
   ]
  },
  {
   "cell_type": "code",
   "execution_count": 43,
   "metadata": {},
   "outputs": [],
   "source": [
    "# Let's define the hyperparameters to look through:\n",
    "RF_params = {'max_depth':[10,15,20,30,40,50,60,70,80,90,100],\\\n",
    "             'min_samples_leaf':[1,2,3]}"
   ]
  },
  {
   "cell_type": "code",
   "execution_count": 45,
   "metadata": {},
   "outputs": [
    {
     "name": "stdout",
     "output_type": "stream",
     "text": [
      "Fitting 5 folds for each of 33 candidates, totalling 165 fits\n"
     ]
    },
    {
     "name": "stderr",
     "output_type": "stream",
     "text": [
      "[Parallel(n_jobs=1)]: Using backend SequentialBackend with 1 concurrent workers.\n",
      "[Parallel(n_jobs=1)]: Done 165 out of 165 | elapsed: 327.9min finished\n"
     ]
    }
   ],
   "source": [
    "# Initiate the RF grid search\n",
    "myRF_gs = GridSearchCV(estimator=RandomForestRegressor(random_state=1), param_grid=RF_params, cv=5, verbose=1)\n",
    "\n",
    "# Fit the RF grid search\n",
    "myRF_gs_fitted = myRF_gs.fit(X_small, y_small)"
   ]
  },
  {
   "cell_type": "code",
   "execution_count": 46,
   "metadata": {},
   "outputs": [
    {
     "name": "stdout",
     "output_type": "stream",
     "text": [
      "{'max_depth': 40, 'min_samples_leaf': 1}\n"
     ]
    }
   ],
   "source": [
    "# Show the best estimators\n",
    "print(myRF_gs_fitted.best_params_)"
   ]
  },
  {
   "cell_type": "markdown",
   "metadata": {},
   "source": [
    "The best `max_depth` value is 40, which again confirms our result from `max_depth` hyperparameter optimization above. Ideally, we would want to run GridSearchCV on a whole dataset, but due to computational load, we would accept R^2 value for RandomForest model as 0.8975. Let's now try our last model - XGBRegressor."
   ]
  },
  {
   "cell_type": "markdown",
   "metadata": {},
   "source": [
    " "
   ]
  },
  {
   "cell_type": "markdown",
   "metadata": {},
   "source": [
    "### 2.11. XGBRegressor"
   ]
  },
  {
   "cell_type": "markdown",
   "metadata": {},
   "source": [
    "Let's now try XGBRegressor model and see how it will perform. Please note, because XGBoost is basically the tree based model, scaling won't be required to train the model (original GitHub [source](https://github.com/dmlc/xgboost/issues/357))."
   ]
  },
  {
   "cell_type": "code",
   "execution_count": 72,
   "metadata": {},
   "outputs": [
    {
     "name": "stdout",
     "output_type": "stream",
     "text": [
      "X_xgb shape: (362854, 95)\n",
      "y_xgb shape: (362854,)\n",
      "X_xgb_train shape: (290283, 95)\n",
      "y_xgb_train shape: (290283,)\n",
      "X_xgb_test shape: (72571, 95)\n",
      "y_xgb_test shape: (72571,)\n",
      "-------------------------------------------------------------------------------------------------------\n",
      "myXGB model parameters: XGBRegressor(base_score=0.5, booster='gbtree', colsample_bylevel=1,\n",
      "             colsample_bynode=1, colsample_bytree=1, gamma=0,\n",
      "             importance_type='gain', learning_rate=0.1, max_delta_step=0,\n",
      "             max_depth=3, min_child_weight=1, missing=None, n_estimators=100,\n",
      "             n_jobs=1, nthread=None, objective='reg:linear', random_state=0,\n",
      "             reg_alpha=0, reg_lambda=1, scale_pos_weight=1, seed=None,\n",
      "             silent=None, subsample=1, verbosity=0)\n",
      "-------------------------------------------------------------------------------------------------------\n",
      "The mean absolute error of our model is:  3184.285258953559\n",
      "The mean value of the price column is:  14254.943448484932\n",
      "The train set R^2 of our model is:  0.7753\n",
      "The test set R^2 of our model is:  0.7746\n",
      "\n"
     ]
    }
   ],
   "source": [
    "# ScikitLearn XGB Regression (default values):\n",
    "\n",
    "# Assigning data (X) and target (y) columns:\n",
    "X_xgb = df_work3_new.loc[:, df_work3_new.columns != 'price']\n",
    "y_xgb = df_work3_new['price']\n",
    "\n",
    "print('X_xgb shape:', X_xgb.shape)\n",
    "print('y_xgb shape:', y_xgb.shape)\n",
    "\n",
    "# Let's split our dataframe into train and test sets:\n",
    "X_xgb_train, X_xgb_test, y_xgb_train, y_xgb_test = train_test_split(X_xgb, y_xgb, test_size = 0.2, random_state=1)\n",
    "\n",
    "print('X_xgb_train shape:', X_xgb_train.shape)\n",
    "print('y_xgb_train shape:', y_xgb_train.shape)\n",
    "print('X_xgb_test shape:', X_xgb_test.shape)\n",
    "print('y_xgb_test shape:', y_xgb_test.shape)\n",
    "print(\"-------------------------------------------------------------------------------------------------------\")\n",
    "\n",
    "\n",
    "# 1. Instantiate the model:\n",
    "myXGB = xgb.XGBRegressor(verbosity=0)\n",
    "print(\"myXGB model parameters:\", myXGB)\n",
    "print(\"-------------------------------------------------------------------------------------------------------\")\n",
    "\n",
    "# 2. Fit the model:\n",
    "myXGB.fit(X_xgb_train, y_xgb_train)\n",
    "\n",
    "# 3. Make prediction (will use it for mae):\n",
    "y_xgb_test_pred = myXGB.predict(X_xgb_test)\n",
    "\n",
    "# R^2 score check:\n",
    "print(\"The mean absolute error of our model is: \", mae(y_xgb_test, y_xgb_test_pred))\n",
    "print(\"The mean value of the price column is: \", y_xgb_test.mean())\n",
    "print(\"The train set R^2 of our model is: \", round(myXGB.score(X_xgb_train,y_xgb_train),4))\n",
    "print(\"The test set R^2 of our model is: \", round(myXGB.score(X_xgb_test,y_xgb_test),4))"
   ]
  },
  {
   "cell_type": "markdown",
   "metadata": {},
   "source": [
    "With default parameters for XGBRegressor model our scores are not too bad, but far from those of RandomForestRegressor default model. Let's try to tune our hyperparameters and see if the score would improve."
   ]
  },
  {
   "cell_type": "markdown",
   "metadata": {},
   "source": [
    " "
   ]
  },
  {
   "cell_type": "markdown",
   "metadata": {},
   "source": [
    "#### 2.11.2. XGBRegressor: Hyperparameter Optimization"
   ]
  },
  {
   "cell_type": "markdown",
   "metadata": {},
   "source": [
    "Here, we'll be trying different 'booster' parameters. "
   ]
  },
  {
   "cell_type": "code",
   "execution_count": 73,
   "metadata": {},
   "outputs": [
    {
     "name": "stdout",
     "output_type": "stream",
     "text": [
      "X_xgb shape: (362854, 95)\n",
      "y_xgb shape: (362854,)\n",
      "X_xgb_train shape: (290283, 95)\n",
      "y_xgb_train shape: (290283,)\n",
      "X_xgb_test shape: (72571, 95)\n",
      "y_xgb_test shape: (72571,)\n",
      "-------------------------------------------------------------------------------------------------------\n",
      "myXGB model parameters: XGBRegressor(base_score=0.5, booster='gblinear', colsample_bylevel=1,\n",
      "             colsample_bynode=1, colsample_bytree=1, gamma=0,\n",
      "             importance_type='gain', learning_rate=0.1, max_delta_step=0,\n",
      "             max_depth=3, min_child_weight=1, missing=None, n_estimators=100,\n",
      "             n_jobs=1, nthread=None, objective='reg:linear', random_state=0,\n",
      "             reg_alpha=0, reg_lambda=1, scale_pos_weight=1, seed=None,\n",
      "             silent=None, subsample=1, verbosity=0)\n",
      "-------------------------------------------------------------------------------------------------------\n",
      "The mean absolute error of our model is:  4759.6196752598335\n",
      "The mean value of the price column is:  14254.943448484932\n",
      "The train set R^2 of our model is:  0.5702\n",
      "The test set R^2 of our model is:  0.5696\n"
     ]
    }
   ],
   "source": [
    "# ScikitLearn XGB Regression (booster='gblinear'):\n",
    "\n",
    "# Assigning data (X) and target (y) columns:\n",
    "X_xgb = df_work3_new.loc[:, df_work3_new.columns != 'price']\n",
    "y_xgb = df_work3_new['price']\n",
    "\n",
    "print('X_xgb shape:', X_xgb.shape)\n",
    "print('y_xgb shape:', y_xgb.shape)\n",
    "\n",
    "# Let's split our dataframe into train and test sets:\n",
    "X_xgb_train, X_xgb_test, y_xgb_train, y_xgb_test = train_test_split(X_xgb, y_xgb, test_size = 0.2, random_state=1)\n",
    "\n",
    "print('X_xgb_train shape:', X_xgb_train.shape)\n",
    "print('y_xgb_train shape:', y_xgb_train.shape)\n",
    "print('X_xgb_test shape:', X_xgb_test.shape)\n",
    "print('y_xgb_test shape:', y_xgb_test.shape)\n",
    "print(\"--------------------------------------------------------------------------------------------------------------------------------\")\n",
    "\n",
    "\n",
    "# 1. Instantiate the model\n",
    "myXGB = xgb.XGBRegressor(booster='gblinear', verbosity=0)\n",
    "print(\"myXGB model parameters:\", myXGB)\n",
    "print(\"--------------------------------------------------------------------------------------------------------------------------------\")\n",
    "\n",
    "# 2. Fit the model\n",
    "myXGB.fit(X_xgb_train, y_xgb_train)\n",
    "\n",
    "# 3. Make prediction (will use it for mae)\n",
    "y_xgb_test_pred = myXGB.predict(X_xgb_test)\n",
    "\n",
    "# R^2 score check:\n",
    "print(\"The mean absolute error of our model is: \", mae(y_xgb_test, y_xgb_test_pred))\n",
    "print(\"The mean value of the price column is: \", y_xgb_test.mean())\n",
    "print(\"The train set R^2 of our model is: \", round(myXGB.score(X_xgb_train,y_xgb_train),4))\n",
    "print(\"The test set R^2 of our model is: \", round(myXGB.score(X_xgb_test,y_xgb_test),4))"
   ]
  },
  {
   "cell_type": "markdown",
   "metadata": {},
   "source": [
    "With `booster='gblinear'` parameter, the score even dropped below. Let's try another one."
   ]
  },
  {
   "cell_type": "code",
   "execution_count": 74,
   "metadata": {},
   "outputs": [
    {
     "name": "stdout",
     "output_type": "stream",
     "text": [
      "X_xgb shape: (362854, 95)\n",
      "y_xgb shape: (362854,)\n",
      "X_xgb_train shape: (290283, 95)\n",
      "y_xgb_train shape: (290283,)\n",
      "X_xgb_test shape: (72571, 95)\n",
      "y_xgb_test shape: (72571,)\n",
      "-------------------------------------------------------------------------------------------------------\n",
      "myXGB model parameters: XGBRegressor(base_score=0.5, booster='dart', colsample_bylevel=1,\n",
      "             colsample_bynode=1, colsample_bytree=1, gamma=0,\n",
      "             importance_type='gain', learning_rate=0.1, max_delta_step=0,\n",
      "             max_depth=3, min_child_weight=1, missing=None, n_estimators=100,\n",
      "             n_jobs=1, nthread=None, objective='reg:linear', random_state=0,\n",
      "             reg_alpha=0, reg_lambda=1, scale_pos_weight=1, seed=None,\n",
      "             silent=None, subsample=1, verbosity=0)\n",
      "-------------------------------------------------------------------------------------------------------\n",
      "The mean absolute error of our model is:  3184.285258953349\n",
      "The mean value of the price column is:  14254.943448484932\n",
      "The train set R^2 of our model is:  0.7753\n",
      "The test set R^2 of our model is:  0.7746\n"
     ]
    }
   ],
   "source": [
    "# ScikitLearn XGB Regression (booster='dart'):\n",
    "\n",
    "# Assigning data (X) and target (y) columns:\n",
    "X_xgb = df_work3_new.loc[:, df_work3_new.columns != 'price']\n",
    "y_xgb = df_work3_new['price']\n",
    "\n",
    "print('X_xgb shape:', X_xgb.shape)\n",
    "print('y_xgb shape:', y_xgb.shape)\n",
    "\n",
    "# Let's split our dataframe into train and test sets:\n",
    "X_xgb_train, X_xgb_test, y_xgb_train, y_xgb_test = train_test_split(X_xgb, y_xgb, test_size = 0.2, random_state=1)\n",
    "\n",
    "print('X_xgb_train shape:', X_xgb_train.shape)\n",
    "print('y_xgb_train shape:', y_xgb_train.shape)\n",
    "print('X_xgb_test shape:', X_xgb_test.shape)\n",
    "print('y_xgb_test shape:', y_xgb_test.shape)\n",
    "print(\"--------------------------------------------------------------------------------------------------------------------------------\")\n",
    "\n",
    "\n",
    "# 1. Instantiate the model\n",
    "myXGB = xgb.XGBRegressor(booster='dart', verbosity=0)\n",
    "print(\"myXGB model parameters:\", myXGB)\n",
    "print(\"--------------------------------------------------------------------------------------------------------------------------------\")\n",
    "\n",
    "# 2. Fit the model\n",
    "myXGB.fit(X_xgb_train, y_xgb_train)\n",
    "\n",
    "# 3. Make prediction (will use it for mae)\n",
    "y_xgb_test_pred = myXGB.predict(X_xgb_test)\n",
    "\n",
    "# R^2 score check:\n",
    "print(\"The mean absolute error of our model is: \", mae(y_xgb_test, y_xgb_test_pred))\n",
    "print(\"The mean value of the price column is: \", y_xgb_test.mean())\n",
    "print(\"The train set R^2 of our model is: \", round(myXGB.score(X_xgb_train,y_xgb_train),4))\n",
    "print(\"The test set R^2 of our model is: \", round(myXGB.score(X_xgb_test,y_xgb_test),4))"
   ]
  },
  {
   "cell_type": "markdown",
   "metadata": {},
   "source": [
    "With `booster='dart'` parameter score is better than 'gblinear', but identical to the scores acquired from model's default `booster='gbtree'` parameter. So, we will just stick to default booster parameter. "
   ]
  },
  {
   "cell_type": "markdown",
   "metadata": {},
   "source": [
    " "
   ]
  },
  {
   "cell_type": "markdown",
   "metadata": {},
   "source": [
    "#### 2.11.2. XGBRegressor: Multiple Hyperparameter Optimization"
   ]
  },
  {
   "cell_type": "markdown",
   "metadata": {},
   "source": [
    "Let's now use GridSearchCV to optimize multiple hyperparameters of our model and see if we can increase it's score."
   ]
  },
  {
   "cell_type": "code",
   "execution_count": 76,
   "metadata": {},
   "outputs": [
    {
     "name": "stdout",
     "output_type": "stream",
     "text": [
      "X_xgb_small shape: (72571, 95)\n",
      "y_xgb_small shape: (72571,)\n",
      "X_xgb_small_train shape: (58056, 95)\n",
      "y_xgb_small_train shape: (58056,)\n",
      "X_xgb_small_test shape: (14515, 95)\n",
      "y_xgb_small_test shape: (14515,)\n"
     ]
    }
   ],
   "source": [
    "# Let's actually create a subset of our dataframe, and see how different hyperparameters of XGBRegressor model affect our R^2 score:\n",
    "df_xgb_small = df_work3_new.sample(frac=0.2, random_state=1)\n",
    "\n",
    "# Assigning data (X) and target (y) columns;\n",
    "X_xgb_small = df_xgb_small.loc[:, df_xgb_small.columns != 'price']\n",
    "y_xgb_small = df_xgb_small['price']\n",
    "\n",
    "print('X_xgb_small shape:', X_xgb_small.shape)\n",
    "print('y_xgb_small shape:', y_xgb_small.shape)\n",
    "\n",
    "# Let's split our dataframe into train and test sets:\n",
    "X_xgb_small_train, X_xgb_small_test, y_xgb_small_train, y_xgb_small_test = train_test_split(X_xgb_small, y_xgb_small, test_size = 0.2, random_state=1)\n",
    "\n",
    "print('X_xgb_small_train shape:', X_xgb_small_train.shape)\n",
    "print('y_xgb_small_train shape:', y_xgb_small_train.shape)\n",
    "print('X_xgb_small_test shape:', X_xgb_small_test.shape)\n",
    "print('y_xgb_small_test shape:', y_xgb_small_test.shape)"
   ]
  },
  {
   "cell_type": "code",
   "execution_count": 77,
   "metadata": {},
   "outputs": [],
   "source": [
    "# Let's define the hyperparameters to look through:\n",
    "XGB_params = {'max_depth':[3,5,10,15,20,30,40,50],\n",
    "             'n_estimators':[50,75,100,150,200,250,300]}"
   ]
  },
  {
   "cell_type": "code",
   "execution_count": 81,
   "metadata": {},
   "outputs": [
    {
     "name": "stdout",
     "output_type": "stream",
     "text": [
      "Fitting 5 folds for each of 56 candidates, totalling 280 fits\n"
     ]
    },
    {
     "name": "stderr",
     "output_type": "stream",
     "text": [
      "[Parallel(n_jobs=1)]: Using backend SequentialBackend with 1 concurrent workers.\n",
      "[Parallel(n_jobs=1)]: Done 280 out of 280 | elapsed: 599.5min finished\n"
     ]
    }
   ],
   "source": [
    "# Initiate the grid search:\n",
    "myXGB_gs = GridSearchCV(estimator=xgb.XGBRegressor(random_state=1, verbosity=0), param_grid=XGB_params, cv=5, verbose=1)\n",
    "\n",
    "# Fit the grid search:\n",
    "myXGB_gs_fitted = myXGB_gs.fit(X_xgb_small_train, y_xgb_small_train)"
   ]
  },
  {
   "cell_type": "code",
   "execution_count": 82,
   "metadata": {},
   "outputs": [
    {
     "data": {
      "text/plain": [
       "['myXGB_gs_fitted_small_dataset.pkl']"
      ]
     },
     "execution_count": 82,
     "metadata": {},
     "output_type": "execute_result"
    }
   ],
   "source": [
    "# Saving our model:\n",
    "joblib.dump(myXGB_gs_fitted, 'myXGB_gs_fitted_small_dataset.pkl') "
   ]
  },
  {
   "cell_type": "code",
   "execution_count": 83,
   "metadata": {},
   "outputs": [
    {
     "name": "stdout",
     "output_type": "stream",
     "text": [
      "{'max_depth': 10, 'n_estimators': 300}\n"
     ]
    }
   ],
   "source": [
    "# Show the best estimators:\n",
    "print(myXGB_gs_fitted.best_params_)"
   ]
  },
  {
   "cell_type": "code",
   "execution_count": 84,
   "metadata": {},
   "outputs": [
    {
     "name": "stdout",
     "output_type": "stream",
     "text": [
      "Train and Test datasets from the whole dataset:\n",
      "X_xgb_train shape: (290283, 95)\n",
      "y_xgb_train shape: (290283,)\n",
      "X_xgb_test shape: (72571, 95)\n",
      "y_xgb_test shape: (72571,)\n",
      "\n",
      "Train and Test datasets from the small dataset:\n",
      "X_xgb_small_train shape: (58056, 95)\n",
      "y_xgb_small_train shape: (58056,)\n",
      "X_xgb_small_test shape: (14515, 95)\n",
      "y_xgb_small_test shape: (14515,)\n",
      "The small train set R^2 score of our model is:  0.9485\n",
      "The small test set R^2 score of our model is:  0.8671\n"
     ]
    }
   ],
   "source": [
    "# Let's see if our R^2 score improved:\n",
    "\n",
    "# Assigning data (X) and target (y) columns on the whole dataset:\n",
    "X_xgb = df_work3_new.loc[:, df_work3_new.columns != 'price']\n",
    "y_xgb = df_work3_new['price']\n",
    "\n",
    "X_xgb_train, X_xgb_test, y_xgb_train, y_xgb_test = train_test_split(X_xgb, y_xgb, test_size = 0.2, random_state=1)\n",
    "\n",
    "print('Train and Test datasets from the whole dataset:')\n",
    "print('X_xgb_train shape:', X_xgb_train.shape)\n",
    "print('y_xgb_train shape:', y_xgb_train.shape)\n",
    "print('X_xgb_test shape:', X_xgb_test.shape)\n",
    "print('y_xgb_test shape:', y_xgb_test.shape)\n",
    "print()\n",
    "print('Train and Test datasets from the small dataset:') # these were assigned before, and the model was trained on these\n",
    "print('X_xgb_small_train shape:', X_xgb_small_train.shape)\n",
    "print('y_xgb_small_train shape:', y_xgb_small_train.shape)\n",
    "print('X_xgb_small_test shape:', X_xgb_small_test.shape)\n",
    "print('y_xgb_small_test shape:', y_xgb_small_test.shape)\n",
    "\n",
    "# Let's see if our R^2 score improved:\n",
    "print(\"The small train set R^2 score of our model is: \", round(myXGB_gs_fitted.score(X_xgb_small_train, y_xgb_small_train),4))\n",
    "print(\"The small test set R^2 score of our model is: \", round(myXGB_gs_fitted.score(X_xgb_small_test, y_xgb_small_test),4))"
   ]
  },
  {
   "cell_type": "code",
   "execution_count": 85,
   "metadata": {},
   "outputs": [
    {
     "name": "stdout",
     "output_type": "stream",
     "text": [
      "Fitting 5 folds for each of 1 candidates, totalling 5 fits\n"
     ]
    },
    {
     "name": "stderr",
     "output_type": "stream",
     "text": [
      "[Parallel(n_jobs=1)]: Using backend SequentialBackend with 1 concurrent workers.\n",
      "[Parallel(n_jobs=1)]: Done   5 out of   5 | elapsed: 37.3min finished\n"
     ]
    },
    {
     "data": {
      "text/plain": [
       "['myXGB_gs_fitted_big_dataset_depth10.pkl']"
      ]
     },
     "execution_count": 85,
     "metadata": {},
     "output_type": "execute_result"
    }
   ],
   "source": [
    "# Let's just double check our model with new parameters but running on the whole dataset:\n",
    "\n",
    "# Let's define the hyperparameters to look through:\n",
    "XGB_params = {'max_depth':[10], 'n_estimators':[300]}\n",
    "\n",
    "# Initiate the grid search:\n",
    "myXGB_gs_big = GridSearchCV(estimator=xgb.XGBRegressor(random_state=1, verbosity=0), param_grid=XGB_params, cv=5, verbose=1)\n",
    "\n",
    "# Fit the grid search:\n",
    "myXGB_gs_big_fitted = myXGB_gs_big.fit(X_xgb_train, y_xgb_train)\n",
    "\n",
    "# Saving our model:\n",
    "joblib.dump(myXGB_gs_big_fitted, 'myXGB_gs_fitted_big_dataset_depth10.pkl') "
   ]
  },
  {
   "cell_type": "code",
   "execution_count": 89,
   "metadata": {},
   "outputs": [
    {
     "name": "stdout",
     "output_type": "stream",
     "text": [
      "The mean absolute error of our model is:  2123.0929604499693\n",
      "The mean value of the price column is:  14254.943448484932\n",
      "The big train set R^2 score of our model is:  0.9231\n",
      "The big test set R^2 score of our model is:  0.8876\n"
     ]
    }
   ],
   "source": [
    "y_xgb_test_pred = myXGB_gs_big_fitted.predict(X_xgb_test)\n",
    "\n",
    "print(\"The mean absolute error of our model is: \", mae(y_xgb_test, y_xgb_test_pred))\n",
    "print(\"The mean value of the price column is: \", y_xgb_test.mean())\n",
    "print(\"The big train set R^2 score of our model is: \", round(myXGB_gs_big_fitted.score(X_xgb_train, y_xgb_train),4))\n",
    "print(\"The big test set R^2 score of our model is: \", round(myXGB_gs_big_fitted.score(X_xgb_test, y_xgb_test),4))"
   ]
  },
  {
   "cell_type": "code",
   "execution_count": 87,
   "metadata": {},
   "outputs": [
    {
     "name": "stdout",
     "output_type": "stream",
     "text": [
      "Fitting 5 folds for each of 1 candidates, totalling 5 fits\n"
     ]
    },
    {
     "name": "stderr",
     "output_type": "stream",
     "text": [
      "[Parallel(n_jobs=1)]: Using backend SequentialBackend with 1 concurrent workers.\n",
      "[Parallel(n_jobs=1)]: Done   5 out of   5 | elapsed: 57.8min finished\n"
     ]
    },
    {
     "data": {
      "text/plain": [
       "['myXGB_gs_fitted_big_dataset_depth15.pkl']"
      ]
     },
     "execution_count": 87,
     "metadata": {},
     "output_type": "execute_result"
    }
   ],
   "source": [
    "# Let's try now higher max_depth value:\n",
    "\n",
    "# Let's define the hyperparameters to look through:\n",
    "XGB_params = {'max_depth':[15], 'n_estimators':[300]}\n",
    "\n",
    "# Initiate the grid search:\n",
    "myXGB_gs_big = GridSearchCV(estimator=xgb.XGBRegressor(random_state=1, verbosity=0), param_grid=XGB_params, cv=5, verbose=1)\n",
    "\n",
    "# Fit the grid search:\n",
    "myXGB_gs_big_fitted_15 = myXGB_gs_big.fit(X_xgb_train, y_xgb_train)\n",
    "\n",
    "# Saving our model:\n",
    "joblib.dump(myXGB_gs_big_fitted_15, 'myXGB_gs_fitted_big_dataset_depth15.pkl') "
   ]
  },
  {
   "cell_type": "code",
   "execution_count": 88,
   "metadata": {},
   "outputs": [
    {
     "name": "stdout",
     "output_type": "stream",
     "text": [
      "The mean absolute error of our model is:  1751.0952870913504\n",
      "The mean value of the price column is:  14254.943448484932\n",
      "The big train set R^2 score of our model is:  0.9776\n",
      "The big test set R^2 score of our model is:  0.909\n"
     ]
    }
   ],
   "source": [
    "y_xgb_test_pred = myXGB_gs_big_fitted_15.predict(X_xgb_test)\n",
    "\n",
    "print(\"The mean absolute error of our model is: \", mae(y_xgb_test, y_xgb_test_pred))\n",
    "print(\"The mean value of the price column is: \", y_xgb_test.mean())\n",
    "print(\"The big train set R^2 score of our model is: \", round(myXGB_gs_big_fitted_15.score(X_xgb_train, y_xgb_train),4))\n",
    "print(\"The big test set R^2 score of our model is: \", round(myXGB_gs_big_fitted_15.score(X_xgb_test, y_xgb_test),4))"
   ]
  },
  {
   "cell_type": "markdown",
   "metadata": {},
   "source": [
    "Let's move on with adjusting parameters, but due to time constraints each parameter and result will be tried on separately."
   ]
  },
  {
   "cell_type": "code",
   "execution_count": 43,
   "metadata": {},
   "outputs": [
    {
     "name": "stdout",
     "output_type": "stream",
     "text": [
      "Train and Test datasets from the whole dataset:\n",
      "X_xgb_train shape: (290283, 95)\n",
      "y_xgb_train shape: (290283,)\n",
      "X_xgb_test shape: (72571, 95)\n",
      "y_xgb_test shape: (72571,)\n",
      "Fitting 5 folds for each of 1 candidates, totalling 5 fits\n"
     ]
    },
    {
     "name": "stderr",
     "output_type": "stream",
     "text": [
      "[Parallel(n_jobs=1)]: Using backend SequentialBackend with 1 concurrent workers.\n",
      "[Parallel(n_jobs=1)]: Done   5 out of   5 | elapsed: 95.0min finished\n"
     ]
    },
    {
     "data": {
      "text/plain": [
       "['myXGB_gs_fitted_big_dataset_depth20.pkl']"
      ]
     },
     "execution_count": 43,
     "metadata": {},
     "output_type": "execute_result"
    }
   ],
   "source": [
    "# Let's try now even higher max_depth value:\n",
    "\n",
    "# Assigning data (X) and target (y) columns on the whole dataset:\n",
    "X_xgb = df_work3_new.loc[:, df_work3_new.columns != 'price']\n",
    "y_xgb = df_work3_new['price']\n",
    "\n",
    "X_xgb_train, X_xgb_test, y_xgb_train, y_xgb_test = train_test_split(X_xgb, y_xgb, test_size = 0.2, random_state=1)\n",
    "\n",
    "print('Train and Test datasets from the whole dataset:')\n",
    "print('X_xgb_train shape:', X_xgb_train.shape)\n",
    "print('y_xgb_train shape:', y_xgb_train.shape)\n",
    "print('X_xgb_test shape:', X_xgb_test.shape)\n",
    "print('y_xgb_test shape:', y_xgb_test.shape)\n",
    "\n",
    "# Let's define the hyperparameters to look through:\n",
    "XGB_params = {'max_depth':[20], 'n_estimators':[300]}\n",
    "\n",
    "# Initiate the grid search:\n",
    "myXGB_gs_big = GridSearchCV(estimator=xgb.XGBRegressor(random_state=1, verbosity=0), param_grid=XGB_params, cv=5, verbose=1)\n",
    "\n",
    "# Fit the grid search:\n",
    "myXGB_gs_big_fitted_20 = myXGB_gs_big.fit(X_xgb_train, y_xgb_train)\n",
    "\n",
    "# Saving our model:\n",
    "joblib.dump(myXGB_gs_big_fitted_20, 'myXGB_gs_fitted_big_dataset_depth20.pkl')"
   ]
  },
  {
   "cell_type": "code",
   "execution_count": 44,
   "metadata": {},
   "outputs": [
    {
     "name": "stdout",
     "output_type": "stream",
     "text": [
      "The mean absolute error of our model is:  1586.287487260895\n",
      "The mean value of the price column is:  14254.943448484932\n",
      "The big train set R^2 score of our model is:  0.9961\n",
      "The big test set R^2 score of our model is:  0.9099\n"
     ]
    }
   ],
   "source": [
    "y_xgb_test_pred = myXGB_gs_big_fitted_20.predict(X_xgb_test)\n",
    "\n",
    "print(\"The mean absolute error of our model is: \", mae(y_xgb_test, y_xgb_test_pred))\n",
    "print(\"The mean value of the price column is: \", y_xgb_test.mean())\n",
    "print(\"The big train set R^2 score of our model is: \", round(myXGB_gs_big_fitted_20.score(X_xgb_train, y_xgb_train),4))\n",
    "print(\"The big test set R^2 score of our model is: \", round(myXGB_gs_big_fitted_20.score(X_xgb_test, y_xgb_test),4))"
   ]
  },
  {
   "cell_type": "markdown",
   "metadata": {},
   "source": [
    "There is definitely an improvement in mean absolute error of our model, and a slight improvement in R^2 value."
   ]
  },
  {
   "cell_type": "markdown",
   "metadata": {
    "colab": {},
    "colab_type": "code",
    "id": "J3h67X7OCH2j"
   },
   "source": [
    "Out of all the models, the best was found to be XGBRegressor model with a MAE of 1,586 (for the mean price of \\\\$14,255) and an R^2 value of 0.91."
   ]
  },
  {
   "cell_type": "markdown",
   "metadata": {},
   "source": [
    "Please note, there is also a 2nd jupyter notebook with neural network models. The data cleaning and EDA procedures are identical to this notebook."
   ]
  },
  {
   "cell_type": "markdown",
   "metadata": {},
   "source": [
    " "
   ]
  },
  {
   "cell_type": "markdown",
   "metadata": {},
   "source": [
    " "
   ]
  },
  {
   "cell_type": "markdown",
   "metadata": {},
   "source": [
    " "
   ]
  }
 ],
 "metadata": {
  "kernelspec": {
   "display_name": "Python [conda env:capstone] *",
   "language": "python",
   "name": "conda-env-capstone-py"
  },
  "language_info": {
   "codemirror_mode": {
    "name": "ipython",
    "version": 3
   },
   "file_extension": ".py",
   "mimetype": "text/x-python",
   "name": "python",
   "nbconvert_exporter": "python",
   "pygments_lexer": "ipython3",
   "version": "3.7.7"
  },
  "toc-autonumbering": false
 },
 "nbformat": 4,
 "nbformat_minor": 4
}
