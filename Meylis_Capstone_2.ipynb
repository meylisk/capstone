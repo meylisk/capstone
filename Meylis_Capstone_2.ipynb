{
 "cells": [
  {
   "cell_type": "markdown",
   "metadata": {
    "colab_type": "text",
    "id": "mk66_0QB0CGp"
   },
   "source": [
    "# Car Price Prediction Model\n",
    "___\n",
    "*A Capstone Project by Meylis Garryyev (June 2020)*"
   ]
  },
  {
   "cell_type": "markdown",
   "metadata": {
    "colab_type": "text",
    "id": "h9m5Va9Xq7v0"
   },
   "source": [
    "This is the 2nd notebook of my capstone project."
   ]
  },
  {
   "cell_type": "markdown",
   "metadata": {
    "colab_type": "text",
    "id": "e3JBa32E0CGq"
   },
   "source": [
    " "
   ]
  },
  {
   "cell_type": "markdown",
   "metadata": {
    "colab_type": "text",
    "id": "XJa9jpnzq7v1"
   },
   "source": [
    "## Part 1: Cleaning and Exploratory Data Analysis"
   ]
  },
  {
   "cell_type": "markdown",
   "metadata": {
    "colab_type": "text",
    "id": "NeB4H52oq7v2"
   },
   "source": [
    "Before starting working on our project, let's actually import python packages and libraries that we will be working with. In this notebook we will be working with Neural Networks run on Google's Colab space.\n",
    "\n",
    "The cleaning and EDA procedures are exactly same as in the 1st notebook, but the `paint_color` column will be dropped before we start modelling (the reason was explained in the 1st notebook)."
   ]
  },
  {
   "cell_type": "code",
   "execution_count": 1,
   "metadata": {
    "colab": {
     "base_uri": "https://localhost:8080/",
     "height": 70
    },
    "colab_type": "code",
    "id": "4k3l4BiPq7v3",
    "outputId": "79a2653d-2d04-47c9-e2c4-d0c3be4a50c7"
   },
   "outputs": [
    {
     "name": "stderr",
     "output_type": "stream",
     "text": [
      "/usr/local/lib/python3.6/dist-packages/statsmodels/tools/_testing.py:19: FutureWarning: pandas.util.testing is deprecated. Use the functions in the public API at pandas.testing instead.\n",
      "  import pandas.util.testing as tm\n"
     ]
    },
    {
     "name": "stdout",
     "output_type": "stream",
     "text": [
      "2.2.0\n"
     ]
    }
   ],
   "source": [
    "# Importing Python packages:\n",
    "import numpy as np\n",
    "import pandas as pd\n",
    "import seaborn as sns\n",
    "import matplotlib.pyplot as plt\n",
    "import joblib\n",
    "%matplotlib inline\n",
    "\n",
    "from sklearn.model_selection import train_test_split\n",
    "from sklearn.model_selection import GridSearchCV\n",
    "from sklearn.preprocessing import StandardScaler\n",
    "from sklearn.metrics import accuracy_score\n",
    "from sklearn.metrics import mean_absolute_error as mae\n",
    "\n",
    "# Models used:\n",
    "import tensorflow as tf\n",
    "from tensorflow import keras\n",
    "from tensorflow.keras import layers\n",
    "from sklearn.neural_network import MLPRegressor\n",
    "\n",
    "# Displaying Tensorflow version:\n",
    "print(tf.__version__)\n",
    "\n",
    "#Some of these packages will generate a ton of warnings...\n",
    "import warnings\n",
    "warnings.filterwarnings(\"ignore\")"
   ]
  },
  {
   "cell_type": "markdown",
   "metadata": {
    "colab_type": "text",
    "id": "WqfDY0Czq7v7"
   },
   "source": [
    " "
   ]
  },
  {
   "cell_type": "markdown",
   "metadata": {
    "colab_type": "text",
    "id": "efcc-xjpq7v8"
   },
   "source": [
    "Let's first start with importing our dataset file. The dataset was acquired from Kaggle, and is being updated every few months. The dataset that is used in this notebook is Version 5, is the [source](https://www.kaggle.com/austinreese/craigslist-carstrucks-data)."
   ]
  },
  {
   "cell_type": "code",
   "execution_count": 2,
   "metadata": {
    "colab": {
     "base_uri": "https://localhost:8080/",
     "height": 125
    },
    "colab_type": "code",
    "id": "NLeqyQEeq7v8",
    "outputId": "87ef2ff2-843d-4ff7-cd91-11a0583dd4da"
   },
   "outputs": [
    {
     "name": "stdout",
     "output_type": "stream",
     "text": [
      "Go to this URL in a browser: https://accounts.google.com/o/oauth2/auth?client_id=947318989803-6bn6qk8qdgf4n4g3pfee6491hc0brc4i.apps.googleusercontent.com&redirect_uri=urn%3aietf%3awg%3aoauth%3a2.0%3aoob&response_type=code&scope=email%20https%3a%2f%2fwww.googleapis.com%2fauth%2fdocs.test%20https%3a%2f%2fwww.googleapis.com%2fauth%2fdrive%20https%3a%2f%2fwww.googleapis.com%2fauth%2fdrive.photos.readonly%20https%3a%2f%2fwww.googleapis.com%2fauth%2fpeopleapi.readonly\n",
      "\n",
      "Enter your authorization code:\n",
      "··········\n",
      "Mounted at /content/drive\n"
     ]
    }
   ],
   "source": [
    "# Loading the file as dataframe:\n",
    "# df_raw = pd.read_csv('data/vehicles.csv') - for loading from local drive\n",
    "\n",
    "# Loading the file as dataframe from the Google Drive:\n",
    "from google.colab import drive\n",
    "drive.mount('/content/drive')\n",
    "\n",
    "df_raw = pd.read_csv('/content/drive/My Drive/Colab Notebooks/vehicles.csv')"
   ]
  },
  {
   "cell_type": "code",
   "execution_count": 3,
   "metadata": {
    "colab": {
     "base_uri": "https://localhost:8080/",
     "height": 335
    },
    "colab_type": "code",
    "id": "Ji_ytiMNq7wA",
    "outputId": "11c48c6b-46f0-429b-8b50-4dbbddd1600d"
   },
   "outputs": [
    {
     "name": "stdout",
     "output_type": "stream",
     "text": [
      "Shape of the dataset:  (539759, 25)\n"
     ]
    },
    {
     "data": {
      "text/html": [
       "<div>\n",
       "<style scoped>\n",
       "    .dataframe tbody tr th:only-of-type {\n",
       "        vertical-align: middle;\n",
       "    }\n",
       "\n",
       "    .dataframe tbody tr th {\n",
       "        vertical-align: top;\n",
       "    }\n",
       "\n",
       "    .dataframe thead th {\n",
       "        text-align: right;\n",
       "    }\n",
       "</style>\n",
       "<table border=\"1\" class=\"dataframe\">\n",
       "  <thead>\n",
       "    <tr style=\"text-align: right;\">\n",
       "      <th></th>\n",
       "      <th>id</th>\n",
       "      <th>url</th>\n",
       "      <th>region</th>\n",
       "      <th>region_url</th>\n",
       "      <th>price</th>\n",
       "      <th>year</th>\n",
       "      <th>manufacturer</th>\n",
       "      <th>model</th>\n",
       "      <th>condition</th>\n",
       "      <th>cylinders</th>\n",
       "      <th>fuel</th>\n",
       "      <th>odometer</th>\n",
       "      <th>title_status</th>\n",
       "      <th>transmission</th>\n",
       "      <th>vin</th>\n",
       "      <th>drive</th>\n",
       "      <th>size</th>\n",
       "      <th>type</th>\n",
       "      <th>paint_color</th>\n",
       "      <th>image_url</th>\n",
       "      <th>description</th>\n",
       "      <th>county</th>\n",
       "      <th>state</th>\n",
       "      <th>lat</th>\n",
       "      <th>long</th>\n",
       "    </tr>\n",
       "  </thead>\n",
       "  <tbody>\n",
       "    <tr>\n",
       "      <th>0</th>\n",
       "      <td>7088746062</td>\n",
       "      <td>https://greensboro.craigslist.org/ctd/d/cary-2...</td>\n",
       "      <td>greensboro</td>\n",
       "      <td>https://greensboro.craigslist.org</td>\n",
       "      <td>10299</td>\n",
       "      <td>2012.0</td>\n",
       "      <td>acura</td>\n",
       "      <td>tl</td>\n",
       "      <td>NaN</td>\n",
       "      <td>NaN</td>\n",
       "      <td>gas</td>\n",
       "      <td>90186.0</td>\n",
       "      <td>clean</td>\n",
       "      <td>automatic</td>\n",
       "      <td>19UUA8F22CA003926</td>\n",
       "      <td>NaN</td>\n",
       "      <td>NaN</td>\n",
       "      <td>other</td>\n",
       "      <td>blue</td>\n",
       "      <td>https://images.craigslist.org/01414_3LIXs9EO33...</td>\n",
       "      <td>2012 Acura TL Base 4dr Sedan     Offered by: B...</td>\n",
       "      <td>NaN</td>\n",
       "      <td>nc</td>\n",
       "      <td>35.7636</td>\n",
       "      <td>-78.7443</td>\n",
       "    </tr>\n",
       "    <tr>\n",
       "      <th>1</th>\n",
       "      <td>7088745301</td>\n",
       "      <td>https://greensboro.craigslist.org/ctd/d/bmw-3-...</td>\n",
       "      <td>greensboro</td>\n",
       "      <td>https://greensboro.craigslist.org</td>\n",
       "      <td>0</td>\n",
       "      <td>2011.0</td>\n",
       "      <td>bmw</td>\n",
       "      <td>335</td>\n",
       "      <td>NaN</td>\n",
       "      <td>6 cylinders</td>\n",
       "      <td>gas</td>\n",
       "      <td>115120.0</td>\n",
       "      <td>clean</td>\n",
       "      <td>automatic</td>\n",
       "      <td>NaN</td>\n",
       "      <td>rwd</td>\n",
       "      <td>NaN</td>\n",
       "      <td>convertible</td>\n",
       "      <td>blue</td>\n",
       "      <td>https://images.craigslist.org/00S0S_1kTatLGLxB...</td>\n",
       "      <td>BMW 3 Series 335i Convertible Navigation Dakot...</td>\n",
       "      <td>NaN</td>\n",
       "      <td>nc</td>\n",
       "      <td>NaN</td>\n",
       "      <td>NaN</td>\n",
       "    </tr>\n",
       "    <tr>\n",
       "      <th>2</th>\n",
       "      <td>7088744126</td>\n",
       "      <td>https://greensboro.craigslist.org/cto/d/greens...</td>\n",
       "      <td>greensboro</td>\n",
       "      <td>https://greensboro.craigslist.org</td>\n",
       "      <td>9500</td>\n",
       "      <td>2011.0</td>\n",
       "      <td>jaguar</td>\n",
       "      <td>xf</td>\n",
       "      <td>excellent</td>\n",
       "      <td>NaN</td>\n",
       "      <td>gas</td>\n",
       "      <td>85000.0</td>\n",
       "      <td>clean</td>\n",
       "      <td>automatic</td>\n",
       "      <td>NaN</td>\n",
       "      <td>NaN</td>\n",
       "      <td>NaN</td>\n",
       "      <td>NaN</td>\n",
       "      <td>blue</td>\n",
       "      <td>https://images.craigslist.org/00505_f22HGItCRp...</td>\n",
       "      <td>2011 jaguar XF premium - estate sale. Retired ...</td>\n",
       "      <td>NaN</td>\n",
       "      <td>nc</td>\n",
       "      <td>36.1032</td>\n",
       "      <td>-79.8794</td>\n",
       "    </tr>\n",
       "    <tr>\n",
       "      <th>3</th>\n",
       "      <td>7088743681</td>\n",
       "      <td>https://greensboro.craigslist.org/ctd/d/cary-2...</td>\n",
       "      <td>greensboro</td>\n",
       "      <td>https://greensboro.craigslist.org</td>\n",
       "      <td>3995</td>\n",
       "      <td>2004.0</td>\n",
       "      <td>honda</td>\n",
       "      <td>element</td>\n",
       "      <td>NaN</td>\n",
       "      <td>NaN</td>\n",
       "      <td>gas</td>\n",
       "      <td>212526.0</td>\n",
       "      <td>clean</td>\n",
       "      <td>automatic</td>\n",
       "      <td>5J6YH18314L006498</td>\n",
       "      <td>fwd</td>\n",
       "      <td>NaN</td>\n",
       "      <td>SUV</td>\n",
       "      <td>orange</td>\n",
       "      <td>https://images.craigslist.org/00E0E_eAUnhFF86M...</td>\n",
       "      <td>2004 Honda Element LX 4dr SUV     Offered by: ...</td>\n",
       "      <td>NaN</td>\n",
       "      <td>nc</td>\n",
       "      <td>35.7636</td>\n",
       "      <td>-78.7443</td>\n",
       "    </tr>\n",
       "    <tr>\n",
       "      <th>4</th>\n",
       "      <td>7074612539</td>\n",
       "      <td>https://lincoln.craigslist.org/ctd/d/gretna-20...</td>\n",
       "      <td>lincoln</td>\n",
       "      <td>https://lincoln.craigslist.org</td>\n",
       "      <td>41988</td>\n",
       "      <td>2016.0</td>\n",
       "      <td>chevrolet</td>\n",
       "      <td>silverado k2500hd</td>\n",
       "      <td>NaN</td>\n",
       "      <td>NaN</td>\n",
       "      <td>gas</td>\n",
       "      <td>NaN</td>\n",
       "      <td>clean</td>\n",
       "      <td>automatic</td>\n",
       "      <td>1GC1KWE85GF266427</td>\n",
       "      <td>NaN</td>\n",
       "      <td>NaN</td>\n",
       "      <td>NaN</td>\n",
       "      <td>NaN</td>\n",
       "      <td>https://images.craigslist.org/00S0S_8msT7RQquO...</td>\n",
       "      <td>Shop Indoors, Heated Showroom!!!www.gretnaauto...</td>\n",
       "      <td>NaN</td>\n",
       "      <td>ne</td>\n",
       "      <td>41.1345</td>\n",
       "      <td>-96.2458</td>\n",
       "    </tr>\n",
       "  </tbody>\n",
       "</table>\n",
       "</div>"
      ],
      "text/plain": [
       "           id  ...     long\n",
       "0  7088746062  ... -78.7443\n",
       "1  7088745301  ...      NaN\n",
       "2  7088744126  ... -79.8794\n",
       "3  7088743681  ... -78.7443\n",
       "4  7074612539  ... -96.2458\n",
       "\n",
       "[5 rows x 25 columns]"
      ]
     },
     "execution_count": 3,
     "metadata": {
      "tags": []
     },
     "output_type": "execute_result"
    }
   ],
   "source": [
    "# Let's see the shape of our dataset:\n",
    "print('Shape of the dataset: ', df_raw.shape)\n",
    "\n",
    "# The head of the dataset:\n",
    "df_raw.head()"
   ]
  },
  {
   "cell_type": "markdown",
   "metadata": {
    "colab_type": "text",
    "id": "zcfzwVd1q7wE"
   },
   "source": [
    "As we can see, our dataset consist of 539,759 rows and 25 columns, where each row represents each unique craigslist vehicle ad."
   ]
  },
  {
   "cell_type": "code",
   "execution_count": 4,
   "metadata": {
    "colab": {
     "base_uri": "https://localhost:8080/",
     "height": 585
    },
    "colab_type": "code",
    "id": "7ufRN_ndq7wE",
    "outputId": "c8441ac0-4601-485b-d05f-51ec86b6460c",
    "tags": []
   },
   "outputs": [
    {
     "name": "stdout",
     "output_type": "stream",
     "text": [
      "<class 'pandas.core.frame.DataFrame'>\n",
      "RangeIndex: 539759 entries, 0 to 539758\n",
      "Data columns (total 25 columns):\n",
      " #   Column        Non-Null Count   Dtype  \n",
      "---  ------        --------------   -----  \n",
      " 0   id            539759 non-null  int64  \n",
      " 1   url           539759 non-null  object \n",
      " 2   region        539759 non-null  object \n",
      " 3   region_url    539759 non-null  object \n",
      " 4   price         539759 non-null  int64  \n",
      " 5   year          538772 non-null  float64\n",
      " 6   manufacturer  516175 non-null  object \n",
      " 7   model         531746 non-null  object \n",
      " 8   condition     303707 non-null  object \n",
      " 9   cylinders     321264 non-null  object \n",
      " 10  fuel          536366 non-null  object \n",
      " 11  odometer      440783 non-null  float64\n",
      " 12  title_status  536819 non-null  object \n",
      " 13  transmission  535786 non-null  object \n",
      " 14  vin           315349 non-null  object \n",
      " 15  drive         383987 non-null  object \n",
      " 16  size          168550 non-null  object \n",
      " 17  type          392290 non-null  object \n",
      " 18  paint_color   365520 non-null  object \n",
      " 19  image_url     539740 non-null  object \n",
      " 20  description   539738 non-null  object \n",
      " 21  county        0 non-null       float64\n",
      " 22  state         539759 non-null  object \n",
      " 23  lat           530785 non-null  float64\n",
      " 24  long          530785 non-null  float64\n",
      "dtypes: float64(5), int64(2), object(18)\n",
      "memory usage: 103.0+ MB\n"
     ]
    }
   ],
   "source": [
    "# Let's just get some more useful insights from our dataset:\n",
    "df_raw.info()"
   ]
  },
  {
   "cell_type": "markdown",
   "metadata": {
    "colab_type": "text",
    "id": "1CFEDVe1q7wI"
   },
   "source": [
    "We can see that `county` column is actually a null column, no data is in it. So, let's remove it. But first, let's create a working copy of our raw dataframe."
   ]
  },
  {
   "cell_type": "code",
   "execution_count": 5,
   "metadata": {
    "colab": {
     "base_uri": "https://localhost:8080/",
     "height": 567
    },
    "colab_type": "code",
    "id": "H6g6EAnMq7wJ",
    "outputId": "ad87f204-f341-46e3-fa3d-150e90f27a6d",
    "tags": []
   },
   "outputs": [
    {
     "name": "stdout",
     "output_type": "stream",
     "text": [
      "<class 'pandas.core.frame.DataFrame'>\n",
      "RangeIndex: 539759 entries, 0 to 539758\n",
      "Data columns (total 24 columns):\n",
      " #   Column        Non-Null Count   Dtype  \n",
      "---  ------        --------------   -----  \n",
      " 0   id            539759 non-null  int64  \n",
      " 1   url           539759 non-null  object \n",
      " 2   region        539759 non-null  object \n",
      " 3   region_url    539759 non-null  object \n",
      " 4   price         539759 non-null  int64  \n",
      " 5   year          538772 non-null  float64\n",
      " 6   manufacturer  516175 non-null  object \n",
      " 7   model         531746 non-null  object \n",
      " 8   condition     303707 non-null  object \n",
      " 9   cylinders     321264 non-null  object \n",
      " 10  fuel          536366 non-null  object \n",
      " 11  odometer      440783 non-null  float64\n",
      " 12  title_status  536819 non-null  object \n",
      " 13  transmission  535786 non-null  object \n",
      " 14  vin           315349 non-null  object \n",
      " 15  drive         383987 non-null  object \n",
      " 16  size          168550 non-null  object \n",
      " 17  type          392290 non-null  object \n",
      " 18  paint_color   365520 non-null  object \n",
      " 19  image_url     539740 non-null  object \n",
      " 20  description   539738 non-null  object \n",
      " 21  state         539759 non-null  object \n",
      " 22  lat           530785 non-null  float64\n",
      " 23  long          530785 non-null  float64\n",
      "dtypes: float64(4), int64(2), object(18)\n",
      "memory usage: 98.8+ MB\n"
     ]
    }
   ],
   "source": [
    "# Creating a copy of the raw dataframe:\n",
    "df_work1 = df_raw.copy()\n",
    "\n",
    "# Dropping 'county' column:\n",
    "df_work1 = df_work1.drop(['county'], axis=1)\n",
    "df_work1.info()"
   ]
  },
  {
   "cell_type": "markdown",
   "metadata": {
    "colab_type": "text",
    "id": "bgXTxObjq7wN"
   },
   "source": [
    "Now, let's see if we have any duplicate rows."
   ]
  },
  {
   "cell_type": "code",
   "execution_count": 6,
   "metadata": {
    "colab": {
     "base_uri": "https://localhost:8080/",
     "height": 34
    },
    "colab_type": "code",
    "id": "qror8n_Uq7wO",
    "outputId": "0e2865e2-5b00-4cde-d18b-a61c3b01780d"
   },
   "outputs": [
    {
     "data": {
      "text/plain": [
       "0"
      ]
     },
     "execution_count": 6,
     "metadata": {
      "tags": []
     },
     "output_type": "execute_result"
    }
   ],
   "source": [
    "# Let's see number of duplicate rows we have:\n",
    "df_work1.duplicated().sum()"
   ]
  },
  {
   "cell_type": "markdown",
   "metadata": {
    "colab_type": "text",
    "id": "OMt8W-tZq7wU"
   },
   "source": [
    "We can see that we don't have any duplicated rows. But is that really the case? Probably not, because we have some unique value columns in our dataset, like url's that were created for each ad, even if the ad was re-posted.\n",
    "\n",
    "Let's actually remove some those columns (`id`,  `url`, `region_url`, `image_url`), which we won't be using for our model, as they probably won't make any useful impact on our model, but would take our computational capability. After dropping those, let's then check if we still have no duplicated rows."
   ]
  },
  {
   "cell_type": "code",
   "execution_count": 7,
   "metadata": {
    "colab": {
     "base_uri": "https://localhost:8080/",
     "height": 34
    },
    "colab_type": "code",
    "id": "IQhumvXwq7wU",
    "outputId": "31b922f3-4469-4e94-ce99-cda98524f371"
   },
   "outputs": [
    {
     "data": {
      "text/plain": [
       "37043"
      ]
     },
     "execution_count": 7,
     "metadata": {
      "tags": []
     },
     "output_type": "execute_result"
    }
   ],
   "source": [
    "# Dropping unnecessary columns:\n",
    "df_work1 = df_work1.drop(['id', 'url', 'region_url', 'image_url'], axis=1)\n",
    "\n",
    "# Let's see number of duplicate rows we have now:\n",
    "df_work1.duplicated().sum()"
   ]
  },
  {
   "cell_type": "markdown",
   "metadata": {
    "colab_type": "text",
    "id": "7321hoSIq7wY"
   },
   "source": [
    "Now, as we can see, we have actually some duplicated rows. These were probably same ads posted few times. Let's remove them."
   ]
  },
  {
   "cell_type": "code",
   "execution_count": 8,
   "metadata": {
    "colab": {
     "base_uri": "https://localhost:8080/",
     "height": 34
    },
    "colab_type": "code",
    "id": "vJXjp6wAq7wY",
    "outputId": "4776d27a-b19f-4e9a-c7b3-01510ddc2539"
   },
   "outputs": [
    {
     "data": {
      "text/plain": [
       "0"
      ]
     },
     "execution_count": 8,
     "metadata": {
      "tags": []
     },
     "output_type": "execute_result"
    }
   ],
   "source": [
    "# Let's drop duplicate rows:\n",
    "df_work1 = df_work1.drop_duplicates()\n",
    "\n",
    "# Let's see number of duplicate rows we have:\n",
    "df_work1.duplicated().sum()"
   ]
  },
  {
   "cell_type": "markdown",
   "metadata": {
    "colab_type": "text",
    "id": "0_PFUCRUq7wb"
   },
   "source": [
    "We can see now that there are no duplicated rows left in our dataset."
   ]
  },
  {
   "cell_type": "markdown",
   "metadata": {
    "colab_type": "text",
    "id": "QFQlLIs4q7wc"
   },
   "source": [
    "We also don't really need the `vin` column, for the same reason as it this feature won't make much of a useful impact on our model. Additionally, we would also exclude `state` and `region` columns, as we would use `lat` and `long` columns instead. This would allow us to have much less columns at the end (saves computational load), as we won't have to turn `state` and `region` columns into binary columns, and we would have even more precise geographical information with `lat` and `long` columns.  Also, the `description` column will not be included for now, as it's a separate NLP problem, which is out of the scope of our project for now. So, let's drop those too.\n",
    "\n",
    "Dropping `paint_color` too (reason explained in the 1st notebook)."
   ]
  },
  {
   "cell_type": "code",
   "execution_count": 9,
   "metadata": {
    "colab": {
     "base_uri": "https://localhost:8080/",
     "height": 407
    },
    "colab_type": "code",
    "id": "fYz6hmI4q7wd",
    "outputId": "53ba6d3d-a6bb-4a51-8c92-80c7aa88ea4e",
    "tags": []
   },
   "outputs": [
    {
     "name": "stdout",
     "output_type": "stream",
     "text": [
      "<class 'pandas.core.frame.DataFrame'>\n",
      "Int64Index: 502716 entries, 0 to 539758\n",
      "Data columns (total 15 columns):\n",
      " #   Column        Non-Null Count   Dtype  \n",
      "---  ------        --------------   -----  \n",
      " 0   price         502716 non-null  int64  \n",
      " 1   year          501764 non-null  float64\n",
      " 2   manufacturer  481335 non-null  object \n",
      " 3   model         495471 non-null  object \n",
      " 4   condition     283533 non-null  object \n",
      " 5   cylinders     300806 non-null  object \n",
      " 6   fuel          499504 non-null  object \n",
      " 7   odometer      415131 non-null  float64\n",
      " 8   title_status  500059 non-null  object \n",
      " 9   transmission  498747 non-null  object \n",
      " 10  drive         360334 non-null  object \n",
      " 11  size          158068 non-null  object \n",
      " 12  type          370108 non-null  object \n",
      " 13  lat           494033 non-null  float64\n",
      " 14  long          494033 non-null  float64\n",
      "dtypes: float64(4), int64(1), object(10)\n",
      "memory usage: 61.4+ MB\n"
     ]
    }
   ],
   "source": [
    "# Dropping columns stated above:\n",
    "df_work2 = df_work1.drop(['vin', 'description', 'region', 'state', 'paint_color'], axis=1)\n",
    "df_work2.info()"
   ]
  },
  {
   "cell_type": "markdown",
   "metadata": {
    "colab_type": "text",
    "id": "AZbbvG_Hq7wi"
   },
   "source": [
    "Before we begin exploring our data, let's check if we have any empty values and replace those with null values."
   ]
  },
  {
   "cell_type": "code",
   "execution_count": 10,
   "metadata": {
    "colab": {},
    "colab_type": "code",
    "id": "O2oZPMP3q7wj"
   },
   "outputs": [],
   "source": [
    "# Let's check if we have rows with empty values, and replace those empty values with NaN values:\n",
    "df_work2 = df_work2.replace({'':np.nan})"
   ]
  },
  {
   "cell_type": "markdown",
   "metadata": {
    "colab_type": "text",
    "id": "Q5tRCLuSq7wq"
   },
   "source": [
    "Now, let's explore our numerical columns distributions."
   ]
  },
  {
   "cell_type": "code",
   "execution_count": 11,
   "metadata": {
    "colab": {
     "base_uri": "https://localhost:8080/",
     "height": 287
    },
    "colab_type": "code",
    "id": "GE4xtmiyq7wr",
    "outputId": "d5ad796c-c04b-490f-9298-03b711aa82f7"
   },
   "outputs": [
    {
     "data": {
      "text/html": [
       "<div>\n",
       "<style scoped>\n",
       "    .dataframe tbody tr th:only-of-type {\n",
       "        vertical-align: middle;\n",
       "    }\n",
       "\n",
       "    .dataframe tbody tr th {\n",
       "        vertical-align: top;\n",
       "    }\n",
       "\n",
       "    .dataframe thead th {\n",
       "        text-align: right;\n",
       "    }\n",
       "</style>\n",
       "<table border=\"1\" class=\"dataframe\">\n",
       "  <thead>\n",
       "    <tr style=\"text-align: right;\">\n",
       "      <th></th>\n",
       "      <th>price</th>\n",
       "      <th>year</th>\n",
       "      <th>odometer</th>\n",
       "      <th>lat</th>\n",
       "      <th>long</th>\n",
       "    </tr>\n",
       "  </thead>\n",
       "  <tbody>\n",
       "    <tr>\n",
       "      <th>count</th>\n",
       "      <td>5.027160e+05</td>\n",
       "      <td>501764.000000</td>\n",
       "      <td>4.151310e+05</td>\n",
       "      <td>494033.000000</td>\n",
       "      <td>494033.000000</td>\n",
       "    </tr>\n",
       "    <tr>\n",
       "      <th>mean</th>\n",
       "      <td>2.013242e+05</td>\n",
       "      <td>2009.804105</td>\n",
       "      <td>1.003181e+05</td>\n",
       "      <td>38.413751</td>\n",
       "      <td>-94.046993</td>\n",
       "    </tr>\n",
       "    <tr>\n",
       "      <th>std</th>\n",
       "      <td>2.268544e+07</td>\n",
       "      <td>9.277610</td>\n",
       "      <td>1.801603e+05</td>\n",
       "      <td>5.890140</td>\n",
       "      <td>17.599488</td>\n",
       "    </tr>\n",
       "    <tr>\n",
       "      <th>min</th>\n",
       "      <td>0.000000e+00</td>\n",
       "      <td>0.000000</td>\n",
       "      <td>0.000000e+00</td>\n",
       "      <td>-84.911400</td>\n",
       "      <td>-176.810000</td>\n",
       "    </tr>\n",
       "    <tr>\n",
       "      <th>25%</th>\n",
       "      <td>4.495000e+03</td>\n",
       "      <td>2007.000000</td>\n",
       "      <td>4.635800e+04</td>\n",
       "      <td>34.186400</td>\n",
       "      <td>-107.368000</td>\n",
       "    </tr>\n",
       "    <tr>\n",
       "      <th>50%</th>\n",
       "      <td>9.840000e+03</td>\n",
       "      <td>2012.000000</td>\n",
       "      <td>9.252000e+04</td>\n",
       "      <td>39.045500</td>\n",
       "      <td>-88.066500</td>\n",
       "    </tr>\n",
       "    <tr>\n",
       "      <th>75%</th>\n",
       "      <td>1.799500e+04</td>\n",
       "      <td>2015.000000</td>\n",
       "      <td>1.370500e+05</td>\n",
       "      <td>42.449000</td>\n",
       "      <td>-81.282700</td>\n",
       "    </tr>\n",
       "    <tr>\n",
       "      <th>max</th>\n",
       "      <td>4.294967e+09</td>\n",
       "      <td>2021.000000</td>\n",
       "      <td>6.480922e+07</td>\n",
       "      <td>84.514800</td>\n",
       "      <td>161.016000</td>\n",
       "    </tr>\n",
       "  </tbody>\n",
       "</table>\n",
       "</div>"
      ],
      "text/plain": [
       "              price           year      odometer            lat           long\n",
       "count  5.027160e+05  501764.000000  4.151310e+05  494033.000000  494033.000000\n",
       "mean   2.013242e+05    2009.804105  1.003181e+05      38.413751     -94.046993\n",
       "std    2.268544e+07       9.277610  1.801603e+05       5.890140      17.599488\n",
       "min    0.000000e+00       0.000000  0.000000e+00     -84.911400    -176.810000\n",
       "25%    4.495000e+03    2007.000000  4.635800e+04      34.186400    -107.368000\n",
       "50%    9.840000e+03    2012.000000  9.252000e+04      39.045500     -88.066500\n",
       "75%    1.799500e+04    2015.000000  1.370500e+05      42.449000     -81.282700\n",
       "max    4.294967e+09    2021.000000  6.480922e+07      84.514800     161.016000"
      ]
     },
     "execution_count": 11,
     "metadata": {
      "tags": []
     },
     "output_type": "execute_result"
    }
   ],
   "source": [
    "# View distribution range of numerical columns:\n",
    "df_work2.describe()"
   ]
  },
  {
   "cell_type": "markdown",
   "metadata": {
    "colab_type": "text",
    "id": "SY0gaJGcq7wx"
   },
   "source": [
    "Having some knowledge about cars, we know that it's extremely unlikely that someone would sell a car for \\\\$0 or very small amount. Also, some of the ads would include car parts wrongly (or maybe intentionally) posted in the car sales section. Besides that, we can also see some extremely high numbers for the price. Those were probably are fake prices.\n",
    "\n",
    "So, to be avoid having wrong data in our dataset and to address skewness, let's look at and remove rows with a price of \\\\$0 to \\\\$500, and also price of more than \\\\$100,000, as those would be outliers."
   ]
  },
  {
   "cell_type": "code",
   "execution_count": 12,
   "metadata": {
    "colab": {
     "base_uri": "https://localhost:8080/",
     "height": 52
    },
    "colab_type": "code",
    "id": "0Pv9kUPRq7wy",
    "outputId": "a4acc443-bcd4-47e4-a656-9aa0d657da51",
    "tags": []
   },
   "outputs": [
    {
     "name": "stdout",
     "output_type": "stream",
     "text": [
      "Number of rows with a price of $500 or less = 49617\n",
      "Number of rows with a price of $100,000 or more = 490\n"
     ]
    }
   ],
   "source": [
    "# Looking at how many cars are advertised at the price of $500 or less, and $1000,000 or more:\n",
    "print('Number of rows with a price of $500 or less =', df_work2['price'][df_work2['price'] <= 500.0].count())\n",
    "print('Number of rows with a price of $100,000 or more =', df_work2['price'][df_work2['price'] >= 100000.0].count())"
   ]
  },
  {
   "cell_type": "markdown",
   "metadata": {
    "colab_type": "text",
    "id": "adY15sZKq7w2"
   },
   "source": [
    "We can see that 49,617 cars were advertised at the price of \\\\$500 or less, and 490 cars were advertised at the price of \\\\$100,000 or more."
   ]
  },
  {
   "cell_type": "code",
   "execution_count": 13,
   "metadata": {
    "colab": {},
    "colab_type": "code",
    "id": "gS8Mrztqq7w3"
   },
   "outputs": [],
   "source": [
    "# Let's now drop those:\n",
    "df_work2.drop(df_work2.loc[df_work2['price']<=500].index, inplace=True)\n",
    "df_work2.drop(df_work2.loc[df_work2['price']>=100000].index, inplace=True)"
   ]
  },
  {
   "cell_type": "markdown",
   "metadata": {
    "colab_type": "text",
    "id": "Jbj1ynPlq7w6"
   },
   "source": [
    "After initial filtering of our `price` column, let's view the distribution of it and see if we still have skewness left. "
   ]
  },
  {
   "cell_type": "code",
   "execution_count": 14,
   "metadata": {
    "colab": {
     "base_uri": "https://localhost:8080/",
     "height": 307
    },
    "colab_type": "code",
    "id": "Y03fWNwjq7w6",
    "outputId": "d685d41b-1834-4029-9372-12ea027f3112"
   },
   "outputs": [
    {
     "data": {
      "text/plain": [
       "<matplotlib.axes._subplots.AxesSubplot at 0x7f96fcd10240>"
      ]
     },
     "execution_count": 14,
     "metadata": {
      "tags": []
     },
     "output_type": "execute_result"
    },
    {
     "data": {
      "image/png": "[encoded data removed]",
      "text/plain": [
       "<Figure size 432x288 with 1 Axes>"
      ]
     },
     "metadata": {
      "needs_background": "light",
      "tags": []
     },
     "output_type": "display_data"
    }
   ],
   "source": [
    "# Let's look at the distribution of the \"price\" column:\n",
    "sns.distplot(df_work2[\"price\"])"
   ]
  },
  {
   "cell_type": "markdown",
   "metadata": {
    "colab_type": "text",
    "id": "q5IuQ3r8q7xB"
   },
   "source": [
    "We can clearly see here that there are still some outliers. Ideally, I would like to set an upper price range of \\\\$40,000, and that would probably give me better model results. But due to my further plan of implementing this model into a website, and my intent to run tree based models, which we know won't be able to predict prices they haven't \"seen\", I decided to scope my price range up to \\\\$50,000. "
   ]
  },
  {
   "cell_type": "code",
   "execution_count": 15,
   "metadata": {
    "colab": {
     "base_uri": "https://localhost:8080/",
     "height": 343
    },
    "colab_type": "code",
    "id": "e2rSpUECq7xB",
    "outputId": "521b2a17-b57d-4ba0-e589-4f9526788bc1"
   },
   "outputs": [
    {
     "name": "stdout",
     "output_type": "stream",
     "text": [
      "Number of rows with a price of $500 or less = 0\n",
      "Number of rows with a price of $50,000 or more = 0\n"
     ]
    },
    {
     "data": {
      "text/plain": [
       "<matplotlib.axes._subplots.AxesSubplot at 0x7f96fcc41128>"
      ]
     },
     "execution_count": 15,
     "metadata": {
      "tags": []
     },
     "output_type": "execute_result"
    },
    {
     "data": {
      "image/png": "[encoded data removed]",
      "text/plain": [
       "<Figure size 432x288 with 1 Axes>"
      ]
     },
     "metadata": {
      "needs_background": "light",
      "tags": []
     },
     "output_type": "display_data"
    }
   ],
   "source": [
    "# Let's now drop those:\n",
    "df_work2.drop(df_work2.loc[df_work2['price']>=50000].index, inplace=True)\n",
    "\n",
    "# Double check if the values were dropped:\n",
    "print('Number of rows with a price of $500 or less =', df_work2['price'][df_work2['price'] <= 500.0].count())\n",
    "print('Number of rows with a price of $50,000 or more =', df_work2['price'][df_work2['price'] >= 50000.0].count())\n",
    "\n",
    "# Let's look at the distribution of the \"price\" column:\n",
    "sns.distplot(df_work2[\"price\"])"
   ]
  },
  {
   "cell_type": "markdown",
   "metadata": {
    "colab_type": "text",
    "id": "F-Ynh_gZq7xE"
   },
   "source": [
    "Let's further explore our data."
   ]
  },
  {
   "cell_type": "code",
   "execution_count": 16,
   "metadata": {
    "colab": {
     "base_uri": "https://localhost:8080/",
     "height": 301
    },
    "colab_type": "code",
    "id": "hGACp57Eq7xE",
    "outputId": "3b996269-fe24-4ab8-ad66-2bd53c9a76c3"
   },
   "outputs": [
    {
     "data": {
      "text/plain": [
       "price            16582\n",
       "year               111\n",
       "manufacturer        42\n",
       "model            34294\n",
       "condition            6\n",
       "cylinders            8\n",
       "fuel                 5\n",
       "odometer        114264\n",
       "title_status         6\n",
       "transmission         3\n",
       "drive                3\n",
       "size                 4\n",
       "type                13\n",
       "lat              53131\n",
       "long             53155\n",
       "dtype: int64"
      ]
     },
     "execution_count": 16,
     "metadata": {
      "tags": []
     },
     "output_type": "execute_result"
    }
   ],
   "source": [
    "# Let's see how many unique values each of the columns have:\n",
    "df_work2.nunique(axis=0)"
   ]
  },
  {
   "cell_type": "markdown",
   "metadata": {
    "colab_type": "text",
    "id": "0QC8x88oq7xH"
   },
   "source": [
    "We can see that we have 34,294 unique values in our categorical `model` column. Converting them into dummy variables would take too many columns and would limit computational ability. I decided to drop this column."
   ]
  },
  {
   "cell_type": "code",
   "execution_count": 17,
   "metadata": {
    "colab": {
     "base_uri": "https://localhost:8080/",
     "height": 283
    },
    "colab_type": "code",
    "id": "ZyJih4dwq7xI",
    "outputId": "751c1bde-c858-4c4b-9d39-2185172a0689"
   },
   "outputs": [
    {
     "data": {
      "text/plain": [
       "price            16582\n",
       "year               111\n",
       "manufacturer        42\n",
       "condition            6\n",
       "cylinders            8\n",
       "fuel                 5\n",
       "odometer        114264\n",
       "title_status         6\n",
       "transmission         3\n",
       "drive                3\n",
       "size                 4\n",
       "type                13\n",
       "lat              53131\n",
       "long             53155\n",
       "dtype: int64"
      ]
     },
     "execution_count": 17,
     "metadata": {
      "tags": []
     },
     "output_type": "execute_result"
    }
   ],
   "source": [
    "# Dropping 'model' column:\n",
    "df_work2 = df_work2.drop(['model'], axis=1)\n",
    "df_work2.nunique(axis=0)"
   ]
  },
  {
   "cell_type": "markdown",
   "metadata": {
    "colab_type": "text",
    "id": "5yqy5-usq7xK"
   },
   "source": [
    "We can see that the number of unique years is 111. Let's actually explore our `year` column."
   ]
  },
  {
   "cell_type": "code",
   "execution_count": 18,
   "metadata": {
    "colab": {
     "base_uri": "https://localhost:8080/",
     "height": 287
    },
    "colab_type": "code",
    "id": "1Fvypzk3q7xL",
    "outputId": "62c705d0-57b3-4025-cd56-adab286b39cd"
   },
   "outputs": [
    {
     "data": {
      "text/html": [
       "<div>\n",
       "<style scoped>\n",
       "    .dataframe tbody tr th:only-of-type {\n",
       "        vertical-align: middle;\n",
       "    }\n",
       "\n",
       "    .dataframe tbody tr th {\n",
       "        vertical-align: top;\n",
       "    }\n",
       "\n",
       "    .dataframe thead th {\n",
       "        text-align: right;\n",
       "    }\n",
       "</style>\n",
       "<table border=\"1\" class=\"dataframe\">\n",
       "  <thead>\n",
       "    <tr style=\"text-align: right;\">\n",
       "      <th></th>\n",
       "      <th>price</th>\n",
       "      <th>year</th>\n",
       "      <th>odometer</th>\n",
       "      <th>lat</th>\n",
       "      <th>long</th>\n",
       "    </tr>\n",
       "  </thead>\n",
       "  <tbody>\n",
       "    <tr>\n",
       "      <th>count</th>\n",
       "      <td>447936.000000</td>\n",
       "      <td>447143.000000</td>\n",
       "      <td>3.716510e+05</td>\n",
       "      <td>444255.000000</td>\n",
       "      <td>444255.000000</td>\n",
       "    </tr>\n",
       "    <tr>\n",
       "      <th>mean</th>\n",
       "      <td>13494.169002</td>\n",
       "      <td>2009.452262</td>\n",
       "      <td>1.033392e+05</td>\n",
       "      <td>38.443925</td>\n",
       "      <td>-93.740187</td>\n",
       "    </tr>\n",
       "    <tr>\n",
       "      <th>std</th>\n",
       "      <td>9843.242874</td>\n",
       "      <td>9.376574</td>\n",
       "      <td>1.873337e+05</td>\n",
       "      <td>5.892406</td>\n",
       "      <td>17.429466</td>\n",
       "    </tr>\n",
       "    <tr>\n",
       "      <th>min</th>\n",
       "      <td>503.000000</td>\n",
       "      <td>0.000000</td>\n",
       "      <td>0.000000e+00</td>\n",
       "      <td>-84.911400</td>\n",
       "      <td>-176.810000</td>\n",
       "    </tr>\n",
       "    <tr>\n",
       "      <th>25%</th>\n",
       "      <td>5800.000000</td>\n",
       "      <td>2006.000000</td>\n",
       "      <td>4.964550e+04</td>\n",
       "      <td>34.221850</td>\n",
       "      <td>-106.286500</td>\n",
       "    </tr>\n",
       "    <tr>\n",
       "      <th>50%</th>\n",
       "      <td>10995.000000</td>\n",
       "      <td>2011.000000</td>\n",
       "      <td>9.576700e+04</td>\n",
       "      <td>39.123400</td>\n",
       "      <td>-87.931700</td>\n",
       "    </tr>\n",
       "    <tr>\n",
       "      <th>75%</th>\n",
       "      <td>18900.000000</td>\n",
       "      <td>2015.000000</td>\n",
       "      <td>1.400000e+05</td>\n",
       "      <td>42.449100</td>\n",
       "      <td>-81.143300</td>\n",
       "    </tr>\n",
       "    <tr>\n",
       "      <th>max</th>\n",
       "      <td>49999.000000</td>\n",
       "      <td>2021.000000</td>\n",
       "      <td>6.480922e+07</td>\n",
       "      <td>84.514800</td>\n",
       "      <td>161.016000</td>\n",
       "    </tr>\n",
       "  </tbody>\n",
       "</table>\n",
       "</div>"
      ],
      "text/plain": [
       "               price           year      odometer            lat           long\n",
       "count  447936.000000  447143.000000  3.716510e+05  444255.000000  444255.000000\n",
       "mean    13494.169002    2009.452262  1.033392e+05      38.443925     -93.740187\n",
       "std      9843.242874       9.376574  1.873337e+05       5.892406      17.429466\n",
       "min       503.000000       0.000000  0.000000e+00     -84.911400    -176.810000\n",
       "25%      5800.000000    2006.000000  4.964550e+04      34.221850    -106.286500\n",
       "50%     10995.000000    2011.000000  9.576700e+04      39.123400     -87.931700\n",
       "75%     18900.000000    2015.000000  1.400000e+05      42.449100     -81.143300\n",
       "max     49999.000000    2021.000000  6.480922e+07      84.514800     161.016000"
      ]
     },
     "execution_count": 18,
     "metadata": {
      "tags": []
     },
     "output_type": "execute_result"
    }
   ],
   "source": [
    "# Looking at our 'year' column:\n",
    "df_work2.describe()"
   ]
  },
  {
   "cell_type": "markdown",
   "metadata": {
    "colab_type": "text",
    "id": "lxfPujBWq7xO"
   },
   "source": [
    "We can see from here that the min value for our `year` column is 0, and the max value is 2021 (data was scraped from Craigslist in Feb 2020). These are not realistic values. Let's now actually see unique years in our dataset."
   ]
  },
  {
   "cell_type": "code",
   "execution_count": 19,
   "metadata": {
    "colab": {
     "base_uri": "https://localhost:8080/",
     "height": 54
    },
    "colab_type": "code",
    "id": "hgbbiFbOq7xO",
    "outputId": "ae3d59a4-3618-41be-954a-e6e58fc00076",
    "tags": []
   },
   "outputs": [
    {
     "name": "stdout",
     "output_type": "stream",
     "text": [
      "[2019.0, 2018.0, 2017.0, 2016.0, 2015.0, 2014.0, 2013.0, 2012.0, 2011.0, 2010.0, 2009.0, 2008.0, 2007.0, 2006.0, 2005.0, 2004.0, 2003.0, 2002.0, 2001.0, 2000.0, 1999.0, 1998.0, 1997.0, 1996.0, 1995.0, 1994.0, 1993.0, 1992.0, 1991.0, 1990.0, 1989.0, 1988.0, 1987.0, 1986.0, 1985.0, 1984.0, 1983.0, 1981.0, 1980.0, 1979.0, 1977.0, 1975.0, 1974.0, 1973.0, 1972.0, 1971.0, 1970.0, 1968.0, 1967.0, 1966.0, 1964.0, 1951.0, 1950.0, 1949.0, 1942.0, 1929.0, nan, 2021.0, 2020.0, 1982.0, 1978.0, 1976.0, 1969.0, 1965.0, 1963.0, 1962.0, 1961.0, 1960.0, 1959.0, 1958.0, 1957.0, 1956.0, 1955.0, 1954.0, 1953.0, 1952.0, 1948.0, 1947.0, 1946.0, 1945.0, 1943.0, 1941.0, 1940.0, 1939.0, 1938.0, 1937.0, 1936.0, 1935.0, 1934.0, 1933.0, 1932.0, 1931.0, 1930.0, 1928.0, 1927.0, 1926.0, 1925.0, 1924.0, 1923.0, 1922.0, 1919.0, 1918.0, 1917.0, 1916.0, 1915.0, 1914.0, 1913.0, 1912.0, 1909.0, 1908.0, 1900.0, 0.0]\n"
     ]
    }
   ],
   "source": [
    "print(sorted(df_work2['year'].unique(), reverse=True))"
   ]
  },
  {
   "cell_type": "markdown",
   "metadata": {
    "colab_type": "text",
    "id": "YKZXPX36q7xR"
   },
   "source": [
    "We can see that we have some NAN values too. Let's see how many we have."
   ]
  },
  {
   "cell_type": "code",
   "execution_count": 20,
   "metadata": {
    "colab": {
     "base_uri": "https://localhost:8080/",
     "height": 283
    },
    "colab_type": "code",
    "id": "g5WsCRCqq7xS",
    "outputId": "4c97f480-848f-4be4-cfce-68a7aa4eccd3"
   },
   "outputs": [
    {
     "data": {
      "text/plain": [
       "size            68.239659\n",
       "condition       41.309026\n",
       "cylinders       39.253375\n",
       "drive           28.374143\n",
       "type            26.689974\n",
       "odometer        17.030335\n",
       "manufacturer     3.959717\n",
       "long             0.821769\n",
       "lat              0.821769\n",
       "transmission     0.734703\n",
       "fuel             0.642949\n",
       "title_status     0.510341\n",
       "year             0.177034\n",
       "price            0.000000\n",
       "dtype: float64"
      ]
     },
     "execution_count": 20,
     "metadata": {
      "tags": []
     },
     "output_type": "execute_result"
    }
   ],
   "source": [
    "# Let's see what percentage of each column has missing values, and sort in descending order:\n",
    "(np.mean(df_work2.isna()).sort_values(ascending = False))*100"
   ]
  },
  {
   "cell_type": "markdown",
   "metadata": {
    "colab_type": "text",
    "id": "4783bwaMq7xW"
   },
   "source": [
    "We have only 0.18% null values in our `year` column. As this is a tiny percentage, it was decided to drop those null values."
   ]
  },
  {
   "cell_type": "code",
   "execution_count": 21,
   "metadata": {
    "colab": {
     "base_uri": "https://localhost:8080/",
     "height": 283
    },
    "colab_type": "code",
    "id": "bPikHZCsq7xX",
    "outputId": "6f7cf34c-63e4-4634-fd8a-a1ec7fb2d102"
   },
   "outputs": [
    {
     "data": {
      "text/plain": [
       "size            68.183333\n",
       "condition       41.204939\n",
       "cylinders       39.318294\n",
       "drive           28.402323\n",
       "type            26.717627\n",
       "odometer        17.056288\n",
       "manufacturer     3.789615\n",
       "long             0.818977\n",
       "lat              0.818977\n",
       "transmission     0.731757\n",
       "fuel             0.587508\n",
       "title_status     0.441917\n",
       "year             0.000000\n",
       "price            0.000000\n",
       "dtype: float64"
      ]
     },
     "execution_count": 21,
     "metadata": {
      "tags": []
     },
     "output_type": "execute_result"
    }
   ],
   "source": [
    "# Dropping null values in 'year' column:\n",
    "df_work2.dropna(subset=['year'], inplace=True)\n",
    "(np.mean(df_work2.isna()).sort_values(ascending = False))*100"
   ]
  },
  {
   "cell_type": "code",
   "execution_count": 22,
   "metadata": {
    "colab": {
     "base_uri": "https://localhost:8080/",
     "height": 294
    },
    "colab_type": "code",
    "id": "2T9fS2nrq7xb",
    "outputId": "84e4c518-cdee-4c0f-a5b4-67430eb5c7d2"
   },
   "outputs": [
    {
     "data": {
      "image/png": "[encoded data removed]",
      "text/plain": [
       "<Figure size 432x288 with 1 Axes>"
      ]
     },
     "metadata": {
      "needs_background": "light",
      "tags": []
     },
     "output_type": "display_data"
    }
   ],
   "source": [
    "# Histogram of the years distribution:\n",
    "plt.figure()\n",
    "plt.hist(df_work2['year'], range=(1900,2021), bins=50)\n",
    "plt.xlabel('Year')\n",
    "plt.ylabel('Count')\n",
    "plt.title('Number of Ads for Each Unique Year')\n",
    "plt.show()"
   ]
  },
  {
   "cell_type": "markdown",
   "metadata": {
    "colab_type": "text",
    "id": "C4C8T4Ftq7xh"
   },
   "source": [
    "From the histogram above we can see that there were very few cars older than year of 1950 advertised. Let's exclude those outliers from our project scope. Again, here the scope was not too limited, as we could have set a lower range from 1980 or 1990 onwards, and get better results, but it was decided to have a higher range just for future plans of model implementation and the use of tree based models, as I have already described above."
   ]
  },
  {
   "cell_type": "code",
   "execution_count": 23,
   "metadata": {
    "colab": {
     "base_uri": "https://localhost:8080/",
     "height": 287
    },
    "colab_type": "code",
    "id": "rmUg7k3iq7xh",
    "outputId": "2d2177ae-677c-4ff9-f193-b898456d1b27"
   },
   "outputs": [
    {
     "data": {
      "text/html": [
       "<div>\n",
       "<style scoped>\n",
       "    .dataframe tbody tr th:only-of-type {\n",
       "        vertical-align: middle;\n",
       "    }\n",
       "\n",
       "    .dataframe tbody tr th {\n",
       "        vertical-align: top;\n",
       "    }\n",
       "\n",
       "    .dataframe thead th {\n",
       "        text-align: right;\n",
       "    }\n",
       "</style>\n",
       "<table border=\"1\" class=\"dataframe\">\n",
       "  <thead>\n",
       "    <tr style=\"text-align: right;\">\n",
       "      <th></th>\n",
       "      <th>price</th>\n",
       "      <th>year</th>\n",
       "      <th>odometer</th>\n",
       "      <th>lat</th>\n",
       "      <th>long</th>\n",
       "    </tr>\n",
       "  </thead>\n",
       "  <tbody>\n",
       "    <tr>\n",
       "      <th>count</th>\n",
       "      <td>446096.000000</td>\n",
       "      <td>446096.000000</td>\n",
       "      <td>3.705490e+05</td>\n",
       "      <td>442443.000000</td>\n",
       "      <td>442443.000000</td>\n",
       "    </tr>\n",
       "    <tr>\n",
       "      <th>mean</th>\n",
       "      <td>13457.875758</td>\n",
       "      <td>2009.620824</td>\n",
       "      <td>1.035323e+05</td>\n",
       "      <td>38.452336</td>\n",
       "      <td>-93.728282</td>\n",
       "    </tr>\n",
       "    <tr>\n",
       "      <th>std</th>\n",
       "      <td>9810.368517</td>\n",
       "      <td>8.183100</td>\n",
       "      <td>1.873696e+05</td>\n",
       "      <td>5.888064</td>\n",
       "      <td>17.426862</td>\n",
       "    </tr>\n",
       "    <tr>\n",
       "      <th>min</th>\n",
       "      <td>503.000000</td>\n",
       "      <td>1950.000000</td>\n",
       "      <td>0.000000e+00</td>\n",
       "      <td>-84.911400</td>\n",
       "      <td>-176.810000</td>\n",
       "    </tr>\n",
       "    <tr>\n",
       "      <th>25%</th>\n",
       "      <td>5800.000000</td>\n",
       "      <td>2006.000000</td>\n",
       "      <td>5.000000e+04</td>\n",
       "      <td>34.231600</td>\n",
       "      <td>-106.245000</td>\n",
       "    </tr>\n",
       "    <tr>\n",
       "      <th>50%</th>\n",
       "      <td>10995.000000</td>\n",
       "      <td>2011.000000</td>\n",
       "      <td>9.600000e+04</td>\n",
       "      <td>39.123400</td>\n",
       "      <td>-87.922700</td>\n",
       "    </tr>\n",
       "    <tr>\n",
       "      <th>75%</th>\n",
       "      <td>18900.000000</td>\n",
       "      <td>2015.000000</td>\n",
       "      <td>1.400100e+05</td>\n",
       "      <td>42.454400</td>\n",
       "      <td>-81.130300</td>\n",
       "    </tr>\n",
       "    <tr>\n",
       "      <th>max</th>\n",
       "      <td>49999.000000</td>\n",
       "      <td>2020.000000</td>\n",
       "      <td>6.480922e+07</td>\n",
       "      <td>84.514800</td>\n",
       "      <td>161.016000</td>\n",
       "    </tr>\n",
       "  </tbody>\n",
       "</table>\n",
       "</div>"
      ],
      "text/plain": [
       "               price           year      odometer            lat           long\n",
       "count  446096.000000  446096.000000  3.705490e+05  442443.000000  442443.000000\n",
       "mean    13457.875758    2009.620824  1.035323e+05      38.452336     -93.728282\n",
       "std      9810.368517       8.183100  1.873696e+05       5.888064      17.426862\n",
       "min       503.000000    1950.000000  0.000000e+00     -84.911400    -176.810000\n",
       "25%      5800.000000    2006.000000  5.000000e+04      34.231600    -106.245000\n",
       "50%     10995.000000    2011.000000  9.600000e+04      39.123400     -87.922700\n",
       "75%     18900.000000    2015.000000  1.400100e+05      42.454400     -81.130300\n",
       "max     49999.000000    2020.000000  6.480922e+07      84.514800     161.016000"
      ]
     },
     "execution_count": 23,
     "metadata": {
      "tags": []
     },
     "output_type": "execute_result"
    }
   ],
   "source": [
    "# Let's now grab only years starting from 1950 and until current year of 2020:\n",
    "df_work2 = df_work2[df_work2['year'].between(1950, 2020)]\n",
    "\n",
    "# Let's just double check our years:\n",
    "df_work2.describe()"
   ]
  },
  {
   "cell_type": "markdown",
   "metadata": {
    "colab_type": "text",
    "id": "D9PtAFDaq7xk"
   },
   "source": [
    "From the above chart we can also see that our odometer column has some outliers too, with a min of 0 mileage, and max of really high values. For our project scope, we will use realistic mileages of used cars, from 50 to 300,000 odometer values."
   ]
  },
  {
   "cell_type": "code",
   "execution_count": 24,
   "metadata": {
    "colab": {
     "base_uri": "https://localhost:8080/",
     "height": 287
    },
    "colab_type": "code",
    "id": "ZYqjSly1q7xl",
    "outputId": "6597eb03-d514-4e4d-e069-4f5e306ca192"
   },
   "outputs": [
    {
     "data": {
      "text/html": [
       "<div>\n",
       "<style scoped>\n",
       "    .dataframe tbody tr th:only-of-type {\n",
       "        vertical-align: middle;\n",
       "    }\n",
       "\n",
       "    .dataframe tbody tr th {\n",
       "        vertical-align: top;\n",
       "    }\n",
       "\n",
       "    .dataframe thead th {\n",
       "        text-align: right;\n",
       "    }\n",
       "</style>\n",
       "<table border=\"1\" class=\"dataframe\">\n",
       "  <thead>\n",
       "    <tr style=\"text-align: right;\">\n",
       "      <th></th>\n",
       "      <th>price</th>\n",
       "      <th>year</th>\n",
       "      <th>odometer</th>\n",
       "      <th>lat</th>\n",
       "      <th>long</th>\n",
       "    </tr>\n",
       "  </thead>\n",
       "  <tbody>\n",
       "    <tr>\n",
       "      <th>count</th>\n",
       "      <td>365752.000000</td>\n",
       "      <td>365752.000000</td>\n",
       "      <td>365752.000000</td>\n",
       "      <td>362854.000000</td>\n",
       "      <td>362854.000000</td>\n",
       "    </tr>\n",
       "    <tr>\n",
       "      <th>mean</th>\n",
       "      <td>14212.702235</td>\n",
       "      <td>2010.602682</td>\n",
       "      <td>99555.629749</td>\n",
       "      <td>38.635932</td>\n",
       "      <td>-93.915396</td>\n",
       "    </tr>\n",
       "    <tr>\n",
       "      <th>std</th>\n",
       "      <td>9797.012366</td>\n",
       "      <td>6.790377</td>\n",
       "      <td>59035.403243</td>\n",
       "      <td>5.759702</td>\n",
       "      <td>17.643886</td>\n",
       "    </tr>\n",
       "    <tr>\n",
       "      <th>min</th>\n",
       "      <td>503.000000</td>\n",
       "      <td>1950.000000</td>\n",
       "      <td>50.000000</td>\n",
       "      <td>-84.911400</td>\n",
       "      <td>-170.288000</td>\n",
       "    </tr>\n",
       "    <tr>\n",
       "      <th>25%</th>\n",
       "      <td>6490.000000</td>\n",
       "      <td>2007.000000</td>\n",
       "      <td>50467.000000</td>\n",
       "      <td>34.453025</td>\n",
       "      <td>-107.751500</td>\n",
       "    </tr>\n",
       "    <tr>\n",
       "      <th>50%</th>\n",
       "      <td>11999.000000</td>\n",
       "      <td>2012.000000</td>\n",
       "      <td>95959.500000</td>\n",
       "      <td>39.292800</td>\n",
       "      <td>-87.823200</td>\n",
       "    </tr>\n",
       "    <tr>\n",
       "      <th>75%</th>\n",
       "      <td>19800.000000</td>\n",
       "      <td>2015.000000</td>\n",
       "      <td>139728.000000</td>\n",
       "      <td>42.498600</td>\n",
       "      <td>-81.118200</td>\n",
       "    </tr>\n",
       "    <tr>\n",
       "      <th>max</th>\n",
       "      <td>49999.000000</td>\n",
       "      <td>2020.000000</td>\n",
       "      <td>300000.000000</td>\n",
       "      <td>84.514800</td>\n",
       "      <td>161.016000</td>\n",
       "    </tr>\n",
       "  </tbody>\n",
       "</table>\n",
       "</div>"
      ],
      "text/plain": [
       "               price           year  ...            lat           long\n",
       "count  365752.000000  365752.000000  ...  362854.000000  362854.000000\n",
       "mean    14212.702235    2010.602682  ...      38.635932     -93.915396\n",
       "std      9797.012366       6.790377  ...       5.759702      17.643886\n",
       "min       503.000000    1950.000000  ...     -84.911400    -170.288000\n",
       "25%      6490.000000    2007.000000  ...      34.453025    -107.751500\n",
       "50%     11999.000000    2012.000000  ...      39.292800     -87.823200\n",
       "75%     19800.000000    2015.000000  ...      42.498600     -81.118200\n",
       "max     49999.000000    2020.000000  ...      84.514800     161.016000\n",
       "\n",
       "[8 rows x 5 columns]"
      ]
     },
     "execution_count": 24,
     "metadata": {
      "tags": []
     },
     "output_type": "execute_result"
    }
   ],
   "source": [
    "# Let's now filter out odometer values from 50 to 300,000:\n",
    "df_work2 = df_work2[df_work2['odometer'].between(50, 300000)]\n",
    "\n",
    "# Let's just double check our odometer values:\n",
    "df_work2.describe()"
   ]
  },
  {
   "cell_type": "code",
   "execution_count": 25,
   "metadata": {
    "colab": {
     "base_uri": "https://localhost:8080/",
     "height": 283
    },
    "colab_type": "code",
    "id": "PFrjiMyTq7xp",
    "outputId": "0a01c6a3-290a-409f-a10b-e8ee4718f1a1"
   },
   "outputs": [
    {
     "data": {
      "text/plain": [
       "size            66.221374\n",
       "condition       37.884687\n",
       "cylinders       34.756611\n",
       "drive           21.008498\n",
       "type            18.167501\n",
       "manufacturer     2.867243\n",
       "transmission     0.847569\n",
       "long             0.792340\n",
       "lat              0.792340\n",
       "fuel             0.669033\n",
       "title_status     0.520024\n",
       "odometer         0.000000\n",
       "year             0.000000\n",
       "price            0.000000\n",
       "dtype: float64"
      ]
     },
     "execution_count": 25,
     "metadata": {
      "tags": []
     },
     "output_type": "execute_result"
    }
   ],
   "source": [
    "# Let's see what percentage of each column has missing values left:\n",
    "(np.mean(df_work2.isna()).sort_values(ascending = False))*100"
   ]
  },
  {
   "cell_type": "markdown",
   "metadata": {
    "colab_type": "text",
    "id": "DUjiZkNhq7xs"
   },
   "source": [
    "Let's actually see what unique values each of our non-numeric columns have, and how many of those values are there. Let's see if some of those columns already contain values like 'other' or 'unknown', so instead of dropping null values or assigning some biased values, we would just assign null rows into those values.  "
   ]
  },
  {
   "cell_type": "code",
   "execution_count": 26,
   "metadata": {
    "colab": {
     "base_uri": "https://localhost:8080/",
     "height": 1000
    },
    "colab_type": "code",
    "id": "mUF0p1a_q7xs",
    "outputId": "787b7fe2-dca0-4cdb-86d6-7c69c6ecd034"
   },
   "outputs": [
    {
     "data": {
      "text/html": [
       "<div>\n",
       "<style scoped>\n",
       "    .dataframe tbody tr th:only-of-type {\n",
       "        vertical-align: middle;\n",
       "    }\n",
       "\n",
       "    .dataframe tbody tr th {\n",
       "        vertical-align: top;\n",
       "    }\n",
       "\n",
       "    .dataframe thead th {\n",
       "        text-align: right;\n",
       "    }\n",
       "</style>\n",
       "<table border=\"1\" class=\"dataframe\">\n",
       "  <thead>\n",
       "    <tr style=\"text-align: right;\">\n",
       "      <th></th>\n",
       "      <th>manufacturer</th>\n",
       "    </tr>\n",
       "  </thead>\n",
       "  <tbody>\n",
       "    <tr>\n",
       "      <th>ford</th>\n",
       "      <td>66365</td>\n",
       "    </tr>\n",
       "    <tr>\n",
       "      <th>chevrolet</th>\n",
       "      <td>52856</td>\n",
       "    </tr>\n",
       "    <tr>\n",
       "      <th>toyota</th>\n",
       "      <td>28716</td>\n",
       "    </tr>\n",
       "    <tr>\n",
       "      <th>nissan</th>\n",
       "      <td>19809</td>\n",
       "    </tr>\n",
       "    <tr>\n",
       "      <th>honda</th>\n",
       "      <td>18282</td>\n",
       "    </tr>\n",
       "    <tr>\n",
       "      <th>ram</th>\n",
       "      <td>18197</td>\n",
       "    </tr>\n",
       "    <tr>\n",
       "      <th>jeep</th>\n",
       "      <td>17929</td>\n",
       "    </tr>\n",
       "    <tr>\n",
       "      <th>gmc</th>\n",
       "      <td>16258</td>\n",
       "    </tr>\n",
       "    <tr>\n",
       "      <th>dodge</th>\n",
       "      <td>12166</td>\n",
       "    </tr>\n",
       "    <tr>\n",
       "      <th>bmw</th>\n",
       "      <td>10814</td>\n",
       "    </tr>\n",
       "    <tr>\n",
       "      <th>hyundai</th>\n",
       "      <td>8904</td>\n",
       "    </tr>\n",
       "    <tr>\n",
       "      <th>subaru</th>\n",
       "      <td>8786</td>\n",
       "    </tr>\n",
       "    <tr>\n",
       "      <th>mercedes-benz</th>\n",
       "      <td>8426</td>\n",
       "    </tr>\n",
       "    <tr>\n",
       "      <th>volkswagen</th>\n",
       "      <td>8068</td>\n",
       "    </tr>\n",
       "    <tr>\n",
       "      <th>kia</th>\n",
       "      <td>6806</td>\n",
       "    </tr>\n",
       "    <tr>\n",
       "      <th>chrysler</th>\n",
       "      <td>5863</td>\n",
       "    </tr>\n",
       "    <tr>\n",
       "      <th>cadillac</th>\n",
       "      <td>5658</td>\n",
       "    </tr>\n",
       "    <tr>\n",
       "      <th>buick</th>\n",
       "      <td>5305</td>\n",
       "    </tr>\n",
       "    <tr>\n",
       "      <th>lexus</th>\n",
       "      <td>4760</td>\n",
       "    </tr>\n",
       "    <tr>\n",
       "      <th>mazda</th>\n",
       "      <td>4637</td>\n",
       "    </tr>\n",
       "    <tr>\n",
       "      <th>audi</th>\n",
       "      <td>4437</td>\n",
       "    </tr>\n",
       "    <tr>\n",
       "      <th>infiniti</th>\n",
       "      <td>3010</td>\n",
       "    </tr>\n",
       "    <tr>\n",
       "      <th>acura</th>\n",
       "      <td>2916</td>\n",
       "    </tr>\n",
       "    <tr>\n",
       "      <th>lincoln</th>\n",
       "      <td>2429</td>\n",
       "    </tr>\n",
       "    <tr>\n",
       "      <th>pontiac</th>\n",
       "      <td>2338</td>\n",
       "    </tr>\n",
       "    <tr>\n",
       "      <th>volvo</th>\n",
       "      <td>2110</td>\n",
       "    </tr>\n",
       "    <tr>\n",
       "      <th>mini</th>\n",
       "      <td>1883</td>\n",
       "    </tr>\n",
       "    <tr>\n",
       "      <th>mitsubishi</th>\n",
       "      <td>1836</td>\n",
       "    </tr>\n",
       "    <tr>\n",
       "      <th>rover</th>\n",
       "      <td>1394</td>\n",
       "    </tr>\n",
       "    <tr>\n",
       "      <th>mercury</th>\n",
       "      <td>1238</td>\n",
       "    </tr>\n",
       "    <tr>\n",
       "      <th>saturn</th>\n",
       "      <td>1144</td>\n",
       "    </tr>\n",
       "    <tr>\n",
       "      <th>jaguar</th>\n",
       "      <td>827</td>\n",
       "    </tr>\n",
       "    <tr>\n",
       "      <th>fiat</th>\n",
       "      <td>727</td>\n",
       "    </tr>\n",
       "    <tr>\n",
       "      <th>harley-davidson</th>\n",
       "      <td>148</td>\n",
       "    </tr>\n",
       "    <tr>\n",
       "      <th>tesla</th>\n",
       "      <td>88</td>\n",
       "    </tr>\n",
       "    <tr>\n",
       "      <th>alfa-romeo</th>\n",
       "      <td>58</td>\n",
       "    </tr>\n",
       "    <tr>\n",
       "      <th>datsun</th>\n",
       "      <td>31</td>\n",
       "    </tr>\n",
       "    <tr>\n",
       "      <th>land rover</th>\n",
       "      <td>16</td>\n",
       "    </tr>\n",
       "    <tr>\n",
       "      <th>aston-martin</th>\n",
       "      <td>16</td>\n",
       "    </tr>\n",
       "    <tr>\n",
       "      <th>porche</th>\n",
       "      <td>9</td>\n",
       "    </tr>\n",
       "    <tr>\n",
       "      <th>ferrari</th>\n",
       "      <td>3</td>\n",
       "    </tr>\n",
       "    <tr>\n",
       "      <th>morgan</th>\n",
       "      <td>2</td>\n",
       "    </tr>\n",
       "  </tbody>\n",
       "</table>\n",
       "</div>"
      ],
      "text/plain": [
       "                 manufacturer\n",
       "ford                    66365\n",
       "chevrolet               52856\n",
       "toyota                  28716\n",
       "nissan                  19809\n",
       "honda                   18282\n",
       "ram                     18197\n",
       "jeep                    17929\n",
       "gmc                     16258\n",
       "dodge                   12166\n",
       "bmw                     10814\n",
       "hyundai                  8904\n",
       "subaru                   8786\n",
       "mercedes-benz            8426\n",
       "volkswagen               8068\n",
       "kia                      6806\n",
       "chrysler                 5863\n",
       "cadillac                 5658\n",
       "buick                    5305\n",
       "lexus                    4760\n",
       "mazda                    4637\n",
       "audi                     4437\n",
       "infiniti                 3010\n",
       "acura                    2916\n",
       "lincoln                  2429\n",
       "pontiac                  2338\n",
       "volvo                    2110\n",
       "mini                     1883\n",
       "mitsubishi               1836\n",
       "rover                    1394\n",
       "mercury                  1238\n",
       "saturn                   1144\n",
       "jaguar                    827\n",
       "fiat                      727\n",
       "harley-davidson           148\n",
       "tesla                      88\n",
       "alfa-romeo                 58\n",
       "datsun                     31\n",
       "land rover                 16\n",
       "aston-martin               16\n",
       "porche                      9\n",
       "ferrari                     3\n",
       "morgan                      2"
      ]
     },
     "metadata": {
      "tags": []
     },
     "output_type": "display_data"
    },
    {
     "data": {
      "text/html": [
       "<div>\n",
       "<style scoped>\n",
       "    .dataframe tbody tr th:only-of-type {\n",
       "        vertical-align: middle;\n",
       "    }\n",
       "\n",
       "    .dataframe tbody tr th {\n",
       "        vertical-align: top;\n",
       "    }\n",
       "\n",
       "    .dataframe thead th {\n",
       "        text-align: right;\n",
       "    }\n",
       "</style>\n",
       "<table border=\"1\" class=\"dataframe\">\n",
       "  <thead>\n",
       "    <tr style=\"text-align: right;\">\n",
       "      <th></th>\n",
       "      <th>condition</th>\n",
       "    </tr>\n",
       "  </thead>\n",
       "  <tbody>\n",
       "    <tr>\n",
       "      <th>excellent</th>\n",
       "      <td>103050</td>\n",
       "    </tr>\n",
       "    <tr>\n",
       "      <th>good</th>\n",
       "      <td>97446</td>\n",
       "    </tr>\n",
       "    <tr>\n",
       "      <th>like new</th>\n",
       "      <td>20188</td>\n",
       "    </tr>\n",
       "    <tr>\n",
       "      <th>fair</th>\n",
       "      <td>5652</td>\n",
       "    </tr>\n",
       "    <tr>\n",
       "      <th>new</th>\n",
       "      <td>469</td>\n",
       "    </tr>\n",
       "    <tr>\n",
       "      <th>salvage</th>\n",
       "      <td>383</td>\n",
       "    </tr>\n",
       "  </tbody>\n",
       "</table>\n",
       "</div>"
      ],
      "text/plain": [
       "           condition\n",
       "excellent     103050\n",
       "good           97446\n",
       "like new       20188\n",
       "fair            5652\n",
       "new              469\n",
       "salvage          383"
      ]
     },
     "metadata": {
      "tags": []
     },
     "output_type": "display_data"
    },
    {
     "data": {
      "text/html": [
       "<div>\n",
       "<style scoped>\n",
       "    .dataframe tbody tr th:only-of-type {\n",
       "        vertical-align: middle;\n",
       "    }\n",
       "\n",
       "    .dataframe tbody tr th {\n",
       "        vertical-align: top;\n",
       "    }\n",
       "\n",
       "    .dataframe thead th {\n",
       "        text-align: right;\n",
       "    }\n",
       "</style>\n",
       "<table border=\"1\" class=\"dataframe\">\n",
       "  <thead>\n",
       "    <tr style=\"text-align: right;\">\n",
       "      <th></th>\n",
       "      <th>cylinders</th>\n",
       "    </tr>\n",
       "  </thead>\n",
       "  <tbody>\n",
       "    <tr>\n",
       "      <th>6 cylinders</th>\n",
       "      <td>88184</td>\n",
       "    </tr>\n",
       "    <tr>\n",
       "      <th>8 cylinders</th>\n",
       "      <td>73262</td>\n",
       "    </tr>\n",
       "    <tr>\n",
       "      <th>4 cylinders</th>\n",
       "      <td>72511</td>\n",
       "    </tr>\n",
       "    <tr>\n",
       "      <th>5 cylinders</th>\n",
       "      <td>2185</td>\n",
       "    </tr>\n",
       "    <tr>\n",
       "      <th>10 cylinders</th>\n",
       "      <td>1349</td>\n",
       "    </tr>\n",
       "    <tr>\n",
       "      <th>other</th>\n",
       "      <td>622</td>\n",
       "    </tr>\n",
       "    <tr>\n",
       "      <th>3 cylinders</th>\n",
       "      <td>418</td>\n",
       "    </tr>\n",
       "    <tr>\n",
       "      <th>12 cylinders</th>\n",
       "      <td>98</td>\n",
       "    </tr>\n",
       "  </tbody>\n",
       "</table>\n",
       "</div>"
      ],
      "text/plain": [
       "              cylinders\n",
       "6 cylinders       88184\n",
       "8 cylinders       73262\n",
       "4 cylinders       72511\n",
       "5 cylinders        2185\n",
       "10 cylinders       1349\n",
       "other               622\n",
       "3 cylinders         418\n",
       "12 cylinders         98"
      ]
     },
     "metadata": {
      "tags": []
     },
     "output_type": "display_data"
    },
    {
     "data": {
      "text/html": [
       "<div>\n",
       "<style scoped>\n",
       "    .dataframe tbody tr th:only-of-type {\n",
       "        vertical-align: middle;\n",
       "    }\n",
       "\n",
       "    .dataframe tbody tr th {\n",
       "        vertical-align: top;\n",
       "    }\n",
       "\n",
       "    .dataframe thead th {\n",
       "        text-align: right;\n",
       "    }\n",
       "</style>\n",
       "<table border=\"1\" class=\"dataframe\">\n",
       "  <thead>\n",
       "    <tr style=\"text-align: right;\">\n",
       "      <th></th>\n",
       "      <th>fuel</th>\n",
       "    </tr>\n",
       "  </thead>\n",
       "  <tbody>\n",
       "    <tr>\n",
       "      <th>gas</th>\n",
       "      <td>321003</td>\n",
       "    </tr>\n",
       "    <tr>\n",
       "      <th>diesel</th>\n",
       "      <td>27706</td>\n",
       "    </tr>\n",
       "    <tr>\n",
       "      <th>other</th>\n",
       "      <td>10746</td>\n",
       "    </tr>\n",
       "    <tr>\n",
       "      <th>hybrid</th>\n",
       "      <td>3178</td>\n",
       "    </tr>\n",
       "    <tr>\n",
       "      <th>electric</th>\n",
       "      <td>672</td>\n",
       "    </tr>\n",
       "  </tbody>\n",
       "</table>\n",
       "</div>"
      ],
      "text/plain": [
       "            fuel\n",
       "gas       321003\n",
       "diesel     27706\n",
       "other      10746\n",
       "hybrid      3178\n",
       "electric     672"
      ]
     },
     "metadata": {
      "tags": []
     },
     "output_type": "display_data"
    },
    {
     "data": {
      "text/html": [
       "<div>\n",
       "<style scoped>\n",
       "    .dataframe tbody tr th:only-of-type {\n",
       "        vertical-align: middle;\n",
       "    }\n",
       "\n",
       "    .dataframe tbody tr th {\n",
       "        vertical-align: top;\n",
       "    }\n",
       "\n",
       "    .dataframe thead th {\n",
       "        text-align: right;\n",
       "    }\n",
       "</style>\n",
       "<table border=\"1\" class=\"dataframe\">\n",
       "  <thead>\n",
       "    <tr style=\"text-align: right;\">\n",
       "      <th></th>\n",
       "      <th>title_status</th>\n",
       "    </tr>\n",
       "  </thead>\n",
       "  <tbody>\n",
       "    <tr>\n",
       "      <th>clean</th>\n",
       "      <td>348302</td>\n",
       "    </tr>\n",
       "    <tr>\n",
       "      <th>rebuilt</th>\n",
       "      <td>9116</td>\n",
       "    </tr>\n",
       "    <tr>\n",
       "      <th>salvage</th>\n",
       "      <td>3851</td>\n",
       "    </tr>\n",
       "    <tr>\n",
       "      <th>lien</th>\n",
       "      <td>2367</td>\n",
       "    </tr>\n",
       "    <tr>\n",
       "      <th>missing</th>\n",
       "      <td>160</td>\n",
       "    </tr>\n",
       "    <tr>\n",
       "      <th>parts only</th>\n",
       "      <td>54</td>\n",
       "    </tr>\n",
       "  </tbody>\n",
       "</table>\n",
       "</div>"
      ],
      "text/plain": [
       "            title_status\n",
       "clean             348302\n",
       "rebuilt             9116\n",
       "salvage             3851\n",
       "lien                2367\n",
       "missing              160\n",
       "parts only            54"
      ]
     },
     "metadata": {
      "tags": []
     },
     "output_type": "display_data"
    },
    {
     "data": {
      "text/html": [
       "<div>\n",
       "<style scoped>\n",
       "    .dataframe tbody tr th:only-of-type {\n",
       "        vertical-align: middle;\n",
       "    }\n",
       "\n",
       "    .dataframe tbody tr th {\n",
       "        vertical-align: top;\n",
       "    }\n",
       "\n",
       "    .dataframe thead th {\n",
       "        text-align: right;\n",
       "    }\n",
       "</style>\n",
       "<table border=\"1\" class=\"dataframe\">\n",
       "  <thead>\n",
       "    <tr style=\"text-align: right;\">\n",
       "      <th></th>\n",
       "      <th>transmission</th>\n",
       "    </tr>\n",
       "  </thead>\n",
       "  <tbody>\n",
       "    <tr>\n",
       "      <th>automatic</th>\n",
       "      <td>321549</td>\n",
       "    </tr>\n",
       "    <tr>\n",
       "      <th>manual</th>\n",
       "      <td>20892</td>\n",
       "    </tr>\n",
       "    <tr>\n",
       "      <th>other</th>\n",
       "      <td>20211</td>\n",
       "    </tr>\n",
       "  </tbody>\n",
       "</table>\n",
       "</div>"
      ],
      "text/plain": [
       "           transmission\n",
       "automatic        321549\n",
       "manual            20892\n",
       "other             20211"
      ]
     },
     "metadata": {
      "tags": []
     },
     "output_type": "display_data"
    },
    {
     "data": {
      "text/html": [
       "<div>\n",
       "<style scoped>\n",
       "    .dataframe tbody tr th:only-of-type {\n",
       "        vertical-align: middle;\n",
       "    }\n",
       "\n",
       "    .dataframe tbody tr th {\n",
       "        vertical-align: top;\n",
       "    }\n",
       "\n",
       "    .dataframe thead th {\n",
       "        text-align: right;\n",
       "    }\n",
       "</style>\n",
       "<table border=\"1\" class=\"dataframe\">\n",
       "  <thead>\n",
       "    <tr style=\"text-align: right;\">\n",
       "      <th></th>\n",
       "      <th>drive</th>\n",
       "    </tr>\n",
       "  </thead>\n",
       "  <tbody>\n",
       "    <tr>\n",
       "      <th>4wd</th>\n",
       "      <td>134077</td>\n",
       "    </tr>\n",
       "    <tr>\n",
       "      <th>fwd</th>\n",
       "      <td>102218</td>\n",
       "    </tr>\n",
       "    <tr>\n",
       "      <th>rwd</th>\n",
       "      <td>52618</td>\n",
       "    </tr>\n",
       "  </tbody>\n",
       "</table>\n",
       "</div>"
      ],
      "text/plain": [
       "      drive\n",
       "4wd  134077\n",
       "fwd  102218\n",
       "rwd   52618"
      ]
     },
     "metadata": {
      "tags": []
     },
     "output_type": "display_data"
    },
    {
     "data": {
      "text/html": [
       "<div>\n",
       "<style scoped>\n",
       "    .dataframe tbody tr th:only-of-type {\n",
       "        vertical-align: middle;\n",
       "    }\n",
       "\n",
       "    .dataframe tbody tr th {\n",
       "        vertical-align: top;\n",
       "    }\n",
       "\n",
       "    .dataframe thead th {\n",
       "        text-align: right;\n",
       "    }\n",
       "</style>\n",
       "<table border=\"1\" class=\"dataframe\">\n",
       "  <thead>\n",
       "    <tr style=\"text-align: right;\">\n",
       "      <th></th>\n",
       "      <th>size</th>\n",
       "    </tr>\n",
       "  </thead>\n",
       "  <tbody>\n",
       "    <tr>\n",
       "      <th>full-size</th>\n",
       "      <td>67691</td>\n",
       "    </tr>\n",
       "    <tr>\n",
       "      <th>mid-size</th>\n",
       "      <td>34369</td>\n",
       "    </tr>\n",
       "    <tr>\n",
       "      <th>compact</th>\n",
       "      <td>18426</td>\n",
       "    </tr>\n",
       "    <tr>\n",
       "      <th>sub-compact</th>\n",
       "      <td>3060</td>\n",
       "    </tr>\n",
       "  </tbody>\n",
       "</table>\n",
       "</div>"
      ],
      "text/plain": [
       "              size\n",
       "full-size    67691\n",
       "mid-size     34369\n",
       "compact      18426\n",
       "sub-compact   3060"
      ]
     },
     "metadata": {
      "tags": []
     },
     "output_type": "display_data"
    },
    {
     "data": {
      "text/html": [
       "<div>\n",
       "<style scoped>\n",
       "    .dataframe tbody tr th:only-of-type {\n",
       "        vertical-align: middle;\n",
       "    }\n",
       "\n",
       "    .dataframe tbody tr th {\n",
       "        vertical-align: top;\n",
       "    }\n",
       "\n",
       "    .dataframe thead th {\n",
       "        text-align: right;\n",
       "    }\n",
       "</style>\n",
       "<table border=\"1\" class=\"dataframe\">\n",
       "  <thead>\n",
       "    <tr style=\"text-align: right;\">\n",
       "      <th></th>\n",
       "      <th>type</th>\n",
       "    </tr>\n",
       "  </thead>\n",
       "  <tbody>\n",
       "    <tr>\n",
       "      <th>sedan</th>\n",
       "      <td>73379</td>\n",
       "    </tr>\n",
       "    <tr>\n",
       "      <th>SUV</th>\n",
       "      <td>71856</td>\n",
       "    </tr>\n",
       "    <tr>\n",
       "      <th>pickup</th>\n",
       "      <td>44231</td>\n",
       "    </tr>\n",
       "    <tr>\n",
       "      <th>truck</th>\n",
       "      <td>35670</td>\n",
       "    </tr>\n",
       "    <tr>\n",
       "      <th>coupe</th>\n",
       "      <td>16561</td>\n",
       "    </tr>\n",
       "    <tr>\n",
       "      <th>other</th>\n",
       "      <td>13986</td>\n",
       "    </tr>\n",
       "    <tr>\n",
       "      <th>hatchback</th>\n",
       "      <td>12044</td>\n",
       "    </tr>\n",
       "    <tr>\n",
       "      <th>wagon</th>\n",
       "      <td>10043</td>\n",
       "    </tr>\n",
       "    <tr>\n",
       "      <th>van</th>\n",
       "      <td>8381</td>\n",
       "    </tr>\n",
       "    <tr>\n",
       "      <th>convertible</th>\n",
       "      <td>6923</td>\n",
       "    </tr>\n",
       "    <tr>\n",
       "      <th>mini-van</th>\n",
       "      <td>5283</td>\n",
       "    </tr>\n",
       "    <tr>\n",
       "      <th>offroad</th>\n",
       "      <td>534</td>\n",
       "    </tr>\n",
       "    <tr>\n",
       "      <th>bus</th>\n",
       "      <td>413</td>\n",
       "    </tr>\n",
       "  </tbody>\n",
       "</table>\n",
       "</div>"
      ],
      "text/plain": [
       "              type\n",
       "sedan        73379\n",
       "SUV          71856\n",
       "pickup       44231\n",
       "truck        35670\n",
       "coupe        16561\n",
       "other        13986\n",
       "hatchback    12044\n",
       "wagon        10043\n",
       "van           8381\n",
       "convertible   6923\n",
       "mini-van      5283\n",
       "offroad        534\n",
       "bus            413"
      ]
     },
     "metadata": {
      "tags": []
     },
     "output_type": "display_data"
    }
   ],
   "source": [
    "for i in df_work2.select_dtypes(include = ['object']).columns:\n",
    "    display(pd.DataFrame(df_work2[i].value_counts()))"
   ]
  },
  {
   "cell_type": "markdown",
   "metadata": {
    "colab_type": "text",
    "id": "LNtiR4FRq7xv"
   },
   "source": [
    "As we can see from above, our `fuel` column has 0.67% of missing values, and it also has 'other' values. Let's assign our null values to be 'other':"
   ]
  },
  {
   "cell_type": "code",
   "execution_count": 27,
   "metadata": {
    "colab": {},
    "colab_type": "code",
    "id": "1Y6te-6jq7xw"
   },
   "outputs": [],
   "source": [
    "# Filling in missing values in 'fuel' column:\n",
    "df_work2['fuel'].fillna('other', inplace=True)"
   ]
  },
  {
   "cell_type": "code",
   "execution_count": 28,
   "metadata": {
    "colab": {
     "base_uri": "https://localhost:8080/",
     "height": 283
    },
    "colab_type": "code",
    "id": "OEhPJpYWq7x0",
    "outputId": "6d559d22-b7c3-419f-b3d8-6a3bb04b50e0"
   },
   "outputs": [
    {
     "data": {
      "text/plain": [
       "size            66.221374\n",
       "condition       37.884687\n",
       "cylinders       34.756611\n",
       "drive           21.008498\n",
       "type            18.167501\n",
       "manufacturer     2.867243\n",
       "transmission     0.847569\n",
       "long             0.792340\n",
       "lat              0.792340\n",
       "title_status     0.520024\n",
       "odometer         0.000000\n",
       "fuel             0.000000\n",
       "year             0.000000\n",
       "price            0.000000\n",
       "dtype: float64"
      ]
     },
     "execution_count": 28,
     "metadata": {
      "tags": []
     },
     "output_type": "execute_result"
    }
   ],
   "source": [
    "# Let's see what percentage of each column has missing values, and sort in descending order:\n",
    "(np.mean(df_work2.isna()).sort_values(ascending = False))*100"
   ]
  },
  {
   "cell_type": "markdown",
   "metadata": {
    "colab_type": "text",
    "id": "YWqYZAqUq7x3"
   },
   "source": [
    "Same goes for `title_status` column which has label of 'missing'. Let's see the distribution and assign null values to be 'missing'."
   ]
  },
  {
   "cell_type": "code",
   "execution_count": 29,
   "metadata": {
    "colab": {
     "base_uri": "https://localhost:8080/",
     "height": 294
    },
    "colab_type": "code",
    "id": "Tqqchsq-q7x4",
    "outputId": "57ee2d48-2dc6-40bd-bb05-2d0a07202a38"
   },
   "outputs": [
    {
     "data": {
      "image/png": "[encoded data removed]",
      "text/plain": [
       "<Figure size 432x288 with 1 Axes>"
      ]
     },
     "metadata": {
      "needs_background": "light",
      "tags": []
     },
     "output_type": "display_data"
    }
   ],
   "source": [
    "# See the distribution of unique values in the 'title_status' column:\n",
    "plt.figure()\n",
    "plt.barh(df_work2['title_status'].value_counts().index, \n",
    "         df_work2['title_status'].value_counts().values)\n",
    "plt.title(\"Title Status Distribution\")\n",
    "plt.xlabel(\"Frequency\")\n",
    "plt.ylabel(\"Title Status\")\n",
    "plt.show()"
   ]
  },
  {
   "cell_type": "code",
   "execution_count": 30,
   "metadata": {
    "colab": {
     "base_uri": "https://localhost:8080/",
     "height": 283
    },
    "colab_type": "code",
    "id": "C7f4PoX9q7x8",
    "outputId": "8075a5c9-93c5-4e93-8282-2ee36d1ae60b"
   },
   "outputs": [
    {
     "data": {
      "text/plain": [
       "size            66.221374\n",
       "condition       37.884687\n",
       "cylinders       34.756611\n",
       "drive           21.008498\n",
       "type            18.167501\n",
       "manufacturer     2.867243\n",
       "transmission     0.847569\n",
       "long             0.792340\n",
       "lat              0.792340\n",
       "title_status     0.000000\n",
       "odometer         0.000000\n",
       "fuel             0.000000\n",
       "year             0.000000\n",
       "price            0.000000\n",
       "dtype: float64"
      ]
     },
     "execution_count": 30,
     "metadata": {
      "tags": []
     },
     "output_type": "execute_result"
    }
   ],
   "source": [
    "# Filling in missing values in 'title_status' column:\n",
    "df_work2['title_status'].fillna('missing', inplace=True)\n",
    "\n",
    "# Double check what percentage of each column has missing values, and sort in descending order:\n",
    "(np.mean(df_work2.isna()).sort_values(ascending = False))*100"
   ]
  },
  {
   "cell_type": "markdown",
   "metadata": {
    "colab_type": "text",
    "id": "Ynwh6Rb9q7yE"
   },
   "source": [
    "Let's do same with other valid columns too."
   ]
  },
  {
   "cell_type": "code",
   "execution_count": 31,
   "metadata": {
    "colab": {
     "base_uri": "https://localhost:8080/",
     "height": 294
    },
    "colab_type": "code",
    "id": "B78dU1sLq7yF",
    "outputId": "f3db955d-9bf5-49f7-8758-8e68f811421d"
   },
   "outputs": [
    {
     "data": {
      "image/png": "[encoded data removed]",
      "text/plain": [
       "<Figure size 432x288 with 1 Axes>"
      ]
     },
     "metadata": {
      "needs_background": "light",
      "tags": []
     },
     "output_type": "display_data"
    }
   ],
   "source": [
    "# See the distribution of unique values in the 'transmission' column:\n",
    "plt.figure()\n",
    "plt.barh(df_work2['transmission'].value_counts().index, \n",
    "         df_work2['transmission'].value_counts().values)\n",
    "plt.title(\"Transmission Distribution\")\n",
    "plt.xlabel(\"Frequency\")\n",
    "plt.ylabel(\"Transmission\")\n",
    "plt.show()"
   ]
  },
  {
   "cell_type": "code",
   "execution_count": 32,
   "metadata": {
    "colab": {
     "base_uri": "https://localhost:8080/",
     "height": 283
    },
    "colab_type": "code",
    "id": "GYcS56qGq7yK",
    "outputId": "438d7d86-9ccd-4561-b48b-0031749f059b"
   },
   "outputs": [
    {
     "data": {
      "text/plain": [
       "size            66.221374\n",
       "condition       37.884687\n",
       "cylinders       34.756611\n",
       "drive           21.008498\n",
       "type            18.167501\n",
       "manufacturer     2.867243\n",
       "long             0.792340\n",
       "lat              0.792340\n",
       "transmission     0.000000\n",
       "title_status     0.000000\n",
       "odometer         0.000000\n",
       "fuel             0.000000\n",
       "year             0.000000\n",
       "price            0.000000\n",
       "dtype: float64"
      ]
     },
     "execution_count": 32,
     "metadata": {
      "tags": []
     },
     "output_type": "execute_result"
    }
   ],
   "source": [
    "# Filling in missing values in 'transmission' column:\n",
    "df_work2['transmission'].fillna('other', inplace=True)\n",
    "\n",
    "# Double check what percentage of each column has missing values, and sort in descending order:\n",
    "(np.mean(df_work2.isna()).sort_values(ascending = False))*100"
   ]
  },
  {
   "cell_type": "markdown",
   "metadata": {
    "colab_type": "text",
    "id": "2GGxFKiQq7yO"
   },
   "source": [
    "We can also see here that the `size` column has more than 66% of missing values in it. This is too much, and if we impute them, it would introduce a lot of bias into our model. So, it was decide to drop this column."
   ]
  },
  {
   "cell_type": "code",
   "execution_count": 33,
   "metadata": {
    "colab": {
     "base_uri": "https://localhost:8080/",
     "height": 265
    },
    "colab_type": "code",
    "id": "fc0BEKl4q7yP",
    "outputId": "ac6ced93-afa5-4165-dc5d-533854687b17"
   },
   "outputs": [
    {
     "data": {
      "text/plain": [
       "condition       37.884687\n",
       "cylinders       34.756611\n",
       "drive           21.008498\n",
       "type            18.167501\n",
       "manufacturer     2.867243\n",
       "long             0.792340\n",
       "lat              0.792340\n",
       "transmission     0.000000\n",
       "title_status     0.000000\n",
       "odometer         0.000000\n",
       "fuel             0.000000\n",
       "year             0.000000\n",
       "price            0.000000\n",
       "dtype: float64"
      ]
     },
     "execution_count": 33,
     "metadata": {
      "tags": []
     },
     "output_type": "execute_result"
    }
   ],
   "source": [
    "# Dropping the 'size' column: \n",
    "df_work2 = df_work2.drop(['size'], axis=1)\n",
    "\n",
    "# Double check what percentage of each column has missing values, and sort in descending order:\n",
    "(np.mean(df_work2.isna()).sort_values(ascending = False))*100"
   ]
  },
  {
   "cell_type": "markdown",
   "metadata": {
    "colab_type": "text",
    "id": "0opCS_o5q7yX"
   },
   "source": [
    "Let's see the distribution of values in the remaining missing value columns. "
   ]
  },
  {
   "cell_type": "code",
   "execution_count": 34,
   "metadata": {
    "colab": {
     "base_uri": "https://localhost:8080/",
     "height": 1000
    },
    "colab_type": "code",
    "id": "eLASSp25q7yY",
    "outputId": "8d1d1dff-bb07-4f85-9bc0-77f9044463f0"
   },
   "outputs": [
    {
     "data": {
      "image/png": "[encoded data removed]",
      "text/plain": [
       "<Figure size 432x288 with 1 Axes>"
      ]
     },
     "metadata": {
      "needs_background": "light",
      "tags": []
     },
     "output_type": "display_data"
    },
    {
     "data": {
      "image/png": "[encoded data removed]",
      "text/plain": [
       "<Figure size 432x288 with 1 Axes>"
      ]
     },
     "metadata": {
      "needs_background": "light",
      "tags": []
     },
     "output_type": "display_data"
    },
    {
     "data": {
      "image/png": "[encoded data removed]",
      "text/plain": [
       "<Figure size 432x288 with 1 Axes>"
      ]
     },
     "metadata": {
      "needs_background": "light",
      "tags": []
     },
     "output_type": "display_data"
    },
    {
     "data": {
      "image/png": "[encoded data removed]",
      "text/plain": [
       "<Figure size 432x288 with 1 Axes>"
      ]
     },
     "metadata": {
      "needs_background": "light",
      "tags": []
     },
     "output_type": "display_data"
    },
    {
     "data": {
      "image/png": "[encoded data removed]",
      "text/plain": [
       "<Figure size 432x288 with 1 Axes>"
      ]
     },
     "metadata": {
      "needs_background": "light",
      "tags": []
     },
     "output_type": "display_data"
    }
   ],
   "source": [
    "# See the distribution of unique values in the 'condition' column:\n",
    "plt.figure()\n",
    "plt.barh(df_work2['condition'].value_counts().index, \n",
    "         df_work2['condition'].value_counts().values)\n",
    "plt.title(\"Condition Distribution\")\n",
    "plt.xlabel(\"Frequency\")\n",
    "plt.ylabel(\"Condition\")\n",
    "plt.show();\n",
    "\n",
    "# See the distribution of unique values in the 'cylinders' column:\n",
    "plt.figure()\n",
    "plt.barh(df_work2['cylinders'].value_counts().index, \n",
    "         df_work2['cylinders'].value_counts().values)\n",
    "plt.title(\"Cylinders Distribution\")\n",
    "plt.xlabel(\"Frequency\")\n",
    "plt.ylabel(\"Cylinders\")\n",
    "plt.show();\n",
    "\n",
    "# See the distribution of unique values in the 'drive' column:\n",
    "plt.figure()\n",
    "plt.barh(df_work2['drive'].value_counts().index, \n",
    "         df_work2['drive'].value_counts().values)\n",
    "plt.title(\"Drive Distribution\")\n",
    "plt.xlabel(\"Frequency\")\n",
    "plt.ylabel(\"Drive\")\n",
    "plt.show();\n",
    "\n",
    "# See the distribution of unique values in the 'type' column:\n",
    "plt.figure()\n",
    "plt.barh(df_work2['type'].value_counts().index, \n",
    "         df_work2['type'].value_counts().values)\n",
    "plt.title(\"Type Distribution\")\n",
    "plt.xlabel(\"Frequency\")\n",
    "plt.ylabel(\"Type\")\n",
    "plt.show();\n",
    "\n",
    "# See the distribution of unique values in the 'manufacturer' column:\n",
    "plt.figure()\n",
    "plt.barh(df_work2['manufacturer'].value_counts().index, \n",
    "         df_work2['manufacturer'].value_counts().values)\n",
    "plt.title(\"Manufacturer Distribution\")\n",
    "plt.xlabel(\"Frequency\")\n",
    "plt.ylabel(\"Manufacturer\")\n",
    "plt.show();"
   ]
  },
  {
   "cell_type": "markdown",
   "metadata": {
    "colab_type": "text",
    "id": "jrj-yrYKq7ye"
   },
   "source": [
    "As we can see from the distribution charts above, we have few dominant values in each column, thus, assigning missing values as the most frequent value within the column would actually impose bias towards our model, especially when we the percentage of missing values is high (from 18% to 38%). Thus, it was decided to assign those missing values as a separate value. "
   ]
  },
  {
   "cell_type": "code",
   "execution_count": 35,
   "metadata": {
    "colab": {
     "base_uri": "https://localhost:8080/",
     "height": 265
    },
    "colab_type": "code",
    "id": "BStccuntq7ye",
    "outputId": "33922c08-f4cf-4c4f-bc1a-b5c98c547ec8"
   },
   "outputs": [
    {
     "data": {
      "text/plain": [
       "long            0.79234\n",
       "lat             0.79234\n",
       "type            0.00000\n",
       "drive           0.00000\n",
       "transmission    0.00000\n",
       "title_status    0.00000\n",
       "odometer        0.00000\n",
       "fuel            0.00000\n",
       "cylinders       0.00000\n",
       "condition       0.00000\n",
       "manufacturer    0.00000\n",
       "year            0.00000\n",
       "price           0.00000\n",
       "dtype: float64"
      ]
     },
     "execution_count": 35,
     "metadata": {
      "tags": []
     },
     "output_type": "execute_result"
    }
   ],
   "source": [
    "# Filling in missing values with new 'missing' name:\n",
    "df_work2['condition'].fillna('missing', inplace=True)\n",
    "df_work2['cylinders'].fillna('missing', inplace=True)\n",
    "df_work2['drive'].fillna('missing', inplace=True)\n",
    "df_work2['type'].fillna('missing', inplace=True)\n",
    "df_work2['manufacturer'].fillna('missing', inplace=True)\n",
    "\n",
    "# Double check what percentage of each column has missing values, and sort in descending order:\n",
    "(np.mean(df_work2.isna()).sort_values(ascending = False))*100"
   ]
  },
  {
   "cell_type": "code",
   "execution_count": 36,
   "metadata": {
    "colab": {
     "base_uri": "https://localhost:8080/",
     "height": 265
    },
    "colab_type": "code",
    "id": "GIkVDxPhq7yk",
    "outputId": "2722e194-5d87-4d90-af46-9b7aa5946470"
   },
   "outputs": [
    {
     "data": {
      "text/plain": [
       "long            0.0\n",
       "lat             0.0\n",
       "type            0.0\n",
       "drive           0.0\n",
       "transmission    0.0\n",
       "title_status    0.0\n",
       "odometer        0.0\n",
       "fuel            0.0\n",
       "cylinders       0.0\n",
       "condition       0.0\n",
       "manufacturer    0.0\n",
       "year            0.0\n",
       "price           0.0\n",
       "dtype: float64"
      ]
     },
     "execution_count": 36,
     "metadata": {
      "tags": []
     },
     "output_type": "execute_result"
    }
   ],
   "source": [
    "# Let's drop na values of lat and long columns, as they are less than 1%:\n",
    "df_work2.dropna(subset=['lat'], inplace=True)\n",
    "df_work2.dropna(subset=['long'], inplace=True)\n",
    "\n",
    "# Double check what percentage of each column has missing values, and sort in descending order:\n",
    "(np.mean(df_work2.isna()).sort_values(ascending = False))*100"
   ]
  },
  {
   "cell_type": "code",
   "execution_count": 37,
   "metadata": {
    "colab": {
     "base_uri": "https://localhost:8080/",
     "height": 124
    },
    "colab_type": "code",
    "id": "zrFLL0cAq7yp",
    "outputId": "a57e9de6-dd41-4ba3-baa5-28c61745e1b0"
   },
   "outputs": [
    {
     "data": {
      "text/html": [
       "<style  type=\"text/css\" >\n",
       "    #T_a1a62b06_b954_11ea_96a0_0242ac1c0002row0_col0 {\n",
       "            background-color:  #023858;\n",
       "            color:  #f1f1f1;\n",
       "        }    #T_a1a62b06_b954_11ea_96a0_0242ac1c0002row0_col1 {\n",
       "            background-color:  #2f8bbe;\n",
       "            color:  #000000;\n",
       "        }    #T_a1a62b06_b954_11ea_96a0_0242ac1c0002row0_col2 {\n",
       "            background-color:  #fff7fb;\n",
       "            color:  #000000;\n",
       "        }    #T_a1a62b06_b954_11ea_96a0_0242ac1c0002row0_col3 {\n",
       "            background-color:  #e1dfed;\n",
       "            color:  #000000;\n",
       "        }    #T_a1a62b06_b954_11ea_96a0_0242ac1c0002row0_col4 {\n",
       "            background-color:  #fdf5fa;\n",
       "            color:  #000000;\n",
       "        }    #T_a1a62b06_b954_11ea_96a0_0242ac1c0002row1_col0 {\n",
       "            background-color:  #2a88bc;\n",
       "            color:  #000000;\n",
       "        }    #T_a1a62b06_b954_11ea_96a0_0242ac1c0002row1_col1 {\n",
       "            background-color:  #023858;\n",
       "            color:  #f1f1f1;\n",
       "        }    #T_a1a62b06_b954_11ea_96a0_0242ac1c0002row1_col2 {\n",
       "            background-color:  #faf3f9;\n",
       "            color:  #000000;\n",
       "        }    #T_a1a62b06_b954_11ea_96a0_0242ac1c0002row1_col3 {\n",
       "            background-color:  #e8e4f0;\n",
       "            color:  #000000;\n",
       "        }    #T_a1a62b06_b954_11ea_96a0_0242ac1c0002row1_col4 {\n",
       "            background-color:  #ebe6f2;\n",
       "            color:  #000000;\n",
       "        }    #T_a1a62b06_b954_11ea_96a0_0242ac1c0002row2_col0 {\n",
       "            background-color:  #fff7fb;\n",
       "            color:  #000000;\n",
       "        }    #T_a1a62b06_b954_11ea_96a0_0242ac1c0002row2_col1 {\n",
       "            background-color:  #fff7fb;\n",
       "            color:  #000000;\n",
       "        }    #T_a1a62b06_b954_11ea_96a0_0242ac1c0002row2_col2 {\n",
       "            background-color:  #023858;\n",
       "            color:  #f1f1f1;\n",
       "        }    #T_a1a62b06_b954_11ea_96a0_0242ac1c0002row2_col3 {\n",
       "            background-color:  #e3e0ee;\n",
       "            color:  #000000;\n",
       "        }    #T_a1a62b06_b954_11ea_96a0_0242ac1c0002row2_col4 {\n",
       "            background-color:  #e0dded;\n",
       "            color:  #000000;\n",
       "        }    #T_a1a62b06_b954_11ea_96a0_0242ac1c0002row3_col0 {\n",
       "            background-color:  #a9bfdc;\n",
       "            color:  #000000;\n",
       "        }    #T_a1a62b06_b954_11ea_96a0_0242ac1c0002row3_col1 {\n",
       "            background-color:  #bbc7e0;\n",
       "            color:  #000000;\n",
       "        }    #T_a1a62b06_b954_11ea_96a0_0242ac1c0002row3_col2 {\n",
       "            background-color:  #acc0dd;\n",
       "            color:  #000000;\n",
       "        }    #T_a1a62b06_b954_11ea_96a0_0242ac1c0002row3_col3 {\n",
       "            background-color:  #023858;\n",
       "            color:  #f1f1f1;\n",
       "        }    #T_a1a62b06_b954_11ea_96a0_0242ac1c0002row3_col4 {\n",
       "            background-color:  #fff7fb;\n",
       "            color:  #000000;\n",
       "        }    #T_a1a62b06_b954_11ea_96a0_0242ac1c0002row4_col0 {\n",
       "            background-color:  #d2d2e7;\n",
       "            color:  #000000;\n",
       "        }    #T_a1a62b06_b954_11ea_96a0_0242ac1c0002row4_col1 {\n",
       "            background-color:  #bdc8e1;\n",
       "            color:  #000000;\n",
       "        }    #T_a1a62b06_b954_11ea_96a0_0242ac1c0002row4_col2 {\n",
       "            background-color:  #a8bedc;\n",
       "            color:  #000000;\n",
       "        }    #T_a1a62b06_b954_11ea_96a0_0242ac1c0002row4_col3 {\n",
       "            background-color:  #fff7fb;\n",
       "            color:  #000000;\n",
       "        }    #T_a1a62b06_b954_11ea_96a0_0242ac1c0002row4_col4 {\n",
       "            background-color:  #023858;\n",
       "            color:  #f1f1f1;\n",
       "        }</style><table id=\"T_a1a62b06_b954_11ea_96a0_0242ac1c0002\" ><thead>    <tr>        <th class=\"blank level0\" ></th>        <th class=\"col_heading level0 col0\" >price</th>        <th class=\"col_heading level0 col1\" >year</th>        <th class=\"col_heading level0 col2\" >odometer</th>        <th class=\"col_heading level0 col3\" >lat</th>        <th class=\"col_heading level0 col4\" >long</th>    </tr></thead><tbody>\n",
       "                <tr>\n",
       "                        <th id=\"T_a1a62b06_b954_11ea_96a0_0242ac1c0002level0_row0\" class=\"row_heading level0 row0\" >price</th>\n",
       "                        <td id=\"T_a1a62b06_b954_11ea_96a0_0242ac1c0002row0_col0\" class=\"data row0 col0\" >1.000000</td>\n",
       "                        <td id=\"T_a1a62b06_b954_11ea_96a0_0242ac1c0002row0_col1\" class=\"data row0 col1\" >0.478164</td>\n",
       "                        <td id=\"T_a1a62b06_b954_11ea_96a0_0242ac1c0002row0_col2\" class=\"data row0 col2\" >-0.517035</td>\n",
       "                        <td id=\"T_a1a62b06_b954_11ea_96a0_0242ac1c0002row0_col3\" class=\"data row0 col3\" >0.036000</td>\n",
       "                        <td id=\"T_a1a62b06_b954_11ea_96a0_0242ac1c0002row0_col4\" class=\"data row0 col4\" >-0.149115</td>\n",
       "            </tr>\n",
       "            <tr>\n",
       "                        <th id=\"T_a1a62b06_b954_11ea_96a0_0242ac1c0002level0_row1\" class=\"row_heading level0 row1\" >year</th>\n",
       "                        <td id=\"T_a1a62b06_b954_11ea_96a0_0242ac1c0002row1_col0\" class=\"data row1 col0\" >0.478164</td>\n",
       "                        <td id=\"T_a1a62b06_b954_11ea_96a0_0242ac1c0002row1_col1\" class=\"data row1 col1\" >1.000000</td>\n",
       "                        <td id=\"T_a1a62b06_b954_11ea_96a0_0242ac1c0002row1_col2\" class=\"data row1 col2\" >-0.466989</td>\n",
       "                        <td id=\"T_a1a62b06_b954_11ea_96a0_0242ac1c0002row1_col3\" class=\"data row1 col3\" >-0.003752</td>\n",
       "                        <td id=\"T_a1a62b06_b954_11ea_96a0_0242ac1c0002row1_col4\" class=\"data row1 col4\" >-0.017337</td>\n",
       "            </tr>\n",
       "            <tr>\n",
       "                        <th id=\"T_a1a62b06_b954_11ea_96a0_0242ac1c0002level0_row2\" class=\"row_heading level0 row2\" >odometer</th>\n",
       "                        <td id=\"T_a1a62b06_b954_11ea_96a0_0242ac1c0002row2_col0\" class=\"data row2 col0\" >-0.517035</td>\n",
       "                        <td id=\"T_a1a62b06_b954_11ea_96a0_0242ac1c0002row2_col1\" class=\"data row2 col1\" >-0.466989</td>\n",
       "                        <td id=\"T_a1a62b06_b954_11ea_96a0_0242ac1c0002row2_col2\" class=\"data row2 col2\" >1.000000</td>\n",
       "                        <td id=\"T_a1a62b06_b954_11ea_96a0_0242ac1c0002row2_col3\" class=\"data row2 col3\" >0.026567</td>\n",
       "                        <td id=\"T_a1a62b06_b954_11ea_96a0_0242ac1c0002row2_col4\" class=\"data row2 col4\" >0.042387</td>\n",
       "            </tr>\n",
       "            <tr>\n",
       "                        <th id=\"T_a1a62b06_b954_11ea_96a0_0242ac1c0002level0_row3\" class=\"row_heading level0 row3\" >lat</th>\n",
       "                        <td id=\"T_a1a62b06_b954_11ea_96a0_0242ac1c0002row3_col0\" class=\"data row3 col0\" >0.036000</td>\n",
       "                        <td id=\"T_a1a62b06_b954_11ea_96a0_0242ac1c0002row3_col1\" class=\"data row3 col1\" >-0.003752</td>\n",
       "                        <td id=\"T_a1a62b06_b954_11ea_96a0_0242ac1c0002row3_col2\" class=\"data row3 col2\" >0.026567</td>\n",
       "                        <td id=\"T_a1a62b06_b954_11ea_96a0_0242ac1c0002row3_col3\" class=\"data row3 col3\" >1.000000</td>\n",
       "                        <td id=\"T_a1a62b06_b954_11ea_96a0_0242ac1c0002row3_col4\" class=\"data row3 col4\" >-0.168342</td>\n",
       "            </tr>\n",
       "            <tr>\n",
       "                        <th id=\"T_a1a62b06_b954_11ea_96a0_0242ac1c0002level0_row4\" class=\"row_heading level0 row4\" >long</th>\n",
       "                        <td id=\"T_a1a62b06_b954_11ea_96a0_0242ac1c0002row4_col0\" class=\"data row4 col0\" >-0.149115</td>\n",
       "                        <td id=\"T_a1a62b06_b954_11ea_96a0_0242ac1c0002row4_col1\" class=\"data row4 col1\" >-0.017337</td>\n",
       "                        <td id=\"T_a1a62b06_b954_11ea_96a0_0242ac1c0002row4_col2\" class=\"data row4 col2\" >0.042387</td>\n",
       "                        <td id=\"T_a1a62b06_b954_11ea_96a0_0242ac1c0002row4_col3\" class=\"data row4 col3\" >-0.168342</td>\n",
       "                        <td id=\"T_a1a62b06_b954_11ea_96a0_0242ac1c0002row4_col4\" class=\"data row4 col4\" >1.000000</td>\n",
       "            </tr>\n",
       "    </tbody></table>"
      ],
      "text/plain": [
       "<pandas.io.formats.style.Styler at 0x7f97094d34e0>"
      ]
     },
     "execution_count": 37,
     "metadata": {
      "tags": []
     },
     "output_type": "execute_result"
    }
   ],
   "source": [
    "# Let's take a quick look at the correlation between our columns:\n",
    "df_work2.corr().style.background_gradient()"
   ]
  },
  {
   "cell_type": "markdown",
   "metadata": {
    "colab_type": "text",
    "id": "Il0ZRDz1q7yv"
   },
   "source": [
    "From the correlation chart above, we can state that there is a strong positive correlation between `year` and `price`, which mean that the higher the year value, the higher would the price be. Also, there is a strong negative correlation between the `odometer` feature and the `price` value, meaning that with higher mileage distance, the price would be lower. Also, there is a negative correlation between `year` and `odometer` features, implying that the newer the car (higher year value) the less mileage it would have. All these correlations make sense realistically too.\n",
    "\n",
    "We won't go deeply in exploring all these correlations, instead, we will explore the feature importance values after running some ml models later.\n",
    "\n",
    "Now, after cleaning our dataset, let's convert our categorical features into numerical, so that we could run our models."
   ]
  },
  {
   "cell_type": "code",
   "execution_count": 38,
   "metadata": {
    "colab": {
     "base_uri": "https://localhost:8080/",
     "height": 298
    },
    "colab_type": "code",
    "id": "afaa2ERfq7yv",
    "outputId": "8e8125fe-77c9-445b-f531-b48eb020bd4e",
    "tags": []
   },
   "outputs": [
    {
     "name": "stdout",
     "output_type": "stream",
     "text": [
      "The shape of our new dataframe is:  (362854, 96)\n",
      "\n"
     ]
    },
    {
     "data": {
      "text/html": [
       "<div>\n",
       "<style scoped>\n",
       "    .dataframe tbody tr th:only-of-type {\n",
       "        vertical-align: middle;\n",
       "    }\n",
       "\n",
       "    .dataframe tbody tr th {\n",
       "        vertical-align: top;\n",
       "    }\n",
       "\n",
       "    .dataframe thead th {\n",
       "        text-align: right;\n",
       "    }\n",
       "</style>\n",
       "<table border=\"1\" class=\"dataframe\">\n",
       "  <thead>\n",
       "    <tr style=\"text-align: right;\">\n",
       "      <th></th>\n",
       "      <th>price</th>\n",
       "      <th>year</th>\n",
       "      <th>odometer</th>\n",
       "      <th>lat</th>\n",
       "      <th>long</th>\n",
       "      <th>manufacturer_acura</th>\n",
       "      <th>manufacturer_alfa-romeo</th>\n",
       "      <th>manufacturer_aston-martin</th>\n",
       "      <th>manufacturer_audi</th>\n",
       "      <th>manufacturer_bmw</th>\n",
       "      <th>manufacturer_buick</th>\n",
       "      <th>manufacturer_cadillac</th>\n",
       "      <th>manufacturer_chevrolet</th>\n",
       "      <th>manufacturer_chrysler</th>\n",
       "      <th>manufacturer_datsun</th>\n",
       "      <th>manufacturer_dodge</th>\n",
       "      <th>manufacturer_ferrari</th>\n",
       "      <th>manufacturer_fiat</th>\n",
       "      <th>manufacturer_ford</th>\n",
       "      <th>manufacturer_gmc</th>\n",
       "      <th>manufacturer_harley-davidson</th>\n",
       "      <th>manufacturer_honda</th>\n",
       "      <th>manufacturer_hyundai</th>\n",
       "      <th>manufacturer_infiniti</th>\n",
       "      <th>manufacturer_jaguar</th>\n",
       "      <th>manufacturer_jeep</th>\n",
       "      <th>manufacturer_kia</th>\n",
       "      <th>manufacturer_land_rover</th>\n",
       "      <th>manufacturer_lexus</th>\n",
       "      <th>manufacturer_lincoln</th>\n",
       "      <th>manufacturer_mazda</th>\n",
       "      <th>manufacturer_mercedes-benz</th>\n",
       "      <th>manufacturer_mercury</th>\n",
       "      <th>manufacturer_mini</th>\n",
       "      <th>manufacturer_missing</th>\n",
       "      <th>manufacturer_mitsubishi</th>\n",
       "      <th>manufacturer_morgan</th>\n",
       "      <th>manufacturer_nissan</th>\n",
       "      <th>manufacturer_pontiac</th>\n",
       "      <th>manufacturer_porche</th>\n",
       "      <th>...</th>\n",
       "      <th>cylinders_12_cylinders</th>\n",
       "      <th>cylinders_3_cylinders</th>\n",
       "      <th>cylinders_4_cylinders</th>\n",
       "      <th>cylinders_5_cylinders</th>\n",
       "      <th>cylinders_6_cylinders</th>\n",
       "      <th>cylinders_8_cylinders</th>\n",
       "      <th>cylinders_missing</th>\n",
       "      <th>cylinders_other</th>\n",
       "      <th>fuel_diesel</th>\n",
       "      <th>fuel_electric</th>\n",
       "      <th>fuel_gas</th>\n",
       "      <th>fuel_hybrid</th>\n",
       "      <th>fuel_other</th>\n",
       "      <th>title_status_clean</th>\n",
       "      <th>title_status_lien</th>\n",
       "      <th>title_status_missing</th>\n",
       "      <th>title_status_parts_only</th>\n",
       "      <th>title_status_rebuilt</th>\n",
       "      <th>title_status_salvage</th>\n",
       "      <th>transmission_automatic</th>\n",
       "      <th>transmission_manual</th>\n",
       "      <th>transmission_other</th>\n",
       "      <th>drive_4wd</th>\n",
       "      <th>drive_fwd</th>\n",
       "      <th>drive_missing</th>\n",
       "      <th>drive_rwd</th>\n",
       "      <th>type_suv</th>\n",
       "      <th>type_bus</th>\n",
       "      <th>type_convertible</th>\n",
       "      <th>type_coupe</th>\n",
       "      <th>type_hatchback</th>\n",
       "      <th>type_mini-van</th>\n",
       "      <th>type_missing</th>\n",
       "      <th>type_offroad</th>\n",
       "      <th>type_other</th>\n",
       "      <th>type_pickup</th>\n",
       "      <th>type_sedan</th>\n",
       "      <th>type_truck</th>\n",
       "      <th>type_van</th>\n",
       "      <th>type_wagon</th>\n",
       "    </tr>\n",
       "  </thead>\n",
       "  <tbody>\n",
       "    <tr>\n",
       "      <th>0</th>\n",
       "      <td>10299</td>\n",
       "      <td>2012.0</td>\n",
       "      <td>90186.0</td>\n",
       "      <td>35.7636</td>\n",
       "      <td>-78.7443</td>\n",
       "      <td>1</td>\n",
       "      <td>0</td>\n",
       "      <td>0</td>\n",
       "      <td>0</td>\n",
       "      <td>0</td>\n",
       "      <td>0</td>\n",
       "      <td>0</td>\n",
       "      <td>0</td>\n",
       "      <td>0</td>\n",
       "      <td>0</td>\n",
       "      <td>0</td>\n",
       "      <td>0</td>\n",
       "      <td>0</td>\n",
       "      <td>0</td>\n",
       "      <td>0</td>\n",
       "      <td>0</td>\n",
       "      <td>0</td>\n",
       "      <td>0</td>\n",
       "      <td>0</td>\n",
       "      <td>0</td>\n",
       "      <td>0</td>\n",
       "      <td>0</td>\n",
       "      <td>0</td>\n",
       "      <td>0</td>\n",
       "      <td>0</td>\n",
       "      <td>0</td>\n",
       "      <td>0</td>\n",
       "      <td>0</td>\n",
       "      <td>0</td>\n",
       "      <td>0</td>\n",
       "      <td>0</td>\n",
       "      <td>0</td>\n",
       "      <td>0</td>\n",
       "      <td>0</td>\n",
       "      <td>0</td>\n",
       "      <td>...</td>\n",
       "      <td>0</td>\n",
       "      <td>0</td>\n",
       "      <td>0</td>\n",
       "      <td>0</td>\n",
       "      <td>0</td>\n",
       "      <td>0</td>\n",
       "      <td>1</td>\n",
       "      <td>0</td>\n",
       "      <td>0</td>\n",
       "      <td>0</td>\n",
       "      <td>1</td>\n",
       "      <td>0</td>\n",
       "      <td>0</td>\n",
       "      <td>1</td>\n",
       "      <td>0</td>\n",
       "      <td>0</td>\n",
       "      <td>0</td>\n",
       "      <td>0</td>\n",
       "      <td>0</td>\n",
       "      <td>1</td>\n",
       "      <td>0</td>\n",
       "      <td>0</td>\n",
       "      <td>0</td>\n",
       "      <td>0</td>\n",
       "      <td>1</td>\n",
       "      <td>0</td>\n",
       "      <td>0</td>\n",
       "      <td>0</td>\n",
       "      <td>0</td>\n",
       "      <td>0</td>\n",
       "      <td>0</td>\n",
       "      <td>0</td>\n",
       "      <td>0</td>\n",
       "      <td>0</td>\n",
       "      <td>1</td>\n",
       "      <td>0</td>\n",
       "      <td>0</td>\n",
       "      <td>0</td>\n",
       "      <td>0</td>\n",
       "      <td>0</td>\n",
       "    </tr>\n",
       "    <tr>\n",
       "      <th>1</th>\n",
       "      <td>9500</td>\n",
       "      <td>2011.0</td>\n",
       "      <td>85000.0</td>\n",
       "      <td>36.1032</td>\n",
       "      <td>-79.8794</td>\n",
       "      <td>0</td>\n",
       "      <td>0</td>\n",
       "      <td>0</td>\n",
       "      <td>0</td>\n",
       "      <td>0</td>\n",
       "      <td>0</td>\n",
       "      <td>0</td>\n",
       "      <td>0</td>\n",
       "      <td>0</td>\n",
       "      <td>0</td>\n",
       "      <td>0</td>\n",
       "      <td>0</td>\n",
       "      <td>0</td>\n",
       "      <td>0</td>\n",
       "      <td>0</td>\n",
       "      <td>0</td>\n",
       "      <td>0</td>\n",
       "      <td>0</td>\n",
       "      <td>0</td>\n",
       "      <td>1</td>\n",
       "      <td>0</td>\n",
       "      <td>0</td>\n",
       "      <td>0</td>\n",
       "      <td>0</td>\n",
       "      <td>0</td>\n",
       "      <td>0</td>\n",
       "      <td>0</td>\n",
       "      <td>0</td>\n",
       "      <td>0</td>\n",
       "      <td>0</td>\n",
       "      <td>0</td>\n",
       "      <td>0</td>\n",
       "      <td>0</td>\n",
       "      <td>0</td>\n",
       "      <td>0</td>\n",
       "      <td>...</td>\n",
       "      <td>0</td>\n",
       "      <td>0</td>\n",
       "      <td>0</td>\n",
       "      <td>0</td>\n",
       "      <td>0</td>\n",
       "      <td>0</td>\n",
       "      <td>1</td>\n",
       "      <td>0</td>\n",
       "      <td>0</td>\n",
       "      <td>0</td>\n",
       "      <td>1</td>\n",
       "      <td>0</td>\n",
       "      <td>0</td>\n",
       "      <td>1</td>\n",
       "      <td>0</td>\n",
       "      <td>0</td>\n",
       "      <td>0</td>\n",
       "      <td>0</td>\n",
       "      <td>0</td>\n",
       "      <td>1</td>\n",
       "      <td>0</td>\n",
       "      <td>0</td>\n",
       "      <td>0</td>\n",
       "      <td>0</td>\n",
       "      <td>1</td>\n",
       "      <td>0</td>\n",
       "      <td>0</td>\n",
       "      <td>0</td>\n",
       "      <td>0</td>\n",
       "      <td>0</td>\n",
       "      <td>0</td>\n",
       "      <td>0</td>\n",
       "      <td>1</td>\n",
       "      <td>0</td>\n",
       "      <td>0</td>\n",
       "      <td>0</td>\n",
       "      <td>0</td>\n",
       "      <td>0</td>\n",
       "      <td>0</td>\n",
       "      <td>0</td>\n",
       "    </tr>\n",
       "    <tr>\n",
       "      <th>2</th>\n",
       "      <td>3995</td>\n",
       "      <td>2004.0</td>\n",
       "      <td>212526.0</td>\n",
       "      <td>35.7636</td>\n",
       "      <td>-78.7443</td>\n",
       "      <td>0</td>\n",
       "      <td>0</td>\n",
       "      <td>0</td>\n",
       "      <td>0</td>\n",
       "      <td>0</td>\n",
       "      <td>0</td>\n",
       "      <td>0</td>\n",
       "      <td>0</td>\n",
       "      <td>0</td>\n",
       "      <td>0</td>\n",
       "      <td>0</td>\n",
       "      <td>0</td>\n",
       "      <td>0</td>\n",
       "      <td>0</td>\n",
       "      <td>0</td>\n",
       "      <td>0</td>\n",
       "      <td>1</td>\n",
       "      <td>0</td>\n",
       "      <td>0</td>\n",
       "      <td>0</td>\n",
       "      <td>0</td>\n",
       "      <td>0</td>\n",
       "      <td>0</td>\n",
       "      <td>0</td>\n",
       "      <td>0</td>\n",
       "      <td>0</td>\n",
       "      <td>0</td>\n",
       "      <td>0</td>\n",
       "      <td>0</td>\n",
       "      <td>0</td>\n",
       "      <td>0</td>\n",
       "      <td>0</td>\n",
       "      <td>0</td>\n",
       "      <td>0</td>\n",
       "      <td>0</td>\n",
       "      <td>...</td>\n",
       "      <td>0</td>\n",
       "      <td>0</td>\n",
       "      <td>0</td>\n",
       "      <td>0</td>\n",
       "      <td>0</td>\n",
       "      <td>0</td>\n",
       "      <td>1</td>\n",
       "      <td>0</td>\n",
       "      <td>0</td>\n",
       "      <td>0</td>\n",
       "      <td>1</td>\n",
       "      <td>0</td>\n",
       "      <td>0</td>\n",
       "      <td>1</td>\n",
       "      <td>0</td>\n",
       "      <td>0</td>\n",
       "      <td>0</td>\n",
       "      <td>0</td>\n",
       "      <td>0</td>\n",
       "      <td>1</td>\n",
       "      <td>0</td>\n",
       "      <td>0</td>\n",
       "      <td>0</td>\n",
       "      <td>1</td>\n",
       "      <td>0</td>\n",
       "      <td>0</td>\n",
       "      <td>1</td>\n",
       "      <td>0</td>\n",
       "      <td>0</td>\n",
       "      <td>0</td>\n",
       "      <td>0</td>\n",
       "      <td>0</td>\n",
       "      <td>0</td>\n",
       "      <td>0</td>\n",
       "      <td>0</td>\n",
       "      <td>0</td>\n",
       "      <td>0</td>\n",
       "      <td>0</td>\n",
       "      <td>0</td>\n",
       "      <td>0</td>\n",
       "    </tr>\n",
       "    <tr>\n",
       "      <th>3</th>\n",
       "      <td>12995</td>\n",
       "      <td>2015.0</td>\n",
       "      <td>85127.0</td>\n",
       "      <td>35.7636</td>\n",
       "      <td>-78.7443</td>\n",
       "      <td>0</td>\n",
       "      <td>0</td>\n",
       "      <td>0</td>\n",
       "      <td>0</td>\n",
       "      <td>0</td>\n",
       "      <td>0</td>\n",
       "      <td>0</td>\n",
       "      <td>0</td>\n",
       "      <td>0</td>\n",
       "      <td>0</td>\n",
       "      <td>0</td>\n",
       "      <td>0</td>\n",
       "      <td>0</td>\n",
       "      <td>0</td>\n",
       "      <td>0</td>\n",
       "      <td>0</td>\n",
       "      <td>0</td>\n",
       "      <td>0</td>\n",
       "      <td>0</td>\n",
       "      <td>0</td>\n",
       "      <td>0</td>\n",
       "      <td>1</td>\n",
       "      <td>0</td>\n",
       "      <td>0</td>\n",
       "      <td>0</td>\n",
       "      <td>0</td>\n",
       "      <td>0</td>\n",
       "      <td>0</td>\n",
       "      <td>0</td>\n",
       "      <td>0</td>\n",
       "      <td>0</td>\n",
       "      <td>0</td>\n",
       "      <td>0</td>\n",
       "      <td>0</td>\n",
       "      <td>0</td>\n",
       "      <td>...</td>\n",
       "      <td>0</td>\n",
       "      <td>0</td>\n",
       "      <td>0</td>\n",
       "      <td>0</td>\n",
       "      <td>0</td>\n",
       "      <td>0</td>\n",
       "      <td>1</td>\n",
       "      <td>0</td>\n",
       "      <td>0</td>\n",
       "      <td>0</td>\n",
       "      <td>1</td>\n",
       "      <td>0</td>\n",
       "      <td>0</td>\n",
       "      <td>1</td>\n",
       "      <td>0</td>\n",
       "      <td>0</td>\n",
       "      <td>0</td>\n",
       "      <td>0</td>\n",
       "      <td>0</td>\n",
       "      <td>1</td>\n",
       "      <td>0</td>\n",
       "      <td>0</td>\n",
       "      <td>1</td>\n",
       "      <td>0</td>\n",
       "      <td>0</td>\n",
       "      <td>0</td>\n",
       "      <td>0</td>\n",
       "      <td>0</td>\n",
       "      <td>0</td>\n",
       "      <td>0</td>\n",
       "      <td>0</td>\n",
       "      <td>0</td>\n",
       "      <td>0</td>\n",
       "      <td>0</td>\n",
       "      <td>0</td>\n",
       "      <td>0</td>\n",
       "      <td>0</td>\n",
       "      <td>0</td>\n",
       "      <td>0</td>\n",
       "      <td>1</td>\n",
       "    </tr>\n",
       "    <tr>\n",
       "      <th>4</th>\n",
       "      <td>10995</td>\n",
       "      <td>2014.0</td>\n",
       "      <td>112383.0</td>\n",
       "      <td>35.7636</td>\n",
       "      <td>-78.7443</td>\n",
       "      <td>0</td>\n",
       "      <td>0</td>\n",
       "      <td>0</td>\n",
       "      <td>0</td>\n",
       "      <td>0</td>\n",
       "      <td>0</td>\n",
       "      <td>0</td>\n",
       "      <td>1</td>\n",
       "      <td>0</td>\n",
       "      <td>0</td>\n",
       "      <td>0</td>\n",
       "      <td>0</td>\n",
       "      <td>0</td>\n",
       "      <td>0</td>\n",
       "      <td>0</td>\n",
       "      <td>0</td>\n",
       "      <td>0</td>\n",
       "      <td>0</td>\n",
       "      <td>0</td>\n",
       "      <td>0</td>\n",
       "      <td>0</td>\n",
       "      <td>0</td>\n",
       "      <td>0</td>\n",
       "      <td>0</td>\n",
       "      <td>0</td>\n",
       "      <td>0</td>\n",
       "      <td>0</td>\n",
       "      <td>0</td>\n",
       "      <td>0</td>\n",
       "      <td>0</td>\n",
       "      <td>0</td>\n",
       "      <td>0</td>\n",
       "      <td>0</td>\n",
       "      <td>0</td>\n",
       "      <td>0</td>\n",
       "      <td>...</td>\n",
       "      <td>0</td>\n",
       "      <td>0</td>\n",
       "      <td>0</td>\n",
       "      <td>0</td>\n",
       "      <td>0</td>\n",
       "      <td>0</td>\n",
       "      <td>1</td>\n",
       "      <td>0</td>\n",
       "      <td>0</td>\n",
       "      <td>0</td>\n",
       "      <td>1</td>\n",
       "      <td>0</td>\n",
       "      <td>0</td>\n",
       "      <td>1</td>\n",
       "      <td>0</td>\n",
       "      <td>0</td>\n",
       "      <td>0</td>\n",
       "      <td>0</td>\n",
       "      <td>0</td>\n",
       "      <td>1</td>\n",
       "      <td>0</td>\n",
       "      <td>0</td>\n",
       "      <td>0</td>\n",
       "      <td>1</td>\n",
       "      <td>0</td>\n",
       "      <td>0</td>\n",
       "      <td>1</td>\n",
       "      <td>0</td>\n",
       "      <td>0</td>\n",
       "      <td>0</td>\n",
       "      <td>0</td>\n",
       "      <td>0</td>\n",
       "      <td>0</td>\n",
       "      <td>0</td>\n",
       "      <td>0</td>\n",
       "      <td>0</td>\n",
       "      <td>0</td>\n",
       "      <td>0</td>\n",
       "      <td>0</td>\n",
       "      <td>0</td>\n",
       "    </tr>\n",
       "  </tbody>\n",
       "</table>\n",
       "<p>5 rows × 96 columns</p>\n",
       "</div>"
      ],
      "text/plain": [
       "   price    year  odometer  ...  type_truck  type_van  type_wagon\n",
       "0  10299  2012.0   90186.0  ...           0         0           0\n",
       "1   9500  2011.0   85000.0  ...           0         0           0\n",
       "2   3995  2004.0  212526.0  ...           0         0           0\n",
       "3  12995  2015.0   85127.0  ...           0         0           1\n",
       "4  10995  2014.0  112383.0  ...           0         0           0\n",
       "\n",
       "[5 rows x 96 columns]"
      ]
     },
     "execution_count": 38,
     "metadata": {
      "tags": []
     },
     "output_type": "execute_result"
    }
   ],
   "source": [
    "# Let's now convert our categorical columns into dummy variables:\n",
    "df_work3 = pd.get_dummies(df_work2)\n",
    "\n",
    "# Let's reset index, and remove all the spaces within column names and make them all lowercase (in case if there are some uppercase letters):\n",
    "df_work3.columns = df_work3.columns.str.replace(' ', '_')\n",
    "df_work3.columns = map(str.lower, df_work3.columns)\n",
    "\n",
    "# Resetting index:\n",
    "df_work3 = df_work3.reset_index().drop(columns = ['index']).copy()\n",
    "print('The shape of our new dataframe is: ', df_work3.shape)\n",
    "print()\n",
    "df_work3.head()"
   ]
  },
  {
   "cell_type": "markdown",
   "metadata": {
    "colab_type": "text",
    "id": "2c2s7mveq7yz"
   },
   "source": [
    "Now we have our clean processed dataframe. Let's move onto the modelling part.\n",
    "\n",
    "Again, please note, that this notebook will focus only on the Neural Network modelling part. The 1st notebook runs through all other ScikitLearn and XGBoost regression models."
   ]
  },
  {
   "cell_type": "markdown",
   "metadata": {
    "colab_type": "text",
    "id": "CHpZDk4mq7y0"
   },
   "source": [
    " "
   ]
  },
  {
   "cell_type": "markdown",
   "metadata": {
    "colab_type": "text",
    "id": "-bstrGHymgUP"
   },
   "source": [
    "## Part 2: Modelling"
   ]
  },
  {
   "cell_type": "markdown",
   "metadata": {
    "colab_type": "text",
    "id": "apA5YI2XNEko"
   },
   "source": [
    "### 2.12. MLP Regression"
   ]
  },
  {
   "cell_type": "code",
   "execution_count": 79,
   "metadata": {
    "colab": {
     "base_uri": "https://localhost:8080/",
     "height": 212
    },
    "colab_type": "code",
    "id": "nRA6s7cZ0CNv",
    "outputId": "ce0cf928-c325-4857-9582-4723917db7b7"
   },
   "outputs": [
    {
     "name": "stdout",
     "output_type": "stream",
     "text": [
      "X_mlp shape: (362854, 95)\n",
      "y_mlp shape: (362854,)\n",
      "X_mlp_train shape: (290283, 95)\n",
      "y_mlp_train shape: (290283,)\n",
      "X_mlp_test shape: (72571, 95)\n",
      "y_mlp_test shape: (72571,)\n",
      "------------------------------------------------------------------------------------------------------------\n",
      "The mean absolute error of our model is:  2674.2216117688467\n",
      "The mean value of the price column is:  14254.943448484932\n",
      "The train set R^2 of our model is:  0.8311\n",
      "The test set R^2 of our model is:  0.8284\n"
     ]
    }
   ],
   "source": [
    "# ScikitLearn MLP Regression (default values):\n",
    "\n",
    "# Assigning data (X) and target (y) columns:\n",
    "X_mlp = df_work3.loc[:, df_work3.columns != 'price']\n",
    "y_mlp = df_work3['price']\n",
    "\n",
    "print('X_mlp shape:', X_mlp.shape)\n",
    "print('y_mlp shape:', y_mlp.shape)\n",
    "\n",
    "# Let's split our dataframe into train and test sets:\n",
    "X_mlp_train, X_mlp_test, y_mlp_train, y_mlp_test = train_test_split(X_mlp, y_mlp, test_size = 0.2, random_state=1)\n",
    "\n",
    "print('X_mlp_train shape:', X_mlp_train.shape)\n",
    "print('y_mlp_train shape:', y_mlp_train.shape)\n",
    "print('X_mlp_test shape:', X_mlp_test.shape)\n",
    "print('y_mlp_test shape:', y_mlp_test.shape)\n",
    "print(\"------------------------------------------------------------------------------------------------------------\")\n",
    "\n",
    "# Scale and Transform data:\n",
    "scaler = StandardScaler()\n",
    "scaler.fit(X_mlp_train)\n",
    "X_mlp_train = scaler.transform(X_mlp_train)\n",
    "X_mlp_test = scaler.transform(X_mlp_test)\n",
    "\n",
    "# 1. Instantiate the model:\n",
    "myMLP = MLPRegressor()\n",
    "\n",
    "# 2. Fit the model:\n",
    "myMLP.fit(X_mlp_train, y_mlp_train)\n",
    "\n",
    "# 3. Make prediction (will use it for mae):\n",
    "y_mlp_test_pred = myMLP.predict(X_mlp_test)\n",
    "\n",
    "# 4. R^2 score check:\n",
    "print(\"The mean absolute error of our model is: \", mae(y_mlp_test, y_mlp_test_pred))\n",
    "print(\"The mean value of the price column is: \", y_mlp_test.mean())\n",
    "print(\"The train set R^2 of our model is: \", round(myMLP.score(X_mlp_train,y_mlp_train),4))\n",
    "print(\"The test set R^2 of our model is: \", round(myMLP.score(X_mlp_test,y_mlp_test),4))"
   ]
  },
  {
   "cell_type": "markdown",
   "metadata": {
    "colab_type": "text",
    "id": "enZmrTOLyiOb"
   },
   "source": [
    "We can see that the R^2 score and MAE values are lower than that of RandomForestRegressor and XGBRegressor models, that were run in the 1st notebook."
   ]
  },
  {
   "cell_type": "code",
   "execution_count": 80,
   "metadata": {
    "colab": {
     "base_uri": "https://localhost:8080/",
     "height": 153
    },
    "colab_type": "code",
    "id": "6XZ3h_IFyCuS",
    "outputId": "cb9d0e2f-5237-48e1-dbb8-4a3401220fc5"
   },
   "outputs": [
    {
     "data": {
      "text/plain": [
       "MLPRegressor(activation='relu', alpha=0.0001, batch_size='auto', beta_1=0.9,\n",
       "             beta_2=0.999, early_stopping=False, epsilon=1e-08,\n",
       "             hidden_layer_sizes=(100,), learning_rate='constant',\n",
       "             learning_rate_init=0.001, max_fun=15000, max_iter=200,\n",
       "             momentum=0.9, n_iter_no_change=10, nesterovs_momentum=True,\n",
       "             power_t=0.5, random_state=None, shuffle=True, solver='adam',\n",
       "             tol=0.0001, validation_fraction=0.1, verbose=False,\n",
       "             warm_start=False)"
      ]
     },
     "execution_count": 80,
     "metadata": {
      "tags": []
     },
     "output_type": "execute_result"
    }
   ],
   "source": [
    "# Here are our model default values:\n",
    "myMLP"
   ]
  },
  {
   "cell_type": "markdown",
   "metadata": {
    "colab_type": "text",
    "id": "2_sYkspQ3yA-"
   },
   "source": [
    "Let's now try different parameters and see if we can improve results from the default MLPRegressor model."
   ]
  },
  {
   "cell_type": "code",
   "execution_count": 83,
   "metadata": {
    "colab": {
     "base_uri": "https://localhost:8080/",
     "height": 204
    },
    "colab_type": "code",
    "id": "EAXt1LYYxLGm",
    "outputId": "842357fe-4b65-4298-f8fa-a0701ea93c12"
   },
   "outputs": [
    {
     "name": "stdout",
     "output_type": "stream",
     "text": [
      "X_mlp shape: (362854, 95)\n",
      "y_mlp shape: (362854,)\n",
      "X_mlp_train shape: (290283, 95)\n",
      "y_mlp_train shape: (290283,)\n",
      "X_mlp_test shape: (72571, 95)\n",
      "y_mlp_test shape: (72571,)\n",
      "------------------------------------------------------------------------------------------------------------\n",
      "The mean absolute error of our model is:  2672.6555608880376\n",
      "The mean value of the price column is:  14254.943448484932\n",
      "The train set R^2 of our model is:  0.8303\n",
      "The test set R^2 of our model is:  0.8282\n"
     ]
    }
   ],
   "source": [
    "# ScikitLearn MLP Regression (customized parameters):\n",
    "\n",
    "# Assigning data (X) and target (y) columns:\n",
    "X_mlp = df_work3.loc[:, df_work3.columns != 'price']\n",
    "y_mlp = df_work3['price']\n",
    "\n",
    "print('X_mlp shape:', X_mlp.shape)\n",
    "print('y_mlp shape:', y_mlp.shape)\n",
    "\n",
    "# Let's split our dataframe into train and test sets:\n",
    "X_mlp_train, X_mlp_test, y_mlp_train, y_mlp_test = train_test_split(X_mlp, y_mlp, test_size = 0.2, random_state=1)\n",
    "\n",
    "print('X_mlp_train shape:', X_mlp_train.shape)\n",
    "print('y_mlp_train shape:', y_mlp_train.shape)\n",
    "print('X_mlp_test shape:', X_mlp_test.shape)\n",
    "print('y_mlp_test shape:', y_mlp_test.shape)\n",
    "print(\"------------------------------------------------------------------------------------------------------------\")\n",
    "\n",
    "# Scale and Transform data:\n",
    "scaler = StandardScaler()\n",
    "scaler.fit(X_mlp_train)\n",
    "X_mlp_train = scaler.transform(X_mlp_train)\n",
    "X_mlp_test = scaler.transform(X_mlp_test)\n",
    "\n",
    "# 1. Instantiate the model:\n",
    "myMLP = MLPRegressor(max_iter=1000, random_state=1, early_stopping=True, n_iter_no_change=50)\n",
    "\n",
    "# 2. Fit the model:\n",
    "myMLP.fit(X_mlp_train, y_mlp_train)\n",
    "\n",
    "# 3. Make prediction (will use it for mae):\n",
    "y_mlp_test_pred = myMLP.predict(X_mlp_test)\n",
    "\n",
    "# 4. R^2 score check:\n",
    "print(\"The mean absolute error of our model is: \", mae(y_mlp_test, y_mlp_test_pred))\n",
    "print(\"The mean value of the price column is: \", y_mlp_test.mean())\n",
    "print(\"The train set R^2 of our model is: \", round(myMLP.score(X_mlp_train,y_mlp_train),4))\n",
    "print(\"The test set R^2 of our model is: \", round(myMLP.score(X_mlp_test,y_mlp_test),4))"
   ]
  },
  {
   "cell_type": "markdown",
   "metadata": {
    "colab_type": "text",
    "id": "1RV7DqRY6DMs"
   },
   "source": [
    "We still got same result. Let's try adjusting another parameter. "
   ]
  },
  {
   "cell_type": "code",
   "execution_count": 84,
   "metadata": {
    "colab": {
     "base_uri": "https://localhost:8080/",
     "height": 212
    },
    "colab_type": "code",
    "id": "5UikePQM6P7U",
    "outputId": "cc33e0b3-5911-4f3e-e0bc-bbb45458a8c8"
   },
   "outputs": [
    {
     "name": "stdout",
     "output_type": "stream",
     "text": [
      "X_mlp shape: (362854, 95)\n",
      "y_mlp shape: (362854,)\n",
      "X_mlp_train shape: (290283, 95)\n",
      "y_mlp_train shape: (290283,)\n",
      "X_mlp_test shape: (72571, 95)\n",
      "y_mlp_test shape: (72571,)\n",
      "------------------------------------------------------------------------------------------------------------\n",
      "The mean absolute error of our model is:  2672.6555608880376\n",
      "The mean value of the price column is:  14254.943448484932\n",
      "The train set R^2 of our model is:  0.8303\n",
      "The test set R^2 of our model is:  0.8282\n"
     ]
    }
   ],
   "source": [
    "# ScikitLearn MLP Regression (customized parameters, learning rate='adaptive'):\n",
    "\n",
    "# Assigning data (X) and target (y) columns:\n",
    "X_mlp = df_work3.loc[:, df_work3.columns != 'price']\n",
    "y_mlp = df_work3['price']\n",
    "\n",
    "print('X_mlp shape:', X_mlp.shape)\n",
    "print('y_mlp shape:', y_mlp.shape)\n",
    "\n",
    "# Let's split our dataframe into train and test sets:\n",
    "X_mlp_train, X_mlp_test, y_mlp_train, y_mlp_test = train_test_split(X_mlp, y_mlp, test_size = 0.2, random_state=1)\n",
    "\n",
    "print('X_mlp_train shape:', X_mlp_train.shape)\n",
    "print('y_mlp_train shape:', y_mlp_train.shape)\n",
    "print('X_mlp_test shape:', X_mlp_test.shape)\n",
    "print('y_mlp_test shape:', y_mlp_test.shape)\n",
    "print(\"------------------------------------------------------------------------------------------------------------\")\n",
    "\n",
    "# Scale and Transform data:\n",
    "scaler = StandardScaler()\n",
    "scaler.fit(X_mlp_train)\n",
    "X_mlp_train = scaler.transform(X_mlp_train)\n",
    "X_mlp_test = scaler.transform(X_mlp_test)\n",
    "\n",
    "# 1. Instantiate the model:\n",
    "myMLP = MLPRegressor(learning_rate='adaptive', max_iter=1000, random_state=1, early_stopping=True, n_iter_no_change=50)\n",
    "\n",
    "# 2. Fit the model:\n",
    "myMLP.fit(X_mlp_train, y_mlp_train)\n",
    "\n",
    "# 3. Make prediction (will use it for mae):\n",
    "y_mlp_test_pred = myMLP.predict(X_mlp_test)\n",
    "\n",
    "# 4. R^2 score check:\n",
    "print(\"The mean absolute error of our model is: \", mae(y_mlp_test, y_mlp_test_pred))\n",
    "print(\"The mean value of the price column is: \", y_mlp_test.mean())\n",
    "print(\"The train set R^2 of our model is: \", round(myMLP.score(X_mlp_train,y_mlp_train),4))\n",
    "print(\"The test set R^2 of our model is: \", round(myMLP.score(X_mlp_test,y_mlp_test),4))"
   ]
  },
  {
   "cell_type": "markdown",
   "metadata": {
    "colab_type": "text",
    "id": "KxQWM4-g9U0q"
   },
   "source": [
    "Still no improvement. Let's now move onto our Keras model."
   ]
  },
  {
   "cell_type": "markdown",
   "metadata": {
    "colab_type": "text",
    "id": "1CrqAb160COH"
   },
   "source": [
    " "
   ]
  },
  {
   "cell_type": "markdown",
   "metadata": {
    "colab_type": "text",
    "id": "f--jJJLH0M6f"
   },
   "source": [
    "### 2.13. Keras"
   ]
  },
  {
   "cell_type": "code",
   "execution_count": 39,
   "metadata": {
    "colab": {
     "base_uri": "https://localhost:8080/",
     "height": 387
    },
    "colab_type": "code",
    "id": "d-gfSVwq0CNd",
    "outputId": "c2377228-b903-4757-815a-dd2395443aa8"
   },
   "outputs": [
    {
     "name": "stdout",
     "output_type": "stream",
     "text": [
      "X_train shape: (290283, 95)\n",
      "X_test shape: (72571, 95)\n",
      "y_train shape: (290283,)\n",
      "y_test shape: (72571,)\n",
      "-------------------------------------------------------------------------------------------------------------\n",
      "X_train_df shape: (290283, 95)\n",
      "X_test_df shape: (72571, 95)\n"
     ]
    },
    {
     "data": {
      "text/html": [
       "<div>\n",
       "<style scoped>\n",
       "    .dataframe tbody tr th:only-of-type {\n",
       "        vertical-align: middle;\n",
       "    }\n",
       "\n",
       "    .dataframe tbody tr th {\n",
       "        vertical-align: top;\n",
       "    }\n",
       "\n",
       "    .dataframe thead th {\n",
       "        text-align: right;\n",
       "    }\n",
       "</style>\n",
       "<table border=\"1\" class=\"dataframe\">\n",
       "  <thead>\n",
       "    <tr style=\"text-align: right;\">\n",
       "      <th></th>\n",
       "      <th>year</th>\n",
       "      <th>odometer</th>\n",
       "      <th>lat</th>\n",
       "      <th>long</th>\n",
       "      <th>manufacturer_acura</th>\n",
       "      <th>manufacturer_alfa-romeo</th>\n",
       "      <th>manufacturer_aston-martin</th>\n",
       "      <th>manufacturer_audi</th>\n",
       "      <th>manufacturer_bmw</th>\n",
       "      <th>manufacturer_buick</th>\n",
       "      <th>manufacturer_cadillac</th>\n",
       "      <th>manufacturer_chevrolet</th>\n",
       "      <th>manufacturer_chrysler</th>\n",
       "      <th>manufacturer_datsun</th>\n",
       "      <th>manufacturer_dodge</th>\n",
       "      <th>manufacturer_ferrari</th>\n",
       "      <th>manufacturer_fiat</th>\n",
       "      <th>manufacturer_ford</th>\n",
       "      <th>manufacturer_gmc</th>\n",
       "      <th>manufacturer_harley-davidson</th>\n",
       "      <th>manufacturer_honda</th>\n",
       "      <th>manufacturer_hyundai</th>\n",
       "      <th>manufacturer_infiniti</th>\n",
       "      <th>manufacturer_jaguar</th>\n",
       "      <th>manufacturer_jeep</th>\n",
       "      <th>manufacturer_kia</th>\n",
       "      <th>manufacturer_land_rover</th>\n",
       "      <th>manufacturer_lexus</th>\n",
       "      <th>manufacturer_lincoln</th>\n",
       "      <th>manufacturer_mazda</th>\n",
       "      <th>manufacturer_mercedes-benz</th>\n",
       "      <th>manufacturer_mercury</th>\n",
       "      <th>manufacturer_mini</th>\n",
       "      <th>manufacturer_missing</th>\n",
       "      <th>manufacturer_mitsubishi</th>\n",
       "      <th>manufacturer_morgan</th>\n",
       "      <th>manufacturer_nissan</th>\n",
       "      <th>manufacturer_pontiac</th>\n",
       "      <th>manufacturer_porche</th>\n",
       "      <th>manufacturer_ram</th>\n",
       "      <th>...</th>\n",
       "      <th>cylinders_12_cylinders</th>\n",
       "      <th>cylinders_3_cylinders</th>\n",
       "      <th>cylinders_4_cylinders</th>\n",
       "      <th>cylinders_5_cylinders</th>\n",
       "      <th>cylinders_6_cylinders</th>\n",
       "      <th>cylinders_8_cylinders</th>\n",
       "      <th>cylinders_missing</th>\n",
       "      <th>cylinders_other</th>\n",
       "      <th>fuel_diesel</th>\n",
       "      <th>fuel_electric</th>\n",
       "      <th>fuel_gas</th>\n",
       "      <th>fuel_hybrid</th>\n",
       "      <th>fuel_other</th>\n",
       "      <th>title_status_clean</th>\n",
       "      <th>title_status_lien</th>\n",
       "      <th>title_status_missing</th>\n",
       "      <th>title_status_parts_only</th>\n",
       "      <th>title_status_rebuilt</th>\n",
       "      <th>title_status_salvage</th>\n",
       "      <th>transmission_automatic</th>\n",
       "      <th>transmission_manual</th>\n",
       "      <th>transmission_other</th>\n",
       "      <th>drive_4wd</th>\n",
       "      <th>drive_fwd</th>\n",
       "      <th>drive_missing</th>\n",
       "      <th>drive_rwd</th>\n",
       "      <th>type_suv</th>\n",
       "      <th>type_bus</th>\n",
       "      <th>type_convertible</th>\n",
       "      <th>type_coupe</th>\n",
       "      <th>type_hatchback</th>\n",
       "      <th>type_mini-van</th>\n",
       "      <th>type_missing</th>\n",
       "      <th>type_offroad</th>\n",
       "      <th>type_other</th>\n",
       "      <th>type_pickup</th>\n",
       "      <th>type_sedan</th>\n",
       "      <th>type_truck</th>\n",
       "      <th>type_van</th>\n",
       "      <th>type_wagon</th>\n",
       "    </tr>\n",
       "  </thead>\n",
       "  <tbody>\n",
       "    <tr>\n",
       "      <th>274246</th>\n",
       "      <td>-1.568276</td>\n",
       "      <td>1.472105</td>\n",
       "      <td>-0.254476</td>\n",
       "      <td>-1.115685</td>\n",
       "      <td>-0.089426</td>\n",
       "      <td>-0.012993</td>\n",
       "      <td>-0.007189</td>\n",
       "      <td>-0.11092</td>\n",
       "      <td>-0.174007</td>\n",
       "      <td>-0.120828</td>\n",
       "      <td>-0.125866</td>\n",
       "      <td>2.423302</td>\n",
       "      <td>-0.127382</td>\n",
       "      <td>-0.007653</td>\n",
       "      <td>-0.185665</td>\n",
       "      <td>-0.002625</td>\n",
       "      <td>-0.044667</td>\n",
       "      <td>-0.469686</td>\n",
       "      <td>-0.215408</td>\n",
       "      <td>-0.020672</td>\n",
       "      <td>-0.229656</td>\n",
       "      <td>-0.15817</td>\n",
       "      <td>-0.091727</td>\n",
       "      <td>-0.04741</td>\n",
       "      <td>-0.226757</td>\n",
       "      <td>-0.137717</td>\n",
       "      <td>-0.006945</td>\n",
       "      <td>-0.115094</td>\n",
       "      <td>-0.082174</td>\n",
       "      <td>-0.11322</td>\n",
       "      <td>-0.153638</td>\n",
       "      <td>-0.058083</td>\n",
       "      <td>-0.072192</td>\n",
       "      <td>-0.171575</td>\n",
       "      <td>-0.070902</td>\n",
       "      <td>0.0</td>\n",
       "      <td>-0.239802</td>\n",
       "      <td>-0.080087</td>\n",
       "      <td>-0.00525</td>\n",
       "      <td>-0.229573</td>\n",
       "      <td>...</td>\n",
       "      <td>-0.016707</td>\n",
       "      <td>-0.034193</td>\n",
       "      <td>-0.495843</td>\n",
       "      <td>-0.077745</td>\n",
       "      <td>1.777548</td>\n",
       "      <td>-0.500282</td>\n",
       "      <td>-0.732655</td>\n",
       "      <td>-0.039839</td>\n",
       "      <td>-0.286657</td>\n",
       "      <td>-0.042362</td>\n",
       "      <td>0.373491</td>\n",
       "      <td>-0.093468</td>\n",
       "      <td>-0.193341</td>\n",
       "      <td>0.22426</td>\n",
       "      <td>-0.081191</td>\n",
       "      <td>-0.075723</td>\n",
       "      <td>-0.012452</td>\n",
       "      <td>-0.159833</td>\n",
       "      <td>-0.103353</td>\n",
       "      <td>0.371188</td>\n",
       "      <td>-0.246092</td>\n",
       "      <td>-0.261472</td>\n",
       "      <td>-0.760456</td>\n",
       "      <td>-0.622607</td>\n",
       "      <td>-0.516621</td>\n",
       "      <td>2.442348</td>\n",
       "      <td>-0.494274</td>\n",
       "      <td>-0.033064</td>\n",
       "      <td>-0.138636</td>\n",
       "      <td>4.573267</td>\n",
       "      <td>-0.185207</td>\n",
       "      <td>-0.120799</td>\n",
       "      <td>-0.471935</td>\n",
       "      <td>-0.03874</td>\n",
       "      <td>-0.194317</td>\n",
       "      <td>-0.370911</td>\n",
       "      <td>-0.502084</td>\n",
       "      <td>-0.329734</td>\n",
       "      <td>-0.152825</td>\n",
       "      <td>-0.167652</td>\n",
       "    </tr>\n",
       "    <tr>\n",
       "      <th>209009</th>\n",
       "      <td>0.056912</td>\n",
       "      <td>0.611070</td>\n",
       "      <td>1.250287</td>\n",
       "      <td>0.390028</td>\n",
       "      <td>-0.089426</td>\n",
       "      <td>-0.012993</td>\n",
       "      <td>-0.007189</td>\n",
       "      <td>-0.11092</td>\n",
       "      <td>-0.174007</td>\n",
       "      <td>-0.120828</td>\n",
       "      <td>-0.125866</td>\n",
       "      <td>-0.412660</td>\n",
       "      <td>-0.127382</td>\n",
       "      <td>-0.007653</td>\n",
       "      <td>-0.185665</td>\n",
       "      <td>-0.002625</td>\n",
       "      <td>-0.044667</td>\n",
       "      <td>2.129083</td>\n",
       "      <td>-0.215408</td>\n",
       "      <td>-0.020672</td>\n",
       "      <td>-0.229656</td>\n",
       "      <td>-0.15817</td>\n",
       "      <td>-0.091727</td>\n",
       "      <td>-0.04741</td>\n",
       "      <td>-0.226757</td>\n",
       "      <td>-0.137717</td>\n",
       "      <td>-0.006945</td>\n",
       "      <td>-0.115094</td>\n",
       "      <td>-0.082174</td>\n",
       "      <td>-0.11322</td>\n",
       "      <td>-0.153638</td>\n",
       "      <td>-0.058083</td>\n",
       "      <td>-0.072192</td>\n",
       "      <td>-0.171575</td>\n",
       "      <td>-0.070902</td>\n",
       "      <td>0.0</td>\n",
       "      <td>-0.239802</td>\n",
       "      <td>-0.080087</td>\n",
       "      <td>-0.00525</td>\n",
       "      <td>-0.229573</td>\n",
       "      <td>...</td>\n",
       "      <td>-0.016707</td>\n",
       "      <td>-0.034193</td>\n",
       "      <td>2.016767</td>\n",
       "      <td>-0.077745</td>\n",
       "      <td>-0.562573</td>\n",
       "      <td>-0.500282</td>\n",
       "      <td>-0.732655</td>\n",
       "      <td>-0.039839</td>\n",
       "      <td>-0.286657</td>\n",
       "      <td>-0.042362</td>\n",
       "      <td>0.373491</td>\n",
       "      <td>-0.093468</td>\n",
       "      <td>-0.193341</td>\n",
       "      <td>0.22426</td>\n",
       "      <td>-0.081191</td>\n",
       "      <td>-0.075723</td>\n",
       "      <td>-0.012452</td>\n",
       "      <td>-0.159833</td>\n",
       "      <td>-0.103353</td>\n",
       "      <td>0.371188</td>\n",
       "      <td>-0.246092</td>\n",
       "      <td>-0.261472</td>\n",
       "      <td>-0.760456</td>\n",
       "      <td>1.606150</td>\n",
       "      <td>-0.516621</td>\n",
       "      <td>-0.409442</td>\n",
       "      <td>-0.494274</td>\n",
       "      <td>-0.033064</td>\n",
       "      <td>-0.138636</td>\n",
       "      <td>-0.218662</td>\n",
       "      <td>-0.185207</td>\n",
       "      <td>-0.120799</td>\n",
       "      <td>-0.471935</td>\n",
       "      <td>-0.03874</td>\n",
       "      <td>-0.194317</td>\n",
       "      <td>-0.370911</td>\n",
       "      <td>1.991697</td>\n",
       "      <td>-0.329734</td>\n",
       "      <td>-0.152825</td>\n",
       "      <td>-0.167652</td>\n",
       "    </tr>\n",
       "    <tr>\n",
       "      <th>237307</th>\n",
       "      <td>-1.125043</td>\n",
       "      <td>0.451767</td>\n",
       "      <td>-0.661848</td>\n",
       "      <td>0.357032</td>\n",
       "      <td>-0.089426</td>\n",
       "      <td>-0.012993</td>\n",
       "      <td>-0.007189</td>\n",
       "      <td>-0.11092</td>\n",
       "      <td>-0.174007</td>\n",
       "      <td>-0.120828</td>\n",
       "      <td>-0.125866</td>\n",
       "      <td>2.423302</td>\n",
       "      <td>-0.127382</td>\n",
       "      <td>-0.007653</td>\n",
       "      <td>-0.185665</td>\n",
       "      <td>-0.002625</td>\n",
       "      <td>-0.044667</td>\n",
       "      <td>-0.469686</td>\n",
       "      <td>-0.215408</td>\n",
       "      <td>-0.020672</td>\n",
       "      <td>-0.229656</td>\n",
       "      <td>-0.15817</td>\n",
       "      <td>-0.091727</td>\n",
       "      <td>-0.04741</td>\n",
       "      <td>-0.226757</td>\n",
       "      <td>-0.137717</td>\n",
       "      <td>-0.006945</td>\n",
       "      <td>-0.115094</td>\n",
       "      <td>-0.082174</td>\n",
       "      <td>-0.11322</td>\n",
       "      <td>-0.153638</td>\n",
       "      <td>-0.058083</td>\n",
       "      <td>-0.072192</td>\n",
       "      <td>-0.171575</td>\n",
       "      <td>-0.070902</td>\n",
       "      <td>0.0</td>\n",
       "      <td>-0.239802</td>\n",
       "      <td>-0.080087</td>\n",
       "      <td>-0.00525</td>\n",
       "      <td>-0.229573</td>\n",
       "      <td>...</td>\n",
       "      <td>-0.016707</td>\n",
       "      <td>-0.034193</td>\n",
       "      <td>-0.495843</td>\n",
       "      <td>-0.077745</td>\n",
       "      <td>1.777548</td>\n",
       "      <td>-0.500282</td>\n",
       "      <td>-0.732655</td>\n",
       "      <td>-0.039839</td>\n",
       "      <td>-0.286657</td>\n",
       "      <td>-0.042362</td>\n",
       "      <td>0.373491</td>\n",
       "      <td>-0.093468</td>\n",
       "      <td>-0.193341</td>\n",
       "      <td>0.22426</td>\n",
       "      <td>-0.081191</td>\n",
       "      <td>-0.075723</td>\n",
       "      <td>-0.012452</td>\n",
       "      <td>-0.159833</td>\n",
       "      <td>-0.103353</td>\n",
       "      <td>0.371188</td>\n",
       "      <td>-0.246092</td>\n",
       "      <td>-0.261472</td>\n",
       "      <td>-0.760456</td>\n",
       "      <td>1.606150</td>\n",
       "      <td>-0.516621</td>\n",
       "      <td>-0.409442</td>\n",
       "      <td>-0.494274</td>\n",
       "      <td>-0.033064</td>\n",
       "      <td>-0.138636</td>\n",
       "      <td>4.573267</td>\n",
       "      <td>-0.185207</td>\n",
       "      <td>-0.120799</td>\n",
       "      <td>-0.471935</td>\n",
       "      <td>-0.03874</td>\n",
       "      <td>-0.194317</td>\n",
       "      <td>-0.370911</td>\n",
       "      <td>-0.502084</td>\n",
       "      <td>-0.329734</td>\n",
       "      <td>-0.152825</td>\n",
       "      <td>-0.167652</td>\n",
       "    </tr>\n",
       "    <tr>\n",
       "      <th>106456</th>\n",
       "      <td>1.091123</td>\n",
       "      <td>-1.028549</td>\n",
       "      <td>0.594862</td>\n",
       "      <td>-0.053229</td>\n",
       "      <td>-0.089426</td>\n",
       "      <td>-0.012993</td>\n",
       "      <td>-0.007189</td>\n",
       "      <td>-0.11092</td>\n",
       "      <td>-0.174007</td>\n",
       "      <td>-0.120828</td>\n",
       "      <td>-0.125866</td>\n",
       "      <td>-0.412660</td>\n",
       "      <td>-0.127382</td>\n",
       "      <td>-0.007653</td>\n",
       "      <td>-0.185665</td>\n",
       "      <td>-0.002625</td>\n",
       "      <td>-0.044667</td>\n",
       "      <td>-0.469686</td>\n",
       "      <td>-0.215408</td>\n",
       "      <td>-0.020672</td>\n",
       "      <td>-0.229656</td>\n",
       "      <td>-0.15817</td>\n",
       "      <td>-0.091727</td>\n",
       "      <td>-0.04741</td>\n",
       "      <td>-0.226757</td>\n",
       "      <td>-0.137717</td>\n",
       "      <td>-0.006945</td>\n",
       "      <td>-0.115094</td>\n",
       "      <td>-0.082174</td>\n",
       "      <td>-0.11322</td>\n",
       "      <td>-0.153638</td>\n",
       "      <td>-0.058083</td>\n",
       "      <td>-0.072192</td>\n",
       "      <td>-0.171575</td>\n",
       "      <td>-0.070902</td>\n",
       "      <td>0.0</td>\n",
       "      <td>-0.239802</td>\n",
       "      <td>-0.080087</td>\n",
       "      <td>-0.00525</td>\n",
       "      <td>-0.229573</td>\n",
       "      <td>...</td>\n",
       "      <td>-0.016707</td>\n",
       "      <td>-0.034193</td>\n",
       "      <td>2.016767</td>\n",
       "      <td>-0.077745</td>\n",
       "      <td>-0.562573</td>\n",
       "      <td>-0.500282</td>\n",
       "      <td>-0.732655</td>\n",
       "      <td>-0.039839</td>\n",
       "      <td>-0.286657</td>\n",
       "      <td>-0.042362</td>\n",
       "      <td>0.373491</td>\n",
       "      <td>-0.093468</td>\n",
       "      <td>-0.193341</td>\n",
       "      <td>0.22426</td>\n",
       "      <td>-0.081191</td>\n",
       "      <td>-0.075723</td>\n",
       "      <td>-0.012452</td>\n",
       "      <td>-0.159833</td>\n",
       "      <td>-0.103353</td>\n",
       "      <td>0.371188</td>\n",
       "      <td>-0.246092</td>\n",
       "      <td>-0.261472</td>\n",
       "      <td>1.315000</td>\n",
       "      <td>-0.622607</td>\n",
       "      <td>-0.516621</td>\n",
       "      <td>-0.409442</td>\n",
       "      <td>2.023171</td>\n",
       "      <td>-0.033064</td>\n",
       "      <td>-0.138636</td>\n",
       "      <td>-0.218662</td>\n",
       "      <td>-0.185207</td>\n",
       "      <td>-0.120799</td>\n",
       "      <td>-0.471935</td>\n",
       "      <td>-0.03874</td>\n",
       "      <td>-0.194317</td>\n",
       "      <td>-0.370911</td>\n",
       "      <td>-0.502084</td>\n",
       "      <td>-0.329734</td>\n",
       "      <td>-0.152825</td>\n",
       "      <td>-0.167652</td>\n",
       "    </tr>\n",
       "    <tr>\n",
       "      <th>162272</th>\n",
       "      <td>-0.386321</td>\n",
       "      <td>-0.312750</td>\n",
       "      <td>-1.846404</td>\n",
       "      <td>0.668117</td>\n",
       "      <td>-0.089426</td>\n",
       "      <td>-0.012993</td>\n",
       "      <td>-0.007189</td>\n",
       "      <td>-0.11092</td>\n",
       "      <td>-0.174007</td>\n",
       "      <td>-0.120828</td>\n",
       "      <td>-0.125866</td>\n",
       "      <td>2.423302</td>\n",
       "      <td>-0.127382</td>\n",
       "      <td>-0.007653</td>\n",
       "      <td>-0.185665</td>\n",
       "      <td>-0.002625</td>\n",
       "      <td>-0.044667</td>\n",
       "      <td>-0.469686</td>\n",
       "      <td>-0.215408</td>\n",
       "      <td>-0.020672</td>\n",
       "      <td>-0.229656</td>\n",
       "      <td>-0.15817</td>\n",
       "      <td>-0.091727</td>\n",
       "      <td>-0.04741</td>\n",
       "      <td>-0.226757</td>\n",
       "      <td>-0.137717</td>\n",
       "      <td>-0.006945</td>\n",
       "      <td>-0.115094</td>\n",
       "      <td>-0.082174</td>\n",
       "      <td>-0.11322</td>\n",
       "      <td>-0.153638</td>\n",
       "      <td>-0.058083</td>\n",
       "      <td>-0.072192</td>\n",
       "      <td>-0.171575</td>\n",
       "      <td>-0.070902</td>\n",
       "      <td>0.0</td>\n",
       "      <td>-0.239802</td>\n",
       "      <td>-0.080087</td>\n",
       "      <td>-0.00525</td>\n",
       "      <td>-0.229573</td>\n",
       "      <td>...</td>\n",
       "      <td>-0.016707</td>\n",
       "      <td>-0.034193</td>\n",
       "      <td>-0.495843</td>\n",
       "      <td>12.862608</td>\n",
       "      <td>-0.562573</td>\n",
       "      <td>-0.500282</td>\n",
       "      <td>-0.732655</td>\n",
       "      <td>-0.039839</td>\n",
       "      <td>-0.286657</td>\n",
       "      <td>-0.042362</td>\n",
       "      <td>0.373491</td>\n",
       "      <td>-0.093468</td>\n",
       "      <td>-0.193341</td>\n",
       "      <td>0.22426</td>\n",
       "      <td>-0.081191</td>\n",
       "      <td>-0.075723</td>\n",
       "      <td>-0.012452</td>\n",
       "      <td>-0.159833</td>\n",
       "      <td>-0.103353</td>\n",
       "      <td>0.371188</td>\n",
       "      <td>-0.246092</td>\n",
       "      <td>-0.261472</td>\n",
       "      <td>-0.760456</td>\n",
       "      <td>-0.622607</td>\n",
       "      <td>1.935653</td>\n",
       "      <td>-0.409442</td>\n",
       "      <td>-0.494274</td>\n",
       "      <td>-0.033064</td>\n",
       "      <td>-0.138636</td>\n",
       "      <td>-0.218662</td>\n",
       "      <td>-0.185207</td>\n",
       "      <td>-0.120799</td>\n",
       "      <td>-0.471935</td>\n",
       "      <td>-0.03874</td>\n",
       "      <td>-0.194317</td>\n",
       "      <td>-0.370911</td>\n",
       "      <td>-0.502084</td>\n",
       "      <td>3.032744</td>\n",
       "      <td>-0.152825</td>\n",
       "      <td>-0.167652</td>\n",
       "    </tr>\n",
       "  </tbody>\n",
       "</table>\n",
       "<p>5 rows × 95 columns</p>\n",
       "</div>"
      ],
      "text/plain": [
       "            year  odometer       lat  ...  type_truck  type_van  type_wagon\n",
       "274246 -1.568276  1.472105 -0.254476  ...   -0.329734 -0.152825   -0.167652\n",
       "209009  0.056912  0.611070  1.250287  ...   -0.329734 -0.152825   -0.167652\n",
       "237307 -1.125043  0.451767 -0.661848  ...   -0.329734 -0.152825   -0.167652\n",
       "106456  1.091123 -1.028549  0.594862  ...   -0.329734 -0.152825   -0.167652\n",
       "162272 -0.386321 -0.312750 -1.846404  ...    3.032744 -0.152825   -0.167652\n",
       "\n",
       "[5 rows x 95 columns]"
      ]
     },
     "execution_count": 39,
     "metadata": {
      "tags": []
     },
     "output_type": "execute_result"
    }
   ],
   "source": [
    "# Assigning data (X) and target (y) columns:\n",
    "X_train = df_work3.sample(frac=0.8,random_state=1)\n",
    "X_test = df_work3.drop(X_train.index)\n",
    "\n",
    "y_train = X_train.pop('price')\n",
    "y_test = X_test.pop('price')\n",
    "\n",
    "print('X_train shape:', X_train.shape)\n",
    "print('X_test shape:', X_test.shape)\n",
    "print('y_train shape:', y_train.shape)\n",
    "print('y_test shape:', y_test.shape)\n",
    "print(\"-------------------------------------------------------------------------------------------------------------\")\n",
    "\n",
    "# Scale and Transform data:\n",
    "scaler = StandardScaler()\n",
    "scaler.fit(X_train)\n",
    "X_train_scaled = scaler.transform(X_train)\n",
    "X_test_scaled = scaler.transform(X_test)\n",
    "\n",
    "# Transform numpy.ndarray back to dataframe:\n",
    "X_train_df = pd.DataFrame(X_train_scaled, index=X_train.index, columns=X_train.columns)\n",
    "X_test_df = pd.DataFrame(X_test_scaled, index=X_test.index, columns=X_test.columns)\n",
    "\n",
    "print('X_train_df shape:', X_train_df.shape)\n",
    "print('X_test_df shape:', X_test_df.shape)\n",
    "X_train_df.head()"
   ]
  },
  {
   "cell_type": "code",
   "execution_count": 41,
   "metadata": {
    "colab": {
     "base_uri": "https://localhost:8080/",
     "height": 34
    },
    "colab_type": "code",
    "id": "205tUxdLLRQE",
    "outputId": "1b5df3b8-3cf0-4618-ba7e-4ff88379e1c3"
   },
   "outputs": [
    {
     "name": "stderr",
     "output_type": "stream",
     "text": [
      "Using TensorFlow backend.\n"
     ]
    }
   ],
   "source": [
    "# Let's assign R^2 score calculation for Keras (source: https://stackoverflow.com/questions/45250100/kerasregressor-coefficient-of-determination-r2-score)\n",
    "from keras import backend as K\n",
    "\n",
    "def coeff_r2(y_true, y_pred):\n",
    "    SS_res = K.sum(K.square(y_true - y_pred)) \n",
    "    SS_tot = K.sum(K.square(y_true - K.mean(y_true))) \n",
    "    return (1 - SS_res/(SS_tot + K.epsilon()))\n",
    "\n",
    "# Let's create a class to display the progress of our model with dots for each epoch:\n",
    "class PrintDot(keras.callbacks.Callback):\n",
    "  def on_epoch_end(self, epoch, logs):\n",
    "    if epoch % 100 == 0: print('')\n",
    "    print('.',end='')"
   ]
  },
  {
   "cell_type": "code",
   "execution_count": 90,
   "metadata": {
    "colab": {
     "base_uri": "https://localhost:8080/",
     "height": 265
    },
    "colab_type": "code",
    "id": "EKuWXTzNTpWH",
    "outputId": "0d03940d-f1c2-4d3f-b2b6-4735d3069934"
   },
   "outputs": [
    {
     "name": "stdout",
     "output_type": "stream",
     "text": [
      "Model: \"sequential_1\"\n",
      "_________________________________________________________________\n",
      "Layer (type)                 Output Shape              Param #   \n",
      "=================================================================\n",
      "dense_3 (Dense)              (None, 95)                9120      \n",
      "_________________________________________________________________\n",
      "dense_4 (Dense)              (None, 95)                9120      \n",
      "_________________________________________________________________\n",
      "dense_5 (Dense)              (None, 1)                 96        \n",
      "=================================================================\n",
      "Total params: 18,336\n",
      "Trainable params: 18,336\n",
      "Non-trainable params: 0\n",
      "_________________________________________________________________\n"
     ]
    }
   ],
   "source": [
    "# Creating function to define our model's parameters (simple model, with RMSprop optimizer):\n",
    "def keras_model():\n",
    "  model = keras.Sequential([                           \n",
    "                            layers.Dense(95, activation=tf.nn.relu, input_shape=[len(X_train.keys())]),\n",
    "                            layers.Dense(95, activation=tf.nn.relu),\n",
    "                            layers.Dense(1)\n",
    "                            ])\n",
    "  my_optimizer = tf.keras.optimizers.RMSprop(0.001)\n",
    "  model.compile(loss='mse', optimizer=my_optimizer, metrics=['mae','mse', coeff_r2])\n",
    "  \n",
    "  return model\n",
    "\n",
    "# Assigning our function to our model:\n",
    "model = keras_model()\n",
    "\n",
    "# Let's inspect the model:\n",
    "model.summary()"
   ]
  },
  {
   "cell_type": "code",
   "execution_count": 91,
   "metadata": {
    "colab": {
     "base_uri": "https://localhost:8080/",
     "height": 52
    },
    "colab_type": "code",
    "id": "PPgD21rsWpH9",
    "outputId": "5b71e529-8c53-45e0-b67c-2f5cc8044212"
   },
   "outputs": [
    {
     "name": "stdout",
     "output_type": "stream",
     "text": [
      "\n",
      "...................................................."
     ]
    }
   ],
   "source": [
    "# Let's now train our model (1000 epochs):\n",
    "my_epochs = 1000\n",
    "\n",
    "# Assigning early stop:\n",
    "my_early_stop = keras.callbacks.EarlyStopping(monitor='val_loss', patience=50) # setting early stopping for 50 epochs with no improve in val_loss\n",
    "\n",
    "# Fitting our model:\n",
    "history = model.fit(X_train_scaled, y_train, epochs=my_epochs, validation_split = 0.2, verbose=0, callbacks=[my_early_stop, PrintDot()])"
   ]
  },
  {
   "cell_type": "code",
   "execution_count": 112,
   "metadata": {
    "colab": {
     "base_uri": "https://localhost:8080/",
     "height": 70
    },
    "colab_type": "code",
    "id": "u7mRfvGi0CNs",
    "outputId": "ae9a469d-58cf-46d7-a654-e88e66eb4321"
   },
   "outputs": [
    {
     "name": "stdout",
     "output_type": "stream",
     "text": [
      "The mean absolute error of our model is: 2532.01\n",
      "The mean value of the price column is:  14204.42\n",
      "The test set R^2 of our model is:  0.6862\n"
     ]
    }
   ],
   "source": [
    "# Let's see the mean absolute error of test set (1000 epochs):\n",
    "loss, mae, mse, r2 = model.evaluate(X_test_scaled, y_test, verbose=0)\n",
    "\n",
    "print('The mean absolute error of our model is:', round(mae,2))\n",
    "print('The mean value of the price column is: ', round(y_test.mean(),2))\n",
    "print('The test set R^2 of our model is: ', round(r2,4))"
   ]
  },
  {
   "cell_type": "markdown",
   "metadata": {},
   "source": [
    "Not the best R^2 score. Let's try to adjust some of our model's parameters."
   ]
  },
  {
   "cell_type": "code",
   "execution_count": 107,
   "metadata": {
    "colab": {
     "base_uri": "https://localhost:8080/",
     "height": 1000
    },
    "colab_type": "code",
    "id": "Zv9vHpC28qjZ",
    "outputId": "5a92d4f4-e31f-4f4a-c22e-c7ee670dfc54",
    "scrolled": true
   },
   "outputs": [
    {
     "name": "stdout",
     "output_type": "stream",
     "text": [
      "Epoch 1/1000\n",
      "7258/7258 [==============================] - 15s 2ms/step - loss: 37541020.0000 - mae: 3933.6836 - mse: 37541020.0000 - coeff_r2: 0.5827 - val_loss: 21133244.0000 - val_mae: 3086.7339 - val_mse: 21133244.0000 - val_coeff_r2: 0.7655\n",
      "Epoch 2/1000\n",
      "7258/7258 [==============================] - 16s 2ms/step - loss: 19838458.0000 - mae: 2972.3865 - mse: 19838458.0000 - coeff_r2: 0.7761 - val_loss: 18949474.0000 - val_mae: 2901.6626 - val_mse: 18949474.0000 - val_coeff_r2: 0.7899\n",
      "Epoch 3/1000\n",
      "7258/7258 [==============================] - 16s 2ms/step - loss: 18435552.0000 - mae: 2855.7837 - mse: 18435552.0000 - coeff_r2: 0.7960 - val_loss: 18356560.0000 - val_mae: 2829.2214 - val_mse: 18356560.0000 - val_coeff_r2: 0.7964\n",
      "Epoch 4/1000\n",
      "7258/7258 [==============================] - 16s 2ms/step - loss: 18118994.0000 - mae: 2795.6206 - mse: 18118994.0000 - coeff_r2: 0.7935 - val_loss: 18560112.0000 - val_mae: 2782.5054 - val_mse: 18560112.0000 - val_coeff_r2: 0.7963\n",
      "Epoch 5/1000\n",
      "7258/7258 [==============================] - 17s 2ms/step - loss: 17578080.0000 - mae: 2754.5876 - mse: 17578080.0000 - coeff_r2: 0.8052 - val_loss: 18347342.0000 - val_mae: 2739.4033 - val_mse: 18347342.0000 - val_coeff_r2: 0.7990\n",
      "Epoch 6/1000\n",
      "7258/7258 [==============================] - 16s 2ms/step - loss: 17395502.0000 - mae: 2720.4092 - mse: 17395502.0000 - coeff_r2: 0.8050 - val_loss: 17917876.0000 - val_mae: 2712.2490 - val_mse: 17917876.0000 - val_coeff_r2: 0.8027\n",
      "Epoch 7/1000\n",
      "7258/7258 [==============================] - 16s 2ms/step - loss: 17001992.0000 - mae: 2691.2310 - mse: 17001992.0000 - coeff_r2: 0.8132 - val_loss: 17383158.0000 - val_mae: 2693.9387 - val_mse: 17383158.0000 - val_coeff_r2: 0.8078\n",
      "Epoch 8/1000\n",
      "7258/7258 [==============================] - 16s 2ms/step - loss: 16666055.0000 - mae: 2669.5085 - mse: 16666055.0000 - coeff_r2: 0.8135 - val_loss: 17048940.0000 - val_mae: 2686.5115 - val_mse: 17048940.0000 - val_coeff_r2: 0.8112\n",
      "Epoch 9/1000\n",
      "7258/7258 [==============================] - 16s 2ms/step - loss: 16428860.0000 - mae: 2652.2183 - mse: 16428860.0000 - coeff_r2: 0.8174 - val_loss: 16740273.0000 - val_mae: 2652.8281 - val_mse: 16740273.0000 - val_coeff_r2: 0.8149\n",
      "Epoch 10/1000\n",
      "7258/7258 [==============================] - 15s 2ms/step - loss: 16237970.0000 - mae: 2634.3840 - mse: 16237970.0000 - coeff_r2: 0.8198 - val_loss: 16520172.0000 - val_mae: 2640.9080 - val_mse: 16520172.0000 - val_coeff_r2: 0.8166\n",
      "Epoch 11/1000\n",
      "7258/7258 [==============================] - 15s 2ms/step - loss: 16074424.0000 - mae: 2620.9817 - mse: 16074424.0000 - coeff_r2: 0.8215 - val_loss: 16405744.0000 - val_mae: 2638.4944 - val_mse: 16405744.0000 - val_coeff_r2: 0.8179\n",
      "Epoch 12/1000\n",
      "7258/7258 [==============================] - 15s 2ms/step - loss: 15926262.0000 - mae: 2609.6760 - mse: 15926262.0000 - coeff_r2: 0.8232 - val_loss: 16336530.0000 - val_mae: 2625.2578 - val_mse: 16336530.0000 - val_coeff_r2: 0.8189\n",
      "Epoch 13/1000\n",
      "7258/7258 [==============================] - 16s 2ms/step - loss: 15793150.0000 - mae: 2597.6489 - mse: 15793150.0000 - coeff_r2: 0.8248 - val_loss: 16227543.0000 - val_mae: 2611.7080 - val_mse: 16227543.0000 - val_coeff_r2: 0.8201\n",
      "Epoch 14/1000\n",
      "7258/7258 [==============================] - 15s 2ms/step - loss: 15673830.0000 - mae: 2588.8613 - mse: 15673830.0000 - coeff_r2: 0.8258 - val_loss: 16091677.0000 - val_mae: 2614.4102 - val_mse: 16091677.0000 - val_coeff_r2: 0.8206\n",
      "Epoch 15/1000\n",
      "7258/7258 [==============================] - 16s 2ms/step - loss: 15571845.0000 - mae: 2580.0750 - mse: 15571845.0000 - coeff_r2: 0.8268 - val_loss: 16045937.0000 - val_mae: 2606.8616 - val_mse: 16045937.0000 - val_coeff_r2: 0.8213\n",
      "Epoch 16/1000\n",
      "7258/7258 [==============================] - 15s 2ms/step - loss: 15468841.0000 - mae: 2571.0732 - mse: 15468841.0000 - coeff_r2: 0.8279 - val_loss: 16021720.0000 - val_mae: 2587.8599 - val_mse: 16021720.0000 - val_coeff_r2: 0.8228\n",
      "Epoch 17/1000\n",
      "7258/7258 [==============================] - 15s 2ms/step - loss: 15383660.0000 - mae: 2563.2798 - mse: 15383660.0000 - coeff_r2: 0.8291 - val_loss: 15932021.0000 - val_mae: 2581.0938 - val_mse: 15932021.0000 - val_coeff_r2: 0.8230\n",
      "Epoch 18/1000\n",
      "7258/7258 [==============================] - 15s 2ms/step - loss: 15306090.0000 - mae: 2557.3376 - mse: 15306090.0000 - coeff_r2: 0.8292 - val_loss: 15865690.0000 - val_mae: 2588.7505 - val_mse: 15865690.0000 - val_coeff_r2: 0.8231\n",
      "Epoch 19/1000\n",
      "7258/7258 [==============================] - 16s 2ms/step - loss: 15235477.0000 - mae: 2550.1475 - mse: 15235477.0000 - coeff_r2: 0.8307 - val_loss: 15852192.0000 - val_mae: 2592.4690 - val_mse: 15852192.0000 - val_coeff_r2: 0.8231\n",
      "Epoch 20/1000\n",
      "7258/7258 [==============================] - 16s 2ms/step - loss: 15151185.0000 - mae: 2543.8940 - mse: 15151185.0000 - coeff_r2: 0.8320 - val_loss: 15764131.0000 - val_mae: 2577.4861 - val_mse: 15764131.0000 - val_coeff_r2: 0.8249\n",
      "Epoch 21/1000\n",
      "7258/7258 [==============================] - 16s 2ms/step - loss: 15086303.0000 - mae: 2538.7083 - mse: 15086303.0000 - coeff_r2: 0.8320 - val_loss: 15712084.0000 - val_mae: 2573.2822 - val_mse: 15712084.0000 - val_coeff_r2: 0.8251\n",
      "Epoch 22/1000\n",
      "7258/7258 [==============================] - 17s 2ms/step - loss: 15017100.0000 - mae: 2533.2986 - mse: 15017100.0000 - coeff_r2: 0.8332 - val_loss: 15647913.0000 - val_mae: 2566.9312 - val_mse: 15647913.0000 - val_coeff_r2: 0.8260\n",
      "Epoch 23/1000\n",
      "7258/7258 [==============================] - 16s 2ms/step - loss: 14947780.0000 - mae: 2527.9949 - mse: 14947780.0000 - coeff_r2: 0.8337 - val_loss: 15601511.0000 - val_mae: 2564.5232 - val_mse: 15601511.0000 - val_coeff_r2: 0.8266\n",
      "Epoch 24/1000\n",
      "7258/7258 [==============================] - 16s 2ms/step - loss: 14911272.0000 - mae: 2523.5649 - mse: 14911272.0000 - coeff_r2: 0.8344 - val_loss: 15513428.0000 - val_mae: 2551.1416 - val_mse: 15513428.0000 - val_coeff_r2: 0.8276\n",
      "Epoch 25/1000\n",
      "7258/7258 [==============================] - 19s 3ms/step - loss: 14828776.0000 - mae: 2518.6814 - mse: 14828776.0000 - coeff_r2: 0.8354 - val_loss: 15572709.0000 - val_mae: 2550.6648 - val_mse: 15572709.0000 - val_coeff_r2: 0.8270\n",
      "Epoch 26/1000\n",
      "7258/7258 [==============================] - 16s 2ms/step - loss: 14810704.0000 - mae: 2513.6958 - mse: 14810704.0000 - coeff_r2: 0.8355 - val_loss: 15504391.0000 - val_mae: 2554.7644 - val_mse: 15504391.0000 - val_coeff_r2: 0.8271\n",
      "Epoch 27/1000\n",
      "7258/7258 [==============================] - 16s 2ms/step - loss: 14725015.0000 - mae: 2510.7048 - mse: 14725015.0000 - coeff_r2: 0.8352 - val_loss: 15547989.0000 - val_mae: 2550.0930 - val_mse: 15547989.0000 - val_coeff_r2: 0.8275\n",
      "Epoch 28/1000\n",
      "7258/7258 [==============================] - 16s 2ms/step - loss: 14710159.0000 - mae: 2506.1682 - mse: 14710159.0000 - coeff_r2: 0.8359 - val_loss: 15522221.0000 - val_mae: 2544.0911 - val_mse: 15522221.0000 - val_coeff_r2: 0.8278\n",
      "Epoch 29/1000\n",
      "7258/7258 [==============================] - 16s 2ms/step - loss: 14628669.0000 - mae: 2502.8538 - mse: 14628669.0000 - coeff_r2: 0.8371 - val_loss: 15519733.0000 - val_mae: 2549.7529 - val_mse: 15519733.0000 - val_coeff_r2: 0.8270\n",
      "Epoch 30/1000\n",
      "7258/7258 [==============================] - 15s 2ms/step - loss: 14608026.0000 - mae: 2498.3232 - mse: 14608026.0000 - coeff_r2: 0.8369 - val_loss: 15461268.0000 - val_mae: 2548.8062 - val_mse: 15461268.0000 - val_coeff_r2: 0.8282\n",
      "Epoch 31/1000\n",
      "7258/7258 [==============================] - 17s 2ms/step - loss: 14534440.0000 - mae: 2494.1799 - mse: 14534440.0000 - coeff_r2: 0.8387 - val_loss: 15491593.0000 - val_mae: 2534.0701 - val_mse: 15491593.0000 - val_coeff_r2: 0.8286\n",
      "Epoch 32/1000\n",
      "7258/7258 [==============================] - 17s 2ms/step - loss: 14527935.0000 - mae: 2491.6516 - mse: 14527935.0000 - coeff_r2: 0.8374 - val_loss: 15472159.0000 - val_mae: 2542.2302 - val_mse: 15472159.0000 - val_coeff_r2: 0.8288\n",
      "Epoch 33/1000\n",
      "7258/7258 [==============================] - 16s 2ms/step - loss: 14452775.0000 - mae: 2489.0334 - mse: 14452775.0000 - coeff_r2: 0.8386 - val_loss: 15364151.0000 - val_mae: 2547.9187 - val_mse: 15364151.0000 - val_coeff_r2: 0.8288\n",
      "Epoch 34/1000\n",
      "7258/7258 [==============================] - 17s 2ms/step - loss: 14438462.0000 - mae: 2484.9175 - mse: 14438462.0000 - coeff_r2: 0.8387 - val_loss: 15303942.0000 - val_mae: 2532.4407 - val_mse: 15303942.0000 - val_coeff_r2: 0.8297\n",
      "Epoch 35/1000\n",
      "7258/7258 [==============================] - 17s 2ms/step - loss: 14369986.0000 - mae: 2480.7854 - mse: 14369986.0000 - coeff_r2: 0.8406 - val_loss: 15367340.0000 - val_mae: 2543.1531 - val_mse: 15367340.0000 - val_coeff_r2: 0.8286\n",
      "Epoch 36/1000\n",
      "7258/7258 [==============================] - 19s 3ms/step - loss: 14362071.0000 - mae: 2478.8909 - mse: 14362071.0000 - coeff_r2: 0.8396 - val_loss: 15275726.0000 - val_mae: 2531.7290 - val_mse: 15275726.0000 - val_coeff_r2: 0.8298\n",
      "Epoch 37/1000\n",
      "7258/7258 [==============================] - 18s 3ms/step - loss: 14297119.0000 - mae: 2474.8020 - mse: 14297119.0000 - coeff_r2: 0.8404 - val_loss: 15313556.0000 - val_mae: 2540.6646 - val_mse: 15313556.0000 - val_coeff_r2: 0.8290\n",
      "Epoch 38/1000\n",
      "7258/7258 [==============================] - 18s 2ms/step - loss: 14283424.0000 - mae: 2471.5349 - mse: 14283424.0000 - coeff_r2: 0.8404 - val_loss: 15275479.0000 - val_mae: 2540.8201 - val_mse: 15275479.0000 - val_coeff_r2: 0.8296\n",
      "Epoch 39/1000\n",
      "7258/7258 [==============================] - 18s 2ms/step - loss: 14226369.0000 - mae: 2469.4551 - mse: 14226369.0000 - coeff_r2: 0.8395 - val_loss: 15174115.0000 - val_mae: 2519.9771 - val_mse: 15174115.0000 - val_coeff_r2: 0.8309\n",
      "Epoch 40/1000\n",
      "7258/7258 [==============================] - 17s 2ms/step - loss: 14202415.0000 - mae: 2466.5325 - mse: 14202415.0000 - coeff_r2: 0.8424 - val_loss: 15267572.0000 - val_mae: 2525.5549 - val_mse: 15267572.0000 - val_coeff_r2: 0.8297\n",
      "Epoch 41/1000\n",
      "7258/7258 [==============================] - 16s 2ms/step - loss: 14145561.0000 - mae: 2463.9644 - mse: 14145561.0000 - coeff_r2: 0.8424 - val_loss: 15199957.0000 - val_mae: 2517.5886 - val_mse: 15199957.0000 - val_coeff_r2: 0.8312\n",
      "Epoch 42/1000\n",
      "7258/7258 [==============================] - 16s 2ms/step - loss: 14135138.0000 - mae: 2461.7385 - mse: 14135138.0000 - coeff_r2: 0.8426 - val_loss: 15325569.0000 - val_mae: 2517.4973 - val_mse: 15325569.0000 - val_coeff_r2: 0.8302\n",
      "Epoch 43/1000\n",
      "7258/7258 [==============================] - 16s 2ms/step - loss: 14090110.0000 - mae: 2458.8579 - mse: 14090110.0000 - coeff_r2: 0.8433 - val_loss: 15166972.0000 - val_mae: 2536.4089 - val_mse: 15166972.0000 - val_coeff_r2: 0.8305\n",
      "Epoch 44/1000\n",
      "7258/7258 [==============================] - 17s 2ms/step - loss: 14058371.0000 - mae: 2454.4065 - mse: 14058371.0000 - coeff_r2: 0.8433 - val_loss: 15116385.0000 - val_mae: 2519.8069 - val_mse: 15116385.0000 - val_coeff_r2: 0.8319\n",
      "Epoch 45/1000\n",
      "7258/7258 [==============================] - 16s 2ms/step - loss: 14014584.0000 - mae: 2453.1272 - mse: 14014584.0000 - coeff_r2: 0.8437 - val_loss: 15145730.0000 - val_mae: 2527.7981 - val_mse: 15145730.0000 - val_coeff_r2: 0.8308\n",
      "Epoch 46/1000\n",
      "7258/7258 [==============================] - 16s 2ms/step - loss: 13993500.0000 - mae: 2449.6072 - mse: 13993500.0000 - coeff_r2: 0.8438 - val_loss: 15083073.0000 - val_mae: 2511.8442 - val_mse: 15083073.0000 - val_coeff_r2: 0.8321\n",
      "Epoch 47/1000\n",
      "7258/7258 [==============================] - 16s 2ms/step - loss: 13950461.0000 - mae: 2447.2678 - mse: 13950461.0000 - coeff_r2: 0.8446 - val_loss: 15167631.0000 - val_mae: 2523.6343 - val_mse: 15167631.0000 - val_coeff_r2: 0.8309\n",
      "Epoch 48/1000\n",
      "7258/7258 [==============================] - 16s 2ms/step - loss: 13928899.0000 - mae: 2444.6533 - mse: 13928899.0000 - coeff_r2: 0.8444 - val_loss: 15069006.0000 - val_mae: 2514.2351 - val_mse: 15069006.0000 - val_coeff_r2: 0.8325\n",
      "Epoch 49/1000\n",
      "7258/7258 [==============================] - 15s 2ms/step - loss: 13898793.0000 - mae: 2443.0974 - mse: 13898793.0000 - coeff_r2: 0.8454 - val_loss: 15151549.0000 - val_mae: 2518.6931 - val_mse: 15151549.0000 - val_coeff_r2: 0.8315\n",
      "Epoch 50/1000\n",
      "7258/7258 [==============================] - 16s 2ms/step - loss: 13870652.0000 - mae: 2439.3828 - mse: 13870652.0000 - coeff_r2: 0.8454 - val_loss: 15064439.0000 - val_mae: 2516.9309 - val_mse: 15064439.0000 - val_coeff_r2: 0.8327\n",
      "Epoch 51/1000\n",
      "7258/7258 [==============================] - 15s 2ms/step - loss: 13835830.0000 - mae: 2437.1250 - mse: 13835830.0000 - coeff_r2: 0.8453 - val_loss: 15039834.0000 - val_mae: 2518.2476 - val_mse: 15039834.0000 - val_coeff_r2: 0.8327\n",
      "Epoch 52/1000\n",
      "7258/7258 [==============================] - 15s 2ms/step - loss: 13807109.0000 - mae: 2434.0908 - mse: 13807109.0000 - coeff_r2: 0.8462 - val_loss: 15143611.0000 - val_mae: 2518.5071 - val_mse: 15143611.0000 - val_coeff_r2: 0.8321\n",
      "Epoch 53/1000\n",
      "7258/7258 [==============================] - 15s 2ms/step - loss: 13768054.0000 - mae: 2433.2156 - mse: 13768054.0000 - coeff_r2: 0.8464 - val_loss: 14983131.0000 - val_mae: 2512.7800 - val_mse: 14983131.0000 - val_coeff_r2: 0.8329\n",
      "Epoch 54/1000\n",
      "7258/7258 [==============================] - 15s 2ms/step - loss: 13757866.0000 - mae: 2429.5312 - mse: 13757866.0000 - coeff_r2: 0.8463 - val_loss: 15042065.0000 - val_mae: 2519.3323 - val_mse: 15042065.0000 - val_coeff_r2: 0.8319\n",
      "Epoch 55/1000\n",
      "7258/7258 [==============================] - 15s 2ms/step - loss: 13716434.0000 - mae: 2427.5886 - mse: 13716434.0000 - coeff_r2: 0.8465 - val_loss: 14949566.0000 - val_mae: 2513.5398 - val_mse: 14949566.0000 - val_coeff_r2: 0.8332\n",
      "Epoch 56/1000\n",
      "7258/7258 [==============================] - 16s 2ms/step - loss: 13711191.0000 - mae: 2424.9890 - mse: 13711191.0000 - coeff_r2: 0.8475 - val_loss: 14997253.0000 - val_mae: 2501.1875 - val_mse: 14997253.0000 - val_coeff_r2: 0.8325\n",
      "Epoch 57/1000\n",
      "7258/7258 [==============================] - 16s 2ms/step - loss: 13668287.0000 - mae: 2423.3337 - mse: 13668287.0000 - coeff_r2: 0.8478 - val_loss: 14870755.0000 - val_mae: 2490.8369 - val_mse: 14870755.0000 - val_coeff_r2: 0.8344\n",
      "Epoch 58/1000\n",
      "7258/7258 [==============================] - 21s 3ms/step - loss: 13661946.0000 - mae: 2421.1843 - mse: 13661946.0000 - coeff_r2: 0.8448 - val_loss: 14913272.0000 - val_mae: 2495.4956 - val_mse: 14913272.0000 - val_coeff_r2: 0.8336\n",
      "Epoch 59/1000\n",
      "7258/7258 [==============================] - 18s 2ms/step - loss: 13615057.0000 - mae: 2417.8289 - mse: 13615057.0000 - coeff_r2: 0.8433 - val_loss: 15039413.0000 - val_mae: 2532.9907 - val_mse: 15039413.0000 - val_coeff_r2: 0.8316\n",
      "Epoch 60/1000\n",
      "7258/7258 [==============================] - 19s 3ms/step - loss: 13611061.0000 - mae: 2416.9751 - mse: 13611061.0000 - coeff_r2: 0.8470 - val_loss: 14917439.0000 - val_mae: 2496.6309 - val_mse: 14917439.0000 - val_coeff_r2: 0.8344\n",
      "Epoch 61/1000\n",
      "7258/7258 [==============================] - 20s 3ms/step - loss: 13567136.0000 - mae: 2414.2817 - mse: 13567136.0000 - coeff_r2: 0.8481 - val_loss: 14814090.0000 - val_mae: 2492.8394 - val_mse: 14814090.0000 - val_coeff_r2: 0.8351\n",
      "Epoch 62/1000\n",
      "7258/7258 [==============================] - 21s 3ms/step - loss: 13546327.0000 - mae: 2412.9141 - mse: 13546327.0000 - coeff_r2: 0.8493 - val_loss: 14919424.0000 - val_mae: 2495.2200 - val_mse: 14919424.0000 - val_coeff_r2: 0.8334\n",
      "Epoch 63/1000\n",
      "7258/7258 [==============================] - 20s 3ms/step - loss: 13525447.0000 - mae: 2410.9958 - mse: 13525447.0000 - coeff_r2: 0.8482 - val_loss: 14822128.0000 - val_mae: 2487.8770 - val_mse: 14822128.0000 - val_coeff_r2: 0.8345\n",
      "Epoch 64/1000\n",
      "7258/7258 [==============================] - 18s 3ms/step - loss: 13512928.0000 - mae: 2407.8401 - mse: 13512928.0000 - coeff_r2: 0.8496 - val_loss: 14940001.0000 - val_mae: 2496.7366 - val_mse: 14940001.0000 - val_coeff_r2: 0.8337\n",
      "Epoch 65/1000\n",
      "7258/7258 [==============================] - 17s 2ms/step - loss: 13476708.0000 - mae: 2406.2383 - mse: 13476708.0000 - coeff_r2: 0.8497 - val_loss: 14903397.0000 - val_mae: 2503.9158 - val_mse: 14903397.0000 - val_coeff_r2: 0.8330\n",
      "Epoch 66/1000\n",
      "7258/7258 [==============================] - 17s 2ms/step - loss: 13462055.0000 - mae: 2403.9761 - mse: 13462055.0000 - coeff_r2: 0.8497 - val_loss: 14877058.0000 - val_mae: 2493.9707 - val_mse: 14877058.0000 - val_coeff_r2: 0.8344\n",
      "Epoch 67/1000\n",
      "7258/7258 [==============================] - 16s 2ms/step - loss: 13423678.0000 - mae: 2403.5947 - mse: 13423678.0000 - coeff_r2: 0.8496 - val_loss: 14824473.0000 - val_mae: 2495.4968 - val_mse: 14824473.0000 - val_coeff_r2: 0.8339\n",
      "Epoch 68/1000\n",
      "7258/7258 [==============================] - 16s 2ms/step - loss: 13424981.0000 - mae: 2402.1526 - mse: 13424981.0000 - coeff_r2: 0.8498 - val_loss: 14825977.0000 - val_mae: 2481.1482 - val_mse: 14825977.0000 - val_coeff_r2: 0.8348\n",
      "Epoch 69/1000\n",
      "7258/7258 [==============================] - 20s 3ms/step - loss: 13397863.0000 - mae: 2399.1970 - mse: 13397863.0000 - coeff_r2: 0.8507 - val_loss: 14828489.0000 - val_mae: 2499.6738 - val_mse: 14828489.0000 - val_coeff_r2: 0.8345\n",
      "Epoch 70/1000\n",
      "7258/7258 [==============================] - 17s 2ms/step - loss: 13377794.0000 - mae: 2398.1682 - mse: 13377794.0000 - coeff_r2: 0.8511 - val_loss: 14769766.0000 - val_mae: 2476.6301 - val_mse: 14769766.0000 - val_coeff_r2: 0.8355\n",
      "Epoch 71/1000\n",
      "7258/7258 [==============================] - 17s 2ms/step - loss: 13349468.0000 - mae: 2396.6902 - mse: 13349468.0000 - coeff_r2: 0.8490 - val_loss: 14779003.0000 - val_mae: 2500.2522 - val_mse: 14779003.0000 - val_coeff_r2: 0.8348\n",
      "Epoch 72/1000\n",
      "7258/7258 [==============================] - 17s 2ms/step - loss: 13337066.0000 - mae: 2394.7126 - mse: 13337066.0000 - coeff_r2: 0.8510 - val_loss: 14884874.0000 - val_mae: 2487.9460 - val_mse: 14884874.0000 - val_coeff_r2: 0.8337\n",
      "Epoch 73/1000\n",
      "7258/7258 [==============================] - 18s 3ms/step - loss: 13312166.0000 - mae: 2393.9846 - mse: 13312166.0000 - coeff_r2: 0.8508 - val_loss: 14724505.0000 - val_mae: 2484.3721 - val_mse: 14724505.0000 - val_coeff_r2: 0.8359\n",
      "Epoch 74/1000\n",
      "7258/7258 [==============================] - 18s 2ms/step - loss: 13307254.0000 - mae: 2391.2996 - mse: 13307254.0000 - coeff_r2: 0.8516 - val_loss: 14730066.0000 - val_mae: 2474.5234 - val_mse: 14730066.0000 - val_coeff_r2: 0.8360\n",
      "Epoch 75/1000\n",
      "7258/7258 [==============================] - 18s 2ms/step - loss: 13279754.0000 - mae: 2392.3994 - mse: 13279754.0000 - coeff_r2: 0.8516 - val_loss: 14803177.0000 - val_mae: 2496.8384 - val_mse: 14803177.0000 - val_coeff_r2: 0.8342\n",
      "Epoch 76/1000\n",
      "7258/7258 [==============================] - 21s 3ms/step - loss: 13286769.0000 - mae: 2390.0891 - mse: 13286769.0000 - coeff_r2: 0.8513 - val_loss: 14798082.0000 - val_mae: 2485.0166 - val_mse: 14798082.0000 - val_coeff_r2: 0.8354\n",
      "Epoch 77/1000\n",
      "7258/7258 [==============================] - 18s 2ms/step - loss: 13252994.0000 - mae: 2387.5427 - mse: 13252994.0000 - coeff_r2: 0.8519 - val_loss: 14720833.0000 - val_mae: 2478.1492 - val_mse: 14720833.0000 - val_coeff_r2: 0.8356\n",
      "Epoch 78/1000\n",
      "7258/7258 [==============================] - 20s 3ms/step - loss: 13242536.0000 - mae: 2386.7742 - mse: 13242536.0000 - coeff_r2: 0.8527 - val_loss: 14728928.0000 - val_mae: 2477.5840 - val_mse: 14728928.0000 - val_coeff_r2: 0.8359\n",
      "Epoch 79/1000\n",
      "7258/7258 [==============================] - 22s 3ms/step - loss: 13212225.0000 - mae: 2385.2808 - mse: 13212225.0000 - coeff_r2: 0.8524 - val_loss: 14648879.0000 - val_mae: 2475.3320 - val_mse: 14648879.0000 - val_coeff_r2: 0.8361\n",
      "Epoch 80/1000\n",
      "7258/7258 [==============================] - 22s 3ms/step - loss: 13208285.0000 - mae: 2385.6143 - mse: 13208285.0000 - coeff_r2: 0.8521 - val_loss: 14861425.0000 - val_mae: 2488.3418 - val_mse: 14861425.0000 - val_coeff_r2: 0.8334\n",
      "Epoch 81/1000\n",
      "7258/7258 [==============================] - 20s 3ms/step - loss: 13180402.0000 - mae: 2382.0220 - mse: 13180402.0000 - coeff_r2: 0.8527 - val_loss: 14689684.0000 - val_mae: 2476.8406 - val_mse: 14689684.0000 - val_coeff_r2: 0.8362\n",
      "Epoch 82/1000\n",
      "7258/7258 [==============================] - 21s 3ms/step - loss: 13163644.0000 - mae: 2381.5879 - mse: 13163644.0000 - coeff_r2: 0.8528 - val_loss: 14837369.0000 - val_mae: 2491.2275 - val_mse: 14837369.0000 - val_coeff_r2: 0.8352\n",
      "Epoch 83/1000\n",
      "7258/7258 [==============================] - 22s 3ms/step - loss: 13175227.0000 - mae: 2381.3540 - mse: 13175227.0000 - coeff_r2: 0.8530 - val_loss: 14634846.0000 - val_mae: 2472.6299 - val_mse: 14634846.0000 - val_coeff_r2: 0.8368\n",
      "Epoch 84/1000\n",
      "7258/7258 [==============================] - 20s 3ms/step - loss: 13144333.0000 - mae: 2380.8965 - mse: 13144333.0000 - coeff_r2: 0.8538 - val_loss: 14743022.0000 - val_mae: 2480.0107 - val_mse: 14743022.0000 - val_coeff_r2: 0.8350\n",
      "Epoch 85/1000\n",
      "7258/7258 [==============================] - 21s 3ms/step - loss: 13136324.0000 - mae: 2378.1414 - mse: 13136324.0000 - coeff_r2: 0.8515 - val_loss: 14680826.0000 - val_mae: 2477.4500 - val_mse: 14680826.0000 - val_coeff_r2: 0.8355\n",
      "Epoch 86/1000\n",
      "7258/7258 [==============================] - 22s 3ms/step - loss: 13107665.0000 - mae: 2376.9863 - mse: 13107665.0000 - coeff_r2: 0.8529 - val_loss: 14755342.0000 - val_mae: 2481.5872 - val_mse: 14755342.0000 - val_coeff_r2: 0.8352\n",
      "Epoch 87/1000\n",
      "7258/7258 [==============================] - 23s 3ms/step - loss: 13104342.0000 - mae: 2376.5977 - mse: 13104342.0000 - coeff_r2: 0.8534 - val_loss: 14675828.0000 - val_mae: 2472.4165 - val_mse: 14675828.0000 - val_coeff_r2: 0.8365\n",
      "Epoch 88/1000\n",
      "7258/7258 [==============================] - 23s 3ms/step - loss: 13076075.0000 - mae: 2375.3425 - mse: 13076075.0000 - coeff_r2: 0.8156 - val_loss: 14760717.0000 - val_mae: 2468.0413 - val_mse: 14760717.0000 - val_coeff_r2: 0.8363\n",
      "Epoch 89/1000\n",
      "7258/7258 [==============================] - 20s 3ms/step - loss: 13078343.0000 - mae: 2373.4412 - mse: 13078343.0000 - coeff_r2: 0.8510 - val_loss: 14624726.0000 - val_mae: 2484.7671 - val_mse: 14624726.0000 - val_coeff_r2: 0.8360\n",
      "Epoch 90/1000\n",
      "7258/7258 [==============================] - 22s 3ms/step - loss: 13062627.0000 - mae: 2374.0298 - mse: 13062627.0000 - coeff_r2: 0.8541 - val_loss: 14740703.0000 - val_mae: 2470.4758 - val_mse: 14740703.0000 - val_coeff_r2: 0.8357\n",
      "Epoch 91/1000\n",
      "7258/7258 [==============================] - 18s 2ms/step - loss: 13048991.0000 - mae: 2372.7766 - mse: 13048991.0000 - coeff_r2: 0.8542 - val_loss: 14605108.0000 - val_mae: 2471.5881 - val_mse: 14605108.0000 - val_coeff_r2: 0.8368\n",
      "Epoch 92/1000\n",
      "7258/7258 [==============================] - 18s 2ms/step - loss: 13018605.0000 - mae: 2371.1160 - mse: 13018605.0000 - coeff_r2: 0.8538 - val_loss: 14743856.0000 - val_mae: 2472.2812 - val_mse: 14743856.0000 - val_coeff_r2: 0.8357\n",
      "Epoch 93/1000\n",
      "7258/7258 [==============================] - 17s 2ms/step - loss: 13018090.0000 - mae: 2371.0659 - mse: 13018090.0000 - coeff_r2: 0.8545 - val_loss: 14711189.0000 - val_mae: 2495.0732 - val_mse: 14711189.0000 - val_coeff_r2: 0.8348\n",
      "Epoch 94/1000\n",
      "7258/7258 [==============================] - 18s 2ms/step - loss: 13004278.0000 - mae: 2369.4890 - mse: 13004278.0000 - coeff_r2: 0.8555 - val_loss: 14803148.0000 - val_mae: 2469.3491 - val_mse: 14803148.0000 - val_coeff_r2: 0.8352\n",
      "Epoch 95/1000\n",
      "7258/7258 [==============================] - 19s 3ms/step - loss: 13014113.0000 - mae: 2369.2710 - mse: 13014113.0000 - coeff_r2: 0.8543 - val_loss: 14643794.0000 - val_mae: 2488.2156 - val_mse: 14643794.0000 - val_coeff_r2: 0.8357\n",
      "Epoch 96/1000\n",
      "7258/7258 [==============================] - 17s 2ms/step - loss: 12964397.0000 - mae: 2367.9934 - mse: 12964397.0000 - coeff_r2: 0.8524 - val_loss: 14723458.0000 - val_mae: 2465.3538 - val_mse: 14723458.0000 - val_coeff_r2: 0.8364\n",
      "Epoch 97/1000\n",
      "7258/7258 [==============================] - 18s 2ms/step - loss: 12992642.0000 - mae: 2366.9973 - mse: 12992642.0000 - coeff_r2: 0.8549 - val_loss: 14462733.0000 - val_mae: 2458.3894 - val_mse: 14462733.0000 - val_coeff_r2: 0.8388\n",
      "Epoch 98/1000\n",
      "7258/7258 [==============================] - 17s 2ms/step - loss: 12937892.0000 - mae: 2365.1023 - mse: 12937892.0000 - coeff_r2: 0.8516 - val_loss: 14790449.0000 - val_mae: 2485.3555 - val_mse: 14790449.0000 - val_coeff_r2: 0.8345\n",
      "Epoch 99/1000\n",
      "7258/7258 [==============================] - 18s 2ms/step - loss: 12966552.0000 - mae: 2364.5029 - mse: 12966552.0000 - coeff_r2: 0.8554 - val_loss: 14567990.0000 - val_mae: 2475.2136 - val_mse: 14567990.0000 - val_coeff_r2: 0.8370\n",
      "Epoch 100/1000\n",
      "7258/7258 [==============================] - 17s 2ms/step - loss: 12913671.0000 - mae: 2363.9126 - mse: 12913671.0000 - coeff_r2: 0.8558 - val_loss: 14663119.0000 - val_mae: 2471.8721 - val_mse: 14663119.0000 - val_coeff_r2: 0.8361\n",
      "Epoch 101/1000\n",
      "7258/7258 [==============================] - 17s 2ms/step - loss: 12923294.0000 - mae: 2362.8062 - mse: 12923294.0000 - coeff_r2: 0.8561 - val_loss: 14604886.0000 - val_mae: 2478.7812 - val_mse: 14604886.0000 - val_coeff_r2: 0.8363\n",
      "Epoch 102/1000\n",
      "7258/7258 [==============================] - 16s 2ms/step - loss: 12904840.0000 - mae: 2362.5598 - mse: 12904840.0000 - coeff_r2: -1570159360.0000 - val_loss: 14579165.0000 - val_mae: 2470.3242 - val_mse: 14579165.0000 - val_coeff_r2: 0.8370\n",
      "Epoch 103/1000\n",
      "7258/7258 [==============================] - 16s 2ms/step - loss: 12906536.0000 - mae: 2360.8257 - mse: 12906536.0000 - coeff_r2: 0.8556 - val_loss: 14594258.0000 - val_mae: 2470.1748 - val_mse: 14594258.0000 - val_coeff_r2: 0.8371\n",
      "Epoch 104/1000\n",
      "7258/7258 [==============================] - 16s 2ms/step - loss: 12885162.0000 - mae: 2361.0066 - mse: 12885162.0000 - coeff_r2: 0.8554 - val_loss: 14573406.0000 - val_mae: 2460.4717 - val_mse: 14573406.0000 - val_coeff_r2: 0.8375\n",
      "Epoch 105/1000\n",
      "7258/7258 [==============================] - 17s 2ms/step - loss: 12877979.0000 - mae: 2360.5977 - mse: 12877979.0000 - coeff_r2: 0.8562 - val_loss: 14583571.0000 - val_mae: 2489.7610 - val_mse: 14583571.0000 - val_coeff_r2: 0.8366\n",
      "Epoch 106/1000\n",
      "7258/7258 [==============================] - 16s 2ms/step - loss: 12859416.0000 - mae: 2358.3003 - mse: 12859416.0000 - coeff_r2: 0.8566 - val_loss: 14521151.0000 - val_mae: 2462.0012 - val_mse: 14521151.0000 - val_coeff_r2: 0.8378\n",
      "Epoch 107/1000\n",
      "7258/7258 [==============================] - 16s 2ms/step - loss: 12848678.0000 - mae: 2357.9626 - mse: 12848678.0000 - coeff_r2: 0.8566 - val_loss: 14565753.0000 - val_mae: 2464.4475 - val_mse: 14565753.0000 - val_coeff_r2: 0.8378\n",
      "Epoch 108/1000\n",
      "7258/7258 [==============================] - 17s 2ms/step - loss: 12841970.0000 - mae: 2356.9211 - mse: 12841970.0000 - coeff_r2: 0.8564 - val_loss: 14670077.0000 - val_mae: 2469.7336 - val_mse: 14670077.0000 - val_coeff_r2: 0.8370\n",
      "Epoch 109/1000\n",
      "7258/7258 [==============================] - 17s 2ms/step - loss: 12816195.0000 - mae: 2357.1685 - mse: 12816195.0000 - coeff_r2: 0.8564 - val_loss: 14620399.0000 - val_mae: 2470.0002 - val_mse: 14620399.0000 - val_coeff_r2: 0.8366\n",
      "Epoch 110/1000\n",
      "7258/7258 [==============================] - 17s 2ms/step - loss: 12818141.0000 - mae: 2356.2773 - mse: 12818141.0000 - coeff_r2: 0.8557 - val_loss: 14571413.0000 - val_mae: 2457.8982 - val_mse: 14571413.0000 - val_coeff_r2: 0.8377\n",
      "Epoch 111/1000\n",
      "7258/7258 [==============================] - 16s 2ms/step - loss: 12802402.0000 - mae: 2354.6079 - mse: 12802402.0000 - coeff_r2: 0.8567 - val_loss: 14550638.0000 - val_mae: 2466.1953 - val_mse: 14550638.0000 - val_coeff_r2: 0.8373\n",
      "Epoch 112/1000\n",
      "7258/7258 [==============================] - 16s 2ms/step - loss: 12803915.0000 - mae: 2354.0862 - mse: 12803915.0000 - coeff_r2: 0.8567 - val_loss: 14594986.0000 - val_mae: 2478.2114 - val_mse: 14594986.0000 - val_coeff_r2: 0.8369\n",
      "Epoch 113/1000\n",
      "7258/7258 [==============================] - 17s 2ms/step - loss: 12784207.0000 - mae: 2354.3291 - mse: 12784207.0000 - coeff_r2: 0.8574 - val_loss: 14527963.0000 - val_mae: 2460.4890 - val_mse: 14527963.0000 - val_coeff_r2: 0.8383\n",
      "Epoch 114/1000\n",
      "7258/7258 [==============================] - 16s 2ms/step - loss: 12782047.0000 - mae: 2353.0688 - mse: 12782047.0000 - coeff_r2: 0.8567 - val_loss: 14570424.0000 - val_mae: 2463.5244 - val_mse: 14570424.0000 - val_coeff_r2: 0.8375\n",
      "Epoch 115/1000\n",
      "7258/7258 [==============================] - 17s 2ms/step - loss: 12767228.0000 - mae: 2352.1970 - mse: 12767228.0000 - coeff_r2: 0.8576 - val_loss: 14522153.0000 - val_mae: 2467.3206 - val_mse: 14522153.0000 - val_coeff_r2: 0.8379\n",
      "Epoch 116/1000\n",
      "7258/7258 [==============================] - 16s 2ms/step - loss: 12765969.0000 - mae: 2352.0625 - mse: 12765969.0000 - coeff_r2: 0.8570 - val_loss: 14519726.0000 - val_mae: 2461.4077 - val_mse: 14519726.0000 - val_coeff_r2: 0.8378\n",
      "Epoch 117/1000\n",
      "7258/7258 [==============================] - 16s 2ms/step - loss: 12746765.0000 - mae: 2350.7673 - mse: 12746765.0000 - coeff_r2: 0.8572 - val_loss: 14588905.0000 - val_mae: 2467.7168 - val_mse: 14588905.0000 - val_coeff_r2: 0.8371\n",
      "Epoch 118/1000\n",
      "7258/7258 [==============================] - 16s 2ms/step - loss: 12732641.0000 - mae: 2349.9846 - mse: 12732641.0000 - coeff_r2: 0.8573 - val_loss: 14575230.0000 - val_mae: 2470.4187 - val_mse: 14575230.0000 - val_coeff_r2: 0.8369\n",
      "Epoch 119/1000\n",
      "7258/7258 [==============================] - 15s 2ms/step - loss: 12733651.0000 - mae: 2350.6001 - mse: 12733651.0000 - coeff_r2: 0.8579 - val_loss: 14508383.0000 - val_mae: 2462.5945 - val_mse: 14508383.0000 - val_coeff_r2: 0.8385\n",
      "Epoch 120/1000\n",
      "7258/7258 [==============================] - 15s 2ms/step - loss: 12708522.0000 - mae: 2348.4304 - mse: 12708522.0000 - coeff_r2: 0.8578 - val_loss: 14565285.0000 - val_mae: 2466.9788 - val_mse: 14565285.0000 - val_coeff_r2: 0.8379\n",
      "Epoch 121/1000\n",
      "7258/7258 [==============================] - 15s 2ms/step - loss: 12706237.0000 - mae: 2348.3743 - mse: 12706237.0000 - coeff_r2: 0.8284 - val_loss: 14502086.0000 - val_mae: 2460.1907 - val_mse: 14502086.0000 - val_coeff_r2: 0.8384\n",
      "Epoch 122/1000\n",
      "7258/7258 [==============================] - 15s 2ms/step - loss: 12712152.0000 - mae: 2345.8652 - mse: 12712152.0000 - coeff_r2: 0.8568 - val_loss: 14488229.0000 - val_mae: 2454.3921 - val_mse: 14488229.0000 - val_coeff_r2: 0.8387\n",
      "Epoch 123/1000\n",
      "7258/7258 [==============================] - 15s 2ms/step - loss: 12684391.0000 - mae: 2347.0005 - mse: 12684391.0000 - coeff_r2: 0.8557 - val_loss: 14494652.0000 - val_mae: 2456.6831 - val_mse: 14494652.0000 - val_coeff_r2: 0.8386\n",
      "Epoch 124/1000\n",
      "7258/7258 [==============================] - 15s 2ms/step - loss: 12683448.0000 - mae: 2345.6240 - mse: 12683448.0000 - coeff_r2: 0.8586 - val_loss: 14549267.0000 - val_mae: 2479.4163 - val_mse: 14549267.0000 - val_coeff_r2: 0.8365\n",
      "Epoch 125/1000\n",
      "7258/7258 [==============================] - 14s 2ms/step - loss: 12667186.0000 - mae: 2346.4092 - mse: 12667186.0000 - coeff_r2: 0.8580 - val_loss: 14453706.0000 - val_mae: 2462.0535 - val_mse: 14453706.0000 - val_coeff_r2: 0.8383\n",
      "Epoch 126/1000\n",
      "7258/7258 [==============================] - 15s 2ms/step - loss: 12659514.0000 - mae: 2344.7852 - mse: 12659514.0000 - coeff_r2: 0.8586 - val_loss: 14609943.0000 - val_mae: 2468.6616 - val_mse: 14609943.0000 - val_coeff_r2: 0.8375\n",
      "Epoch 127/1000\n",
      "7258/7258 [==============================] - 15s 2ms/step - loss: 12650404.0000 - mae: 2343.5815 - mse: 12650404.0000 - coeff_r2: 0.8580 - val_loss: 14739121.0000 - val_mae: 2515.6104 - val_mse: 14739121.0000 - val_coeff_r2: 0.8335\n",
      "Epoch 128/1000\n",
      "7258/7258 [==============================] - 14s 2ms/step - loss: 12645289.0000 - mae: 2344.2273 - mse: 12645289.0000 - coeff_r2: 0.8584 - val_loss: 14647429.0000 - val_mae: 2479.1570 - val_mse: 14647429.0000 - val_coeff_r2: 0.8359\n",
      "Epoch 129/1000\n",
      "7258/7258 [==============================] - 14s 2ms/step - loss: 12634618.0000 - mae: 2342.7961 - mse: 12634618.0000 - coeff_r2: 0.8590 - val_loss: 14468550.0000 - val_mae: 2463.0239 - val_mse: 14468550.0000 - val_coeff_r2: 0.8388\n",
      "Epoch 130/1000\n",
      "7258/7258 [==============================] - 14s 2ms/step - loss: 12629356.0000 - mae: 2342.5247 - mse: 12629356.0000 - coeff_r2: 0.8586 - val_loss: 14550558.0000 - val_mae: 2459.2781 - val_mse: 14550558.0000 - val_coeff_r2: 0.8381\n",
      "Epoch 131/1000\n",
      "7258/7258 [==============================] - 15s 2ms/step - loss: 12614580.0000 - mae: 2343.1904 - mse: 12614580.0000 - coeff_r2: 0.8573 - val_loss: 14477003.0000 - val_mae: 2455.3018 - val_mse: 14477003.0000 - val_coeff_r2: 0.8388\n",
      "Epoch 132/1000\n",
      "7258/7258 [==============================] - 14s 2ms/step - loss: 12614064.0000 - mae: 2341.2449 - mse: 12614064.0000 - coeff_r2: 0.8593 - val_loss: 14507577.0000 - val_mae: 2464.3618 - val_mse: 14507577.0000 - val_coeff_r2: 0.8381\n",
      "Epoch 133/1000\n",
      "7258/7258 [==============================] - 15s 2ms/step - loss: 12608982.0000 - mae: 2341.5615 - mse: 12608982.0000 - coeff_r2: 0.8585 - val_loss: 14494933.0000 - val_mae: 2468.8689 - val_mse: 14494933.0000 - val_coeff_r2: 0.8377\n",
      "Epoch 134/1000\n",
      "7258/7258 [==============================] - 16s 2ms/step - loss: 12586645.0000 - mae: 2339.7341 - mse: 12586645.0000 - coeff_r2: 0.8595 - val_loss: 14551044.0000 - val_mae: 2466.7871 - val_mse: 14551044.0000 - val_coeff_r2: 0.8372\n",
      "Epoch 135/1000\n",
      "7258/7258 [==============================] - 15s 2ms/step - loss: 12598292.0000 - mae: 2341.0166 - mse: 12598292.0000 - coeff_r2: 0.8591 - val_loss: 14389729.0000 - val_mae: 2454.3865 - val_mse: 14389729.0000 - val_coeff_r2: 0.8395\n",
      "Epoch 136/1000\n",
      "7258/7258 [==============================] - 15s 2ms/step - loss: 12579530.0000 - mae: 2339.3203 - mse: 12579530.0000 - coeff_r2: 0.8591 - val_loss: 14498992.0000 - val_mae: 2464.7849 - val_mse: 14498992.0000 - val_coeff_r2: 0.8382\n",
      "Epoch 137/1000\n",
      "7258/7258 [==============================] - 14s 2ms/step - loss: 12584989.0000 - mae: 2339.2854 - mse: 12584989.0000 - coeff_r2: 0.8591 - val_loss: 14386374.0000 - val_mae: 2458.2788 - val_mse: 14386374.0000 - val_coeff_r2: 0.8393\n",
      "Epoch 138/1000\n",
      "7258/7258 [==============================] - 14s 2ms/step - loss: 12553532.0000 - mae: 2337.8550 - mse: 12553532.0000 - coeff_r2: 0.8581 - val_loss: 14511270.0000 - val_mae: 2464.4712 - val_mse: 14511270.0000 - val_coeff_r2: 0.8382\n",
      "Epoch 139/1000\n",
      "7258/7258 [==============================] - 14s 2ms/step - loss: 12567981.0000 - mae: 2338.2864 - mse: 12567981.0000 - coeff_r2: 0.8591 - val_loss: 14489975.0000 - val_mae: 2458.7808 - val_mse: 14489975.0000 - val_coeff_r2: 0.8384\n",
      "Epoch 140/1000\n",
      "7258/7258 [==============================] - 14s 2ms/step - loss: 12545389.0000 - mae: 2336.9524 - mse: 12545389.0000 - coeff_r2: 0.8594 - val_loss: 14461040.0000 - val_mae: 2459.7622 - val_mse: 14461040.0000 - val_coeff_r2: 0.8383\n",
      "Epoch 141/1000\n",
      "7258/7258 [==============================] - 14s 2ms/step - loss: 12559209.0000 - mae: 2337.2532 - mse: 12559209.0000 - coeff_r2: 0.8586 - val_loss: 14379034.0000 - val_mae: 2457.5195 - val_mse: 14379034.0000 - val_coeff_r2: 0.8390\n",
      "Epoch 142/1000\n",
      "7258/7258 [==============================] - 15s 2ms/step - loss: 12536557.0000 - mae: 2336.9312 - mse: 12536557.0000 - coeff_r2: 0.8600 - val_loss: 14474147.0000 - val_mae: 2453.0151 - val_mse: 14474147.0000 - val_coeff_r2: 0.8385\n",
      "Epoch 143/1000\n",
      "7258/7258 [==============================] - 14s 2ms/step - loss: 12533545.0000 - mae: 2335.3386 - mse: 12533545.0000 - coeff_r2: 0.8595 - val_loss: 14411555.0000 - val_mae: 2458.6384 - val_mse: 14411555.0000 - val_coeff_r2: 0.8391\n",
      "Epoch 144/1000\n",
      "7258/7258 [==============================] - 14s 2ms/step - loss: 12508223.0000 - mae: 2334.9202 - mse: 12508223.0000 - coeff_r2: 0.8595 - val_loss: 14475847.0000 - val_mae: 2458.2993 - val_mse: 14475847.0000 - val_coeff_r2: 0.8386\n",
      "Epoch 145/1000\n",
      "7258/7258 [==============================] - 15s 2ms/step - loss: 12529444.0000 - mae: 2335.3967 - mse: 12529444.0000 - coeff_r2: 0.8599 - val_loss: 14357634.0000 - val_mae: 2452.2546 - val_mse: 14357634.0000 - val_coeff_r2: 0.8394\n",
      "Epoch 146/1000\n",
      "7258/7258 [==============================] - 15s 2ms/step - loss: 12498775.0000 - mae: 2334.2441 - mse: 12498775.0000 - coeff_r2: 0.8608 - val_loss: 14553118.0000 - val_mae: 2476.7456 - val_mse: 14553118.0000 - val_coeff_r2: 0.8369\n",
      "Epoch 147/1000\n",
      "7258/7258 [==============================] - 15s 2ms/step - loss: 12496403.0000 - mae: 2333.5256 - mse: 12496403.0000 - coeff_r2: 0.8602 - val_loss: 14393600.0000 - val_mae: 2451.9702 - val_mse: 14393600.0000 - val_coeff_r2: 0.8394\n",
      "Epoch 148/1000\n",
      "7258/7258 [==============================] - 15s 2ms/step - loss: 12497474.0000 - mae: 2334.1326 - mse: 12497474.0000 - coeff_r2: 0.8607 - val_loss: 14494494.0000 - val_mae: 2455.4043 - val_mse: 14494494.0000 - val_coeff_r2: 0.8388\n",
      "Epoch 149/1000\n",
      "7258/7258 [==============================] - 15s 2ms/step - loss: 12474080.0000 - mae: 2332.2483 - mse: 12474080.0000 - coeff_r2: 0.8595 - val_loss: 14557030.0000 - val_mae: 2463.1790 - val_mse: 14557030.0000 - val_coeff_r2: 0.8381\n",
      "Epoch 150/1000\n",
      "7258/7258 [==============================] - 15s 2ms/step - loss: 12486915.0000 - mae: 2333.3320 - mse: 12486915.0000 - coeff_r2: 0.8593 - val_loss: 14456291.0000 - val_mae: 2480.0947 - val_mse: 14456291.0000 - val_coeff_r2: 0.8375\n",
      "Epoch 151/1000\n",
      "7258/7258 [==============================] - 16s 2ms/step - loss: 12461539.0000 - mae: 2332.6143 - mse: 12461539.0000 - coeff_r2: 0.8592 - val_loss: 14408251.0000 - val_mae: 2458.7729 - val_mse: 14408251.0000 - val_coeff_r2: 0.8387\n",
      "Epoch 152/1000\n",
      "7258/7258 [==============================] - 15s 2ms/step - loss: 12474658.0000 - mae: 2331.4026 - mse: 12474658.0000 - coeff_r2: 0.8606 - val_loss: 14462546.0000 - val_mae: 2460.2864 - val_mse: 14462546.0000 - val_coeff_r2: 0.8386\n",
      "Epoch 153/1000\n",
      "7258/7258 [==============================] - 15s 2ms/step - loss: 12453239.0000 - mae: 2330.7209 - mse: 12453239.0000 - coeff_r2: 0.8596 - val_loss: 14399027.0000 - val_mae: 2459.9543 - val_mse: 14399027.0000 - val_coeff_r2: 0.8393\n",
      "Epoch 154/1000\n",
      "7258/7258 [==============================] - 15s 2ms/step - loss: 12446229.0000 - mae: 2330.6760 - mse: 12446229.0000 - coeff_r2: 0.8604 - val_loss: 14426549.0000 - val_mae: 2457.1978 - val_mse: 14426549.0000 - val_coeff_r2: 0.8387\n",
      "Epoch 155/1000\n",
      "7258/7258 [==============================] - 15s 2ms/step - loss: 12441188.0000 - mae: 2331.1917 - mse: 12441188.0000 - coeff_r2: 0.8605 - val_loss: 14403529.0000 - val_mae: 2452.2322 - val_mse: 14403529.0000 - val_coeff_r2: 0.8394\n",
      "Epoch 156/1000\n",
      "7258/7258 [==============================] - 15s 2ms/step - loss: 12426891.0000 - mae: 2330.6863 - mse: 12426891.0000 - coeff_r2: 0.8613 - val_loss: 14483804.0000 - val_mae: 2466.2800 - val_mse: 14483804.0000 - val_coeff_r2: 0.8379\n",
      "Epoch 157/1000\n",
      "7258/7258 [==============================] - 15s 2ms/step - loss: 12434003.0000 - mae: 2329.7944 - mse: 12434003.0000 - coeff_r2: 0.8604 - val_loss: 14438491.0000 - val_mae: 2454.9229 - val_mse: 14438491.0000 - val_coeff_r2: 0.8391\n",
      "Epoch 158/1000\n",
      "7258/7258 [==============================] - 15s 2ms/step - loss: 12430321.0000 - mae: 2328.5918 - mse: 12430321.0000 - coeff_r2: 0.8604 - val_loss: 14518069.0000 - val_mae: 2465.8789 - val_mse: 14518069.0000 - val_coeff_r2: 0.8381\n",
      "Epoch 159/1000\n",
      "7258/7258 [==============================] - 15s 2ms/step - loss: 12418078.0000 - mae: 2328.0342 - mse: 12418078.0000 - coeff_r2: 0.8604 - val_loss: 14366911.0000 - val_mae: 2469.5466 - val_mse: 14366911.0000 - val_coeff_r2: 0.8389\n",
      "Epoch 160/1000\n",
      "7258/7258 [==============================] - 15s 2ms/step - loss: 12384150.0000 - mae: 2327.4023 - mse: 12384150.0000 - coeff_r2: 0.8614 - val_loss: 14528977.0000 - val_mae: 2468.7527 - val_mse: 14528977.0000 - val_coeff_r2: 0.8378\n",
      "Epoch 161/1000\n",
      "7258/7258 [==============================] - 15s 2ms/step - loss: 12422251.0000 - mae: 2328.2407 - mse: 12422251.0000 - coeff_r2: 0.8610 - val_loss: 14404134.0000 - val_mae: 2469.8057 - val_mse: 14404134.0000 - val_coeff_r2: 0.8395\n",
      "Epoch 162/1000\n",
      "7258/7258 [==============================] - 15s 2ms/step - loss: 12378799.0000 - mae: 2326.6633 - mse: 12378799.0000 - coeff_r2: 0.8608 - val_loss: 14547240.0000 - val_mae: 2463.3384 - val_mse: 14547240.0000 - val_coeff_r2: 0.8386\n",
      "Epoch 163/1000\n",
      "7258/7258 [==============================] - 15s 2ms/step - loss: 12398875.0000 - mae: 2326.9041 - mse: 12398875.0000 - coeff_r2: 0.8609 - val_loss: 14349825.0000 - val_mae: 2453.4165 - val_mse: 14349825.0000 - val_coeff_r2: 0.8404\n",
      "Epoch 164/1000\n",
      "7258/7258 [==============================] - 15s 2ms/step - loss: 12367012.0000 - mae: 2325.6780 - mse: 12367012.0000 - coeff_r2: 0.8613 - val_loss: 14449718.0000 - val_mae: 2457.5010 - val_mse: 14449718.0000 - val_coeff_r2: 0.8387\n",
      "Epoch 165/1000\n",
      "7258/7258 [==============================] - 15s 2ms/step - loss: 12399124.0000 - mae: 2326.5247 - mse: 12399124.0000 - coeff_r2: 0.8613 - val_loss: 14408263.0000 - val_mae: 2463.2590 - val_mse: 14408263.0000 - val_coeff_r2: 0.8384\n",
      "Epoch 166/1000\n",
      "7258/7258 [==============================] - 15s 2ms/step - loss: 12354932.0000 - mae: 2324.1880 - mse: 12354932.0000 - coeff_r2: 0.8612 - val_loss: 14454121.0000 - val_mae: 2459.2253 - val_mse: 14454121.0000 - val_coeff_r2: 0.8382\n",
      "Epoch 167/1000\n",
      "7258/7258 [==============================] - 15s 2ms/step - loss: 12391031.0000 - mae: 2325.7888 - mse: 12391031.0000 - coeff_r2: 0.8607 - val_loss: 14604929.0000 - val_mae: 2472.4229 - val_mse: 14604929.0000 - val_coeff_r2: 0.8379\n",
      "Epoch 168/1000\n",
      "7258/7258 [==============================] - 15s 2ms/step - loss: 12349006.0000 - mae: 2323.9229 - mse: 12349006.0000 - coeff_r2: 0.8614 - val_loss: 14495663.0000 - val_mae: 2452.0737 - val_mse: 14495663.0000 - val_coeff_r2: 0.8392\n",
      "Epoch 169/1000\n",
      "7258/7258 [==============================] - 15s 2ms/step - loss: 12378546.0000 - mae: 2324.7539 - mse: 12378546.0000 - coeff_r2: 0.8611 - val_loss: 14365736.0000 - val_mae: 2460.6733 - val_mse: 14365736.0000 - val_coeff_r2: 0.8389\n",
      "Epoch 170/1000\n",
      "7258/7258 [==============================] - 15s 2ms/step - loss: 12335625.0000 - mae: 2324.0791 - mse: 12335625.0000 - coeff_r2: 0.8612 - val_loss: 14434113.0000 - val_mae: 2463.7197 - val_mse: 14434113.0000 - val_coeff_r2: 0.8383\n",
      "Epoch 171/1000\n",
      "7258/7258 [==============================] - 15s 2ms/step - loss: 12365563.0000 - mae: 2322.3835 - mse: 12365563.0000 - coeff_r2: 0.8619 - val_loss: 14364854.0000 - val_mae: 2472.5437 - val_mse: 14364854.0000 - val_coeff_r2: 0.8391\n",
      "Epoch 172/1000\n",
      "7258/7258 [==============================] - 15s 2ms/step - loss: 12322006.0000 - mae: 2323.5481 - mse: 12322006.0000 - coeff_r2: 0.8621 - val_loss: 14451592.0000 - val_mae: 2452.5303 - val_mse: 14451592.0000 - val_coeff_r2: 0.8389\n",
      "Epoch 173/1000\n",
      "7258/7258 [==============================] - 15s 2ms/step - loss: 12337451.0000 - mae: 2322.2971 - mse: 12337451.0000 - coeff_r2: 0.8619 - val_loss: 14385640.0000 - val_mae: 2464.3667 - val_mse: 14385640.0000 - val_coeff_r2: 0.8400\n",
      "Epoch 174/1000\n",
      "7258/7258 [==============================] - 15s 2ms/step - loss: 12312288.0000 - mae: 2322.6309 - mse: 12312288.0000 - coeff_r2: 0.8624 - val_loss: 14510369.0000 - val_mae: 2473.0994 - val_mse: 14510369.0000 - val_coeff_r2: 0.8373\n",
      "Epoch 175/1000\n",
      "7258/7258 [==============================] - 15s 2ms/step - loss: 12331144.0000 - mae: 2322.3169 - mse: 12331144.0000 - coeff_r2: 0.8616 - val_loss: 14345402.0000 - val_mae: 2453.5586 - val_mse: 14345402.0000 - val_coeff_r2: 0.8398\n",
      "Epoch 176/1000\n",
      "7258/7258 [==============================] - 16s 2ms/step - loss: 12304724.0000 - mae: 2320.6562 - mse: 12304724.0000 - coeff_r2: 0.8622 - val_loss: 14398896.0000 - val_mae: 2455.9263 - val_mse: 14398896.0000 - val_coeff_r2: 0.8393\n",
      "Epoch 177/1000\n",
      "7258/7258 [==============================] - 15s 2ms/step - loss: 12322567.0000 - mae: 2321.5134 - mse: 12322567.0000 - coeff_r2: 0.8621 - val_loss: 14400877.0000 - val_mae: 2463.7910 - val_mse: 14400877.0000 - val_coeff_r2: 0.8385\n",
      "Epoch 178/1000\n",
      "2318/7258 [========>.....................] - ETA: 8s - loss: 12331126.0000 - mae: 2315.9373 - mse: 12331126.0000 - coeff_r2: 0.8614Buffered data was truncated after reaching the output size limit."
     ]
    }
   ],
   "source": [
    "# Let's try our model with 'adam' optimizer:\n",
    "def keras_model2():\n",
    "  model = keras.Sequential([                           \n",
    "                            layers.Dense(95, activation=tf.nn.relu, input_shape=[len(X_train.keys())]),\n",
    "                            layers.Dense(95, activation=tf.nn.relu),\n",
    "                            layers.Dense(1)\n",
    "                            ])\n",
    "  model.compile(loss='mse', optimizer='adam', metrics=['mae','mse', coeff_r2])\n",
    "  return model\n",
    "\n",
    "# Assigning our function to our model:\n",
    "model2 = keras_model2()\n",
    "\n",
    "# Assigning number of epochs:\n",
    "my_epochs = 1000\n",
    "\n",
    "# Assigning early stop:\n",
    "my_early_stop = keras.callbacks.EarlyStopping(monitor='val_loss', patience=50)\n",
    "\n",
    "# Fitting our model:\n",
    "history = model2.fit(X_train_scaled, y_train, epochs=my_epochs, validation_split = 0.2, verbose=1, callbacks=[my_early_stop])"
   ]
  },
  {
   "cell_type": "code",
   "execution_count": 111,
   "metadata": {
    "colab": {
     "base_uri": "https://localhost:8080/",
     "height": 70
    },
    "colab_type": "code",
    "id": "Umh7o0fk8_pE",
    "outputId": "2b9e6f2a-8b6d-4a9b-add4-d88436dd0480"
   },
   "outputs": [
    {
     "name": "stdout",
     "output_type": "stream",
     "text": [
      "The mean absolute error of our model is: 2451.24\n",
      "The mean value of the price column is:  14204.42\n",
      "The test set R^2 of our model is:  0.8313\n"
     ]
    }
   ],
   "source": [
    "# Let's see the mean absolute error of test set (with 'adam' optimizer):\n",
    "loss, mae, mse, r2 = model2.evaluate(X_test_scaled, y_test, verbose=0)\n",
    "\n",
    "print('The mean absolute error of our model is:', round(mae,2))\n",
    "print('The mean value of the price column is: ', round(y_test.mean(),2))\n",
    "print('The test set R^2 of our model is: ', round(r2,4))"
   ]
  },
  {
   "cell_type": "markdown",
   "metadata": {
    "colab_type": "text",
    "id": "3VYxBRVk6-m7"
   },
   "source": [
    "We can clearly see improvement in our result when using 'adam' optimizer. The R^2 score of the test set improved from 0.68 to 0.83, which is a substantial difference. We'll be using 'adam' optimizer from now on. "
   ]
  },
  {
   "cell_type": "code",
   "execution_count": 117,
   "metadata": {
    "colab": {
     "base_uri": "https://localhost:8080/",
     "height": 554
    },
    "colab_type": "code",
    "id": "-d-DvkD78_4r",
    "outputId": "3ea68c85-d296-4b4d-dcc7-6d53cad21c36"
   },
   "outputs": [
    {
     "data": {
      "image/png": "[encoded data removed]",
      "text/plain": [
       "<Figure size 432x288 with 1 Axes>"
      ]
     },
     "metadata": {
      "needs_background": "light",
      "tags": []
     },
     "output_type": "display_data"
    },
    {
     "data": {
      "image/png": "[encoded data removed]",
      "text/plain": [
       "<Figure size 432x288 with 1 Axes>"
      ]
     },
     "metadata": {
      "needs_background": "light",
      "tags": []
     },
     "output_type": "display_data"
    }
   ],
   "source": [
    "# Plotting our value scores for each epoch:\n",
    "def plot_history(history):\n",
    "  hist = pd.DataFrame(history.history)\n",
    "  hist['epoch'] = history.epoch\n",
    "\n",
    "  plt.figure()\n",
    "  plt.plot(hist['epoch'], hist['mae'], label=\"Train Error\")\n",
    "  plt.plot(hist['epoch'], hist['val_mae'], label=\"Val Error\")\n",
    "  plt.legend()\n",
    "  plt.xlabel('Epoch')\n",
    "  plt.ylabel('Mean Abs Error')\n",
    "  plt.show()\n",
    "\n",
    "\n",
    "  plt.figure()\n",
    "  plt.plot(hist['epoch'], hist['mse'], label=\"Train Error\")\n",
    "  plt.plot(hist['epoch'], hist['val_mse'], label=\"Val Error\")\n",
    "  plt.legend()\n",
    "  plt.xlabel('Epoch')\n",
    "  plt.ylabel('Mean Square Error')\n",
    "  plt.show()\n",
    "\n",
    "\n",
    "plot_history(history)"
   ]
  },
  {
   "cell_type": "markdown",
   "metadata": {
    "colab_type": "text",
    "id": "0HCG9ozk7QO0"
   },
   "source": [
    "We can see from the graph that our metric values for the test set didn't improve much after certain number of epochs, thus it was a good idea to set Early Stopping parameter in our model. "
   ]
  },
  {
   "cell_type": "code",
   "execution_count": 121,
   "metadata": {
    "colab": {
     "base_uri": "https://localhost:8080/",
     "height": 301
    },
    "colab_type": "code",
    "id": "GrQZKqC_RlpV",
    "outputId": "5809fe3f-4734-4b89-8228-6e2effd35422"
   },
   "outputs": [
    {
     "name": "stdout",
     "output_type": "stream",
     "text": [
      "Model: \"sequential_5\"\n",
      "_________________________________________________________________\n",
      "Layer (type)                 Output Shape              Param #   \n",
      "=================================================================\n",
      "dense_17 (Dense)             (None, 95)                9120      \n",
      "_________________________________________________________________\n",
      "dense_18 (Dense)             (None, 95)                9120      \n",
      "_________________________________________________________________\n",
      "dropout_4 (Dropout)          (None, 95)                0         \n",
      "_________________________________________________________________\n",
      "dense_19 (Dense)             (None, 1)                 96        \n",
      "=================================================================\n",
      "Total params: 18,336\n",
      "Trainable params: 18,336\n",
      "Non-trainable params: 0\n",
      "_________________________________________________________________\n"
     ]
    }
   ],
   "source": [
    "# Creating function to define our model's parameters(with a dropout):\n",
    "def keras_model3():\n",
    "  model = keras.Sequential([                           \n",
    "                            layers.Dense(95, activation=tf.nn.relu, input_shape=[len(X_train.keys())]),\n",
    "                            layers.Dense(95, activation=tf.nn.relu),\n",
    "                            layers.Dropout(0.2),\n",
    "                            layers.Dense(1)\n",
    "                            ])  \n",
    "  model.compile(loss='mse', optimizer='adam', metrics=['mae','mse', coeff_r2])\n",
    "  return model\n",
    "\n",
    "# Assigning our function to our model:\n",
    "model3 = keras_model3()\n",
    "\n",
    "# Let's inspect the model:\n",
    "model3.summary()"
   ]
  },
  {
   "cell_type": "code",
   "execution_count": 122,
   "metadata": {
    "colab": {
     "base_uri": "https://localhost:8080/",
     "height": 1000
    },
    "colab_type": "code",
    "id": "_0enKuVuLRe-",
    "outputId": "29b337b0-fef1-45a7-bab4-5110cb7034a0",
    "scrolled": true
   },
   "outputs": [
    {
     "name": "stdout",
     "output_type": "stream",
     "text": [
      "Epoch 1/1000\n",
      "7258/7258 [==============================] - 16s 2ms/step - loss: 38822852.0000 - mae: 4023.2654 - mse: 38822852.0000 - coeff_r2: 0.5706 - val_loss: 21030756.0000 - val_mae: 3067.0320 - val_mse: 21030756.0000 - val_coeff_r2: 0.7680\n",
      "Epoch 2/1000\n",
      "7258/7258 [==============================] - 16s 2ms/step - loss: 20992216.0000 - mae: 3069.3640 - mse: 20992216.0000 - coeff_r2: 0.7680 - val_loss: 18926692.0000 - val_mae: 2905.1418 - val_mse: 18926692.0000 - val_coeff_r2: 0.7902\n",
      "Epoch 3/1000\n",
      "7258/7258 [==============================] - 16s 2ms/step - loss: 19542786.0000 - mae: 2958.0396 - mse: 19542786.0000 - coeff_r2: 0.7835 - val_loss: 18452394.0000 - val_mae: 2811.8191 - val_mse: 18452394.0000 - val_coeff_r2: 0.7972\n",
      "Epoch 4/1000\n",
      "7258/7258 [==============================] - 16s 2ms/step - loss: 19115778.0000 - mae: 2905.3958 - mse: 19115778.0000 - coeff_r2: 0.7884 - val_loss: 18248028.0000 - val_mae: 2789.0869 - val_mse: 18248028.0000 - val_coeff_r2: 0.7985\n",
      "Epoch 5/1000\n",
      "7258/7258 [==============================] - 15s 2ms/step - loss: 18631142.0000 - mae: 2866.4189 - mse: 18631142.0000 - coeff_r2: 0.7941 - val_loss: 17950228.0000 - val_mae: 2771.3503 - val_mse: 17950228.0000 - val_coeff_r2: 0.8017\n",
      "Epoch 6/1000\n",
      "7258/7258 [==============================] - 16s 2ms/step - loss: 18373616.0000 - mae: 2840.3027 - mse: 18373616.0000 - coeff_r2: 0.7963 - val_loss: 17683634.0000 - val_mae: 2733.5706 - val_mse: 17683634.0000 - val_coeff_r2: 0.8052\n",
      "Epoch 7/1000\n",
      "7258/7258 [==============================] - 15s 2ms/step - loss: 18276966.0000 - mae: 2823.8582 - mse: 18276966.0000 - coeff_r2: 0.7981 - val_loss: 17479068.0000 - val_mae: 2713.7888 - val_mse: 17479068.0000 - val_coeff_r2: 0.8075\n",
      "Epoch 8/1000\n",
      "7258/7258 [==============================] - 15s 2ms/step - loss: 17923960.0000 - mae: 2803.8865 - mse: 17923960.0000 - coeff_r2: 0.8012 - val_loss: 17237868.0000 - val_mae: 2717.8899 - val_mse: 17237868.0000 - val_coeff_r2: 0.8086\n",
      "Epoch 9/1000\n",
      "7258/7258 [==============================] - 15s 2ms/step - loss: 17769520.0000 - mae: 2793.2917 - mse: 17769520.0000 - coeff_r2: 0.8034 - val_loss: 17021824.0000 - val_mae: 2688.5598 - val_mse: 17021824.0000 - val_coeff_r2: 0.8117\n",
      "Epoch 10/1000\n",
      "7258/7258 [==============================] - 15s 2ms/step - loss: 17632538.0000 - mae: 2780.8345 - mse: 17632538.0000 - coeff_r2: 0.8043 - val_loss: 16985888.0000 - val_mae: 2685.3943 - val_mse: 16985888.0000 - val_coeff_r2: 0.8125\n",
      "Epoch 11/1000\n",
      "7258/7258 [==============================] - 15s 2ms/step - loss: 17593218.0000 - mae: 2772.2793 - mse: 17593218.0000 - coeff_r2: 0.8051 - val_loss: 16843844.0000 - val_mae: 2680.0317 - val_mse: 16843844.0000 - val_coeff_r2: 0.8129\n",
      "Epoch 12/1000\n",
      "7258/7258 [==============================] - 16s 2ms/step - loss: 17385102.0000 - mae: 2760.5366 - mse: 17385102.0000 - coeff_r2: 0.8073 - val_loss: 16688338.0000 - val_mae: 2655.1548 - val_mse: 16688338.0000 - val_coeff_r2: 0.8152\n",
      "Epoch 13/1000\n",
      "7258/7258 [==============================] - 16s 2ms/step - loss: 17283940.0000 - mae: 2753.9312 - mse: 17283940.0000 - coeff_r2: 0.8077 - val_loss: 16705757.0000 - val_mae: 2654.4370 - val_mse: 16705757.0000 - val_coeff_r2: 0.8152\n",
      "Epoch 14/1000\n",
      "7258/7258 [==============================] - 15s 2ms/step - loss: 17156508.0000 - mae: 2744.0034 - mse: 17156508.0000 - coeff_r2: 0.8104 - val_loss: 16491447.0000 - val_mae: 2641.8796 - val_mse: 16491447.0000 - val_coeff_r2: 0.8175\n",
      "Epoch 15/1000\n",
      "7258/7258 [==============================] - 15s 2ms/step - loss: 17111092.0000 - mae: 2735.4795 - mse: 17111092.0000 - coeff_r2: 0.8095 - val_loss: 16451208.0000 - val_mae: 2646.0972 - val_mse: 16451208.0000 - val_coeff_r2: 0.8169\n",
      "Epoch 16/1000\n",
      "7258/7258 [==============================] - 15s 2ms/step - loss: 17056710.0000 - mae: 2732.5020 - mse: 17056710.0000 - coeff_r2: 0.7827 - val_loss: 16413151.0000 - val_mae: 2640.9707 - val_mse: 16413151.0000 - val_coeff_r2: 0.8182\n",
      "Epoch 17/1000\n",
      "7258/7258 [==============================] - 14s 2ms/step - loss: 16948850.0000 - mae: 2723.8896 - mse: 16948850.0000 - coeff_r2: 0.8119 - val_loss: 16309713.0000 - val_mae: 2636.5657 - val_mse: 16309713.0000 - val_coeff_r2: 0.8186\n",
      "Epoch 18/1000\n",
      "7258/7258 [==============================] - 15s 2ms/step - loss: 16882032.0000 - mae: 2719.4258 - mse: 16882032.0000 - coeff_r2: 0.8126 - val_loss: 16238288.0000 - val_mae: 2627.9924 - val_mse: 16238288.0000 - val_coeff_r2: 0.8194\n",
      "Epoch 19/1000\n",
      "7258/7258 [==============================] - 15s 2ms/step - loss: 16725467.0000 - mae: 2705.1877 - mse: 16725467.0000 - coeff_r2: 0.8137 - val_loss: 16112815.0000 - val_mae: 2622.3550 - val_mse: 16112815.0000 - val_coeff_r2: 0.8210\n",
      "Epoch 20/1000\n",
      "7258/7258 [==============================] - 16s 2ms/step - loss: 16710195.0000 - mae: 2704.7627 - mse: 16710195.0000 - coeff_r2: 0.8142 - val_loss: 16066702.0000 - val_mae: 2614.4133 - val_mse: 16066702.0000 - val_coeff_r2: 0.8209\n",
      "Epoch 21/1000\n",
      "7258/7258 [==============================] - 16s 2ms/step - loss: 16607898.0000 - mae: 2696.4312 - mse: 16607898.0000 - coeff_r2: 0.8152 - val_loss: 16015851.0000 - val_mae: 2602.4189 - val_mse: 16015851.0000 - val_coeff_r2: 0.8223\n",
      "Epoch 22/1000\n",
      "7258/7258 [==============================] - 14s 2ms/step - loss: 16561002.0000 - mae: 2690.7930 - mse: 16561002.0000 - coeff_r2: 0.8160 - val_loss: 15916459.0000 - val_mae: 2604.5322 - val_mse: 15916459.0000 - val_coeff_r2: 0.8233\n",
      "Epoch 23/1000\n",
      "7258/7258 [==============================] - 14s 2ms/step - loss: 16451501.0000 - mae: 2682.8711 - mse: 16451501.0000 - coeff_r2: 0.8173 - val_loss: 15864006.0000 - val_mae: 2583.9861 - val_mse: 15864006.0000 - val_coeff_r2: 0.8242\n",
      "Epoch 24/1000\n",
      "7258/7258 [==============================] - 17s 2ms/step - loss: 16384594.0000 - mae: 2675.7178 - mse: 16384594.0000 - coeff_r2: 0.8183 - val_loss: 15819537.0000 - val_mae: 2589.8901 - val_mse: 15819537.0000 - val_coeff_r2: 0.8239\n",
      "Epoch 25/1000\n",
      "7258/7258 [==============================] - 15s 2ms/step - loss: 16382279.0000 - mae: 2672.4849 - mse: 16382279.0000 - coeff_r2: 0.8181 - val_loss: 15682033.0000 - val_mae: 2585.6182 - val_mse: 15682033.0000 - val_coeff_r2: 0.8252\n",
      "Epoch 26/1000\n",
      "7258/7258 [==============================] - 15s 2ms/step - loss: 16274011.0000 - mae: 2664.3416 - mse: 16274011.0000 - coeff_r2: 0.8187 - val_loss: 15796062.0000 - val_mae: 2571.9907 - val_mse: 15796062.0000 - val_coeff_r2: 0.8251\n",
      "Epoch 27/1000\n",
      "7258/7258 [==============================] - 15s 2ms/step - loss: 16150962.0000 - mae: 2658.7893 - mse: 16150962.0000 - coeff_r2: 0.8204 - val_loss: 15657067.0000 - val_mae: 2558.7380 - val_mse: 15657067.0000 - val_coeff_r2: 0.8268\n",
      "Epoch 28/1000\n",
      "7258/7258 [==============================] - 16s 2ms/step - loss: 16177165.0000 - mae: 2660.0562 - mse: 16177165.0000 - coeff_r2: 0.8205 - val_loss: 15538561.0000 - val_mae: 2554.8213 - val_mse: 15538561.0000 - val_coeff_r2: 0.8277\n",
      "Epoch 29/1000\n",
      "7258/7258 [==============================] - 16s 2ms/step - loss: 16083320.0000 - mae: 2651.9590 - mse: 16083320.0000 - coeff_r2: 0.8216 - val_loss: 15608471.0000 - val_mae: 2562.9048 - val_mse: 15608471.0000 - val_coeff_r2: 0.8263\n",
      "Epoch 30/1000\n",
      "7258/7258 [==============================] - 16s 2ms/step - loss: 16054610.0000 - mae: 2650.5166 - mse: 16054610.0000 - coeff_r2: 0.8215 - val_loss: 15602394.0000 - val_mae: 2553.5691 - val_mse: 15602394.0000 - val_coeff_r2: 0.8277\n",
      "Epoch 31/1000\n",
      "7258/7258 [==============================] - 16s 2ms/step - loss: 16024199.0000 - mae: 2647.0654 - mse: 16024199.0000 - coeff_r2: 0.8211 - val_loss: 15391539.0000 - val_mae: 2551.2500 - val_mse: 15391539.0000 - val_coeff_r2: 0.8286\n",
      "Epoch 32/1000\n",
      "7258/7258 [==============================] - 16s 2ms/step - loss: 15988014.0000 - mae: 2646.0808 - mse: 15988014.0000 - coeff_r2: 0.8215 - val_loss: 15557891.0000 - val_mae: 2548.8132 - val_mse: 15557891.0000 - val_coeff_r2: 0.8274\n",
      "Epoch 33/1000\n",
      "7258/7258 [==============================] - 17s 2ms/step - loss: 15906873.0000 - mae: 2635.7979 - mse: 15906873.0000 - coeff_r2: 0.8237 - val_loss: 15383388.0000 - val_mae: 2541.5063 - val_mse: 15383388.0000 - val_coeff_r2: 0.8293\n",
      "Epoch 34/1000\n",
      "7258/7258 [==============================] - 17s 2ms/step - loss: 15865594.0000 - mae: 2633.7373 - mse: 15865594.0000 - coeff_r2: 0.8234 - val_loss: 15448259.0000 - val_mae: 2548.8843 - val_mse: 15448259.0000 - val_coeff_r2: 0.8281\n",
      "Epoch 35/1000\n",
      "7258/7258 [==============================] - 16s 2ms/step - loss: 15872015.0000 - mae: 2633.3682 - mse: 15872015.0000 - coeff_r2: 0.8233 - val_loss: 15365726.0000 - val_mae: 2541.5439 - val_mse: 15365726.0000 - val_coeff_r2: 0.8300\n",
      "Epoch 36/1000\n",
      "7258/7258 [==============================] - 16s 2ms/step - loss: 15775142.0000 - mae: 2627.2622 - mse: 15775142.0000 - coeff_r2: 0.8248 - val_loss: 15340196.0000 - val_mae: 2536.8374 - val_mse: 15340196.0000 - val_coeff_r2: 0.8301\n",
      "Epoch 37/1000\n",
      "7258/7258 [==============================] - 16s 2ms/step - loss: 15708337.0000 - mae: 2624.0125 - mse: 15708337.0000 - coeff_r2: 0.8247 - val_loss: 15289242.0000 - val_mae: 2534.7034 - val_mse: 15289242.0000 - val_coeff_r2: 0.8307\n",
      "Epoch 38/1000\n",
      "7258/7258 [==============================] - 16s 2ms/step - loss: 15683743.0000 - mae: 2620.2214 - mse: 15683743.0000 - coeff_r2: 0.7339 - val_loss: 15312407.0000 - val_mae: 2545.2021 - val_mse: 15312407.0000 - val_coeff_r2: 0.8296\n",
      "Epoch 39/1000\n",
      "7258/7258 [==============================] - 16s 2ms/step - loss: 15700564.0000 - mae: 2622.4841 - mse: 15700564.0000 - coeff_r2: 0.8248 - val_loss: 15259519.0000 - val_mae: 2533.0552 - val_mse: 15259519.0000 - val_coeff_r2: 0.8312\n",
      "Epoch 40/1000\n",
      "7258/7258 [==============================] - 18s 2ms/step - loss: 15646604.0000 - mae: 2617.0283 - mse: 15646604.0000 - coeff_r2: 0.8263 - val_loss: 15220692.0000 - val_mae: 2527.8926 - val_mse: 15220692.0000 - val_coeff_r2: 0.8311\n",
      "Epoch 41/1000\n",
      "7258/7258 [==============================] - 16s 2ms/step - loss: 15575766.0000 - mae: 2610.0503 - mse: 15575766.0000 - coeff_r2: 0.8266 - val_loss: 15293663.0000 - val_mae: 2523.0793 - val_mse: 15293663.0000 - val_coeff_r2: 0.8312\n",
      "Epoch 42/1000\n",
      "7258/7258 [==============================] - 16s 2ms/step - loss: 15594171.0000 - mae: 2613.5605 - mse: 15594171.0000 - coeff_r2: 0.8260 - val_loss: 15349507.0000 - val_mae: 2524.7048 - val_mse: 15349507.0000 - val_coeff_r2: 0.8308\n",
      "Epoch 43/1000\n",
      "7258/7258 [==============================] - 16s 2ms/step - loss: 15541886.0000 - mae: 2609.9968 - mse: 15541886.0000 - coeff_r2: 0.8267 - val_loss: 15139037.0000 - val_mae: 2524.8518 - val_mse: 15139037.0000 - val_coeff_r2: 0.8322\n",
      "Epoch 44/1000\n",
      "7258/7258 [==============================] - 16s 2ms/step - loss: 15518896.0000 - mae: 2606.7061 - mse: 15518896.0000 - coeff_r2: 0.8277 - val_loss: 15068577.0000 - val_mae: 2517.6606 - val_mse: 15068577.0000 - val_coeff_r2: 0.8325\n",
      "Epoch 45/1000\n",
      "7258/7258 [==============================] - 15s 2ms/step - loss: 15454714.0000 - mae: 2602.3750 - mse: 15454714.0000 - coeff_r2: 0.8282 - val_loss: 15102544.0000 - val_mae: 2516.1611 - val_mse: 15102544.0000 - val_coeff_r2: 0.8330\n",
      "Epoch 46/1000\n",
      "7258/7258 [==============================] - 15s 2ms/step - loss: 15394206.0000 - mae: 2599.5864 - mse: 15394206.0000 - coeff_r2: 0.8276 - val_loss: 15167370.0000 - val_mae: 2519.4778 - val_mse: 15167370.0000 - val_coeff_r2: 0.8323\n",
      "Epoch 47/1000\n",
      "7258/7258 [==============================] - 16s 2ms/step - loss: 15442912.0000 - mae: 2601.9670 - mse: 15442912.0000 - coeff_r2: 0.8284 - val_loss: 14988679.0000 - val_mae: 2508.9858 - val_mse: 14988679.0000 - val_coeff_r2: 0.8339\n",
      "Epoch 48/1000\n",
      "7258/7258 [==============================] - 15s 2ms/step - loss: 15374715.0000 - mae: 2599.3413 - mse: 15374715.0000 - coeff_r2: 0.8291 - val_loss: 15140242.0000 - val_mae: 2525.1890 - val_mse: 15140242.0000 - val_coeff_r2: 0.8315\n",
      "Epoch 49/1000\n",
      "7258/7258 [==============================] - 16s 2ms/step - loss: 15379863.0000 - mae: 2598.4219 - mse: 15379863.0000 - coeff_r2: 0.8292 - val_loss: 15070072.0000 - val_mae: 2512.1206 - val_mse: 15070072.0000 - val_coeff_r2: 0.8334\n",
      "Epoch 50/1000\n",
      "7258/7258 [==============================] - 16s 2ms/step - loss: 15357450.0000 - mae: 2594.7258 - mse: 15357450.0000 - coeff_r2: 0.8294 - val_loss: 15091196.0000 - val_mae: 2516.2068 - val_mse: 15091196.0000 - val_coeff_r2: 0.8328\n",
      "Epoch 51/1000\n",
      "7258/7258 [==============================] - 15s 2ms/step - loss: 15327803.0000 - mae: 2592.1565 - mse: 15327803.0000 - coeff_r2: 0.8294 - val_loss: 14960095.0000 - val_mae: 2515.3188 - val_mse: 14960095.0000 - val_coeff_r2: 0.8335\n",
      "Epoch 52/1000\n",
      "7258/7258 [==============================] - 16s 2ms/step - loss: 15267608.0000 - mae: 2590.5774 - mse: 15267608.0000 - coeff_r2: 0.8304 - val_loss: 15086282.0000 - val_mae: 2507.1272 - val_mse: 15086282.0000 - val_coeff_r2: 0.8333\n",
      "Epoch 53/1000\n",
      "7258/7258 [==============================] - 15s 2ms/step - loss: 15264677.0000 - mae: 2591.5151 - mse: 15264677.0000 - coeff_r2: 0.8310 - val_loss: 14955950.0000 - val_mae: 2510.2566 - val_mse: 14955950.0000 - val_coeff_r2: 0.8331\n",
      "Epoch 54/1000\n",
      "7258/7258 [==============================] - 16s 2ms/step - loss: 15209131.0000 - mae: 2585.0688 - mse: 15209131.0000 - coeff_r2: 0.8311 - val_loss: 15014990.0000 - val_mae: 2511.2429 - val_mse: 15014990.0000 - val_coeff_r2: 0.8328\n",
      "Epoch 55/1000\n",
      "7258/7258 [==============================] - 15s 2ms/step - loss: 15219907.0000 - mae: 2587.0828 - mse: 15219907.0000 - coeff_r2: 0.8302 - val_loss: 14901227.0000 - val_mae: 2499.7966 - val_mse: 14901227.0000 - val_coeff_r2: 0.8347\n",
      "Epoch 56/1000\n",
      "7258/7258 [==============================] - 16s 2ms/step - loss: 15168662.0000 - mae: 2581.5535 - mse: 15168662.0000 - coeff_r2: 0.8314 - val_loss: 14977279.0000 - val_mae: 2512.1279 - val_mse: 14977279.0000 - val_coeff_r2: 0.8333\n",
      "Epoch 57/1000\n",
      "7258/7258 [==============================] - 15s 2ms/step - loss: 15170319.0000 - mae: 2582.7632 - mse: 15170319.0000 - coeff_r2: 0.8316 - val_loss: 15086264.0000 - val_mae: 2499.8970 - val_mse: 15086264.0000 - val_coeff_r2: 0.8338\n",
      "Epoch 58/1000\n",
      "7258/7258 [==============================] - 15s 2ms/step - loss: 15137282.0000 - mae: 2579.1934 - mse: 15137282.0000 - coeff_r2: 0.8295 - val_loss: 14912791.0000 - val_mae: 2495.5869 - val_mse: 14912791.0000 - val_coeff_r2: 0.8347\n",
      "Epoch 59/1000\n",
      "7258/7258 [==============================] - 16s 2ms/step - loss: 15110286.0000 - mae: 2577.8604 - mse: 15110286.0000 - coeff_r2: 0.8320 - val_loss: 14886906.0000 - val_mae: 2506.7021 - val_mse: 14886906.0000 - val_coeff_r2: 0.8345\n",
      "Epoch 60/1000\n",
      "7258/7258 [==============================] - 16s 2ms/step - loss: 15120578.0000 - mae: 2575.8484 - mse: 15120578.0000 - coeff_r2: 0.8317 - val_loss: 14962266.0000 - val_mae: 2495.8552 - val_mse: 14962266.0000 - val_coeff_r2: 0.8345\n",
      "Epoch 61/1000\n",
      "7258/7258 [==============================] - 16s 2ms/step - loss: 15055374.0000 - mae: 2573.6692 - mse: 15055374.0000 - coeff_r2: 0.8327 - val_loss: 14863257.0000 - val_mae: 2497.4612 - val_mse: 14863257.0000 - val_coeff_r2: 0.8351\n",
      "Epoch 62/1000\n",
      "7258/7258 [==============================] - 16s 2ms/step - loss: 15046597.0000 - mae: 2573.8445 - mse: 15046597.0000 - coeff_r2: 0.8328 - val_loss: 14987406.0000 - val_mae: 2495.4446 - val_mse: 14987406.0000 - val_coeff_r2: 0.8346\n",
      "Epoch 63/1000\n",
      "7258/7258 [==============================] - 16s 2ms/step - loss: 14997675.0000 - mae: 2570.5671 - mse: 14997675.0000 - coeff_r2: 0.8327 - val_loss: 14800145.0000 - val_mae: 2494.2659 - val_mse: 14800145.0000 - val_coeff_r2: 0.8358\n",
      "Epoch 64/1000\n",
      "7258/7258 [==============================] - 16s 2ms/step - loss: 15044228.0000 - mae: 2573.5559 - mse: 15044228.0000 - coeff_r2: 0.8194 - val_loss: 14918195.0000 - val_mae: 2494.6316 - val_mse: 14918195.0000 - val_coeff_r2: 0.8345\n",
      "Epoch 65/1000\n",
      "7258/7258 [==============================] - 16s 2ms/step - loss: 15048690.0000 - mae: 2574.5427 - mse: 15048690.0000 - coeff_r2: 0.8307 - val_loss: 14728165.0000 - val_mae: 2485.8496 - val_mse: 14728165.0000 - val_coeff_r2: 0.8368\n",
      "Epoch 66/1000\n",
      "7258/7258 [==============================] - 16s 2ms/step - loss: 14976993.0000 - mae: 2567.4575 - mse: 14976993.0000 - coeff_r2: 0.8338 - val_loss: 14918710.0000 - val_mae: 2500.1035 - val_mse: 14918710.0000 - val_coeff_r2: 0.8344\n",
      "Epoch 67/1000\n",
      "7258/7258 [==============================] - 17s 2ms/step - loss: 14957394.0000 - mae: 2569.3159 - mse: 14957394.0000 - coeff_r2: 0.8333 - val_loss: 14792684.0000 - val_mae: 2492.2441 - val_mse: 14792684.0000 - val_coeff_r2: 0.8358\n",
      "Epoch 68/1000\n",
      "7258/7258 [==============================] - 16s 2ms/step - loss: 14914190.0000 - mae: 2564.5479 - mse: 14914190.0000 - coeff_r2: 0.8332 - val_loss: 14874429.0000 - val_mae: 2504.0559 - val_mse: 14874429.0000 - val_coeff_r2: 0.8347\n",
      "Epoch 69/1000\n",
      "7258/7258 [==============================] - 17s 2ms/step - loss: 14947931.0000 - mae: 2567.9478 - mse: 14947931.0000 - coeff_r2: 0.8336 - val_loss: 14846998.0000 - val_mae: 2492.8552 - val_mse: 14846998.0000 - val_coeff_r2: 0.8356\n",
      "Epoch 70/1000\n",
      "7258/7258 [==============================] - 17s 2ms/step - loss: 14890058.0000 - mae: 2560.8706 - mse: 14890058.0000 - coeff_r2: 0.8342 - val_loss: 14985810.0000 - val_mae: 2490.1460 - val_mse: 14985810.0000 - val_coeff_r2: 0.8346\n",
      "Epoch 71/1000\n",
      "7258/7258 [==============================] - 17s 2ms/step - loss: 14932858.0000 - mae: 2563.3413 - mse: 14932858.0000 - coeff_r2: 0.8339 - val_loss: 14678837.0000 - val_mae: 2480.8372 - val_mse: 14678837.0000 - val_coeff_r2: 0.8372\n",
      "Epoch 72/1000\n",
      "7258/7258 [==============================] - 18s 2ms/step - loss: 14864714.0000 - mae: 2557.3081 - mse: 14864714.0000 - coeff_r2: 0.8327 - val_loss: 14767409.0000 - val_mae: 2489.3689 - val_mse: 14767409.0000 - val_coeff_r2: 0.8362\n",
      "Epoch 73/1000\n",
      "7258/7258 [==============================] - 17s 2ms/step - loss: 15002190.0000 - mae: 2564.2417 - mse: 15002190.0000 - coeff_r2: 0.8326 - val_loss: 14727787.0000 - val_mae: 2479.5586 - val_mse: 14727787.0000 - val_coeff_r2: 0.8364\n",
      "Epoch 74/1000\n",
      "7258/7258 [==============================] - 17s 2ms/step - loss: 14877941.0000 - mae: 2558.9607 - mse: 14877941.0000 - coeff_r2: 0.8347 - val_loss: 14773907.0000 - val_mae: 2483.6641 - val_mse: 14773907.0000 - val_coeff_r2: 0.8365\n",
      "Epoch 75/1000\n",
      "7258/7258 [==============================] - 17s 2ms/step - loss: 14807799.0000 - mae: 2557.6760 - mse: 14807799.0000 - coeff_r2: 0.8341 - val_loss: 14797531.0000 - val_mae: 2501.0471 - val_mse: 14797531.0000 - val_coeff_r2: 0.8349\n",
      "Epoch 76/1000\n",
      "7258/7258 [==============================] - 17s 2ms/step - loss: 14838130.0000 - mae: 2557.1948 - mse: 14838130.0000 - coeff_r2: 0.8328 - val_loss: 14747870.0000 - val_mae: 2498.3748 - val_mse: 14747870.0000 - val_coeff_r2: 0.8357\n",
      "Epoch 77/1000\n",
      "7258/7258 [==============================] - 16s 2ms/step - loss: 14747409.0000 - mae: 2553.6987 - mse: 14747409.0000 - coeff_r2: 0.8309 - val_loss: 15087210.0000 - val_mae: 2487.4290 - val_mse: 15087210.0000 - val_coeff_r2: 0.8334\n",
      "Epoch 78/1000\n",
      "7258/7258 [==============================] - 17s 2ms/step - loss: 14886201.0000 - mae: 2559.0308 - mse: 14886201.0000 - coeff_r2: 0.8348 - val_loss: 14698279.0000 - val_mae: 2486.9587 - val_mse: 14698279.0000 - val_coeff_r2: 0.8363\n",
      "Epoch 79/1000\n",
      "7258/7258 [==============================] - 16s 2ms/step - loss: 14788758.0000 - mae: 2553.1057 - mse: 14788758.0000 - coeff_r2: 0.8347 - val_loss: 14624922.0000 - val_mae: 2479.0710 - val_mse: 14624922.0000 - val_coeff_r2: 0.8375\n",
      "Epoch 80/1000\n",
      "7258/7258 [==============================] - 17s 2ms/step - loss: 14752044.0000 - mae: 2552.2473 - mse: 14752044.0000 - coeff_r2: 0.8352 - val_loss: 14698845.0000 - val_mae: 2483.8223 - val_mse: 14698845.0000 - val_coeff_r2: 0.8369\n",
      "Epoch 81/1000\n",
      "7258/7258 [==============================] - 18s 2ms/step - loss: 14783770.0000 - mae: 2555.5886 - mse: 14783770.0000 - coeff_r2: 0.8348 - val_loss: 14644333.0000 - val_mae: 2482.1729 - val_mse: 14644333.0000 - val_coeff_r2: 0.8370\n",
      "Epoch 82/1000\n",
      "7258/7258 [==============================] - 18s 2ms/step - loss: 14713095.0000 - mae: 2546.9282 - mse: 14713095.0000 - coeff_r2: 0.8362 - val_loss: 14700541.0000 - val_mae: 2480.6807 - val_mse: 14700541.0000 - val_coeff_r2: 0.8367\n",
      "Epoch 83/1000\n",
      "7258/7258 [==============================] - 16s 2ms/step - loss: 14724785.0000 - mae: 2547.5217 - mse: 14724785.0000 - coeff_r2: 0.8357 - val_loss: 14680057.0000 - val_mae: 2479.4587 - val_mse: 14680057.0000 - val_coeff_r2: 0.8373\n",
      "Epoch 84/1000\n",
      "7258/7258 [==============================] - 17s 2ms/step - loss: 14814582.0000 - mae: 2556.0732 - mse: 14814582.0000 - coeff_r2: 0.8343 - val_loss: 14647651.0000 - val_mae: 2476.6870 - val_mse: 14647651.0000 - val_coeff_r2: 0.8377\n",
      "Epoch 85/1000\n",
      "7258/7258 [==============================] - 17s 2ms/step - loss: 14677302.0000 - mae: 2545.5874 - mse: 14677302.0000 - coeff_r2: 0.8368 - val_loss: 14607821.0000 - val_mae: 2475.5596 - val_mse: 14607821.0000 - val_coeff_r2: 0.8375\n",
      "Epoch 86/1000\n",
      "7258/7258 [==============================] - 17s 2ms/step - loss: 14729917.0000 - mae: 2549.2764 - mse: 14729917.0000 - coeff_r2: 0.8360 - val_loss: 14668236.0000 - val_mae: 2477.7510 - val_mse: 14668236.0000 - val_coeff_r2: 0.8368\n",
      "Epoch 87/1000\n",
      "7258/7258 [==============================] - 17s 2ms/step - loss: 14695333.0000 - mae: 2547.8171 - mse: 14695333.0000 - coeff_r2: 0.8362 - val_loss: 14576335.0000 - val_mae: 2471.0732 - val_mse: 14576335.0000 - val_coeff_r2: 0.8383\n",
      "Epoch 88/1000\n",
      "7258/7258 [==============================] - 17s 2ms/step - loss: 14666935.0000 - mae: 2546.2039 - mse: 14666935.0000 - coeff_r2: 0.8352 - val_loss: 14715609.0000 - val_mae: 2472.6040 - val_mse: 14715609.0000 - val_coeff_r2: 0.8367\n",
      "Epoch 89/1000\n",
      "7258/7258 [==============================] - 18s 3ms/step - loss: 14713269.0000 - mae: 2547.1606 - mse: 14713269.0000 - coeff_r2: 0.8363 - val_loss: 14621235.0000 - val_mae: 2474.4868 - val_mse: 14621235.0000 - val_coeff_r2: 0.8378\n",
      "Epoch 90/1000\n",
      "7258/7258 [==============================] - 19s 3ms/step - loss: 14627006.0000 - mae: 2543.3928 - mse: 14627006.0000 - coeff_r2: 0.8367 - val_loss: 14818083.0000 - val_mae: 2487.1748 - val_mse: 14818083.0000 - val_coeff_r2: 0.8348\n",
      "Epoch 91/1000\n",
      "7258/7258 [==============================] - 17s 2ms/step - loss: 14679298.0000 - mae: 2545.6406 - mse: 14679298.0000 - coeff_r2: 0.8362 - val_loss: 14571957.0000 - val_mae: 2475.0894 - val_mse: 14571957.0000 - val_coeff_r2: 0.8380\n",
      "Epoch 92/1000\n",
      "7258/7258 [==============================] - 17s 2ms/step - loss: 14587509.0000 - mae: 2543.0874 - mse: 14587509.0000 - coeff_r2: 0.8376 - val_loss: 14665881.0000 - val_mae: 2474.2148 - val_mse: 14665881.0000 - val_coeff_r2: 0.8370\n",
      "Epoch 93/1000\n",
      "7258/7258 [==============================] - 17s 2ms/step - loss: 14680890.0000 - mae: 2544.9509 - mse: 14680890.0000 - coeff_r2: 0.8357 - val_loss: 14573328.0000 - val_mae: 2488.0908 - val_mse: 14573328.0000 - val_coeff_r2: 0.8372\n",
      "Epoch 94/1000\n",
      "7258/7258 [==============================] - 16s 2ms/step - loss: 14549499.0000 - mae: 2538.0027 - mse: 14549499.0000 - coeff_r2: 0.8380 - val_loss: 14574495.0000 - val_mae: 2474.7676 - val_mse: 14574495.0000 - val_coeff_r2: 0.8378\n",
      "Epoch 95/1000\n",
      "7258/7258 [==============================] - 17s 2ms/step - loss: 14589517.0000 - mae: 2539.2781 - mse: 14589517.0000 - coeff_r2: 0.8372 - val_loss: 14503873.0000 - val_mae: 2475.4004 - val_mse: 14503873.0000 - val_coeff_r2: 0.8386\n",
      "Epoch 96/1000\n",
      "7258/7258 [==============================] - 17s 2ms/step - loss: 14580282.0000 - mae: 2537.5232 - mse: 14580282.0000 - coeff_r2: 0.8380 - val_loss: 14625948.0000 - val_mae: 2478.0447 - val_mse: 14625948.0000 - val_coeff_r2: 0.8377\n",
      "Epoch 97/1000\n",
      "7258/7258 [==============================] - 16s 2ms/step - loss: 14578444.0000 - mae: 2537.9639 - mse: 14578444.0000 - coeff_r2: 0.8372 - val_loss: 14518702.0000 - val_mae: 2473.6477 - val_mse: 14518702.0000 - val_coeff_r2: 0.8382\n",
      "Epoch 98/1000\n",
      "7258/7258 [==============================] - 16s 2ms/step - loss: 14528662.0000 - mae: 2534.6870 - mse: 14528662.0000 - coeff_r2: 0.8377 - val_loss: 14482264.0000 - val_mae: 2469.1372 - val_mse: 14482264.0000 - val_coeff_r2: 0.8386\n",
      "Epoch 99/1000\n",
      "7258/7258 [==============================] - 17s 2ms/step - loss: 14502331.0000 - mae: 2534.7021 - mse: 14502331.0000 - coeff_r2: 0.8377 - val_loss: 14489096.0000 - val_mae: 2475.4695 - val_mse: 14489096.0000 - val_coeff_r2: 0.8384\n",
      "Epoch 100/1000\n",
      "7258/7258 [==============================] - 16s 2ms/step - loss: 14541731.0000 - mae: 2535.6130 - mse: 14541731.0000 - coeff_r2: 0.8376 - val_loss: 14503295.0000 - val_mae: 2473.4500 - val_mse: 14503295.0000 - val_coeff_r2: 0.8383\n",
      "Epoch 101/1000\n",
      "7258/7258 [==============================] - 16s 2ms/step - loss: 14489888.0000 - mae: 2533.3210 - mse: 14489888.0000 - coeff_r2: 0.8380 - val_loss: 14544039.0000 - val_mae: 2485.3464 - val_mse: 14544039.0000 - val_coeff_r2: 0.8374\n",
      "Epoch 102/1000\n",
      "7258/7258 [==============================] - 17s 2ms/step - loss: 14511150.0000 - mae: 2534.1738 - mse: 14511150.0000 - coeff_r2: 0.8282 - val_loss: 14491585.0000 - val_mae: 2465.6572 - val_mse: 14491585.0000 - val_coeff_r2: 0.8388\n",
      "Epoch 103/1000\n",
      "7258/7258 [==============================] - 16s 2ms/step - loss: 14479594.0000 - mae: 2533.8462 - mse: 14479594.0000 - coeff_r2: 0.8384 - val_loss: 14528629.0000 - val_mae: 2469.6851 - val_mse: 14528629.0000 - val_coeff_r2: 0.8386\n",
      "Epoch 104/1000\n",
      "7258/7258 [==============================] - 16s 2ms/step - loss: 14515689.0000 - mae: 2531.3887 - mse: 14515689.0000 - coeff_r2: 0.8374 - val_loss: 14480634.0000 - val_mae: 2474.1704 - val_mse: 14480634.0000 - val_coeff_r2: 0.8387\n",
      "Epoch 105/1000\n",
      "7258/7258 [==============================] - 16s 2ms/step - loss: 14524342.0000 - mae: 2535.5430 - mse: 14524342.0000 - coeff_r2: 0.8384 - val_loss: 14475308.0000 - val_mae: 2464.3784 - val_mse: 14475308.0000 - val_coeff_r2: 0.8390\n",
      "Epoch 106/1000\n",
      "7258/7258 [==============================] - 16s 2ms/step - loss: 14474721.0000 - mae: 2531.7200 - mse: 14474721.0000 - coeff_r2: 0.8391 - val_loss: 14457088.0000 - val_mae: 2471.1582 - val_mse: 14457088.0000 - val_coeff_r2: 0.8387\n",
      "Epoch 107/1000\n",
      "7258/7258 [==============================] - 16s 2ms/step - loss: 14438160.0000 - mae: 2531.6243 - mse: 14438160.0000 - coeff_r2: 0.8392 - val_loss: 14454781.0000 - val_mae: 2462.0183 - val_mse: 14454781.0000 - val_coeff_r2: 0.8394\n",
      "Epoch 108/1000\n",
      "7258/7258 [==============================] - 16s 2ms/step - loss: 14457710.0000 - mae: 2528.7297 - mse: 14457710.0000 - coeff_r2: 0.8387 - val_loss: 14520897.0000 - val_mae: 2466.2634 - val_mse: 14520897.0000 - val_coeff_r2: 0.8381\n",
      "Epoch 109/1000\n",
      "7258/7258 [==============================] - 16s 2ms/step - loss: 14431990.0000 - mae: 2533.5195 - mse: 14431990.0000 - coeff_r2: 0.8388 - val_loss: 14482563.0000 - val_mae: 2484.7019 - val_mse: 14482563.0000 - val_coeff_r2: 0.8380\n",
      "Epoch 110/1000\n",
      "7258/7258 [==============================] - 16s 2ms/step - loss: 14443750.0000 - mae: 2530.7869 - mse: 14443750.0000 - coeff_r2: 0.8369 - val_loss: 14503617.0000 - val_mae: 2466.3582 - val_mse: 14503617.0000 - val_coeff_r2: 0.8388\n",
      "Epoch 111/1000\n",
      "7258/7258 [==============================] - 16s 2ms/step - loss: 14452583.0000 - mae: 2529.1099 - mse: 14452583.0000 - coeff_r2: 0.8390 - val_loss: 14444392.0000 - val_mae: 2466.3005 - val_mse: 14444392.0000 - val_coeff_r2: 0.8392\n",
      "Epoch 112/1000\n",
      "7258/7258 [==============================] - 16s 2ms/step - loss: 14362631.0000 - mae: 2522.9072 - mse: 14362631.0000 - coeff_r2: 0.8386 - val_loss: 14454376.0000 - val_mae: 2467.1001 - val_mse: 14454376.0000 - val_coeff_r2: 0.8392\n",
      "Epoch 113/1000\n",
      "7258/7258 [==============================] - 17s 2ms/step - loss: 14459567.0000 - mae: 2529.8784 - mse: 14459567.0000 - coeff_r2: 0.8390 - val_loss: 14514526.0000 - val_mae: 2468.4712 - val_mse: 14514526.0000 - val_coeff_r2: 0.8386\n",
      "Epoch 114/1000\n",
      "7258/7258 [==============================] - 17s 2ms/step - loss: 14393518.0000 - mae: 2527.4102 - mse: 14393518.0000 - coeff_r2: 0.8395 - val_loss: 14472004.0000 - val_mae: 2471.0291 - val_mse: 14472004.0000 - val_coeff_r2: 0.8391\n",
      "Epoch 115/1000\n",
      "7258/7258 [==============================] - 17s 2ms/step - loss: 14374331.0000 - mae: 2528.1609 - mse: 14374331.0000 - coeff_r2: 0.8388 - val_loss: 14414909.0000 - val_mae: 2463.3967 - val_mse: 14414909.0000 - val_coeff_r2: 0.8397\n",
      "Epoch 116/1000\n",
      "7258/7258 [==============================] - 16s 2ms/step - loss: 14370019.0000 - mae: 2527.2522 - mse: 14370019.0000 - coeff_r2: 0.8394 - val_loss: 14440700.0000 - val_mae: 2465.6172 - val_mse: 14440700.0000 - val_coeff_r2: 0.8391\n",
      "Epoch 117/1000\n",
      "7258/7258 [==============================] - 16s 2ms/step - loss: 14427174.0000 - mae: 2531.9160 - mse: 14427174.0000 - coeff_r2: 0.8387 - val_loss: 14358200.0000 - val_mae: 2462.3621 - val_mse: 14358200.0000 - val_coeff_r2: 0.8403\n",
      "Epoch 118/1000\n",
      "7258/7258 [==============================] - 16s 2ms/step - loss: 14314601.0000 - mae: 2526.8381 - mse: 14314601.0000 - coeff_r2: 0.8401 - val_loss: 14403077.0000 - val_mae: 2459.0203 - val_mse: 14403077.0000 - val_coeff_r2: 0.8399\n",
      "Epoch 119/1000\n",
      "7258/7258 [==============================] - 16s 2ms/step - loss: 14342691.0000 - mae: 2526.7385 - mse: 14342691.0000 - coeff_r2: 0.8396 - val_loss: 14425672.0000 - val_mae: 2464.1836 - val_mse: 14425672.0000 - val_coeff_r2: 0.8395\n",
      "Epoch 120/1000\n",
      "7258/7258 [==============================] - 16s 2ms/step - loss: 14314303.0000 - mae: 2521.6545 - mse: 14314303.0000 - coeff_r2: 0.8406 - val_loss: 14475893.0000 - val_mae: 2461.8972 - val_mse: 14475893.0000 - val_coeff_r2: 0.8394\n",
      "Epoch 121/1000\n",
      "7258/7258 [==============================] - 16s 2ms/step - loss: 14383406.0000 - mae: 2524.7034 - mse: 14383406.0000 - coeff_r2: 0.8395 - val_loss: 14422307.0000 - val_mae: 2475.5908 - val_mse: 14422307.0000 - val_coeff_r2: 0.8388\n",
      "Epoch 122/1000\n",
      "7258/7258 [==============================] - 16s 2ms/step - loss: 14323867.0000 - mae: 2522.6667 - mse: 14323867.0000 - coeff_r2: 0.8381 - val_loss: 14486339.0000 - val_mae: 2469.5549 - val_mse: 14486339.0000 - val_coeff_r2: 0.8388\n",
      "Epoch 123/1000\n",
      "7258/7258 [==============================] - 16s 2ms/step - loss: 14322795.0000 - mae: 2521.4983 - mse: 14322795.0000 - coeff_r2: 0.8399 - val_loss: 14427031.0000 - val_mae: 2468.4031 - val_mse: 14427031.0000 - val_coeff_r2: 0.8386\n",
      "Epoch 124/1000\n",
      "7258/7258 [==============================] - 16s 2ms/step - loss: 14316491.0000 - mae: 2522.6526 - mse: 14316491.0000 - coeff_r2: 0.8398 - val_loss: 14364432.0000 - val_mae: 2452.0537 - val_mse: 14364432.0000 - val_coeff_r2: 0.8401\n",
      "Epoch 125/1000\n",
      "7258/7258 [==============================] - 16s 2ms/step - loss: 14366278.0000 - mae: 2525.4995 - mse: 14366278.0000 - coeff_r2: 0.8399 - val_loss: 14473301.0000 - val_mae: 2461.4272 - val_mse: 14473301.0000 - val_coeff_r2: 0.8390\n",
      "Epoch 126/1000\n",
      "7258/7258 [==============================] - 16s 2ms/step - loss: 14288800.0000 - mae: 2519.2302 - mse: 14288800.0000 - coeff_r2: 0.8404 - val_loss: 14427918.0000 - val_mae: 2464.5349 - val_mse: 14427918.0000 - val_coeff_r2: 0.8395\n",
      "Epoch 127/1000\n",
      "7258/7258 [==============================] - 18s 2ms/step - loss: 14270777.0000 - mae: 2518.3777 - mse: 14270777.0000 - coeff_r2: 0.8409 - val_loss: 14388419.0000 - val_mae: 2459.5444 - val_mse: 14388419.0000 - val_coeff_r2: 0.8398\n",
      "Epoch 128/1000\n",
      "7258/7258 [==============================] - 18s 2ms/step - loss: 14284348.0000 - mae: 2519.4072 - mse: 14284348.0000 - coeff_r2: 0.8406 - val_loss: 14434576.0000 - val_mae: 2463.9910 - val_mse: 14434576.0000 - val_coeff_r2: 0.8397\n",
      "Epoch 129/1000\n",
      "7258/7258 [==============================] - 17s 2ms/step - loss: 14291418.0000 - mae: 2520.1624 - mse: 14291418.0000 - coeff_r2: 0.8401 - val_loss: 14501192.0000 - val_mae: 2489.7163 - val_mse: 14501192.0000 - val_coeff_r2: 0.8373\n",
      "Epoch 130/1000\n",
      "7258/7258 [==============================] - 17s 2ms/step - loss: 14244169.0000 - mae: 2517.9758 - mse: 14244169.0000 - coeff_r2: 0.8412 - val_loss: 14366332.0000 - val_mae: 2466.8340 - val_mse: 14366332.0000 - val_coeff_r2: 0.8395\n",
      "Epoch 131/1000\n",
      "7258/7258 [==============================] - 16s 2ms/step - loss: 14264127.0000 - mae: 2518.4460 - mse: 14264127.0000 - coeff_r2: 0.8402 - val_loss: 14374053.0000 - val_mae: 2461.8718 - val_mse: 14374053.0000 - val_coeff_r2: 0.8396\n",
      "Epoch 132/1000\n",
      "7258/7258 [==============================] - 17s 2ms/step - loss: 14225591.0000 - mae: 2518.4392 - mse: 14225591.0000 - coeff_r2: 0.8413 - val_loss: 14402382.0000 - val_mae: 2456.7285 - val_mse: 14402382.0000 - val_coeff_r2: 0.8400\n",
      "Epoch 133/1000\n",
      "7258/7258 [==============================] - 17s 2ms/step - loss: 14257545.0000 - mae: 2518.6909 - mse: 14257545.0000 - coeff_r2: 0.8408 - val_loss: 14421602.0000 - val_mae: 2465.4316 - val_mse: 14421602.0000 - val_coeff_r2: 0.8400\n",
      "Epoch 134/1000\n",
      "7258/7258 [==============================] - 16s 2ms/step - loss: 14271969.0000 - mae: 2519.8008 - mse: 14271969.0000 - coeff_r2: 0.8408 - val_loss: 14359318.0000 - val_mae: 2458.8748 - val_mse: 14359318.0000 - val_coeff_r2: 0.8401\n",
      "Epoch 135/1000\n",
      "7258/7258 [==============================] - 16s 2ms/step - loss: 14287275.0000 - mae: 2517.3301 - mse: 14287275.0000 - coeff_r2: 0.8405 - val_loss: 14376199.0000 - val_mae: 2470.8164 - val_mse: 14376199.0000 - val_coeff_r2: 0.8390\n",
      "Epoch 136/1000\n",
      "7258/7258 [==============================] - 16s 2ms/step - loss: 14255601.0000 - mae: 2517.0979 - mse: 14255601.0000 - coeff_r2: 0.8411 - val_loss: 14430904.0000 - val_mae: 2459.6423 - val_mse: 14430904.0000 - val_coeff_r2: 0.8397\n",
      "Epoch 137/1000\n",
      "7258/7258 [==============================] - 16s 2ms/step - loss: 14200933.0000 - mae: 2517.7354 - mse: 14200933.0000 - coeff_r2: 0.8417 - val_loss: 14374870.0000 - val_mae: 2457.0940 - val_mse: 14374870.0000 - val_coeff_r2: 0.8402\n",
      "Epoch 138/1000\n",
      "7258/7258 [==============================] - 17s 2ms/step - loss: 14153569.0000 - mae: 2513.8838 - mse: 14153569.0000 - coeff_r2: 0.8420 - val_loss: 14358786.0000 - val_mae: 2456.7183 - val_mse: 14358786.0000 - val_coeff_r2: 0.8399\n",
      "Epoch 139/1000\n",
      "7258/7258 [==============================] - 16s 2ms/step - loss: 14260332.0000 - mae: 2519.4001 - mse: 14260332.0000 - coeff_r2: 0.8410 - val_loss: 14335849.0000 - val_mae: 2454.3584 - val_mse: 14335849.0000 - val_coeff_r2: 0.8405\n",
      "Epoch 140/1000\n",
      "7258/7258 [==============================] - 16s 2ms/step - loss: 14191806.0000 - mae: 2512.8208 - mse: 14191806.0000 - coeff_r2: 0.8415 - val_loss: 14324761.0000 - val_mae: 2449.8357 - val_mse: 14324761.0000 - val_coeff_r2: 0.8409\n",
      "Epoch 141/1000\n",
      "7258/7258 [==============================] - 16s 2ms/step - loss: 14253116.0000 - mae: 2515.3464 - mse: 14253116.0000 - coeff_r2: 0.8403 - val_loss: 14355224.0000 - val_mae: 2460.0186 - val_mse: 14355224.0000 - val_coeff_r2: 0.8403\n",
      "Epoch 142/1000\n",
      "7258/7258 [==============================] - 16s 2ms/step - loss: 14171698.0000 - mae: 2512.1140 - mse: 14171698.0000 - coeff_r2: 0.8418 - val_loss: 14407503.0000 - val_mae: 2463.4312 - val_mse: 14407503.0000 - val_coeff_r2: 0.8395\n",
      "Epoch 143/1000\n",
      "7258/7258 [==============================] - 16s 2ms/step - loss: 14174587.0000 - mae: 2509.7170 - mse: 14174587.0000 - coeff_r2: 0.8419 - val_loss: 14341024.0000 - val_mae: 2455.7981 - val_mse: 14341024.0000 - val_coeff_r2: 0.8403\n",
      "Epoch 144/1000\n",
      "7258/7258 [==============================] - 16s 2ms/step - loss: 14192398.0000 - mae: 2512.5881 - mse: 14192398.0000 - coeff_r2: 0.8404 - val_loss: 14415563.0000 - val_mae: 2466.6636 - val_mse: 14415563.0000 - val_coeff_r2: 0.8397\n",
      "Epoch 145/1000\n",
      "7258/7258 [==============================] - 16s 2ms/step - loss: 14223591.0000 - mae: 2514.1060 - mse: 14223591.0000 - coeff_r2: 0.8403 - val_loss: 14358450.0000 - val_mae: 2455.6782 - val_mse: 14358450.0000 - val_coeff_r2: 0.8403\n",
      "Epoch 146/1000\n",
      "7258/7258 [==============================] - 16s 2ms/step - loss: 14210697.0000 - mae: 2514.8547 - mse: 14210697.0000 - coeff_r2: 0.8319 - val_loss: 14330209.0000 - val_mae: 2452.4946 - val_mse: 14330209.0000 - val_coeff_r2: 0.8402\n",
      "Epoch 147/1000\n",
      "7258/7258 [==============================] - 18s 2ms/step - loss: 14158193.0000 - mae: 2509.4675 - mse: 14158193.0000 - coeff_r2: 0.8418 - val_loss: 14430143.0000 - val_mae: 2456.8389 - val_mse: 14430143.0000 - val_coeff_r2: 0.8393\n",
      "Epoch 148/1000\n",
      "7258/7258 [==============================] - 16s 2ms/step - loss: 14185891.0000 - mae: 2511.5237 - mse: 14185891.0000 - coeff_r2: 0.8416 - val_loss: 14388949.0000 - val_mae: 2471.3901 - val_mse: 14388949.0000 - val_coeff_r2: 0.8389\n",
      "Epoch 149/1000\n",
      "7258/7258 [==============================] - 16s 2ms/step - loss: 14154634.0000 - mae: 2511.0571 - mse: 14154634.0000 - coeff_r2: 0.8421 - val_loss: 14354933.0000 - val_mae: 2454.4131 - val_mse: 14354933.0000 - val_coeff_r2: 0.8404\n",
      "Epoch 150/1000\n",
      "7258/7258 [==============================] - 16s 2ms/step - loss: 14137645.0000 - mae: 2509.8652 - mse: 14137645.0000 - coeff_r2: 0.8422 - val_loss: 14330391.0000 - val_mae: 2462.0879 - val_mse: 14330391.0000 - val_coeff_r2: 0.8404\n",
      "Epoch 151/1000\n",
      "7258/7258 [==============================] - 16s 2ms/step - loss: 14150421.0000 - mae: 2510.1687 - mse: 14150421.0000 - coeff_r2: 0.8425 - val_loss: 14378829.0000 - val_mae: 2454.2241 - val_mse: 14378829.0000 - val_coeff_r2: 0.8402\n",
      "Epoch 152/1000\n",
      "7258/7258 [==============================] - 17s 2ms/step - loss: 14182018.0000 - mae: 2511.7512 - mse: 14182018.0000 - coeff_r2: 0.8408 - val_loss: 14469521.0000 - val_mae: 2455.4253 - val_mse: 14469521.0000 - val_coeff_r2: 0.8398\n",
      "Epoch 153/1000\n",
      "7258/7258 [==============================] - 16s 2ms/step - loss: 14161744.0000 - mae: 2510.3279 - mse: 14161744.0000 - coeff_r2: 0.8420 - val_loss: 14364278.0000 - val_mae: 2447.7461 - val_mse: 14364278.0000 - val_coeff_r2: 0.8408\n",
      "Epoch 154/1000\n",
      "7258/7258 [==============================] - 16s 2ms/step - loss: 14186342.0000 - mae: 2513.7720 - mse: 14186342.0000 - coeff_r2: 0.8416 - val_loss: 14392586.0000 - val_mae: 2467.1863 - val_mse: 14392586.0000 - val_coeff_r2: 0.8393\n",
      "Epoch 155/1000\n",
      "7258/7258 [==============================] - 16s 2ms/step - loss: 14159463.0000 - mae: 2507.9216 - mse: 14159463.0000 - coeff_r2: 0.8416 - val_loss: 14347258.0000 - val_mae: 2455.8123 - val_mse: 14347258.0000 - val_coeff_r2: 0.8405\n",
      "Epoch 156/1000\n",
      "7258/7258 [==============================] - 16s 2ms/step - loss: 14118590.0000 - mae: 2507.2185 - mse: 14118590.0000 - coeff_r2: 0.8422 - val_loss: 14375889.0000 - val_mae: 2453.6726 - val_mse: 14375889.0000 - val_coeff_r2: 0.8398\n",
      "Epoch 157/1000\n",
      "7258/7258 [==============================] - 16s 2ms/step - loss: 14164068.0000 - mae: 2509.6848 - mse: 14164068.0000 - coeff_r2: 0.8416 - val_loss: 14285307.0000 - val_mae: 2452.9888 - val_mse: 14285307.0000 - val_coeff_r2: 0.8407\n",
      "Epoch 158/1000\n",
      "7258/7258 [==============================] - 16s 2ms/step - loss: 14057420.0000 - mae: 2505.0171 - mse: 14057420.0000 - coeff_r2: 0.8409 - val_loss: 14343598.0000 - val_mae: 2449.9236 - val_mse: 14343598.0000 - val_coeff_r2: 0.8404\n",
      "Epoch 159/1000\n",
      "7258/7258 [==============================] - 15s 2ms/step - loss: 14108295.0000 - mae: 2507.3059 - mse: 14108295.0000 - coeff_r2: 0.8413 - val_loss: 14379275.0000 - val_mae: 2450.3354 - val_mse: 14379275.0000 - val_coeff_r2: 0.8405\n",
      "Epoch 160/1000\n",
      "7258/7258 [==============================] - 16s 2ms/step - loss: 14097509.0000 - mae: 2506.4365 - mse: 14097509.0000 - coeff_r2: 0.8406 - val_loss: 14351759.0000 - val_mae: 2453.7026 - val_mse: 14351759.0000 - val_coeff_r2: 0.8402\n",
      "Epoch 161/1000\n",
      "7258/7258 [==============================] - 16s 2ms/step - loss: 14074244.0000 - mae: 2505.0374 - mse: 14074244.0000 - coeff_r2: 0.8426 - val_loss: 14261738.0000 - val_mae: 2449.2554 - val_mse: 14261738.0000 - val_coeff_r2: 0.8412\n",
      "Epoch 162/1000\n",
      "7258/7258 [==============================] - 16s 2ms/step - loss: 14042105.0000 - mae: 2501.1226 - mse: 14042105.0000 - coeff_r2: 0.8427 - val_loss: 14384624.0000 - val_mae: 2455.3687 - val_mse: 14384624.0000 - val_coeff_r2: 0.8402\n",
      "Epoch 163/1000\n",
      "7258/7258 [==============================] - 16s 2ms/step - loss: 14091209.0000 - mae: 2505.3511 - mse: 14091209.0000 - coeff_r2: 0.8427 - val_loss: 14343934.0000 - val_mae: 2450.4065 - val_mse: 14343934.0000 - val_coeff_r2: 0.8405\n",
      "Epoch 164/1000\n",
      "7258/7258 [==============================] - 16s 2ms/step - loss: 14070410.0000 - mae: 2504.7578 - mse: 14070410.0000 - coeff_r2: 0.8435 - val_loss: 14343618.0000 - val_mae: 2453.9963 - val_mse: 14343618.0000 - val_coeff_r2: 0.8405\n",
      "Epoch 165/1000\n",
      "7258/7258 [==============================] - 16s 2ms/step - loss: 14108945.0000 - mae: 2507.5994 - mse: 14108945.0000 - coeff_r2: 0.8359 - val_loss: 14319767.0000 - val_mae: 2448.1880 - val_mse: 14319767.0000 - val_coeff_r2: 0.8403\n",
      "Epoch 166/1000\n",
      "7258/7258 [==============================] - 16s 2ms/step - loss: 14068524.0000 - mae: 2503.6458 - mse: 14068524.0000 - coeff_r2: -126.9044 - val_loss: 14336367.0000 - val_mae: 2455.5901 - val_mse: 14336367.0000 - val_coeff_r2: 0.8404\n",
      "Epoch 167/1000\n",
      "7258/7258 [==============================] - 19s 3ms/step - loss: 14071020.0000 - mae: 2504.9678 - mse: 14071020.0000 - coeff_r2: 0.8432 - val_loss: 14322071.0000 - val_mae: 2455.2964 - val_mse: 14322071.0000 - val_coeff_r2: 0.8406\n",
      "Epoch 168/1000\n",
      "7258/7258 [==============================] - 17s 2ms/step - loss: 14050798.0000 - mae: 2505.2427 - mse: 14050798.0000 - coeff_r2: 0.8429 - val_loss: 14389984.0000 - val_mae: 2456.4324 - val_mse: 14389984.0000 - val_coeff_r2: 0.8403\n",
      "Epoch 169/1000\n",
      "7258/7258 [==============================] - 18s 2ms/step - loss: 14065220.0000 - mae: 2502.4412 - mse: 14065220.0000 - coeff_r2: 0.8434 - val_loss: 14339826.0000 - val_mae: 2451.1455 - val_mse: 14339826.0000 - val_coeff_r2: 0.8408\n",
      "Epoch 170/1000\n",
      "7258/7258 [==============================] - 16s 2ms/step - loss: 14022245.0000 - mae: 2502.8472 - mse: 14022245.0000 - coeff_r2: 0.8429 - val_loss: 14353596.0000 - val_mae: 2454.4487 - val_mse: 14353596.0000 - val_coeff_r2: 0.8402\n",
      "Epoch 171/1000\n",
      "7258/7258 [==============================] - 17s 2ms/step - loss: 14074035.0000 - mae: 2504.9182 - mse: 14074035.0000 - coeff_r2: 0.8428 - val_loss: 14333371.0000 - val_mae: 2448.4026 - val_mse: 14333371.0000 - val_coeff_r2: 0.8408\n",
      "Epoch 172/1000\n",
      "7258/7258 [==============================] - 17s 2ms/step - loss: 14052006.0000 - mae: 2502.2761 - mse: 14052006.0000 - coeff_r2: 0.8430 - val_loss: 14374741.0000 - val_mae: 2461.1887 - val_mse: 14374741.0000 - val_coeff_r2: 0.8405\n",
      "Epoch 173/1000\n",
      "7258/7258 [==============================] - 16s 2ms/step - loss: 13983309.0000 - mae: 2499.7842 - mse: 13983309.0000 - coeff_r2: 0.8371 - val_loss: 14347100.0000 - val_mae: 2456.1030 - val_mse: 14347100.0000 - val_coeff_r2: 0.8397\n",
      "Epoch 174/1000\n",
      "7258/7258 [==============================] - 16s 2ms/step - loss: 14042163.0000 - mae: 2502.9500 - mse: 14042163.0000 - coeff_r2: 0.8426 - val_loss: 14300737.0000 - val_mae: 2449.1765 - val_mse: 14300737.0000 - val_coeff_r2: 0.8409\n",
      "Epoch 175/1000\n",
      "7258/7258 [==============================] - 16s 2ms/step - loss: 14027975.0000 - mae: 2501.2710 - mse: 14027975.0000 - coeff_r2: 0.8439 - val_loss: 14322045.0000 - val_mae: 2444.8376 - val_mse: 14322045.0000 - val_coeff_r2: 0.8407\n",
      "Epoch 176/1000\n",
      "7258/7258 [==============================] - 16s 2ms/step - loss: 14033710.0000 - mae: 2501.3335 - mse: 14033710.0000 - coeff_r2: 0.8425 - val_loss: 14342561.0000 - val_mae: 2460.4717 - val_mse: 14342561.0000 - val_coeff_r2: 0.8398\n",
      "Epoch 177/1000\n",
      "7258/7258 [==============================] - 17s 2ms/step - loss: 13986349.0000 - mae: 2496.7417 - mse: 13986349.0000 - coeff_r2: 0.8437 - val_loss: 14328980.0000 - val_mae: 2450.5046 - val_mse: 14328980.0000 - val_coeff_r2: 0.8401\n",
      "Epoch 178/1000\n",
      "7258/7258 [==============================] - 16s 2ms/step - loss: 14032471.0000 - mae: 2499.8992 - mse: 14032471.0000 - coeff_r2: 0.8435 - val_loss: 14316808.0000 - val_mae: 2451.8213 - val_mse: 14316808.0000 - val_coeff_r2: 0.8401\n",
      "Epoch 179/1000\n",
      "7258/7258 [==============================] - 17s 2ms/step - loss: 13986440.0000 - mae: 2497.5237 - mse: 13986440.0000 - coeff_r2: 0.8432 - val_loss: 14314453.0000 - val_mae: 2454.2146 - val_mse: 14314453.0000 - val_coeff_r2: 0.8405\n",
      "Epoch 180/1000\n",
      "1297/7258 [====>.........................] - ETA: 11s - loss: 13954186.0000 - mae: 2469.8127 - mse: 13954186.0000 - coeff_r2: 0.8433Buffered data was truncated after reaching the output size limit."
     ]
    }
   ],
   "source": [
    "# Assigning number of epochs:\n",
    "my_epochs = 1000\n",
    "\n",
    "# Assigning early stop:\n",
    "my_early_stop = keras.callbacks.EarlyStopping(monitor='val_loss', patience=50)\n",
    "\n",
    "# Fitting our model:\n",
    "history3 = model3.fit(X_train_scaled, y_train, epochs=my_epochs, validation_split = 0.2, verbose=1, callbacks=[my_early_stop])"
   ]
  },
  {
   "cell_type": "code",
   "execution_count": 123,
   "metadata": {
    "colab": {
     "base_uri": "https://localhost:8080/",
     "height": 70
    },
    "colab_type": "code",
    "id": "XsbXMio6LRcX",
    "outputId": "e6240607-0a74-4694-90dd-93a6bc098f20"
   },
   "outputs": [
    {
     "name": "stdout",
     "output_type": "stream",
     "text": [
      "The mean absolute error of our model is: 2423.29\n",
      "The mean value of the price column is:  14204.42\n",
      "The test set R^2 of our model is:  0.8344\n"
     ]
    }
   ],
   "source": [
    "# Let's see the mean absolute error of the test set (model with a dropout):\n",
    "loss, mae, mse, r2 = model3.evaluate(X_test_scaled, y_test, verbose=0)\n",
    "\n",
    "print('The mean absolute error of our model is:', round(mae,2))\n",
    "print('The mean value of the price column is: ', round(y_test.mean(),2))\n",
    "print('The test set R^2 of our model is: ', round(r2,4))"
   ]
  },
  {
   "cell_type": "markdown",
   "metadata": {
    "colab_type": "text",
    "id": "JgyI-xR0rM32"
   },
   "source": [
    "Including the dropout layer has slightly improved our R^2 score, from 0.831 to 0.834. Let's move on with adjusting our layer configurations."
   ]
  },
  {
   "cell_type": "code",
   "execution_count": 130,
   "metadata": {
    "colab": {
     "base_uri": "https://localhost:8080/",
     "height": 390
    },
    "colab_type": "code",
    "id": "LUEnugB-LRaS",
    "outputId": "b53a7b74-2348-4460-953a-2bd06ac8219d"
   },
   "outputs": [
    {
     "name": "stdout",
     "output_type": "stream",
     "text": [
      "Model: \"sequential_9\"\n",
      "_________________________________________________________________\n",
      "Layer (type)                 Output Shape              Param #   \n",
      "=================================================================\n",
      "dense_30 (Dense)             (None, 95)                9120      \n",
      "_________________________________________________________________\n",
      "dense_31 (Dense)             (None, 95)                9120      \n",
      "_________________________________________________________________\n",
      "batch_normalization_4 (Batch (None, 95)                380       \n",
      "_________________________________________________________________\n",
      "dropout_9 (Dropout)          (None, 95)                0         \n",
      "_________________________________________________________________\n",
      "dense_32 (Dense)             (None, 1)                 96        \n",
      "=================================================================\n",
      "Total params: 18,716\n",
      "Trainable params: 18,526\n",
      "Non-trainable params: 190\n",
      "_________________________________________________________________\n",
      "\n",
      "....................................................................................................\n",
      "........"
     ]
    }
   ],
   "source": [
    "# Creating function to define our model's parameters(with dropout and batch normalization):\n",
    "def keras_model4():\n",
    "  model = keras.Sequential([                           \n",
    "                            layers.Dense(95, activation=tf.nn.relu, input_shape=[len(X_train.keys())]),\n",
    "                            layers.Dense(95, activation=tf.nn.relu),\n",
    "                            layers.BatchNormalization(),\n",
    "                            layers.Dropout(0.2),\n",
    "                            layers.Dense(1)\n",
    "                            ])  \n",
    "  model.compile(loss='mse', optimizer='adam', metrics=['mae','mse', coeff_r2])\n",
    "  return model\n",
    "\n",
    "# Assigning our function to our model:\n",
    "model4 = keras_model4()\n",
    "\n",
    "# Let's inspect the model:\n",
    "model4.summary()\n",
    "\n",
    "# Assigning number of epochs:\n",
    "my_epochs = 1000\n",
    "\n",
    "# Assigning early stop:\n",
    "my_early_stop = keras.callbacks.EarlyStopping(monitor='val_loss', patience=50)\n",
    "\n",
    "# Fitting our model:\n",
    "history4 = model4.fit(X_train_scaled, y_train, epochs=my_epochs, validation_split = 0.2, verbose=0, callbacks=[my_early_stop, PrintDot()])"
   ]
  },
  {
   "cell_type": "code",
   "execution_count": 131,
   "metadata": {
    "colab": {
     "base_uri": "https://localhost:8080/",
     "height": 70
    },
    "colab_type": "code",
    "id": "FVDW6ZBQz0om",
    "outputId": "b73713e6-15d6-42ff-f986-a75ab6b368ba"
   },
   "outputs": [
    {
     "name": "stdout",
     "output_type": "stream",
     "text": [
      "The mean absolute error of our model is: 2504.17\n",
      "The mean value of the price column is:  14204.42\n",
      "The test set R^2 of our model is:  0.7942\n"
     ]
    }
   ],
   "source": [
    "# Let's see the mean absolute error of the test set (model with a dropout):\n",
    "loss, mae, mse, r2 = model4.evaluate(X_test_scaled, y_test, verbose=0)\n",
    "\n",
    "print('The mean absolute error of our model is:', round(mae,2))\n",
    "print('The mean value of the price column is: ', round(y_test.mean(),2))\n",
    "print('The test set R^2 of our model is: ', round(r2,4))"
   ]
  },
  {
   "cell_type": "markdown",
   "metadata": {
    "colab_type": "text",
    "id": "VxvaIdezroSj"
   },
   "source": [
    "With BatchNormalization layer our score actually dropped. Let's try a different setting."
   ]
  },
  {
   "cell_type": "code",
   "execution_count": 132,
   "metadata": {
    "colab": {
     "base_uri": "https://localhost:8080/",
     "height": 407
    },
    "colab_type": "code",
    "id": "YlaGXSPH9FFn",
    "outputId": "0d1089b2-7ae5-4b34-b2a6-cc02bfadbfc8"
   },
   "outputs": [
    {
     "name": "stdout",
     "output_type": "stream",
     "text": [
      "Model: \"sequential_10\"\n",
      "_________________________________________________________________\n",
      "Layer (type)                 Output Shape              Param #   \n",
      "=================================================================\n",
      "dense_33 (Dense)             (None, 95)                9120      \n",
      "_________________________________________________________________\n",
      "dense_34 (Dense)             (None, 95)                9120      \n",
      "_________________________________________________________________\n",
      "dropout_10 (Dropout)         (None, 95)                0         \n",
      "_________________________________________________________________\n",
      "batch_normalization_5 (Batch (None, 95)                380       \n",
      "_________________________________________________________________\n",
      "dense_35 (Dense)             (None, 1)                 96        \n",
      "=================================================================\n",
      "Total params: 18,716\n",
      "Trainable params: 18,526\n",
      "Non-trainable params: 190\n",
      "_________________________________________________________________\n",
      "\n",
      ".........................................................................The mean absolute error of our model is: 2485.64\n",
      "The mean value of the price column is:  14204.42\n",
      "The test set R^2 of our model is:  0.7556\n"
     ]
    }
   ],
   "source": [
    "# Let's see how place of BatchNormalization layer will affect the result (placing it after Dropout layer):\n",
    "\n",
    "# Creating function to define our model's parameters(with dropout and batch normalization):\n",
    "def keras_model4():\n",
    "  model = keras.Sequential([                           \n",
    "                            layers.Dense(95, activation=tf.nn.relu, input_shape=[len(X_train.keys())]),\n",
    "                            layers.Dense(95, activation=tf.nn.relu),                            \n",
    "                            layers.Dropout(0.2),\n",
    "                            layers.BatchNormalization(),\n",
    "                            layers.Dense(1)\n",
    "                            ])  \n",
    "  model.compile(loss='mse', optimizer='adam', metrics=['mae','mse', coeff_r2])\n",
    "  return model\n",
    "\n",
    "# Assigning our function to our model:\n",
    "model4_2 = keras_model4()\n",
    "\n",
    "# Let's inspect the model:\n",
    "model4_2.summary()\n",
    "\n",
    "# Assigning number of epochs:\n",
    "my_epochs = 1000\n",
    "\n",
    "# Assigning early stop:\n",
    "my_early_stop = keras.callbacks.EarlyStopping(monitor='val_loss', patience=50)\n",
    "\n",
    "# Fitting our model:\n",
    "history4 = model4_2.fit(X_train_scaled, y_train, epochs=my_epochs, validation_split = 0.2, verbose=0, callbacks=[my_early_stop, PrintDot()])\n",
    "\n",
    "# Let's see the mean absolute error of the test set (model with a dropout):\n",
    "loss, mae, mse, r2 = model4_2.evaluate(X_test_scaled, y_test, verbose=0)\n",
    "\n",
    "print('The mean absolute error of our model is:', round(mae,2))\n",
    "print('The mean value of the price column is: ', round(y_test.mean(),2))\n",
    "print('The test set R^2 of our model is: ', round(r2,4))"
   ]
  },
  {
   "cell_type": "markdown",
   "metadata": {
    "colab_type": "text",
    "id": "76PFRptEsARe"
   },
   "source": [
    "Rearranging BatchNormalization layer didn't help us much, instead R^2 score has even decreased. It was decided to not use BatchNormalization layer at all."
   ]
  },
  {
   "cell_type": "code",
   "execution_count": 42,
   "metadata": {
    "colab": {
     "base_uri": "https://localhost:8080/",
     "height": 443
    },
    "colab_type": "code",
    "id": "GO9mPoYZABbK",
    "outputId": "38f9c9b0-2edf-4e98-ea2b-fc553cd4a396"
   },
   "outputs": [
    {
     "name": "stdout",
     "output_type": "stream",
     "text": [
      "Model: \"sequential_1\"\n",
      "_________________________________________________________________\n",
      "Layer (type)                 Output Shape              Param #   \n",
      "=================================================================\n",
      "dense_3 (Dense)              (None, 95)                9120      \n",
      "_________________________________________________________________\n",
      "dense_4 (Dense)              (None, 190)               18240     \n",
      "_________________________________________________________________\n",
      "dropout_1 (Dropout)          (None, 190)               0         \n",
      "_________________________________________________________________\n",
      "dense_5 (Dense)              (None, 1)                 191       \n",
      "=================================================================\n",
      "Total params: 27,551\n",
      "Trainable params: 27,551\n",
      "Non-trainable params: 0\n",
      "_________________________________________________________________\n",
      "\n",
      "....................................................................................................\n",
      "....................................................................................................\n",
      "....................................................................................................\n",
      "....................\n",
      "The mean absolute error of our model is: 2398.07\n",
      "The mean value of the price column is:  14204.42\n",
      "The test set R^2 of our model is:  0.8366\n"
     ]
    }
   ],
   "source": [
    "# Creating function to define our model's parameters(95/190 layers):\n",
    "def keras_model6():\n",
    "  model = keras.Sequential([                           \n",
    "                            layers.Dense(95, activation=tf.nn.relu, input_shape=[len(X_train.keys())]),\n",
    "                            layers.Dense(190, activation=tf.nn.relu),                            \n",
    "                            layers.Dropout(0.2),\n",
    "                            layers.Dense(1)\n",
    "                            ])  \n",
    "  model.compile(loss='mse', optimizer='adam', metrics=['mae','mse', coeff_r2])\n",
    "  return model\n",
    "\n",
    "# Assigning our function to our model:\n",
    "model6 = keras_model6()\n",
    "\n",
    "# Let's inspect the model:\n",
    "model6.summary()\n",
    "\n",
    "# Assigning number of epochs:\n",
    "my_epochs = 1000\n",
    "\n",
    "# Assigning early stop:\n",
    "my_early_stop = keras.callbacks.EarlyStopping(monitor='val_loss', patience=50)\n",
    "\n",
    "# Fitting our model:\n",
    "history6 = model6.fit(X_train_scaled, y_train, epochs=my_epochs, validation_split = 0.2, verbose=0, callbacks=[my_early_stop, PrintDot()])\n",
    "\n",
    "# Let's see the mean absolute error of the test set (model with a dropout):\n",
    "loss, mae, mse, r2 = model6.evaluate(X_test_scaled, y_test, verbose=0)\n",
    "print()\n",
    "print('The mean absolute error of our model is:', round(mae,2))\n",
    "print('The mean value of the price column is: ', round(y_test.mean(),2))\n",
    "print('The test set R^2 of our model is: ', round(r2,4))"
   ]
  },
  {
   "cell_type": "code",
   "execution_count": 44,
   "metadata": {
    "colab": {
     "base_uri": "https://localhost:8080/",
     "height": 478
    },
    "colab_type": "code",
    "id": "1oOCik38p3AW",
    "outputId": "0dd866b5-779f-4a2a-e4d8-644d3d1e7540"
   },
   "outputs": [
    {
     "name": "stdout",
     "output_type": "stream",
     "text": [
      "Model: \"sequential_3\"\n",
      "_________________________________________________________________\n",
      "Layer (type)                 Output Shape              Param #   \n",
      "=================================================================\n",
      "dense_9 (Dense)              (None, 95)                9120      \n",
      "_________________________________________________________________\n",
      "dense_10 (Dense)             (None, 190)               18240     \n",
      "_________________________________________________________________\n",
      "dropout_2 (Dropout)          (None, 190)               0         \n",
      "_________________________________________________________________\n",
      "dense_11 (Dense)             (None, 1)                 191       \n",
      "=================================================================\n",
      "Total params: 27,551\n",
      "Trainable params: 27,551\n",
      "Non-trainable params: 0\n",
      "_________________________________________________________________\n",
      "\n",
      "....................................................................................................\n",
      "....................................................................................................\n",
      "....................................................................................................\n",
      "....................................................................................................\n",
      "....................................................................................................\n",
      "....................\n",
      "The mean absolute error of our model is: 2439.48\n",
      "The mean value of the price column is:  14204.42\n",
      "The test set R^2 of our model is:  0.8326\n"
     ]
    }
   ],
   "source": [
    "# Creating function to define our model's parameters(with a dropout 0.5):\n",
    "def keras_model7():\n",
    "  model = keras.Sequential([                           \n",
    "                            layers.Dense(95, activation=tf.nn.relu, input_shape=[len(X_train.keys())]),\n",
    "                            layers.Dense(190, activation=tf.nn.relu),\n",
    "                            layers.Dropout(0.5),\n",
    "                            layers.Dense(1)\n",
    "                            ])  \n",
    "  model.compile(loss='mse', optimizer='adam', metrics=['mae','mse', coeff_r2])\n",
    "  return model\n",
    "\n",
    "# Assigning our function to our model:\n",
    "model7 = keras_model7()\n",
    "\n",
    "# Let's inspect the model:\n",
    "model7.summary()\n",
    "\n",
    "# Assigning number of epochs:\n",
    "my_epochs = 1000\n",
    "\n",
    "# Assigning early stop:\n",
    "my_early_stop = keras.callbacks.EarlyStopping(monitor='val_loss', patience=50)\n",
    "\n",
    "# Fitting our model:\n",
    "history7 = model7.fit(X_train_scaled, y_train, epochs=my_epochs, validation_split = 0.2, verbose=0, callbacks=[my_early_stop, PrintDot()])\n",
    "\n",
    "# Let's see the mean absolute error of the test set (model with a dropout):\n",
    "loss, mae, mse, r2 = model7.evaluate(X_test_scaled, y_test, verbose=0)\n",
    "print()\n",
    "print('The mean absolute error of our model is:', round(mae,2))\n",
    "print('The mean value of the price column is: ', round(y_test.mean(),2))\n",
    "print('The test set R^2 of our model is: ', round(r2,4))"
   ]
  },
  {
   "cell_type": "markdown",
   "metadata": {
    "colab_type": "text",
    "id": "q7teWKBwOMl9"
   },
   "source": [
    "It seems that with a droput value of 0.2 our score was slightly better, 0.8366 vs 0.8326 (at dropout=0.5)."
   ]
  },
  {
   "cell_type": "code",
   "execution_count": 46,
   "metadata": {
    "colab": {
     "base_uri": "https://localhost:8080/",
     "height": 567
    },
    "colab_type": "code",
    "id": "6TitNp9wABmw",
    "outputId": "c76f4470-d725-4748-e801-fa2aff00a8bb"
   },
   "outputs": [
    {
     "name": "stdout",
     "output_type": "stream",
     "text": [
      "Model: \"sequential_5\"\n",
      "_________________________________________________________________\n",
      "Layer (type)                 Output Shape              Param #   \n",
      "=================================================================\n",
      "dense_17 (Dense)             (None, 95)                9120      \n",
      "_________________________________________________________________\n",
      "dense_18 (Dense)             (None, 190)               18240     \n",
      "_________________________________________________________________\n",
      "dropout_6 (Dropout)          (None, 190)               0         \n",
      "_________________________________________________________________\n",
      "dense_19 (Dense)             (None, 190)               36290     \n",
      "_________________________________________________________________\n",
      "dropout_7 (Dropout)          (None, 190)               0         \n",
      "_________________________________________________________________\n",
      "dense_20 (Dense)             (None, 190)               36290     \n",
      "_________________________________________________________________\n",
      "dropout_8 (Dropout)          (None, 190)               0         \n",
      "_________________________________________________________________\n",
      "dense_21 (Dense)             (None, 1)                 191       \n",
      "=================================================================\n",
      "Total params: 100,131\n",
      "Trainable params: 100,131\n",
      "Non-trainable params: 0\n",
      "_________________________________________________________________\n",
      "\n",
      "....................................................................................................\n",
      "....................................................................................................\n",
      "..................................................................................................\n",
      "The mean absolute error of our model is: 2392.81\n",
      "The mean value of the price column is:  14204.42\n",
      "The test set R^2 of our model is:  0.8379\n"
     ]
    }
   ],
   "source": [
    "# Creating function to define our model's parameters(with some more layers):\n",
    "def keras_model8():\n",
    "  model = keras.Sequential([                           \n",
    "                            layers.Dense(95, activation=tf.nn.relu, input_shape=[len(X_train.keys())]),\n",
    "                            layers.Dense(190, activation=tf.nn.relu),\n",
    "                            layers.Dropout(0.2),\n",
    "                            layers.Dense(190, activation=tf.nn.relu),\n",
    "                            layers.Dropout(0.2),\n",
    "                            layers.Dense(190, activation=tf.nn.relu),\n",
    "                            layers.Dropout(0.2),\n",
    "                            layers.Dense(1)\n",
    "                            ])  \n",
    "  model.compile(loss='mse', optimizer='adam', metrics=['mae','mse', coeff_r2])\n",
    "  return model\n",
    "\n",
    "# Assigning our function to our model:\n",
    "model8 = keras_model8()\n",
    "\n",
    "# Let's inspect the model:\n",
    "model8.summary()\n",
    "\n",
    "# Assigning number of epochs:\n",
    "my_epochs = 1000\n",
    "\n",
    "# Assigning early stop:\n",
    "my_early_stop = keras.callbacks.EarlyStopping(monitor='val_loss', patience=50)\n",
    "\n",
    "# Fitting our model:\n",
    "history8 = model8.fit(X_train_scaled, y_train, epochs=my_epochs, validation_split = 0.2, verbose=0, callbacks=[my_early_stop, PrintDot()])\n",
    "\n",
    "# Let's see the mean absolute error of the test set (model with a dropout):\n",
    "loss, mae, mse, r2 = model8.evaluate(X_test_scaled, y_test, verbose=0)\n",
    "print()\n",
    "print('The mean absolute error of our model is:', round(mae,2))\n",
    "print('The mean value of the price column is: ', round(y_test.mean(),2))\n",
    "print('The test set R^2 of our model is: ', round(r2,4))"
   ]
  },
  {
   "cell_type": "markdown",
   "metadata": {
    "colab_type": "text",
    "id": "U0ED1fopxkKD"
   },
   "source": [
    "We can see that with more hidden layers there is a slight increase in R^2 score (0.838 vs 0.836), although much more time was needed to compute the model."
   ]
  },
  {
   "cell_type": "markdown",
   "metadata": {
    "colab": {},
    "colab_type": "code",
    "id": "J3h67X7OCH2j"
   },
   "source": [
    "Out of all the models, the best was found to be XGBRegressor model (in my 1st notebook) with a MAE of 1,586 (for the mean price of \\\\$14,255) and an R^2 value of 0.91."
   ]
  },
  {
   "cell_type": "markdown",
   "metadata": {},
   "source": [
    "I would also like to note that, as it was already mentioned before, these metric values (MAE and R^2) could be improved by further limiting the scope of numerical columns, like `year` and `odometer`, to have even better distribution (closer to standard distribution), but in that case, the tree-based model implementation would be limited to those min and max values that the model had seen. The initial goal was not just to get the best possible results out of the model, but also build a practically beneficial model."
   ]
  }
 ],
 "metadata": {
  "accelerator": "TPU",
  "colab": {
   "name": "Meylis_Capstone_priced.ipynb",
   "provenance": [],
   "toc_visible": true
  },
  "kernelspec": {
   "display_name": "Python 3",
   "language": "python",
   "name": "python3"
  },
  "language_info": {
   "codemirror_mode": {
    "name": "ipython",
    "version": 3
   },
   "file_extension": ".py",
   "mimetype": "text/x-python",
   "name": "python",
   "nbconvert_exporter": "python",
   "pygments_lexer": "ipython3",
   "version": "3.7.7"
  },
  "toc-autonumbering": false
 },
 "nbformat": 4,
 "nbformat_minor": 4
}
